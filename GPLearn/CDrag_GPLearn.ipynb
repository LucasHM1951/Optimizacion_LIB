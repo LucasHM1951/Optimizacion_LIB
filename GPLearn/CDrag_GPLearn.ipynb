{
 "cells": [
  {
   "cell_type": "markdown",
   "metadata": {},
   "source": [
    "# Prueba con GPLearn"
   ]
  },
  {
   "cell_type": "code",
   "execution_count": 1,
   "metadata": {},
   "outputs": [],
   "source": [
    "import pandas as pd\n",
    "import matplotlib \n",
    "from gplearn.genetic import SymbolicRegressor\n",
    "from gplearn.functions import make_function\n",
    "from sklearn.ensemble import RandomForestRegressor\n",
    "from sklearn.tree import DecisionTreeRegressor\n",
    "from sklearn.utils.random import check_random_state\n",
    "from sklearn.metrics import mean_squared_error, r2_score\n",
    "from mpl_toolkits.mplot3d import Axes3D\n",
    "import matplotlib.pyplot as plt\n",
    "import numpy as np\n",
    "#import graphviz\n",
    "import pandas as pd"
   ]
  },
  {
   "cell_type": "markdown",
   "metadata": {},
   "source": [
    "### Coeficiente de arrastre"
   ]
  },
  {
   "cell_type": "code",
   "execution_count": 2,
   "metadata": {},
   "outputs": [],
   "source": [
    "# cargando datos\n",
    "\n",
    "# importacion de DF\n",
    "file_path = 'D:\\\\CODES\\\\LIB_SR\\\\Dataset_coeficientes\\\\df_cdrag_25.txt'\n",
    "df_cdrag_25 = pd.read_csv(file_path, delimiter=',')\n",
    "\n",
    "file_path = 'D:\\\\CODES\\\\LIB_SR\\\\Dataset_coeficientes\\\\df_cdrag_53.txt'\n",
    "df_cdrag_53 = pd.read_csv(file_path, delimiter=',')\n",
    "\n",
    "file_path = 'D:\\\\CODES\\\\LIB_SR\\\\Dataset_coeficientes\\\\df_cdrag_74.txt'\n",
    "df_cdrag_74 = pd.read_csv(file_path, delimiter=',')\n",
    "\n",
    "file_path = 'D:\\\\CODES\\\\LIB_SR\\\\Dataset_coeficientes\\\\df_cdrag_102.txt'\n",
    "df_cdrag_102 = pd.read_csv(file_path, delimiter=',')"
   ]
  },
  {
   "cell_type": "code",
   "execution_count": 3,
   "metadata": {},
   "outputs": [],
   "source": [
    "# definiendo conjuntos de train y test\n",
    "\n",
    "# definiendo conjunto de train\n",
    "df_cdrag_train = pd.concat([df_cdrag_25, df_cdrag_74], ignore_index=True)\n",
    "\n",
    "# separando entre x e y\n",
    "y_train = df_cdrag_train.drop(columns=['Current','K','Flujo','t_viento','Diametro','col_fluido','col_celda','n_fluido','n_celda','Rem','colIndex'])\n",
    "X_train = df_cdrag_train.drop(columns=['Current','Flujo','t_viento','Diametro','col_fluido','col_celda','n_fluido',\n",
    "                                    'n_celda','colIndex','cdrag'])\n",
    "\n",
    "\n",
    "# definiendo conjunto de test\n",
    "\n",
    "y_test = df_cdrag_53.drop(columns=['Current','K','Flujo','t_viento','Diametro','col_fluido','col_celda','n_fluido','n_celda','Rem','colIndex'])\n",
    "X_test = df_cdrag_53.drop(columns=['Current','Flujo','t_viento','Diametro','col_fluido','col_celda','n_fluido',\n",
    "                                    'n_celda','colIndex','cdrag'])"
   ]
  },
  {
   "cell_type": "code",
   "execution_count": 4,
   "metadata": {},
   "outputs": [],
   "source": [
    "# creando funciones auxiliares\n",
    "\n",
    "# S ^ (-0.6)\n",
    "def pot1(x1):\n",
    "    with np.errstate(divide='ignore', invalid='ignore'):\n",
    "        result = np.where(x1 > 0, np.power(x1, -0.6), 0)\n",
    "    return result\n",
    "\n",
    "pot1_fn = make_function(function=pot1, \n",
    "                        name='pot1', \n",
    "                        arity=1)\n",
    "\n",
    "# 5*Re ^ (-0.23)\n",
    "def pot2(x1):\n",
    "    with np.errstate(divide='ignore', invalid='ignore'):\n",
    "        result = np.where(x1 > 0, 5*np.power(x1, -0.23), 0)\n",
    "    return result\n",
    "\n",
    "pot2_fn = make_function(function=pot2, \n",
    "                        name='pot2', \n",
    "                        arity=1)\n",
    "\n"
   ]
  },
  {
   "cell_type": "code",
   "execution_count": 5,
   "metadata": {},
   "outputs": [
    {
     "name": "stderr",
     "output_type": "stream",
     "text": [
      "d:\\env\\lib\\site-packages\\sklearn\\utils\\validation.py:1339: DataConversionWarning: A column-vector y was passed when a 1d array was expected. Please change the shape of y to (n_samples, ), for example using ravel().\n",
      "  y = column_or_1d(y, warn=True)\n"
     ]
    },
    {
     "name": "stdout",
     "output_type": "stream",
     "text": [
      "    |   Population Average    |             Best Individual              |\n",
      "---- ------------------------- ------------------------------------------ ----------\n",
      " Gen   Length          Fitness   Length          Fitness      OOB Fitness  Time Left\n",
      "   0    13.80      4.44235e+07        5        0.0727931        0.0695565     17.80m\n",
      "   1     9.11      3.59451e+07        5        0.0723137        0.0738714     11.47m\n",
      "   2     6.64          25901.6        5        0.0720671        0.0760905     17.76m\n",
      "   3     6.11          12859.9        9        0.0698535        0.0740827     14.66m\n",
      "   4     6.26          37314.4        5        0.0718866        0.0777156     14.45m\n",
      "   5     5.32          22445.9        8        0.0717459        0.0728612     11.61m\n",
      "   6     5.20          23145.1        5        0.0717727        0.0787408      8.53m\n",
      "   7     5.17      1.83698e+07        5         0.071877         0.077802     10.05m\n",
      "   8     5.18          22152.1        5        0.0718211        0.0783049     11.25m\n",
      "   9     5.14          18232.1        5        0.0717828          0.07865      9.74m\n",
      "  10     5.22          42739.5        5        0.0718997        0.0775975      8.78m\n",
      "  11     5.13          22609.9        5         0.071828         0.078243      8.19m\n",
      "  12     5.16          55303.3        5        0.0718547        0.0780023      9.29m\n",
      "  13     5.17          25828.5        5        0.0717182        0.0792307      7.68m\n",
      "  14     5.18          15773.8        5        0.0718548        0.0780013      5.94m\n",
      "  15     5.16          6790.06        5        0.0719297        0.0773271      5.77m\n",
      "  16     5.15            12737        5        0.0717301        0.0791237      5.18m\n",
      "  17     5.17           164907        5        0.0717074        0.0793286      4.64m\n",
      "  18     5.16          18921.5        5        0.0717211        0.0792053      4.58m\n",
      "  19     5.23          20854.5        5        0.0718771         0.077801      3.80m\n",
      "  20     5.13          46910.4        5        0.0718968        0.0776241      3.42m\n",
      "  21     5.14          4188.39        5        0.0718862        0.0777188      3.20m\n",
      "  22     5.14          18341.8        5        0.0717516        0.0789306      2.69m\n",
      "  23     5.24      3.04404e+07        5        0.0718917        0.0776695      2.32m\n",
      "  24     5.17          64352.9        5        0.0718309        0.0782171      1.87m\n",
      "  25     5.11          9515.67        5        0.0718932        0.0776564      1.61m\n",
      "  26     5.08          36799.3        5         0.071652        0.0798272      1.26m\n",
      "  27     5.16            16263        5        0.0718586        0.0779672     49.49s\n",
      "  28     5.15          28395.8        5        0.0718603        0.0779519     33.06s\n",
      "  29     5.17          41753.2        5        0.0718701        0.0778636      0.00s\n",
      "Expresión: add(pot2(X1), pot1(X0))\n"
     ]
    }
   ],
   "source": [
    "# entrenando modelo \n",
    "\n",
    "# Modelo\n",
    "model = SymbolicRegressor(population_size=5000,\n",
    "                           generations=30, \n",
    "                           stopping_criteria=0.01,\n",
    "                           p_crossover=0.7, \n",
    "                           p_subtree_mutation=0.1,\n",
    "                           p_hoist_mutation=0.05, \n",
    "                           p_point_mutation=0.1,\n",
    "                           max_samples=0.9, \n",
    "                           verbose=1,\n",
    "                           parsimony_coefficient=0.01, \n",
    "                           random_state=123,\n",
    "                           function_set=['add', 'sub', 'mul', 'div', 'sqrt', 'log',pot1_fn,pot2_fn])\n",
    "\n",
    "model.fit(X_train, y_train)\n",
    "\n",
    "# Obtener la expresión simbólica\n",
    "expression = model._program\n",
    "print(\"Expresión:\", expression)\n"
   ]
  },
  {
   "cell_type": "code",
   "execution_count": 6,
   "metadata": {},
   "outputs": [
    {
     "name": "stdout",
     "output_type": "stream",
     "text": [
      "MSE: 0.011588230963563853\n",
      "R^2: 0.8904926780136748\n"
     ]
    }
   ],
   "source": [
    "# Predecir en los datos de prueba\n",
    "y_pred = model.predict(X_test)\n",
    "\n",
    "# Calcular métricas\n",
    "mse = mean_squared_error(y_test, y_pred)\n",
    "r2 = r2_score(y_test, y_pred)\n",
    "\n",
    "print(\"MSE:\", mse)\n",
    "print(\"R^2:\", r2)"
   ]
  },
  {
   "cell_type": "code",
   "execution_count": 7,
   "metadata": {},
   "outputs": [],
   "source": [
    "# comparar con modelo de Rafael\n",
    "\n",
    "def cdrag(S, Re):\n",
    "    return S**(-0.6) + 5*Re**(-0.23)\n",
    "\n",
    "def cdrag_gp(S, Re):\n",
    "    return S**(-0.6) + 5*Re**(-0.23)"
   ]
  },
  {
   "cell_type": "code",
   "execution_count": 8,
   "metadata": {},
   "outputs": [
    {
     "name": "stdout",
     "output_type": "stream",
     "text": [
      "R^2 cdrag: 0.8904926780136748, MSE cdrag: 0.011588230963563853\n",
      "R^2 cdrag_gp: 0.8904926780136748, MSE cdrag_gp: 0.011588230963563853\n"
     ]
    }
   ],
   "source": [
    "X_test['cdrag_pred'] = X_test.apply(lambda row: cdrag(row['K'], row['Rem']), axis=1)\n",
    "X_test['cdrag_gp_pred'] = X_test.apply(lambda row: cdrag_gp(row['K'], row['Rem']), axis=1)\n",
    "\n",
    "r2_cdrag = r2_score(y_test['cdrag'], X_test['cdrag_pred'])\n",
    "mse_cdrag = mean_squared_error(y_test['cdrag'], X_test['cdrag_pred'])\n",
    "\n",
    "# Calcular R^2 y MSE para cdrag_gp\n",
    "r2_cdrag_gp = r2_score(y_test['cdrag'], X_test['cdrag_gp_pred'])\n",
    "mse_cdrag_gp = mean_squared_error(y_test['cdrag'], X_test['cdrag_gp_pred'])\n",
    "\n",
    "print(f\"R^2 cdrag: {r2_cdrag}, MSE cdrag: {mse_cdrag}\")\n",
    "print(f\"R^2 cdrag_gp: {r2_cdrag_gp}, MSE cdrag_gp: {mse_cdrag_gp}\")"
   ]
  }
 ],
 "metadata": {
  "kernelspec": {
   "display_name": "env",
   "language": "python",
   "name": "python3"
  },
  "language_info": {
   "codemirror_mode": {
    "name": "ipython",
    "version": 3
   },
   "file_extension": ".py",
   "mimetype": "text/x-python",
   "name": "python",
   "nbconvert_exporter": "python",
   "pygments_lexer": "ipython3",
   "version": "3.10.4"
  }
 },
 "nbformat": 4,
 "nbformat_minor": 2
}
