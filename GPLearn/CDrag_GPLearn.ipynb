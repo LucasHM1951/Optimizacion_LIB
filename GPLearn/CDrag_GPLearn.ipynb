{
 "cells": [
  {
   "cell_type": "markdown",
   "metadata": {},
   "source": [
    "# Prueba con GPLearn"
   ]
  },
  {
   "cell_type": "code",
   "execution_count": 23,
   "metadata": {},
   "outputs": [],
   "source": [
    "import pandas as pd\n",
    "import matplotlib \n",
    "from gplearn.genetic import SymbolicRegressor\n",
    "from gplearn.functions import make_function\n",
    "from sklearn.ensemble import RandomForestRegressor\n",
    "from sklearn.tree import DecisionTreeRegressor\n",
    "from sklearn.utils.random import check_random_state\n",
    "from sklearn.metrics import mean_absolute_error, mean_absolute_percentage_error, mean_squared_error, r2_score\n",
    "from mpl_toolkits.mplot3d import Axes3D\n",
    "import matplotlib.pyplot as plt\n",
    "import numpy as np\n",
    "#import graphviz\n",
    "import pandas as pd\n",
    "import random\n",
    "import re"
   ]
  },
  {
   "cell_type": "markdown",
   "metadata": {},
   "source": [
    "### Coeficiente de arrastre"
   ]
  },
  {
   "cell_type": "code",
   "execution_count": 2,
   "metadata": {},
   "outputs": [],
   "source": [
    "# cargando datos\n",
    "\n",
    "# importacion de DF\n",
    "file_path = 'D:\\\\CODES\\\\LIB_SR\\\\Dataset_coeficientes\\\\df_cdrag_25.txt'\n",
    "df_cdrag_25 = pd.read_csv(file_path, delimiter=',')\n",
    "\n",
    "file_path = 'D:\\\\CODES\\\\LIB_SR\\\\Dataset_coeficientes\\\\df_cdrag_53.txt'\n",
    "df_cdrag_53 = pd.read_csv(file_path, delimiter=',')\n",
    "\n",
    "file_path = 'D:\\\\CODES\\\\LIB_SR\\\\Dataset_coeficientes\\\\df_cdrag_74.txt'\n",
    "df_cdrag_74 = pd.read_csv(file_path, delimiter=',')\n",
    "\n",
    "file_path = 'D:\\\\CODES\\\\LIB_SR\\\\Dataset_coeficientes\\\\df_cdrag_102.txt'\n",
    "df_cdrag_102 = pd.read_csv(file_path, delimiter=',')"
   ]
  },
  {
   "cell_type": "code",
   "execution_count": 3,
   "metadata": {},
   "outputs": [],
   "source": [
    "# definiendo conjuntos de train y test\n",
    "\n",
    "# definiendo conjunto de train\n",
    "df_cdrag_train = pd.concat([df_cdrag_25, df_cdrag_74], ignore_index=True)\n",
    "\n",
    "# separando entre x e y\n",
    "y_train = df_cdrag_train.drop(columns=['Current','K','Flujo','t_viento','Diametro','col_fluido','col_celda','n_fluido','n_celda','Rem','colIndex'])\n",
    "X_train = df_cdrag_train.drop(columns=['Current','Flujo','t_viento','Diametro','col_fluido','col_celda','n_fluido',\n",
    "                                    'n_celda','colIndex','cdrag'])\n",
    "\n",
    "\n",
    "# definiendo conjunto de test\n",
    "\n",
    "y_test = df_cdrag_53.drop(columns=['Current','K','Flujo','t_viento','Diametro','col_fluido','col_celda','n_fluido','n_celda','Rem','colIndex'])\n",
    "X_test = df_cdrag_53.drop(columns=['Current','Flujo','t_viento','Diametro','col_fluido','col_celda','n_fluido',\n",
    "                                    'n_celda','colIndex','cdrag'])"
   ]
  },
  {
   "cell_type": "code",
   "execution_count": 12,
   "metadata": {},
   "outputs": [
    {
     "data": {
      "text/html": [
       "<div>\n",
       "<style scoped>\n",
       "    .dataframe tbody tr th:only-of-type {\n",
       "        vertical-align: middle;\n",
       "    }\n",
       "\n",
       "    .dataframe tbody tr th {\n",
       "        vertical-align: top;\n",
       "    }\n",
       "\n",
       "    .dataframe thead th {\n",
       "        text-align: right;\n",
       "    }\n",
       "</style>\n",
       "<table border=\"1\" class=\"dataframe\">\n",
       "  <thead>\n",
       "    <tr style=\"text-align: right;\">\n",
       "      <th></th>\n",
       "      <th>K</th>\n",
       "      <th>Rem</th>\n",
       "    </tr>\n",
       "  </thead>\n",
       "  <tbody>\n",
       "    <tr>\n",
       "      <th>0</th>\n",
       "      <td>0.6</td>\n",
       "      <td>2824.604561</td>\n",
       "    </tr>\n",
       "    <tr>\n",
       "      <th>1</th>\n",
       "      <td>0.6</td>\n",
       "      <td>2824.604561</td>\n",
       "    </tr>\n",
       "    <tr>\n",
       "      <th>2</th>\n",
       "      <td>0.6</td>\n",
       "      <td>2352.302465</td>\n",
       "    </tr>\n",
       "    <tr>\n",
       "      <th>3</th>\n",
       "      <td>0.6</td>\n",
       "      <td>2000.632597</td>\n",
       "    </tr>\n",
       "    <tr>\n",
       "      <th>4</th>\n",
       "      <td>0.6</td>\n",
       "      <td>1878.735604</td>\n",
       "    </tr>\n",
       "    <tr>\n",
       "      <th>...</th>\n",
       "      <td>...</td>\n",
       "      <td>...</td>\n",
       "    </tr>\n",
       "    <tr>\n",
       "      <th>8605</th>\n",
       "      <td>1.2</td>\n",
       "      <td>9267.885175</td>\n",
       "    </tr>\n",
       "    <tr>\n",
       "      <th>8606</th>\n",
       "      <td>1.2</td>\n",
       "      <td>8959.387980</td>\n",
       "    </tr>\n",
       "    <tr>\n",
       "      <th>8607</th>\n",
       "      <td>1.2</td>\n",
       "      <td>8691.558442</td>\n",
       "    </tr>\n",
       "    <tr>\n",
       "      <th>8608</th>\n",
       "      <td>1.2</td>\n",
       "      <td>8537.950633</td>\n",
       "    </tr>\n",
       "    <tr>\n",
       "      <th>8609</th>\n",
       "      <td>1.2</td>\n",
       "      <td>8360.980275</td>\n",
       "    </tr>\n",
       "  </tbody>\n",
       "</table>\n",
       "<p>8610 rows × 2 columns</p>\n",
       "</div>"
      ],
      "text/plain": [
       "        K          Rem\n",
       "0     0.6  2824.604561\n",
       "1     0.6  2824.604561\n",
       "2     0.6  2352.302465\n",
       "3     0.6  2000.632597\n",
       "4     0.6  1878.735604\n",
       "...   ...          ...\n",
       "8605  1.2  9267.885175\n",
       "8606  1.2  8959.387980\n",
       "8607  1.2  8691.558442\n",
       "8608  1.2  8537.950633\n",
       "8609  1.2  8360.980275\n",
       "\n",
       "[8610 rows x 2 columns]"
      ]
     },
     "execution_count": 12,
     "metadata": {},
     "output_type": "execute_result"
    }
   ],
   "source": [
    "X_test"
   ]
  },
  {
   "cell_type": "code",
   "execution_count": 4,
   "metadata": {},
   "outputs": [],
   "source": [
    "# creando funciones auxiliares\n",
    "\n",
    "# S ^ (-0.6)\n",
    "def pot1(x1):\n",
    "    with np.errstate(divide='ignore', invalid='ignore'):\n",
    "        result = np.where(x1 > 0, np.power(x1, -0.6), 0)\n",
    "    return result\n",
    "\n",
    "pot1_fn = make_function(function=pot1, \n",
    "                        name='pot1', \n",
    "                        arity=1)\n",
    "\n",
    "# 5*Re ^ (-0.23)\n",
    "def pot2(x1):\n",
    "    with np.errstate(divide='ignore', invalid='ignore'):\n",
    "        result = np.where(x1 > 0, 5*np.power(x1, -0.23), 0)\n",
    "    return result\n",
    "\n",
    "pot2_fn = make_function(function=pot2, \n",
    "                        name='pot2', \n",
    "                        arity=1)\n",
    "\n"
   ]
  },
  {
   "cell_type": "code",
   "execution_count": 48,
   "metadata": {},
   "outputs": [],
   "source": [
    "def rewrite(expression):\n",
    "\n",
    "    # Reemplazar funciones específicas con sus representaciones matemáticas\n",
    "    expression = re.sub(r\"add\\(([^,]+), ([^\\)]+)\\)\", r\"(\\1 + \\2)\", expression)\n",
    "    expression = re.sub(r\"sub\\(([^,]+), ([^\\)]+)\\)\", r\"(\\1 - \\2)\", expression)\n",
    "    expression = re.sub(r\"mul\\(([^,]+), ([^\\)]+)\\)\", r\"(\\1 * \\2)\", expression)\n",
    "    expression = re.sub(r\"div\\(([^,]+), ([^\\)]+)\\)\", r\"(\\1 / \\2)\", expression)\n",
    "    expression = re.sub(r\"pow\\(([^,]+), ([^\\)]+)\\)\", r\"\\1 ** \\2\", expression)\n",
    "    \n",
    "    # Reemplazar la función pot1\n",
    "    expression = re.sub(r\"pot1\\((X\\d)\\)\", r\"\\1 ** (-0.6)\", expression)\n",
    "    # Reemplazar la función pot2\n",
    "    expression = re.sub(r\"pot2\\((X\\d)\\)\", r\"5 * \\1 ** (-0.23)\", expression)\n",
    "    \n",
    "    # Reemplazar variables (ajustar según el modelo)\n",
    "    expression = expression.replace(\"X0\", \"S\")\n",
    "    expression = expression.replace(\"X1\", \"Re\")\n",
    "    \n",
    "    return expression\n"
   ]
  },
  {
   "cell_type": "code",
   "execution_count": 5,
   "metadata": {},
   "outputs": [
    {
     "name": "stderr",
     "output_type": "stream",
     "text": [
      "d:\\env\\lib\\site-packages\\sklearn\\utils\\validation.py:1339: DataConversionWarning: A column-vector y was passed when a 1d array was expected. Please change the shape of y to (n_samples, ), for example using ravel().\n",
      "  y = column_or_1d(y, warn=True)\n"
     ]
    },
    {
     "name": "stdout",
     "output_type": "stream",
     "text": [
      "    |   Population Average    |             Best Individual              |\n",
      "---- ------------------------- ------------------------------------------ ----------\n",
      " Gen   Length          Fitness   Length          Fitness      OOB Fitness  Time Left\n",
      "   0    13.80      4.44235e+07        5        0.0727931        0.0695565     12.12m\n",
      "   1     9.11      3.59451e+07        5        0.0723137        0.0738714      8.17m\n",
      "   2     6.64          25901.6        5        0.0720671        0.0760905     10.96m\n",
      "   3     6.11          12859.9        9        0.0698535        0.0740827      8.44m\n",
      "   4     6.26          37314.4        5        0.0718866        0.0777156      9.97m\n",
      "   5     5.32          22445.9        8        0.0717459        0.0728612      6.35m\n",
      "   6     5.20          23145.1        5        0.0717727        0.0787408      7.15m\n",
      "   7     5.17      1.83698e+07        5         0.071877         0.077802      6.56m\n",
      "   8     5.18          22152.1        5        0.0718211        0.0783049      6.57m\n",
      "   9     5.14          18232.1        5        0.0717828          0.07865      5.33m\n",
      "  10     5.22          42739.5        5        0.0718997        0.0775975      5.02m\n",
      "  11     5.13          22609.9        5         0.071828         0.078243      4.66m\n",
      "  12     5.16          55303.3        5        0.0718547        0.0780023      4.74m\n",
      "  13     5.17          25828.5        5        0.0717182        0.0792307      4.03m\n",
      "  14     5.18          15773.8        5        0.0718548        0.0780013      2.82m\n",
      "  15     5.16          6790.06        5        0.0719297        0.0773271      2.28m\n",
      "  16     5.15            12737        5        0.0717301        0.0791237      1.20m\n",
      "  17     5.17           164907        5        0.0717074        0.0793286     56.58s\n",
      "  18     5.16          18921.5        5        0.0717211        0.0792053     27.51s\n",
      "  19     5.23          20854.5        5        0.0718771         0.077801      0.00s\n"
     ]
    }
   ],
   "source": [
    "# entrenando modelo \n",
    "\n",
    "# Modelo\n",
    "model = SymbolicRegressor(population_size=5000,\n",
    "                           generations=20, \n",
    "                           stopping_criteria=0.01,\n",
    "                           p_crossover=0.7, \n",
    "                           p_subtree_mutation=0.1,\n",
    "                           p_hoist_mutation=0.05, \n",
    "                           p_point_mutation=0.1,\n",
    "                           max_samples=0.9, \n",
    "                           verbose=1,\n",
    "                           parsimony_coefficient=0.01, \n",
    "                           random_state=123,\n",
    "                           function_set=['add', 'sub', 'mul', 'div', 'sqrt', 'log',pot1_fn,pot2_fn])\n",
    "\n",
    "model.fit(X_train, y_train)\n",
    "\n",
    "# Obtener la expresión simbólica\n",
    "expression = model._program\n",
    "#print(\"Expresión:\", expression)\n"
   ]
  },
  {
   "cell_type": "code",
   "execution_count": 49,
   "metadata": {},
   "outputs": [
    {
     "data": {
      "text/plain": [
       "'(5 * Re ** (-0.23) + S ** (-0.6))'"
      ]
     },
     "execution_count": 49,
     "metadata": {},
     "output_type": "execute_result"
    }
   ],
   "source": [
    "rewrite(expression.__str__())"
   ]
  },
  {
   "cell_type": "code",
   "execution_count": 6,
   "metadata": {},
   "outputs": [],
   "source": [
    "# Predecir en los datos de prueba\n",
    "y_pred = model.predict(X_test)\n"
   ]
  },
  {
   "cell_type": "code",
   "execution_count": 10,
   "metadata": {},
   "outputs": [],
   "source": [
    "# comparar con modelo de Rafael\n",
    "\n",
    "def cdrag(S, Re):\n",
    "    return S**(-0.6) + 5*Re**(-0.23)\n",
    "\n",
    "def cdrag_gp(S, Re):\n",
    "    return S**(-0.6) + 5*Re**(-0.23)"
   ]
  },
  {
   "cell_type": "code",
   "execution_count": 11,
   "metadata": {},
   "outputs": [
    {
     "name": "stdout",
     "output_type": "stream",
     "text": [
      "R^2 cdrag original: 0.8904926780136748, R^2 cdrag GPLearn: 0.8904926780136748 \n",
      "MSE cdrag original: 0.011588230963563853, MSE cdrag GPLearn: 0.011588230963563853 \n",
      "MAE cdrag original: 0.07580331737181549, MAE cdrag GPLearn: 0.07580331737181549 \n",
      "MAPE cdrag original: 0.03744829246296146, MAPE cdrag GPLearn: 0.03744829246296146 \n"
     ]
    }
   ],
   "source": [
    "# Calcular cdrag_pred y cdrag_gp_pred en vectores separados\n",
    "cdrag_pred = X_test.apply(lambda row: cdrag(row['K'], row['Rem']), axis=1).values\n",
    "cdrag_gp_pred = X_test.apply(lambda row: cdrag_gp(row['K'], row['Rem']), axis=1).values\n",
    "\n",
    "# Calcular R^2 y MSE para cdrag\n",
    "r2_cdrag = r2_score(y_test['cdrag'], cdrag_pred)\n",
    "mse_cdrag = mean_squared_error(y_test['cdrag'], cdrag_pred)\n",
    "\n",
    "# Calcular MAE y MAPE para cdrag\n",
    "mae_cdrag = mean_absolute_error(y_test['cdrag'], cdrag_pred)\n",
    "mape_cdrag = mean_absolute_percentage_error(y_test['cdrag'], cdrag_pred)\n",
    "\n",
    "# Calcular R^2 y MSE para cdrag_gp\n",
    "r2_cdrag_gp = r2_score(y_test['cdrag'], cdrag_gp_pred)\n",
    "mse_cdrag_gp = mean_squared_error(y_test['cdrag'], cdrag_gp_pred)\n",
    "\n",
    "# Calcular MAE y MAPE para cdrag_gp\n",
    "mae_cdrag_gp = mean_absolute_error(y_test['cdrag'], cdrag_gp_pred)\n",
    "mape_cdrag_gp = mean_absolute_percentage_error(y_test['cdrag'], cdrag_gp_pred)\n",
    "\n",
    "#  Mostrar Metricas \n",
    "\n",
    "print(f\"R^2 cdrag original: {r2_cdrag}, R^2 cdrag GPLearn: {r2_cdrag_gp} \")\n",
    "print(f\"MSE cdrag original: {mse_cdrag}, MSE cdrag GPLearn: {mse_cdrag_gp} \")\n",
    "print(f\"MAE cdrag original: {mae_cdrag}, MAE cdrag GPLearn: {mae_cdrag_gp} \")\n",
    "print(f\"MAPE cdrag original: {mape_cdrag*100}*100, MAPE cdrag GPLearn: {mape_cdrag_gp*100}*100 \")"
   ]
  },
  {
   "cell_type": "markdown",
   "metadata": {},
   "source": [
    "### Prueba 2: Separacion entre laminar y turbulento"
   ]
  },
  {
   "cell_type": "code",
   "execution_count": 34,
   "metadata": {},
   "outputs": [],
   "source": [
    "df_cdrag_train = pd.concat([df_cdrag_25, df_cdrag_74], ignore_index=True)\n",
    "\n",
    "# separando entre desplazamiento laminar y turbulento\n",
    "df_cdrag_train_lam = df_cdrag_train[df_cdrag_train['Rem'] <= 2000]\n",
    "df_cdrag_train_turb = df_cdrag_train[df_cdrag_train['Rem'] > 2000]\n",
    "\n",
    "y_train_lam = df_cdrag_train_lam.drop(columns=['Current','K','Flujo','t_viento','Diametro','col_fluido','col_celda','n_fluido','n_celda','Rem','colIndex'])\n",
    "X_train_lam = df_cdrag_train_lam.drop(columns=['Current','Flujo','t_viento','Diametro','col_fluido','col_celda','n_fluido',\n",
    "                                    'n_celda','colIndex','cdrag'])\n",
    "\n",
    "y_train_turb = df_cdrag_train_turb.drop(columns=['Current','K','Flujo','t_viento','Diametro','col_fluido','col_celda','n_fluido','n_celda','Rem','colIndex'])\n",
    "X_train_turb = df_cdrag_train_turb.drop(columns=['Current','Flujo','t_viento','Diametro','col_fluido','col_celda','n_fluido',\n",
    "                                    'n_celda','colIndex','cdrag'])\n",
    "\n",
    "test_lam = df_cdrag_53[df_cdrag_53['Rem'] <= 2000]\n",
    "test_turb = df_cdrag_53[df_cdrag_53['Rem'] > 2000]\n",
    "\n",
    "# definiendo conjunto de test\n",
    "\n",
    "y_test_lam = test_lam.drop(columns=['Current','K','Flujo','t_viento','Diametro','col_fluido','col_celda','n_fluido','n_celda','Rem','colIndex'])\n",
    "X_test_lam = test_lam.drop(columns=['Current','Flujo','t_viento','Diametro','col_fluido','col_celda','n_fluido',\n",
    "                                    'n_celda','colIndex','cdrag'])\n",
    "\n",
    "y_test_turb = test_turb.drop(columns=['Current','K','Flujo','t_viento','Diametro','col_fluido','col_celda','n_fluido','n_celda','Rem','colIndex'])\n",
    "X_test_turb = test_turb.drop(columns=['Current','Flujo','t_viento','Diametro','col_fluido','col_celda','n_fluido',\n",
    "                                    'n_celda','colIndex','cdrag'])\n"
   ]
  },
  {
   "cell_type": "code",
   "execution_count": 38,
   "metadata": {},
   "outputs": [],
   "source": [
    "# S ^ (-0.6)\n",
    "def pot1(x1):\n",
    "    with np.errstate(divide='ignore', invalid='ignore'):\n",
    "        result = np.where(x1 > 0, np.power(x1, -0.6), 0)\n",
    "    return result\n",
    "\n",
    "pot1_fn = make_function(function=pot1, \n",
    "                        name='pot1', \n",
    "                        arity=1)\n",
    "\n",
    "# 5*Re ^ (-0.23)\n",
    "def pot2(x1):\n",
    "    with np.errstate(divide='ignore', invalid='ignore'):\n",
    "        result = np.where(x1 > 0, 5*np.power(x1, -0.23), 0)\n",
    "    return result\n",
    "\n",
    "pot2_fn = make_function(function=pot2, \n",
    "                        name='pot2', \n",
    "                        arity=1)\n"
   ]
  },
  {
   "cell_type": "code",
   "execution_count": 40,
   "metadata": {},
   "outputs": [
    {
     "name": "stderr",
     "output_type": "stream",
     "text": [
      "d:\\env\\lib\\site-packages\\sklearn\\utils\\validation.py:1339: DataConversionWarning: A column-vector y was passed when a 1d array was expected. Please change the shape of y to (n_samples, ), for example using ravel().\n",
      "  y = column_or_1d(y, warn=True)\n"
     ]
    },
    {
     "name": "stdout",
     "output_type": "stream",
     "text": [
      "    |   Population Average    |             Best Individual              |\n",
      "---- ------------------------- ------------------------------------------ ----------\n",
      " Gen   Length          Fitness   Length          Fitness      OOB Fitness  Time Left\n",
      "   0    19.46      1.16325e+11       14        0.0989867         0.097607      9.94m\n",
      "   1    11.90      3.47286e+06       25         0.098282          0.10394      5.99m\n",
      "   2    10.16      1.99623e+06        9        0.0980644        0.0956614      6.94m\n",
      "   3     9.37      1.76432e+09        8        0.0961371        0.0935922      6.71m\n",
      "   4     7.70          11995.3       10          0.09412        0.0958618      5.18m\n",
      "   5     5.28      2.56837e+06       12        0.0967676        0.0973654      5.82m\n",
      "   6     5.26           265602        5         0.098622         0.113828      4.71m\n",
      "   7     5.24          3651.69        6         0.096651        0.0977687      5.83m\n",
      "   8     5.24          13647.6        4        0.0969893        0.0892327      4.91m\n",
      "   9     5.23          5050.37        4        0.0960181         0.097961      3.31m\n",
      "  10     5.23           863410        4        0.0953797         0.103698      2.85m\n",
      "  11     5.12          6854.65        4        0.0948652         0.108321      2.93m\n",
      "  12     4.81       7.5301e+09        4        0.0944604         0.111959      2.65m\n",
      "  13     4.32          9002.22        4        0.0939956         0.116136      2.13m\n",
      "  14     4.28      1.03491e+06        4        0.0945034         0.111572      1.91m\n",
      "  15     4.22      1.55576e+09        4        0.0943248         0.113178      1.13m\n",
      "  16     4.16      2.31482e+06        4        0.0943714         0.112758      1.01m\n",
      "  17     4.25          6778.33        4        0.0944862         0.111727     55.37s\n",
      "  18     4.24           876867        4        0.0941669         0.114597     46.34s\n",
      "  19     4.22      1.99237e+06        4        0.0946659         0.110112     52.88s\n",
      "  20     4.23           248928        4        0.0946512         0.110244     30.95s\n",
      "  21     4.17          15109.2        4        0.0943103         0.113308     23.96s\n",
      "  22     4.25          9819.05       43        0.0913711        0.0958376     16.10s\n",
      "  23     4.21             9994        4        0.0942617         0.113745      7.59s\n",
      "  24     4.21            99178        4        0.0943005         0.113396      0.00s\n",
      "Expresión: add(pot1(X0), 0.922)\n",
      "MSE: 0.020890382189918164\n",
      "R^2: 0.8003793812261198\n"
     ]
    }
   ],
   "source": [
    "# entrenando modelo laminar\n",
    "\n",
    "# Modelo\n",
    "model = SymbolicRegressor(population_size=5000,\n",
    "                           generations=25, \n",
    "                           stopping_criteria=0.01,\n",
    "                           p_crossover=0.7, \n",
    "                           p_subtree_mutation=0.1,\n",
    "                           p_hoist_mutation=0.05, \n",
    "                           p_point_mutation=0.1,\n",
    "                           max_samples=0.9, \n",
    "                           verbose=1,\n",
    "                           parsimony_coefficient=0.01, \n",
    "                           random_state=123,\n",
    "                           function_set=['add', 'sub', 'mul', 'div',pot1_fn,pot2_fn],\n",
    "                           const_range=(-10, 10))\n",
    "\n",
    "model.fit(X_train_lam, y_train_lam)\n",
    "\n",
    "# Obtener la expresión simbólica\n",
    "expression = model._program\n",
    "print(\"Expresión:\", expression)\n",
    "\n",
    "# Predecir en los datos de prueba\n",
    "y_pred = model.predict(X_test_lam)\n",
    "\n",
    "# Calcular métricas\n",
    "mse = mean_squared_error(y_test_lam, y_pred)\n",
    "r2 = r2_score(y_test_lam, y_pred)\n",
    "\n",
    "print(\"MSE:\", mse)\n",
    "print(\"R^2:\", r2)"
   ]
  },
  {
   "cell_type": "code",
   "execution_count": 41,
   "metadata": {},
   "outputs": [
    {
     "name": "stderr",
     "output_type": "stream",
     "text": [
      "d:\\env\\lib\\site-packages\\sklearn\\utils\\validation.py:1339: DataConversionWarning: A column-vector y was passed when a 1d array was expected. Please change the shape of y to (n_samples, ), for example using ravel().\n",
      "  y = column_or_1d(y, warn=True)\n"
     ]
    },
    {
     "name": "stdout",
     "output_type": "stream",
     "text": [
      "    |   Population Average    |             Best Individual              |\n",
      "---- ------------------------- ------------------------------------------ ----------\n",
      " Gen   Length          Fitness   Length          Fitness      OOB Fitness  Time Left\n",
      "   0    19.46      8.02502e+12       13        0.0642244        0.0631852     26.53m\n",
      "   1    11.50      5.34598e+07        5        0.0638259        0.0667703     27.34m\n",
      "   2     9.58      4.75667e+07        5        0.0635333        0.0694023     28.93m\n",
      "   3     6.43      4.82039e+07        8        0.0634863        0.0698258     23.54m\n",
      "   4     5.83          70092.2        5        0.0635609        0.0691547     25.87m\n",
      "   5     5.26      6.08778e+07        5         0.063477        0.0699095     13.39m\n",
      "   6     5.26        3.352e+06        5        0.0635552        0.0692055     12.44m\n",
      "   7     5.24          24680.8        5        0.0634513          0.07014      7.98m\n",
      "   8     5.24           136728        5        0.0634564        0.0700944      8.97m\n",
      "   9     5.24          34785.9        5          0.06352        0.0695224      8.63m\n",
      "  10     5.24      2.45341e+07        5        0.0634337        0.0702984      9.41m\n",
      "  11     5.18            49400        5        0.0634812         0.069871      6.48m\n",
      "  12     5.22      5.76699e+11        5        0.0635265        0.0694642      4.97m\n",
      "  13     5.27          75176.1        5        0.0635423        0.0693215      3.97m\n",
      "  14     5.26      2.40753e+07        5        0.0634774        0.0699057      3.50m\n",
      "  15     5.22      1.65705e+11        5        0.0634853        0.0698341      3.66m\n",
      "  16     5.15      2.54865e+07        5        0.0635249         0.069478      5.16m\n",
      "  17     5.25          42945.4        5        0.0634798        0.0698837      8.67m\n",
      "  18     5.22      2.46009e+07        5        0.0635736        0.0690405      2.93m\n",
      "  19     5.23      4.73444e+07        5        0.0635869        0.0689202      3.33m\n",
      "  20     5.19      5.08272e+06        5        0.0634941        0.0697552      1.81m\n",
      "  21     5.17           110104        5         0.063456        0.0700977      1.23m\n",
      "  22     5.23          65190.5        5        0.0634468        0.0701806     55.88s\n",
      "  23     5.21          62464.2        5        0.0635077        0.0696328     34.58s\n",
      "  24     5.19      1.25528e+06        5        0.0634498        0.0701536      0.00s\n",
      "Expresión: add(pot1(X0), pot2(X1))\n",
      "MSE: 0.008782091087103561\n",
      "R^2: 0.887412821263162\n"
     ]
    }
   ],
   "source": [
    "# entrenando modelo turbulento\n",
    "\n",
    "# Modelo\n",
    "model = SymbolicRegressor(population_size=5000,\n",
    "                           generations=25, \n",
    "                           stopping_criteria=0.01,\n",
    "                           p_crossover=0.7, \n",
    "                           p_subtree_mutation=0.1,\n",
    "                           p_hoist_mutation=0.05, \n",
    "                           p_point_mutation=0.1,\n",
    "                           max_samples=0.9, \n",
    "                           verbose=1,\n",
    "                           parsimony_coefficient=0.01, \n",
    "                           random_state=123,\n",
    "                           function_set=['add', 'sub', 'mul', 'div',pot1_fn,pot2_fn],\n",
    "                           const_range=(-10, 10))\n",
    "\n",
    "model.fit(X_train_turb, y_train_turb)\n",
    "\n",
    "# Obtener la expresión simbólica\n",
    "expression = model._program\n",
    "print(\"Expresión:\", expression)\n",
    "\n",
    "# Predecir en los datos de prueba\n",
    "y_pred = model.predict(X_test_turb)\n",
    "\n",
    "# Calcular métricas\n",
    "mse = mean_squared_error(y_test_turb, y_pred)\n",
    "r2 = r2_score(y_test_turb, y_pred)\n",
    "\n",
    "print(\"MSE:\", mse)\n",
    "print(\"R^2:\", r2)"
   ]
  },
  {
   "cell_type": "markdown",
   "metadata": {},
   "source": [
    "### Ajuste automatico de Exponencial"
   ]
  },
  {
   "cell_type": "code",
   "execution_count": 118,
   "metadata": {},
   "outputs": [],
   "source": [
    "\n",
    "def pot(x1, const):\n",
    "    con1 = x1 > 0\n",
    "    con2 = (const >= -1) & (const < 0)\n",
    "    with np.errstate(divide='ignore', invalid='ignore'):\n",
    "        result = np.where(con1 & con2, np.power(x1,const), 0)\n",
    "    return result\n",
    "\n",
    "pot= make_function(function=pot, name='pot', arity=2)\n",
    "\n",
    "# A * x**B\n",
    "def pot2(x1):\n",
    "    con1 = x1 > 0\n",
    "    # con2 = (B >= -0.24) & (B <= -0.22)\n",
    "    # con3 = (A >=4.9) & (A <=5.1)\n",
    "    with np.errstate(divide='ignore', invalid='ignore'):\n",
    "        result = np.where(con1  , 4 *np.power(x1,-0.2), 0)\n",
    "    return result\n",
    "\n",
    "pot2= make_function(function=pot2, name='pot2', arity=1)"
   ]
  },
  {
   "cell_type": "code",
   "execution_count": 119,
   "metadata": {},
   "outputs": [
    {
     "name": "stderr",
     "output_type": "stream",
     "text": [
      "d:\\env\\lib\\site-packages\\sklearn\\utils\\validation.py:1339: DataConversionWarning: A column-vector y was passed when a 1d array was expected. Please change the shape of y to (n_samples, ), for example using ravel().\n",
      "  y = column_or_1d(y, warn=True)\n",
      "C:\\Users\\lucas\\AppData\\Local\\Temp\\ipykernel_10684\\1057681946.py:5: RuntimeWarning: overflow encountered in power\n",
      "  result = np.where(con1 & con2, np.power(x1,const), 0)\n"
     ]
    },
    {
     "name": "stdout",
     "output_type": "stream",
     "text": [
      "    |   Population Average    |             Best Individual              |\n",
      "---- ------------------------- ------------------------------------------ ----------\n",
      " Gen   Length          Fitness   Length          Fitness      OOB Fitness  Time Left\n",
      "   0    28.01      2.60336e+14       26         0.177252         0.184235     19.45m\n",
      "   1    13.71      1.53632e+09       29         0.115348         0.119264     10.96m\n",
      "   2    12.59      3.67498e+07        6          0.07869        0.0790255      8.48m\n",
      "   3     7.46      1.82761e+07        6         0.078302         0.081466      7.92m\n",
      "   4     6.49      3.23428e+07        8        0.0709757         0.069946      4.55m\n",
      "   5     6.65      3.65579e+07        8         0.070597        0.0731209      4.44m\n",
      "   6     6.48          37148.9        8        0.0705127          0.07388      5.15m\n",
      "   7     6.28      6.40493e+09        8        0.0707987        0.0715388      5.04m\n",
      "   8     6.28          44836.3        6        0.0706076        0.0745433      4.91m\n",
      "   9     6.30          17425.2        6        0.0707829        0.0729657      4.67m\n",
      "  10     6.29      1.89864e+07        6        0.0707001         0.073711      4.30m\n",
      "  11     6.17      2.59239e+07        6        0.0705265        0.0752735      3.53m\n",
      "  12     6.20      5.93152e+11        6        0.0704152        0.0762746      2.93m\n",
      "  13     6.33           193173        6        0.0701952        0.0782548      2.69m\n",
      "  14     6.21      3.67333e+07        6        0.0703117        0.0772063      2.11m\n",
      "  15     6.20      1.59467e+07        6        0.0704343        0.0761033      1.67m\n",
      "  16     6.15          44347.3        6        0.0702624        0.0776498      1.27m\n",
      "  17     6.27          83029.8        6        0.0704318        0.0761251     50.96s\n",
      "  18     6.25       1.8959e+07        6        0.0702876        0.0774231     25.48s\n",
      "  19     6.31      1.84737e+07        6        0.0704374        0.0760755      0.00s\n",
      "Expresión: add(pot2(X1), pot(X0, -0.598))\n"
     ]
    }
   ],
   "source": [
    "# entrenando modelo \n",
    "\n",
    "# Modelo\n",
    "model = SymbolicRegressor(population_size=5000,\n",
    "                           generations=20, \n",
    "                           stopping_criteria=0.01,\n",
    "                           p_crossover=0.7, \n",
    "                           p_subtree_mutation=0.1,\n",
    "                           p_hoist_mutation=0.05, \n",
    "                           p_point_mutation=0.1,\n",
    "                           max_samples=0.9, \n",
    "                           verbose=1,\n",
    "                           parsimony_coefficient=0.01, \n",
    "                           random_state=123,\n",
    "                           function_set=['add', 'sub', 'mul', 'div',pot, pot2])\n",
    "\n",
    "model.fit(X_train, y_train)\n",
    "\n",
    "# Obtener la expresión simbólica\n",
    "expression = model._program\n",
    "print(\"Expresión:\", expression)"
   ]
  },
  {
   "cell_type": "code",
   "execution_count": 120,
   "metadata": {},
   "outputs": [],
   "source": [
    "# Predecir en los datos de prueba\n",
    "y_pred = model.predict(X_test)"
   ]
  },
  {
   "cell_type": "code",
   "execution_count": 121,
   "metadata": {},
   "outputs": [],
   "source": [
    "def cdrag(S, Re):\n",
    "    return S**(-0.6) + 5*Re**(-0.23)\n",
    "\n",
    "def cdrag_gp(S, Re):\n",
    "    return S**(-0.598) + 4*Re**(-0.2)"
   ]
  },
  {
   "cell_type": "code",
   "execution_count": 122,
   "metadata": {},
   "outputs": [
    {
     "name": "stdout",
     "output_type": "stream",
     "text": [
      "R^2 cdrag original: 0.8904926780136748, R^2 cdrag GPLearn: 0.8905797272246793 \n",
      "MSE cdrag original: 0.011588230963563853, MSE cdrag GPLearn: 0.011579019283979168 \n",
      "MAE cdrag original: 0.07580331737181549, MAE cdrag GPLearn: 0.07711476735040544 \n",
      "MAPE cdrag original: 3.7448292462961463*100, MAPE cdrag GPLearn: 3.850526844671428*100 \n"
     ]
    }
   ],
   "source": [
    "# Calcular cdrag_pred y cdrag_gp_pred en vectores separados\n",
    "cdrag_pred = X_test.apply(lambda row: cdrag(row['K'], row['Rem']), axis=1).values\n",
    "cdrag_gp_pred = X_test.apply(lambda row: cdrag_gp(row['K'], row['Rem']), axis=1).values\n",
    "\n",
    "# Calcular R^2 y MSE para cdrag\n",
    "r2_cdrag = r2_score(y_test['cdrag'], cdrag_pred)\n",
    "mse_cdrag = mean_squared_error(y_test['cdrag'], cdrag_pred)\n",
    "\n",
    "# Calcular MAE y MAPE para cdrag\n",
    "mae_cdrag = mean_absolute_error(y_test['cdrag'], cdrag_pred)\n",
    "mape_cdrag = mean_absolute_percentage_error(y_test['cdrag'], cdrag_pred)\n",
    "\n",
    "# Calcular R^2 y MSE para cdrag_gp\n",
    "r2_cdrag_gp = r2_score(y_test['cdrag'], cdrag_gp_pred)\n",
    "mse_cdrag_gp = mean_squared_error(y_test['cdrag'], cdrag_gp_pred)\n",
    "\n",
    "# Calcular MAE y MAPE para cdrag_gp\n",
    "mae_cdrag_gp = mean_absolute_error(y_test['cdrag'], cdrag_gp_pred)\n",
    "mape_cdrag_gp = mean_absolute_percentage_error(y_test['cdrag'], cdrag_gp_pred)\n",
    "\n",
    "#  Mostrar Metricas \n",
    "\n",
    "print(f\"R^2 cdrag original: {r2_cdrag}, R^2 cdrag GPLearn: {r2_cdrag_gp} \")\n",
    "print(f\"MSE cdrag original: {mse_cdrag}, MSE cdrag GPLearn: {mse_cdrag_gp} \")\n",
    "print(f\"MAE cdrag original: {mae_cdrag}, MAE cdrag GPLearn: {mae_cdrag_gp} \")\n",
    "print(f\"MAPE cdrag original: {mape_cdrag*100}*100, MAPE cdrag GPLearn: {mape_cdrag_gp*100}*100 \")"
   ]
  }
 ],
 "metadata": {
  "kernelspec": {
   "display_name": "env",
   "language": "python",
   "name": "python3"
  },
  "language_info": {
   "codemirror_mode": {
    "name": "ipython",
    "version": 3
   },
   "file_extension": ".py",
   "mimetype": "text/x-python",
   "name": "python",
   "nbconvert_exporter": "python",
   "pygments_lexer": "ipython3",
   "version": "3.10.4"
  }
 },
 "nbformat": 4,
 "nbformat_minor": 2
}
