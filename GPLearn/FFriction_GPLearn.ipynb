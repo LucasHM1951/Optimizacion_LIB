{
 "cells": [
  {
   "cell_type": "markdown",
   "metadata": {},
   "source": [
    "# Factor de friccion"
   ]
  },
  {
   "cell_type": "code",
   "execution_count": 1,
   "metadata": {},
   "outputs": [],
   "source": [
    "# importando librerias \n",
    "\n",
    "import pandas as pd\n",
    "import matplotlib \n",
    "from gplearn.genetic import SymbolicRegressor\n",
    "from gplearn.functions import make_function\n",
    "from sklearn.ensemble import RandomForestRegressor\n",
    "from sklearn.tree import DecisionTreeRegressor\n",
    "from sklearn.utils.random import check_random_state\n",
    "from sklearn.metrics import mean_absolute_error, mean_absolute_percentage_error, mean_squared_error, r2_score\n",
    "from mpl_toolkits.mplot3d import Axes3D\n",
    "import matplotlib.pyplot as plt\n",
    "import numpy as np\n",
    "from sklearn.tree import export_graphviz\n",
    "import graphviz\n",
    "import pandas as pd\n",
    "import re "
   ]
  },
  {
   "cell_type": "code",
   "execution_count": 2,
   "metadata": {},
   "outputs": [],
   "source": [
    "# cargando datos\n",
    "\n",
    "# importacion de DF\n",
    "file_path = 'D:\\\\CODES\\\\LIB_SR\\\\Dataset_coeficientes\\\\df_ff_25.txt'\n",
    "df_ff_25 = pd.read_csv(file_path, delimiter=',')\n",
    "\n",
    "file_path = 'D:\\\\CODES\\\\LIB_SR\\\\Dataset_coeficientes\\\\df_ff_53.txt'\n",
    "df_ff_53 = pd.read_csv(file_path, delimiter=',')\n",
    "\n",
    "file_path = 'D:\\\\CODES\\\\LIB_SR\\\\Dataset_coeficientes\\\\df_ff_74.txt'\n",
    "df_ff_74 = pd.read_csv(file_path, delimiter=',')\n",
    "\n",
    "file_path = 'D:\\\\CODES\\\\LIB_SR\\\\Dataset_coeficientes\\\\df_ff_102.txt'\n",
    "df_ff_102 = pd.read_csv(file_path, delimiter=',')"
   ]
  },
  {
   "cell_type": "code",
   "execution_count": 3,
   "metadata": {},
   "outputs": [],
   "source": [
    "# definiendo conjuntos de train y test\n",
    "\n",
    "# definiendo conjunto de train\n",
    "df_ff_train = pd.concat([df_ff_25, df_ff_74], ignore_index=True)\n",
    "\n",
    "# separando entre x e y\n",
    "y_train = df_ff_train.drop(columns=['Current','K','Flujo','t_viento','Diametro','col_fluido','col_celda','n_fluido','n_celda','Rem','colIndex'])\n",
    "X_train = df_ff_train.drop(columns=['Current','Flujo','t_viento','Diametro','col_fluido','col_celda','n_fluido','n_celda','colIndex','frictionFactor'])\n",
    "\n",
    "# definiendo conjunto de test\n",
    "\n",
    "y_test = df_ff_53.drop(columns=['Current','K','Flujo','t_viento','Diametro','col_fluido','col_celda','n_fluido','n_celda','Rem','colIndex'])\n",
    "X_test = df_ff_53.drop(columns=['Current','Flujo','t_viento','Diametro','col_fluido','col_celda','n_fluido','n_celda','colIndex','frictionFactor'])"
   ]
  },
  {
   "cell_type": "markdown",
   "metadata": {},
   "source": [
    "### Modelo original "
   ]
  },
  {
   "cell_type": "code",
   "execution_count": 4,
   "metadata": {},
   "outputs": [],
   "source": [
    "# funcion para rescribir ecuaciones \n",
    "\n",
    "def rewrite(expression):\n",
    "\n",
    "    # reescribir ecuaciones\n",
    "    expression = re.sub(r\"add\\(([^,]+), ([^\\)]+)\\)\", r\"(\\1 + \\2)\", expression)\n",
    "    expression = re.sub(r\"sub\\(([^,]+), ([^\\)]+)\\)\", r\"(\\1 - \\2)\", expression)\n",
    "    expression = re.sub(r\"mul\\(([^,]+), ([^\\)]+)\\)\", r\"(\\1 * \\2)\", expression)\n",
    "    expression = re.sub(r\"div\\(([^,]+), ([^\\)]+)\\)\", r\"(\\1 / \\2)\", expression)\n",
    "    expression = re.sub(r\"pow\\(([^,]+), ([^\\)]+)\\)\", r\"\\1 ** \\2\", expression)\n",
    "    \n",
    "    # Reemplazar la función pot1\n",
    "    #expression = re.sub(r\"pot1\\((X\\d)\\)\", r\"\\1 ** (-0.6)\", expression)\n",
    "    # Reemplazar la función pot2\n",
    "    #expression = re.sub(r\"pot2\\((X\\d)\\)\", r\"5 * \\1 ** (-0.23)\", expression)\n",
    "    \n",
    "    # Reemplazar variables (ajustar según el modelo)\n",
    "    expression = expression.replace(\"X0\", \"S\")\n",
    "    expression = expression.replace(\"X1\", \"Re\")\n",
    "    \n",
    "    return expression"
   ]
  },
  {
   "cell_type": "code",
   "execution_count": 5,
   "metadata": {},
   "outputs": [
    {
     "name": "stderr",
     "output_type": "stream",
     "text": [
      "d:\\env\\lib\\site-packages\\sklearn\\utils\\validation.py:1339: DataConversionWarning: A column-vector y was passed when a 1d array was expected. Please change the shape of y to (n_samples, ), for example using ravel().\n",
      "  y = column_or_1d(y, warn=True)\n"
     ]
    },
    {
     "name": "stdout",
     "output_type": "stream",
     "text": [
      "    |   Population Average    |             Best Individual              |\n",
      "---- ------------------------- ------------------------------------------ ----------\n",
      " Gen   Length          Fitness   Length          Fitness      OOB Fitness  Time Left\n",
      "   0    37.35      4.28094e+28       23         0.628484         0.678839     11.44m\n",
      "   1    17.24      1.68328e+08       25         0.629673         0.665225      7.74m\n",
      "   2    18.26       9.1841e+11       23         0.630923         0.653972     10.55m\n",
      "   3    25.85      4.00302e+11       13         0.563529         0.547598      6.16m\n",
      "   4    23.94      3.77601e+09       13         0.556433         0.541774      4.68m\n",
      "   5    17.79           334315       13         0.555681          0.54854      6.03m\n",
      "   6    13.63      8.31439e+07       13         0.551765         0.583786      3.69m\n",
      "   7    11.34      2.01239e+07       13         0.550698         0.593388      3.12m\n",
      "   8    10.83      1.00142e+08       13         0.549114         0.607643      3.48m\n",
      "   9    11.96      4.50046e+08       13         0.548735         0.611051      2.91m\n",
      "  10    12.80      3.39351e+13       13         0.546163         0.612241      2.69m\n",
      "  11    12.87      2.66245e+08       13         0.546381         0.632238      2.29m\n",
      "  12    12.93      9.53129e+07       13         0.547597         0.621298      2.37m\n",
      "  13    12.99      8.20225e+10       13         0.548043         0.617281      1.80m\n",
      "  14    12.94      4.71894e+11       13          0.54722         0.602725      2.38m\n",
      "  15    12.85      2.93274e+07       13         0.545873         0.614847      1.81m\n",
      "  16    12.76        2.871e+07       13         0.545658         0.616781     49.46s\n",
      "  17    13.10      2.80432e+11       13          0.54697         0.604981     39.22s\n",
      "  18    12.94      6.89673e+07       13         0.546843          0.62808     13.85s\n",
      "  19    13.07      1.85769e+20       13         0.545926         0.614373      0.00s\n",
      "Expresión: add(div(div(add(X0, 0.477), mul(X0, 0.578)), X0), div(0.792, X0))\n"
     ]
    }
   ],
   "source": [
    "# entrenando modelo \n",
    "\n",
    "# Modelo\n",
    "model = SymbolicRegressor(population_size=5000,\n",
    "                           generations=20, \n",
    "                           stopping_criteria=0.01,\n",
    "                           p_crossover=0.7, \n",
    "                           p_subtree_mutation=0.1,\n",
    "                           p_hoist_mutation=0.05, \n",
    "                           p_point_mutation=0.1,\n",
    "                           max_samples=0.9, \n",
    "                           verbose=1,\n",
    "                           parsimony_coefficient=0.01, \n",
    "                           random_state=123,\n",
    "                           function_set=['add', 'sub', 'mul', 'div'])\n",
    "\n",
    "model.fit(X_train, y_train)\n",
    "\n",
    "# Obtener la expresión simbólica\n",
    "expression = model._program\n",
    "print(\"Expresión:\", expression)"
   ]
  },
  {
   "cell_type": "code",
   "execution_count": 7,
   "metadata": {},
   "outputs": [
    {
     "data": {
      "text/plain": [
       "'((div(add(S + 0.477) / (S * 0.578)), S), (0.792 / S))'"
      ]
     },
     "execution_count": 7,
     "metadata": {},
     "output_type": "execute_result"
    }
   ],
   "source": [
    "rewrite('add(div(div(add(X0, 0.477), mul(X0, 0.578)), X0), div(0.792, X0))')"
   ]
  },
  {
   "cell_type": "code",
   "execution_count": 6,
   "metadata": {},
   "outputs": [
    {
     "name": "stdout",
     "output_type": "stream",
     "text": [
      "MSE: 1.1110193928741372\n",
      "R^2: 0.8043016746993664\n"
     ]
    }
   ],
   "source": [
    "# Predecir en los datos de prueba\n",
    "y_pred = model.predict(X_test)\n",
    "\n",
    "# Calcular métricas\n",
    "mse = mean_squared_error(y_test, y_pred)\n",
    "r2 = r2_score(y_test, y_pred)\n",
    "\n",
    "print(\"MSE:\", mse)\n",
    "print(\"R^2:\", r2)"
   ]
  },
  {
   "cell_type": "code",
   "execution_count": null,
   "metadata": {},
   "outputs": [],
   "source": [
    "# comparar con modelo de Rafael\n",
    "\n",
    "# 20*S^(-1.1)*Re^(-0.22)\n",
    "def ffriction(S, Re):\n",
    "    return 20*S**(-1.1)*Re*(-0.22)\n",
    "\n",
    "#def ffriction_gp(S, Re):\n",
    "#   return "
   ]
  },
  {
   "cell_type": "markdown",
   "metadata": {},
   "source": [
    "### Incorporar potencias"
   ]
  },
  {
   "cell_type": "code",
   "execution_count": 9,
   "metadata": {},
   "outputs": [],
   "source": [
    "# S ^(-1.1) \n",
    "def pot1(x1):\n",
    "    with np.errstate(divide='ignore', invalid='ignore'):\n",
    "        result = np.where(x1 > 0, np.power(x1, -1.1), 0)\n",
    "    return result\n",
    "\n",
    "pot1_fn = make_function(function=pot1, \n",
    "                        name='pot1', \n",
    "                        arity=1)\n",
    "\n",
    "# 20* Re ^ (-0.22)\n",
    "def pot2(x1):\n",
    "    with np.errstate(divide='ignore', invalid='ignore'):\n",
    "        result = np.where(x1 > 0, 20*np.power(x1, -0.22), 0)\n",
    "    return result\n",
    "\n",
    "pot2_fn = make_function(function=pot2, \n",
    "                        name='pot2', \n",
    "                        arity=1)"
   ]
  },
  {
   "cell_type": "code",
   "execution_count": 11,
   "metadata": {},
   "outputs": [],
   "source": [
    "def rewrite(expression):\n",
    "\n",
    "    # reescribir ecuaciones\n",
    "    expression = re.sub(r\"add\\(([^,]+), ([^\\)]+)\\)\", r\"(\\1 + \\2)\", expression)\n",
    "    expression = re.sub(r\"sub\\(([^,]+), ([^\\)]+)\\)\", r\"(\\1 - \\2)\", expression)\n",
    "    expression = re.sub(r\"mul\\(([^,]+), ([^\\)]+)\\)\", r\"(\\1 * \\2)\", expression)\n",
    "    expression = re.sub(r\"div\\(([^,]+), ([^\\)]+)\\)\", r\"(\\1 / \\2)\", expression)\n",
    "    expression = re.sub(r\"pow\\(([^,]+), ([^\\)]+)\\)\", r\"\\1 ** \\2\", expression)\n",
    "    \n",
    "    # Reemplazar la función pot1\n",
    "    expression = re.sub(r\"pot1\\((X\\d)\\)\", r\"\\1 ** (-1.1)\", expression)\n",
    "    # Reemplazar la función pot2\n",
    "    expression = re.sub(r\"pot2\\((X\\d)\\)\", r\"20 * \\1 ** (-0.22)\", expression)\n",
    "    \n",
    "    # Reemplazar variables (ajustar según el modelo)\n",
    "    expression = expression.replace(\"X0\", \"S\")\n",
    "    expression = expression.replace(\"X1\", \"Re\")\n",
    "    \n",
    "    return expression"
   ]
  },
  {
   "cell_type": "code",
   "execution_count": 10,
   "metadata": {},
   "outputs": [
    {
     "name": "stderr",
     "output_type": "stream",
     "text": [
      "d:\\env\\lib\\site-packages\\sklearn\\utils\\validation.py:1339: DataConversionWarning: A column-vector y was passed when a 1d array was expected. Please change the shape of y to (n_samples, ), for example using ravel().\n",
      "  y = column_or_1d(y, warn=True)\n"
     ]
    },
    {
     "name": "stdout",
     "output_type": "stream",
     "text": [
      "    |   Population Average    |             Best Individual              |\n",
      "---- ------------------------- ------------------------------------------ ----------\n",
      " Gen   Length          Fitness   Length          Fitness      OOB Fitness  Time Left\n",
      "   0    19.46       1.2489e+15        4          0.52396         0.514965     29.47m\n",
      "   1    11.82      3.01331e+06        5         0.484317         0.457411     21.86m\n",
      "   2     8.24      3.70547e+07        5          0.47922         0.503287     14.56m\n",
      "   3     8.14          51184.1        5         0.476157         0.530848     13.44m\n",
      "   4     5.74          53356.5       17          0.47276         0.460887     14.26m\n",
      "   5     5.37      5.68701e+07        5         0.476578         0.527059     15.40m\n",
      "   6     5.26      2.80269e+08        5         0.476737         0.525635     14.85m\n",
      "   7     5.24          54549.3        5         0.476402         0.528651     15.98m\n",
      "   8     5.24      1.21369e+08        5         0.474707         0.543898     15.61m\n",
      "   9     5.24          69207.7        5         0.475871         0.533426     10.02m\n",
      "  10     5.25      5.56156e+07        5         0.476599         0.526872     12.45m\n",
      "  11     5.18          69868.4        5         0.475751         0.534507      8.54m\n",
      "  12     5.22      3.92581e+12        5         0.476281         0.529736      6.11m\n",
      "  13     5.27           137253        5         0.475298         0.538583      5.72m\n",
      "  14     5.26      2.00628e+07        5         0.475956         0.532661      4.40m\n",
      "  15     5.22      1.23326e+11        5         0.475392         0.537738      4.24m\n",
      "  16     5.15      5.74819e+07        5         0.474548         0.545332      4.15m\n",
      "  17     5.25           328677        5         0.475888         0.533274      4.23m\n",
      "  18     5.22      1.90973e+07        5         0.475848         0.533632      3.05m\n",
      "  19     5.23      3.69771e+07        5         0.476134         0.531062      4.77m\n",
      "  20     5.19           205561        5         0.475673         0.535209      1.89m\n",
      "  21     5.17            55583        5         0.475967         0.532561      1.96m\n",
      "  22     5.23          58149.4        5         0.475196         0.539501      1.13m\n",
      "  23     5.21          84284.4        5         0.475975         0.532492     28.33s\n",
      "  24     5.19           101207        5         0.476081         0.531532      0.00s\n",
      "Expresión: mul(pot2(X1), pot1(X0))\n"
     ]
    }
   ],
   "source": [
    "# entrenando modelo \n",
    "\n",
    "# Modelo\n",
    "model = SymbolicRegressor(population_size=5000,\n",
    "                           generations=25, \n",
    "                           stopping_criteria=0.01,\n",
    "                           p_crossover=0.7, \n",
    "                           p_subtree_mutation=0.1,\n",
    "                           p_hoist_mutation=0.05, \n",
    "                           p_point_mutation=0.1,\n",
    "                           max_samples=0.9, \n",
    "                           verbose=1,\n",
    "                           parsimony_coefficient=0.01, \n",
    "                           random_state=123,\n",
    "                           function_set=['add', 'sub', 'mul', 'div',pot1_fn, pot2_fn])\n",
    "\n",
    "model.fit(X_train, y_train)\n",
    "\n",
    "# Obtener la expresión simbólica\n",
    "expression = model._program\n",
    "print(\"Expresión:\", expression)"
   ]
  },
  {
   "cell_type": "code",
   "execution_count": 12,
   "metadata": {},
   "outputs": [
    {
     "data": {
      "text/plain": [
       "'(20 * Re ** (-0.22) * S ** (-1.1))'"
      ]
     },
     "execution_count": 12,
     "metadata": {},
     "output_type": "execute_result"
    }
   ],
   "source": [
    "rewrite(expression.__str__())"
   ]
  },
  {
   "cell_type": "code",
   "execution_count": 13,
   "metadata": {},
   "outputs": [
    {
     "name": "stdout",
     "output_type": "stream",
     "text": [
      "MSE: 0.737637987361494\n",
      "R^2: 0.8700702078373823\n"
     ]
    }
   ],
   "source": [
    "# Predecir en los datos de prueba\n",
    "y_pred = model.predict(X_test)\n",
    "\n",
    "# Calcular métricas\n",
    "mse = mean_squared_error(y_test, y_pred)\n",
    "r2 = r2_score(y_test, y_pred)\n",
    "\n",
    "print(\"MSE:\", mse)\n",
    "print(\"R^2:\", r2)"
   ]
  },
  {
   "cell_type": "code",
   "execution_count": 14,
   "metadata": {},
   "outputs": [],
   "source": [
    "# comparar con modelo de Rafael\n",
    "\n",
    "# 20*S^(-1.1)*Re^(-0.22)\n",
    "def fFriction(S, Re):\n",
    "    return 20*S**(-1.1)*Re**(-0.22)\n",
    "\n",
    "def fFriction_gp(S, Re):\n",
    "   return S**(-1.1)*20*Re**(-0.22)  # misma expresion c:  "
   ]
  },
  {
   "cell_type": "code",
   "execution_count": 18,
   "metadata": {},
   "outputs": [
    {
     "name": "stdout",
     "output_type": "stream",
     "text": [
      "R^2 cdrag original: 0.8700702078373823, R^2 cdrag GPLearn: 0.8700702078373823 \n",
      "MSE cdrag original: 0.737637987361494, MSE cdrag GPLearn: 0.737637987361494 \n",
      "MAE cdrag original: 0.5184759754778028, MAE cdrag GPLearn: 0.5184759754778028 \n",
      "MAPE cdrag original: 11.262660298844454*100, MAPE cdrag GPLearn: 11.262660298844454*100 \n"
     ]
    }
   ],
   "source": [
    "# Calcular cdrag_pred y cdrag_gp_pred en vectores separados\n",
    "ffriction_pred = X_test.apply(lambda row: fFriction(row['K'], row['Rem']), axis=1).values\n",
    "ffriction_gp_pred = X_test.apply(lambda row: fFriction_gp(row['K'], row['Rem']), axis=1).values\n",
    "\n",
    "# Calcular R^2 y MSE para cdrag\n",
    "r2 = r2_score(y_test['frictionFactor'], ffriction_pred)\n",
    "mse = mean_squared_error(y_test['frictionFactor'], ffriction_pred)\n",
    "\n",
    "# Calcular MAE y MAPE para cdrag\n",
    "mae = mean_absolute_error(y_test['frictionFactor'], ffriction_pred)\n",
    "mape = mean_absolute_percentage_error(y_test['frictionFactor'], ffriction_pred)\n",
    "\n",
    "# Calcular R^2 y MSE para cdrag_gp\n",
    "r2_gp = r2_score(y_test['frictionFactor'], ffriction_gp_pred)\n",
    "mse_gp = mean_squared_error(y_test['frictionFactor'], ffriction_gp_pred)\n",
    "\n",
    "# Calcular MAE y MAPE para cdrag_gp\n",
    "mae_gp = mean_absolute_error(y_test['frictionFactor'], ffriction_gp_pred)\n",
    "mape_gp = mean_absolute_percentage_error(y_test['frictionFactor'], ffriction_gp_pred)\n",
    "\n",
    "#  Mostrar Metricas \n",
    "\n",
    "print(f\"R^2 cdrag original: {r2}, R^2 cdrag GPLearn: {r2_gp} \")\n",
    "print(f\"MSE cdrag original: {mse}, MSE cdrag GPLearn: {mse_gp} \")\n",
    "print(f\"MAE cdrag original: {mae}, MAE cdrag GPLearn: {mae_gp} \")\n",
    "print(f\"MAPE cdrag original: {mape*100}*100, MAPE cdrag GPLearn: {mape_gp*100}*100 \")"
   ]
  },
  {
   "cell_type": "markdown",
   "metadata": {},
   "source": [
    "### Ajuste automatico de Exponencial"
   ]
  },
  {
   "cell_type": "code",
   "execution_count": 4,
   "metadata": {},
   "outputs": [],
   "source": [
    "def pot(x1, const):\n",
    "    con1 = x1 > 0\n",
    "    con2 = (const >= -2) & (const < 0)\n",
    "    with np.errstate(divide='ignore', invalid='ignore'):\n",
    "        result = np.where(con1 & con2,np.power(x1,const), 0)\n",
    "    return result\n",
    "\n",
    "pot= make_function(function=pot, name='pot', arity=2)\n",
    "\n",
    "# A * x**B\n",
    "def pot2(x1):\n",
    "    con1 = x1 > 0\n",
    "    # con2 = (B >= -0.23) & (B <= -0.21)\n",
    "    # con3 = (A >=19) & (A <=21)\n",
    "    with np.errstate(divide='ignore', invalid='ignore'):\n",
    "        result = np.where(con1 , 20 *np.power(x1,-0.22), 0)\n",
    "    return result\n",
    "\n",
    "pot2= make_function(function=pot2, name='pot2', arity=1)"
   ]
  },
  {
   "cell_type": "code",
   "execution_count": 5,
   "metadata": {},
   "outputs": [
    {
     "name": "stderr",
     "output_type": "stream",
     "text": [
      "d:\\env\\lib\\site-packages\\sklearn\\utils\\validation.py:1339: DataConversionWarning: A column-vector y was passed when a 1d array was expected. Please change the shape of y to (n_samples, ), for example using ravel().\n",
      "  y = column_or_1d(y, warn=True)\n"
     ]
    },
    {
     "name": "stdout",
     "output_type": "stream",
     "text": [
      "    |   Population Average    |             Best Individual              |\n",
      "---- ------------------------- ------------------------------------------ ----------\n",
      " Gen   Length          Fitness   Length          Fitness      OOB Fitness  Time Left\n"
     ]
    },
    {
     "name": "stderr",
     "output_type": "stream",
     "text": [
      "C:\\Users\\lucas\\AppData\\Local\\Temp\\ipykernel_7336\\2889362616.py:5: RuntimeWarning: overflow encountered in power\n",
      "  result = np.where(con1 & con2, np.power(x1,const), 0)\n"
     ]
    },
    {
     "name": "stdout",
     "output_type": "stream",
     "text": [
      "   0    21.89      9.05033e+14       70         0.869293         0.925667     73.03m\n",
      "   1     9.90           232809       70         0.853373         0.826876     31.50m\n",
      "   2     7.49      2.44086e+07       40         0.664599         0.650708     22.19m\n",
      "   3     8.85          10589.6       14         0.480327          0.49291     19.21m\n",
      "   4    11.34           339.52       14         0.477866         0.514727     17.54m\n",
      "   5    12.14      3.63363e+06       12         0.475913         0.533048     15.80m\n",
      "   6    12.33            29845       12          0.47554         0.536402     14.00m\n",
      "   7    11.85          13537.9       12         0.475434         0.527056     12.57m\n",
      "   8    11.78          6843.92       12         0.474099         0.494772     21.98m\n",
      "   9    11.34          3884.99       12         0.475871         0.533426     16.11m\n",
      "  10    10.57      1.90064e+07       12         0.473438         0.500721     19.34m\n",
      "  11    10.06          83607.5       12         0.473255         0.502366     15.85m\n",
      "  12    10.12           911803       10         0.473476         0.500363     11.72m\n",
      "  13    10.09      6.28618e+07       10         0.471594          0.51751     10.40m\n",
      "  14    10.04      5.45139e+07       10         0.471106           0.5217      8.79m\n",
      "  15     9.99      5.52843e+07       10         0.470191         0.529931      6.91m\n",
      "  16     9.94            35893       10         0.469346         0.537541      4.66m\n",
      "  17    10.13      2.61026e+07       10         0.470734         0.525043      4.17m\n",
      "  18    10.07      5.49539e+07       10         0.470674         0.525587      1.77m\n",
      "  19    10.06      7.36977e+07       10         0.470978         0.522851      0.00s\n",
      "Expresión: mul(pot(X0, -0.612), mul(pot(X0, -0.529), pot2(X1)))\n"
     ]
    }
   ],
   "source": [
    "# entrenando modelo \n",
    "\n",
    "# Modelo\n",
    "model = SymbolicRegressor(population_size=5000,\n",
    "                           generations=20, \n",
    "                           stopping_criteria=0.01,\n",
    "                           p_crossover=0.7, \n",
    "                           p_subtree_mutation=0.1,\n",
    "                           p_hoist_mutation=0.05, \n",
    "                           p_point_mutation=0.1,\n",
    "                           max_samples=0.9, \n",
    "                           verbose=1,\n",
    "                           parsimony_coefficient=0.01, \n",
    "                           random_state=123,\n",
    "                           function_set=['add', 'mul',pot, pot2])\n",
    "\n",
    "model.fit(X_train, y_train)\n",
    "\n",
    "# Obtener la expresión simbólica\n",
    "expression = model._program\n",
    "print(\"Expresión:\", expression)"
   ]
  },
  {
   "cell_type": "code",
   "execution_count": 8,
   "metadata": {},
   "outputs": [],
   "source": [
    "# comparar con modelo de Rafael\n",
    "\n",
    "# 20*S^(-1.1)*Re^(-0.22)\n",
    "def fFriction(S, Re):\n",
    "    return 20*S**(-1.1)*Re**(-0.22)\n",
    "\n",
    "def fFriction_gp(S, Re):\n",
    "   return 20* S**(-1.141) * Re**(-0.22)"
   ]
  },
  {
   "cell_type": "code",
   "execution_count": 9,
   "metadata": {},
   "outputs": [
    {
     "name": "stdout",
     "output_type": "stream",
     "text": [
      "R^2 cdrag original: 0.8700702078373823, R^2 cdrag GPLearn: 0.8731581479699136 \n",
      "MSE cdrag original: 0.737637987361494, MSE cdrag GPLearn: 0.7201071200635435 \n",
      "MAE cdrag original: 0.5184759754778028, MAE cdrag GPLearn: 0.5128183255668937 \n",
      "MAPE cdrag original: 11.262660298844454*100, MAPE cdrag GPLearn: 11.193035102323485*100 \n"
     ]
    }
   ],
   "source": [
    "# Calcular cdrag_pred y cdrag_gp_pred en vectores separados\n",
    "ffriction_pred = X_test.apply(lambda row: fFriction(row['K'], row['Rem']), axis=1).values\n",
    "ffriction_gp_pred = X_test.apply(lambda row: fFriction_gp(row['K'], row['Rem']), axis=1).values\n",
    "\n",
    "# Calcular R^2 y MSE para cdrag\n",
    "r2 = r2_score(y_test['frictionFactor'], ffriction_pred)\n",
    "mse = mean_squared_error(y_test['frictionFactor'], ffriction_pred)\n",
    "\n",
    "# Calcular MAE y MAPE para cdrag\n",
    "mae = mean_absolute_error(y_test['frictionFactor'], ffriction_pred)\n",
    "mape = mean_absolute_percentage_error(y_test['frictionFactor'], ffriction_pred)\n",
    "\n",
    "# Calcular R^2 y MSE para cdrag_gp\n",
    "r2_gp = r2_score(y_test['frictionFactor'], ffriction_gp_pred)\n",
    "mse_gp = mean_squared_error(y_test['frictionFactor'], ffriction_gp_pred)\n",
    "\n",
    "# Calcular MAE y MAPE para cdrag_gp\n",
    "mae_gp = mean_absolute_error(y_test['frictionFactor'], ffriction_gp_pred)\n",
    "mape_gp = mean_absolute_percentage_error(y_test['frictionFactor'], ffriction_gp_pred)\n",
    "\n",
    "#  Mostrar Metricas \n",
    "\n",
    "print(f\"R^2 cdrag original: {r2}, R^2 cdrag GPLearn: {r2_gp} \")\n",
    "print(f\"MSE cdrag original: {mse}, MSE cdrag GPLearn: {mse_gp} \")\n",
    "print(f\"MAE cdrag original: {mae}, MAE cdrag GPLearn: {mae_gp} \")\n",
    "print(f\"MAPE cdrag original: {mape*100}*100, MAPE cdrag GPLearn: {mape_gp*100}*100 \")"
   ]
  },
  {
   "cell_type": "markdown",
   "metadata": {},
   "source": [
    "### Ajuste automatico exponencial V2"
   ]
  },
  {
   "cell_type": "code",
   "execution_count": 10,
   "metadata": {},
   "outputs": [],
   "source": [
    "def pot(x1, const):\n",
    "    con1 = x1 > 0\n",
    "    con2 = (const >= -2) & (const < 0)\n",
    "    with np.errstate(divide='ignore', invalid='ignore'):\n",
    "        result = np.where(con1 & con2,np.power(x1,const), 0)\n",
    "    return result\n",
    "\n",
    "pot= make_function(function=pot, name='pot', arity=2)\n",
    "\n",
    "# A * x**B\n",
    "def pot2(x1, A, B):\n",
    "    con1 = x1 > 0\n",
    "    con2 = (B >= -1) & (B < 0)\n",
    "    con3 = (A >=15) & (A <=25)\n",
    "    with np.errstate(divide='ignore', invalid='ignore'):\n",
    "        result = np.where(con1 & con2 & con3, A *np.power(x1,B), 0)\n",
    "    return result\n",
    "\n",
    "pot2= make_function(function=pot2, name='pot2', arity=3)"
   ]
  },
  {
   "cell_type": "code",
   "execution_count": 11,
   "metadata": {},
   "outputs": [
    {
     "name": "stderr",
     "output_type": "stream",
     "text": [
      "d:\\env\\lib\\site-packages\\sklearn\\utils\\validation.py:1339: DataConversionWarning: A column-vector y was passed when a 1d array was expected. Please change the shape of y to (n_samples, ), for example using ravel().\n",
      "  y = column_or_1d(y, warn=True)\n",
      "C:\\Users\\lucas\\AppData\\Local\\Temp\\ipykernel_7336\\1791202140.py:16: RuntimeWarning: overflow encountered in power\n",
      "  result = np.where(con1 & con2 & con3, A *np.power(x1,B), 0)\n"
     ]
    },
    {
     "name": "stdout",
     "output_type": "stream",
     "text": [
      "    |   Population Average    |             Best Individual              |\n",
      "---- ------------------------- ------------------------------------------ ----------\n",
      " Gen   Length          Fitness   Length          Fitness      OOB Fitness  Time Left\n"
     ]
    },
    {
     "name": "stderr",
     "output_type": "stream",
     "text": [
      "C:\\Users\\lucas\\AppData\\Local\\Temp\\ipykernel_7336\\1791202140.py:16: RuntimeWarning: overflow encountered in multiply\n",
      "  result = np.where(con1 & con2 & con3, A *np.power(x1,B), 0)\n",
      "C:\\Users\\lucas\\AppData\\Local\\Temp\\ipykernel_7336\\1791202140.py:5: RuntimeWarning: overflow encountered in power\n",
      "  result = np.where(con1 & con2,np.power(x1,const), 0)\n"
     ]
    },
    {
     "name": "stdout",
     "output_type": "stream",
     "text": [
      "   0    62.29      8.94692e+14        5          1.70934          1.73429    131.55m\n",
      "   1    12.99      1.33992e+08        7          1.67388          1.67584     29.43m\n",
      "   2    10.11      4.57058e+07        5          1.02793          1.05324     17.50m\n",
      "   3     8.97          56837.2        9          0.96272         0.983959     18.49m\n",
      "   4     8.27          25127.7       17         0.570199         0.576406     18.06m\n",
      "   5    11.07      7.93214e+06       17         0.571668         0.563183     14.22m\n",
      "   6    11.22          20052.5       21         0.558275         0.557218     17.09m\n",
      "   7    13.69      1.03464e+07       17         0.553206         0.573087     18.87m\n",
      "   8    13.25          41582.7       21         0.552357         0.585808     16.39m\n",
      "   9    13.31            20873       17          0.55531         0.584199     15.33m\n",
      "  10    13.61      3.72408e+07       17         0.556107         0.546979     13.05m\n",
      "  11    13.48          40147.3       13         0.554348         0.574506     11.37m\n",
      "  12    13.21          78965.4       13         0.552404         0.595537      9.73m\n",
      "  13    13.05      6.74819e+07       13         0.548717         0.625187      8.75m\n",
      "  14    13.21      3.04583e+07       13         0.547721         0.611296      6.47m\n",
      "  15    13.07          65277.5       13         0.546582         0.612907      4.70m\n",
      "  16    13.03          70941.4       13         0.544961         0.636135      3.80m\n",
      "  17    13.19      2.60435e+07       13         0.546372         0.624824      2.80m\n",
      "  18    13.07            35579       13         0.544801         0.628944      1.28m\n",
      "  19    13.06          38274.4       13         0.545943         0.609687      0.00s\n",
      "Expresión: mul(add(pot(mul(X0, X0), -0.911), pot(X0, -0.450)), add(0.758, 0.907))\n"
     ]
    }
   ],
   "source": [
    "# entrenando modelo \n",
    "\n",
    "# Modelo\n",
    "model = SymbolicRegressor(population_size=5000,\n",
    "                           generations=20, \n",
    "                           stopping_criteria=0.01,\n",
    "                           p_crossover=0.7, \n",
    "                           p_subtree_mutation=0.1,\n",
    "                           p_hoist_mutation=0.05, \n",
    "                           p_point_mutation=0.1,\n",
    "                           max_samples=0.9, \n",
    "                           verbose=1,\n",
    "                           parsimony_coefficient=0.01, \n",
    "                           random_state=123,\n",
    "                           function_set=['add', 'mul',pot, pot2])\n",
    "\n",
    "model.fit(X_train, y_train)\n",
    "\n",
    "# Obtener la expresión simbólica\n",
    "expression = model._program\n",
    "print(\"Expresión:\", expression)"
   ]
  }
 ],
 "metadata": {
  "kernelspec": {
   "display_name": "env",
   "language": "python",
   "name": "python3"
  },
  "language_info": {
   "codemirror_mode": {
    "name": "ipython",
    "version": 3
   },
   "file_extension": ".py",
   "mimetype": "text/x-python",
   "name": "python",
   "nbconvert_exporter": "python",
   "pygments_lexer": "ipython3",
   "version": "3.10.4"
  }
 },
 "nbformat": 4,
 "nbformat_minor": 2
}
