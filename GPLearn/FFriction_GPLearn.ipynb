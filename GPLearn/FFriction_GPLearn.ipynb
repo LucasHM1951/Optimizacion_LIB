{
 "cells": [
  {
   "cell_type": "markdown",
   "metadata": {},
   "source": [
    "# Factor de friccion"
   ]
  },
  {
   "cell_type": "code",
   "execution_count": 5,
   "metadata": {},
   "outputs": [],
   "source": [
    "# importando librerias \n",
    "\n",
    "import pandas as pd\n",
    "import matplotlib \n",
    "from gplearn.genetic import SymbolicRegressor\n",
    "from gplearn.functions import make_function\n",
    "from gplearn.fitness import make_fitness\n",
    "from sklearn.ensemble import RandomForestRegressor\n",
    "from sklearn.tree import DecisionTreeRegressor\n",
    "from sklearn.utils.random import check_random_state\n",
    "from sklearn.metrics import mean_absolute_error, mean_absolute_percentage_error, mean_squared_error, r2_score\n",
    "from mpl_toolkits.mplot3d import Axes3D\n",
    "import matplotlib.pyplot as plt\n",
    "import numpy as np\n",
    "from sklearn.tree import export_graphviz\n",
    "import graphviz\n",
    "import pandas as pd\n",
    "import re "
   ]
  },
  {
   "cell_type": "code",
   "execution_count": 2,
   "metadata": {},
   "outputs": [],
   "source": [
    "# cargando datos\n",
    "\n",
    "# importacion de DF\n",
    "file_path = 'D:\\\\CODES\\\\LIB_SR\\\\Dataset_coeficientes\\\\df_ff_25.txt'\n",
    "df_ff_25 = pd.read_csv(file_path, delimiter=',')\n",
    "\n",
    "file_path = 'D:\\\\CODES\\\\LIB_SR\\\\Dataset_coeficientes\\\\df_ff_53.txt'\n",
    "df_ff_53 = pd.read_csv(file_path, delimiter=',')\n",
    "\n",
    "file_path = 'D:\\\\CODES\\\\LIB_SR\\\\Dataset_coeficientes\\\\df_ff_74.txt'\n",
    "df_ff_74 = pd.read_csv(file_path, delimiter=',')\n",
    "\n",
    "file_path = 'D:\\\\CODES\\\\LIB_SR\\\\Dataset_coeficientes\\\\df_ff_102.txt'\n",
    "df_ff_102 = pd.read_csv(file_path, delimiter=',')"
   ]
  },
  {
   "cell_type": "code",
   "execution_count": 3,
   "metadata": {},
   "outputs": [],
   "source": [
    "# definiendo conjuntos de train y test\n",
    "\n",
    "# definiendo conjunto de train\n",
    "df_ff_train = pd.concat([df_ff_25, df_ff_74], ignore_index=True)\n",
    "\n",
    "# separando entre x e y\n",
    "y_train = df_ff_train.drop(columns=['Current','K','Flujo','t_viento','Diametro','col_fluido','col_celda','n_fluido','n_celda','Rem','colIndex'])\n",
    "X_train = df_ff_train.drop(columns=['Current','Flujo','t_viento','Diametro','col_fluido','col_celda','n_fluido','n_celda','colIndex','frictionFactor'])\n",
    "\n",
    "# definiendo conjunto de test\n",
    "\n",
    "y_test = df_ff_53.drop(columns=['Current','K','Flujo','t_viento','Diametro','col_fluido','col_celda','n_fluido','n_celda','Rem','colIndex'])\n",
    "X_test = df_ff_53.drop(columns=['Current','Flujo','t_viento','Diametro','col_fluido','col_celda','n_fluido','n_celda','colIndex','frictionFactor'])\n",
    "\n",
    "y_train = y_train.values.ravel()"
   ]
  },
  {
   "cell_type": "markdown",
   "metadata": {},
   "source": [
    "### Modelo original "
   ]
  },
  {
   "cell_type": "code",
   "execution_count": 4,
   "metadata": {},
   "outputs": [],
   "source": [
    "# funcion para rescribir ecuaciones \n",
    "\n",
    "def rewrite(expression):\n",
    "\n",
    "    # reescribir ecuaciones\n",
    "    expression = re.sub(r\"add\\(([^,]+), ([^\\)]+)\\)\", r\"(\\1 + \\2)\", expression)\n",
    "    expression = re.sub(r\"sub\\(([^,]+), ([^\\)]+)\\)\", r\"(\\1 - \\2)\", expression)\n",
    "    expression = re.sub(r\"mul\\(([^,]+), ([^\\)]+)\\)\", r\"(\\1 * \\2)\", expression)\n",
    "    expression = re.sub(r\"div\\(([^,]+), ([^\\)]+)\\)\", r\"(\\1 / \\2)\", expression)\n",
    "    expression = re.sub(r\"pow\\(([^,]+), ([^\\)]+)\\)\", r\"\\1 ** \\2\", expression)\n",
    "    \n",
    "    # Reemplazar la función pot1\n",
    "    #expression = re.sub(r\"pot1\\((X\\d)\\)\", r\"\\1 ** (-0.6)\", expression)\n",
    "    # Reemplazar la función pot2\n",
    "    #expression = re.sub(r\"pot2\\((X\\d)\\)\", r\"5 * \\1 ** (-0.23)\", expression)\n",
    "    \n",
    "    # Reemplazar variables (ajustar según el modelo)\n",
    "    expression = expression.replace(\"X0\", \"S\")\n",
    "    expression = expression.replace(\"X1\", \"Re\")\n",
    "    \n",
    "    return expression"
   ]
  },
  {
   "cell_type": "code",
   "execution_count": 5,
   "metadata": {},
   "outputs": [
    {
     "name": "stderr",
     "output_type": "stream",
     "text": [
      "d:\\env\\lib\\site-packages\\sklearn\\utils\\validation.py:1339: DataConversionWarning: A column-vector y was passed when a 1d array was expected. Please change the shape of y to (n_samples, ), for example using ravel().\n",
      "  y = column_or_1d(y, warn=True)\n"
     ]
    },
    {
     "name": "stdout",
     "output_type": "stream",
     "text": [
      "    |   Population Average    |             Best Individual              |\n",
      "---- ------------------------- ------------------------------------------ ----------\n",
      " Gen   Length          Fitness   Length          Fitness      OOB Fitness  Time Left\n",
      "   0    37.35      4.28094e+28       23         0.628484         0.678839     11.44m\n",
      "   1    17.24      1.68328e+08       25         0.629673         0.665225      7.74m\n",
      "   2    18.26       9.1841e+11       23         0.630923         0.653972     10.55m\n",
      "   3    25.85      4.00302e+11       13         0.563529         0.547598      6.16m\n",
      "   4    23.94      3.77601e+09       13         0.556433         0.541774      4.68m\n",
      "   5    17.79           334315       13         0.555681          0.54854      6.03m\n",
      "   6    13.63      8.31439e+07       13         0.551765         0.583786      3.69m\n",
      "   7    11.34      2.01239e+07       13         0.550698         0.593388      3.12m\n",
      "   8    10.83      1.00142e+08       13         0.549114         0.607643      3.48m\n",
      "   9    11.96      4.50046e+08       13         0.548735         0.611051      2.91m\n",
      "  10    12.80      3.39351e+13       13         0.546163         0.612241      2.69m\n",
      "  11    12.87      2.66245e+08       13         0.546381         0.632238      2.29m\n",
      "  12    12.93      9.53129e+07       13         0.547597         0.621298      2.37m\n",
      "  13    12.99      8.20225e+10       13         0.548043         0.617281      1.80m\n",
      "  14    12.94      4.71894e+11       13          0.54722         0.602725      2.38m\n",
      "  15    12.85      2.93274e+07       13         0.545873         0.614847      1.81m\n",
      "  16    12.76        2.871e+07       13         0.545658         0.616781     49.46s\n",
      "  17    13.10      2.80432e+11       13          0.54697         0.604981     39.22s\n",
      "  18    12.94      6.89673e+07       13         0.546843          0.62808     13.85s\n",
      "  19    13.07      1.85769e+20       13         0.545926         0.614373      0.00s\n",
      "Expresión: add(div(div(add(X0, 0.477), mul(X0, 0.578)), X0), div(0.792, X0))\n"
     ]
    }
   ],
   "source": [
    "# entrenando modelo \n",
    "\n",
    "# Modelo\n",
    "model = SymbolicRegressor(population_size=5000,\n",
    "                           generations=20, \n",
    "                           stopping_criteria=0.01,\n",
    "                           p_crossover=0.7, \n",
    "                           p_subtree_mutation=0.1,\n",
    "                           p_hoist_mutation=0.05, \n",
    "                           p_point_mutation=0.1,\n",
    "                           max_samples=0.9, \n",
    "                           verbose=1,\n",
    "                           parsimony_coefficient=0.01, \n",
    "                           random_state=123,\n",
    "                           function_set=['add', 'sub', 'mul', 'div'])\n",
    "\n",
    "model.fit(X_train, y_train)\n",
    "\n",
    "# Obtener la expresión simbólica\n",
    "expression = model._program\n",
    "print(\"Expresión:\", expression)"
   ]
  },
  {
   "cell_type": "code",
   "execution_count": 7,
   "metadata": {},
   "outputs": [
    {
     "data": {
      "text/plain": [
       "'((div(add(S + 0.477) / (S * 0.578)), S), (0.792 / S))'"
      ]
     },
     "execution_count": 7,
     "metadata": {},
     "output_type": "execute_result"
    }
   ],
   "source": [
    "rewrite('add(div(div(add(X0, 0.477), mul(X0, 0.578)), X0), div(0.792, X0))')"
   ]
  },
  {
   "cell_type": "code",
   "execution_count": 6,
   "metadata": {},
   "outputs": [
    {
     "name": "stdout",
     "output_type": "stream",
     "text": [
      "MSE: 1.1110193928741372\n",
      "R^2: 0.8043016746993664\n"
     ]
    }
   ],
   "source": [
    "# Predecir en los datos de prueba\n",
    "y_pred = model.predict(X_test)\n",
    "\n",
    "# Calcular métricas\n",
    "mse = mean_squared_error(y_test, y_pred)\n",
    "r2 = r2_score(y_test, y_pred)\n",
    "\n",
    "print(\"MSE:\", mse)\n",
    "print(\"R^2:\", r2)"
   ]
  },
  {
   "cell_type": "code",
   "execution_count": null,
   "metadata": {},
   "outputs": [],
   "source": [
    "# comparar con modelo de Rafael\n",
    "\n",
    "# 20*S^(-1.1)*Re^(-0.22)\n",
    "def ffriction(S, Re):\n",
    "    return 20*S**(-1.1)*Re*(-0.22)\n",
    "\n",
    "#def ffriction_gp(S, Re):\n",
    "#   return "
   ]
  },
  {
   "cell_type": "markdown",
   "metadata": {},
   "source": [
    "### Incorporar potencias originales - y prueba de diferentes metricas"
   ]
  },
  {
   "cell_type": "code",
   "execution_count": 17,
   "metadata": {},
   "outputs": [],
   "source": [
    "# S ^(-1.1) \n",
    "def pot1(x1):\n",
    "    with np.errstate(divide='ignore', invalid='ignore'):\n",
    "        result = np.where(x1 > 0, np.power(x1, -1.1), 0)\n",
    "    return result\n",
    "\n",
    "pot1_fn = make_function(function=pot1, \n",
    "                        name='pot1', \n",
    "                        arity=1)\n",
    "\n",
    "# 20* Re ^ (-0.22)\n",
    "def pot2(x1):\n",
    "    with np.errstate(divide='ignore', invalid='ignore'):\n",
    "        result = np.where(x1 > 0, 20*np.power(x1, -0.22), 0)\n",
    "    return result\n",
    "\n",
    "pot2_fn = make_function(function=pot2, \n",
    "                        name='pot2', \n",
    "                        arity=1)"
   ]
  },
  {
   "cell_type": "code",
   "execution_count": 11,
   "metadata": {},
   "outputs": [],
   "source": [
    "def rewrite(expression):\n",
    "\n",
    "    # reescribir ecuaciones\n",
    "    expression = re.sub(r\"add\\(([^,]+), ([^\\)]+)\\)\", r\"(\\1 + \\2)\", expression)\n",
    "    expression = re.sub(r\"sub\\(([^,]+), ([^\\)]+)\\)\", r\"(\\1 - \\2)\", expression)\n",
    "    expression = re.sub(r\"mul\\(([^,]+), ([^\\)]+)\\)\", r\"(\\1 * \\2)\", expression)\n",
    "    expression = re.sub(r\"div\\(([^,]+), ([^\\)]+)\\)\", r\"(\\1 / \\2)\", expression)\n",
    "    expression = re.sub(r\"pow\\(([^,]+), ([^\\)]+)\\)\", r\"\\1 ** \\2\", expression)\n",
    "    \n",
    "    # Reemplazar la función pot1\n",
    "    expression = re.sub(r\"pot1\\((X\\d)\\)\", r\"\\1 ** (-1.1)\", expression)\n",
    "    # Reemplazar la función pot2\n",
    "    expression = re.sub(r\"pot2\\((X\\d)\\)\", r\"20 * \\1 ** (-0.22)\", expression)\n",
    "    \n",
    "    # Reemplazar variables (ajustar según el modelo)\n",
    "    expression = expression.replace(\"X0\", \"S\")\n",
    "    expression = expression.replace(\"X1\", \"Re\")\n",
    "    \n",
    "    return expression"
   ]
  },
  {
   "cell_type": "code",
   "execution_count": 10,
   "metadata": {},
   "outputs": [
    {
     "name": "stderr",
     "output_type": "stream",
     "text": [
      "d:\\env\\lib\\site-packages\\sklearn\\utils\\validation.py:1339: DataConversionWarning: A column-vector y was passed when a 1d array was expected. Please change the shape of y to (n_samples, ), for example using ravel().\n",
      "  y = column_or_1d(y, warn=True)\n"
     ]
    },
    {
     "name": "stdout",
     "output_type": "stream",
     "text": [
      "    |   Population Average    |             Best Individual              |\n",
      "---- ------------------------- ------------------------------------------ ----------\n",
      " Gen   Length          Fitness   Length          Fitness      OOB Fitness  Time Left\n",
      "   0    19.46       1.2489e+15        4          0.52396         0.514965     29.47m\n",
      "   1    11.82      3.01331e+06        5         0.484317         0.457411     21.86m\n",
      "   2     8.24      3.70547e+07        5          0.47922         0.503287     14.56m\n",
      "   3     8.14          51184.1        5         0.476157         0.530848     13.44m\n",
      "   4     5.74          53356.5       17          0.47276         0.460887     14.26m\n",
      "   5     5.37      5.68701e+07        5         0.476578         0.527059     15.40m\n",
      "   6     5.26      2.80269e+08        5         0.476737         0.525635     14.85m\n",
      "   7     5.24          54549.3        5         0.476402         0.528651     15.98m\n",
      "   8     5.24      1.21369e+08        5         0.474707         0.543898     15.61m\n",
      "   9     5.24          69207.7        5         0.475871         0.533426     10.02m\n",
      "  10     5.25      5.56156e+07        5         0.476599         0.526872     12.45m\n",
      "  11     5.18          69868.4        5         0.475751         0.534507      8.54m\n",
      "  12     5.22      3.92581e+12        5         0.476281         0.529736      6.11m\n",
      "  13     5.27           137253        5         0.475298         0.538583      5.72m\n",
      "  14     5.26      2.00628e+07        5         0.475956         0.532661      4.40m\n",
      "  15     5.22      1.23326e+11        5         0.475392         0.537738      4.24m\n",
      "  16     5.15      5.74819e+07        5         0.474548         0.545332      4.15m\n",
      "  17     5.25           328677        5         0.475888         0.533274      4.23m\n",
      "  18     5.22      1.90973e+07        5         0.475848         0.533632      3.05m\n",
      "  19     5.23      3.69771e+07        5         0.476134         0.531062      4.77m\n",
      "  20     5.19           205561        5         0.475673         0.535209      1.89m\n",
      "  21     5.17            55583        5         0.475967         0.532561      1.96m\n",
      "  22     5.23          58149.4        5         0.475196         0.539501      1.13m\n",
      "  23     5.21          84284.4        5         0.475975         0.532492     28.33s\n",
      "  24     5.19           101207        5         0.476081         0.531532      0.00s\n",
      "Expresión: mul(pot2(X1), pot1(X0))\n"
     ]
    }
   ],
   "source": [
    "# entrenando modelo \n",
    "\n",
    "# Modelo\n",
    "model = SymbolicRegressor(population_size=5000,\n",
    "                        generations=25, \n",
    "                        stopping_criteria=0.01,\n",
    "                        p_crossover=0.7, \n",
    "                        p_subtree_mutation=0.1,\n",
    "                        p_hoist_mutation=0.05, \n",
    "                        p_point_mutation=0.1,\n",
    "                        max_samples=0.9, \n",
    "                        verbose=1,\n",
    "                        parsimony_coefficient=0.01, \n",
    "                        random_state=123,\n",
    "                        function_set=['add', 'sub', 'mul', 'div',pot1_fn, pot2_fn])\n",
    "\n",
    "model.fit(X_train, y_train)\n",
    "\n",
    "# Obtener la expresión simbólica\n",
    "expression = model._program\n",
    "print(\"Expresión:\", expression)"
   ]
  },
  {
   "cell_type": "code",
   "execution_count": 18,
   "metadata": {},
   "outputs": [
    {
     "name": "stdout",
     "output_type": "stream",
     "text": [
      "    |   Population Average    |             Best Individual              |\n",
      "---- ------------------------- ------------------------------------------ ----------\n",
      " Gen   Length          Fitness   Length          Fitness      OOB Fitness  Time Left\n",
      "   0    19.46      1.09705e+16       22         0.862616         0.865286     42.26m\n",
      "   1    12.00      3.40515e+07        5         0.784496         0.727641     14.38m\n",
      "   2    10.36      7.41598e+07        5         0.772002         0.839334     12.85m\n",
      "   3    10.78      4.10112e+06        5         0.759276         0.938013     12.88m\n",
      "   4     6.19      3.91346e+11        5         0.762964         0.910681      7.86m\n",
      "   5     5.33      1.10714e+08        5         0.759271         0.938046      8.05m\n",
      "   6     5.26      6.42569e+08        5          0.76215         0.916795      8.32m\n",
      "   7     5.24          83459.4        5          0.76517         0.893869      7.66m\n",
      "   8     5.24      2.49048e+08        5         0.760301         0.930507      6.90m\n",
      "   9     5.24           107054        5         0.762143         0.916844      6.61m\n",
      "  10     5.24      1.06913e+08        5         0.762845          0.91158      6.15m\n",
      "  11     5.18           123048        5         0.759984         0.932834      5.63m\n",
      "  12     5.22      1.58824e+13        5         0.762925         0.910971      5.10m\n",
      "  13     5.27           232675        5         0.763273         0.908348      4.76m\n",
      "  14     5.26      4.74786e+07        5         0.765507          0.89127      4.29m\n",
      "  15     5.22      2.96519e+11        5         0.758183         0.945936      3.91m\n",
      "  16     5.15      1.25053e+08        5         0.755767         0.963178      3.41m\n",
      "  17     5.25           529465        5         0.760907         0.926037      3.03m\n",
      "  18     5.22      3.81508e+07        5         0.762763         0.912194      2.71m\n",
      "  19     5.23      7.40303e+07        5         0.765093         0.894458      2.18m\n",
      "  20     5.19           357941        5         0.764685         0.897593      1.76m\n",
      "  21     5.17          86766.1        5         0.762518         0.914034      1.31m\n",
      "  22     5.23          89934.6        5         0.762041         0.917606     51.40s\n",
      "  23     5.21           128758        5         0.760679         0.927727     25.59s\n",
      "  24     5.19           204542        5         0.763357         0.907713      0.00s\n",
      "Expresión: mul(pot2(X1), pot1(X0))\n"
     ]
    }
   ],
   "source": [
    "# entrenando modelo \n",
    "\n",
    "# Modelo\n",
    "model = SymbolicRegressor(population_size=5000,\n",
    "                           generations=25, \n",
    "                           stopping_criteria=0.01,\n",
    "                           p_crossover=0.7, \n",
    "                           p_subtree_mutation=0.1,\n",
    "                           p_hoist_mutation=0.05, \n",
    "                           p_point_mutation=0.1,\n",
    "                           max_samples=0.9, \n",
    "                           verbose=1,\n",
    "                           parsimony_coefficient=0.01, \n",
    "                           random_state=123,\n",
    "                           function_set=['add', 'sub', 'mul', 'div',pot1_fn, pot2_fn],\n",
    "                           metric = 'rmse')\n",
    "\n",
    "model.fit(X_train, y_train)\n",
    "\n",
    "# Obtener la expresión simbólica\n",
    "expression = model._program\n",
    "print(\"Expresión:\", expression)"
   ]
  },
  {
   "cell_type": "code",
   "execution_count": 19,
   "metadata": {},
   "outputs": [
    {
     "name": "stdout",
     "output_type": "stream",
     "text": [
      "    |   Population Average    |             Best Individual              |\n",
      "---- ------------------------- ------------------------------------------ ----------\n",
      " Gen   Length          Fitness   Length          Fitness      OOB Fitness  Time Left\n",
      "   0    19.46      5.96621e+35       22         0.744106          0.74872     19.80m\n",
      "   1    13.66      2.12454e+22        5         0.615434         0.529462     14.99m\n",
      "   2    15.83      1.95999e+15        5         0.595987         0.704481     16.09m\n",
      "   3    16.71      8.08137e+16        5           0.5765         0.879869     16.26m\n",
      "   4     7.70      7.65759e+26        5         0.589011         0.767269      9.27m\n",
      "   5     5.54       5.3327e+19        5         0.576493         0.879931      7.93m\n",
      "   6     5.27       2.0623e+21        5         0.580872         0.840514      7.75m\n",
      "   7     5.24      5.24362e+12        5         0.585485         0.799002      7.33m\n",
      "   8     5.24      3.09783e+20        5         0.578058         0.865843      6.97m\n",
      "   9     5.24      7.96962e+12        5         0.580862         0.840603      6.53m\n",
      "  10     5.24      5.67082e+19        5         0.581932         0.830978      6.13m\n",
      "  11     5.18      1.35812e+13        5         0.577576         0.870179      5.54m\n",
      "  12     5.22      1.26123e+30        5         0.582055         0.829869      5.16m\n",
      "  13     5.27      1.07412e+14        5         0.582585         0.825096      5.10m\n",
      "  14     5.26      1.11935e+19        5            0.586         0.794361      4.31m\n",
      "  15     5.22      4.39617e+26        5         0.574841         0.894794      3.95m\n",
      "  16     5.15      7.79025e+19        5         0.571184         0.927711      3.40m\n",
      "  17     5.25      4.88879e+14        5          0.57898         0.857544      2.97m\n",
      "  18     5.22      7.16848e+18        5         0.581807         0.832097      2.57m\n",
      "  19     5.23      1.35807e+19        5         0.585368         0.800056      3.62m\n",
      "  20     5.19      2.25176e+14        5         0.584744         0.805672      1.98m\n",
      "  21     5.17      6.07701e+12        5         0.581434         0.835457      1.52m\n",
      "  22     5.23       5.1003e+12        5         0.580707         0.842001      1.06m\n",
      "  23     5.21      2.04494e+13        5         0.578632         0.860678     31.06s\n",
      "  24     5.19      5.23002e+13        5         0.582713         0.823943      0.00s\n",
      "Expresión: mul(pot2(X1), pot1(X0))\n"
     ]
    }
   ],
   "source": [
    "# entrenando modelo \n",
    "\n",
    "# Modelo\n",
    "model = SymbolicRegressor(population_size=5000,\n",
    "                           generations=25, \n",
    "                           stopping_criteria=0.01,\n",
    "                           p_crossover=0.7, \n",
    "                           p_subtree_mutation=0.1,\n",
    "                           p_hoist_mutation=0.05, \n",
    "                           p_point_mutation=0.1,\n",
    "                           max_samples=0.9, \n",
    "                           verbose=1,\n",
    "                           parsimony_coefficient=0.01, \n",
    "                           random_state=123,\n",
    "                           function_set=['add', 'sub', 'mul', 'div',pot1_fn, pot2_fn],\n",
    "                           metric = 'mse')\n",
    "\n",
    "model.fit(X_train, y_train)\n",
    "\n",
    "# Obtener la expresión simbólica\n",
    "expression = model._program\n",
    "print(\"Expresión:\", expression)"
   ]
  },
  {
   "cell_type": "code",
   "execution_count": 20,
   "metadata": {},
   "outputs": [
    {
     "name": "stdout",
     "output_type": "stream",
     "text": [
      "    |   Population Average    |             Best Individual              |\n",
      "---- ------------------------- ------------------------------------------ ----------\n",
      " Gen   Length          Fitness   Length          Fitness      OOB Fitness  Time Left\n",
      "   0    19.46          0.42548       24         0.926719         0.919167     37.67m\n",
      "Expresión: div(pot2(pot2(div(div(pot1(X1), mul(X1, X0)), 0.063))), pot1(pot1(add(mul(pot2(0.878), div(-0.209, X1)), mul(pot2(X0), X0)))))\n"
     ]
    }
   ],
   "source": [
    "# entrenando modelo \n",
    "\n",
    "# Modelo\n",
    "model = SymbolicRegressor(population_size=5000,\n",
    "                           generations=25, \n",
    "                           stopping_criteria=0.01,\n",
    "                           p_crossover=0.7, \n",
    "                           p_subtree_mutation=0.1,\n",
    "                           p_hoist_mutation=0.05, \n",
    "                           p_point_mutation=0.1,\n",
    "                           max_samples=0.9, \n",
    "                           verbose=1,\n",
    "                           parsimony_coefficient=0.01, \n",
    "                           random_state=123,\n",
    "                           function_set=['add', 'sub', 'mul', 'div',pot1_fn, pot2_fn],\n",
    "                           metric ='spearman')\n",
    "\n",
    "model.fit(X_train, y_train)\n",
    "\n",
    "# Obtener la expresión simbólica\n",
    "expression = model._program\n",
    "print(\"Expresión:\", expression)"
   ]
  },
  {
   "cell_type": "code",
   "execution_count": 12,
   "metadata": {},
   "outputs": [
    {
     "data": {
      "text/plain": [
       "'(20 * Re ** (-0.22) * S ** (-1.1))'"
      ]
     },
     "execution_count": 12,
     "metadata": {},
     "output_type": "execute_result"
    }
   ],
   "source": [
    "rewrite(expression.__str__())"
   ]
  },
  {
   "cell_type": "code",
   "execution_count": 13,
   "metadata": {},
   "outputs": [
    {
     "name": "stdout",
     "output_type": "stream",
     "text": [
      "MSE: 0.737637987361494\n",
      "R^2: 0.8700702078373823\n"
     ]
    }
   ],
   "source": [
    "# Predecir en los datos de prueba\n",
    "y_pred = model.predict(X_test)\n",
    "\n",
    "# Calcular métricas\n",
    "mse = mean_squared_error(y_test, y_pred)\n",
    "r2 = r2_score(y_test, y_pred)\n",
    "\n",
    "print(\"MSE:\", mse)\n",
    "print(\"R^2:\", r2)"
   ]
  },
  {
   "cell_type": "code",
   "execution_count": 14,
   "metadata": {},
   "outputs": [],
   "source": [
    "# comparar con modelo de Rafael\n",
    "\n",
    "# 20*S^(-1.1)*Re^(-0.22)\n",
    "def fFriction(S, Re):\n",
    "    return 20*S**(-1.1)*Re**(-0.22)\n",
    "\n",
    "def fFriction_gp(S, Re):\n",
    "   return S**(-1.1)*20*Re**(-0.22)  # misma expresion c:  "
   ]
  },
  {
   "cell_type": "code",
   "execution_count": 18,
   "metadata": {},
   "outputs": [
    {
     "name": "stdout",
     "output_type": "stream",
     "text": [
      "R^2 cdrag original: 0.8700702078373823, R^2 cdrag GPLearn: 0.8700702078373823 \n",
      "MSE cdrag original: 0.737637987361494, MSE cdrag GPLearn: 0.737637987361494 \n",
      "MAE cdrag original: 0.5184759754778028, MAE cdrag GPLearn: 0.5184759754778028 \n",
      "MAPE cdrag original: 11.262660298844454*100, MAPE cdrag GPLearn: 11.262660298844454*100 \n"
     ]
    }
   ],
   "source": [
    "# Calcular cdrag_pred y cdrag_gp_pred en vectores separados\n",
    "ffriction_pred = X_test.apply(lambda row: fFriction(row['K'], row['Rem']), axis=1).values\n",
    "ffriction_gp_pred = X_test.apply(lambda row: fFriction_gp(row['K'], row['Rem']), axis=1).values\n",
    "\n",
    "# Calcular R^2 y MSE para cdrag\n",
    "r2 = r2_score(y_test['frictionFactor'], ffriction_pred)\n",
    "mse = mean_squared_error(y_test['frictionFactor'], ffriction_pred)\n",
    "\n",
    "# Calcular MAE y MAPE para cdrag\n",
    "mae = mean_absolute_error(y_test['frictionFactor'], ffriction_pred)\n",
    "mape = mean_absolute_percentage_error(y_test['frictionFactor'], ffriction_pred)\n",
    "\n",
    "# Calcular R^2 y MSE para cdrag_gp\n",
    "r2_gp = r2_score(y_test['frictionFactor'], ffriction_gp_pred)\n",
    "mse_gp = mean_squared_error(y_test['frictionFactor'], ffriction_gp_pred)\n",
    "\n",
    "# Calcular MAE y MAPE para cdrag_gp\n",
    "mae_gp = mean_absolute_error(y_test['frictionFactor'], ffriction_gp_pred)\n",
    "mape_gp = mean_absolute_percentage_error(y_test['frictionFactor'], ffriction_gp_pred)\n",
    "\n",
    "#  Mostrar Metricas \n",
    "\n",
    "print(f\"R^2 cdrag original: {r2}, R^2 cdrag GPLearn: {r2_gp} \")\n",
    "print(f\"MSE cdrag original: {mse}, MSE cdrag GPLearn: {mse_gp} \")\n",
    "print(f\"MAE cdrag original: {mae}, MAE cdrag GPLearn: {mae_gp} \")\n",
    "print(f\"MAPE cdrag original: {mape*100}*100, MAPE cdrag GPLearn: {mape_gp*100}*100 \")"
   ]
  },
  {
   "cell_type": "markdown",
   "metadata": {},
   "source": [
    "### Ajuste automatico de Exponencial"
   ]
  },
  {
   "cell_type": "code",
   "execution_count": 4,
   "metadata": {},
   "outputs": [],
   "source": [
    "def pot(x1, const):\n",
    "    con1 = x1 > 0\n",
    "    con2 = (const >= -2) & (const < 0)\n",
    "    with np.errstate(divide='ignore', invalid='ignore'):\n",
    "        result = np.where(con1 & con2,np.power(x1,const), 0)\n",
    "    return result\n",
    "\n",
    "pot= make_function(function=pot, name='pot', arity=2)\n",
    "\n",
    "# A * x**B\n",
    "def pot2(x1):\n",
    "    con1 = x1 > 0\n",
    "    # con2 = (B >= -0.23) & (B <= -0.21)\n",
    "    # con3 = (A >=19) & (A <=21)\n",
    "    with np.errstate(divide='ignore', invalid='ignore'):\n",
    "        result = np.where(con1 , 20 *np.power(x1,-0.22), 0)\n",
    "    return result\n",
    "\n",
    "pot2= make_function(function=pot2, name='pot2', arity=1)"
   ]
  },
  {
   "cell_type": "code",
   "execution_count": 5,
   "metadata": {},
   "outputs": [
    {
     "name": "stderr",
     "output_type": "stream",
     "text": [
      "d:\\env\\lib\\site-packages\\sklearn\\utils\\validation.py:1339: DataConversionWarning: A column-vector y was passed when a 1d array was expected. Please change the shape of y to (n_samples, ), for example using ravel().\n",
      "  y = column_or_1d(y, warn=True)\n"
     ]
    },
    {
     "name": "stdout",
     "output_type": "stream",
     "text": [
      "    |   Population Average    |             Best Individual              |\n",
      "---- ------------------------- ------------------------------------------ ----------\n",
      " Gen   Length          Fitness   Length          Fitness      OOB Fitness  Time Left\n"
     ]
    },
    {
     "name": "stderr",
     "output_type": "stream",
     "text": [
      "C:\\Users\\lucas\\AppData\\Local\\Temp\\ipykernel_7336\\2889362616.py:5: RuntimeWarning: overflow encountered in power\n",
      "  result = np.where(con1 & con2, np.power(x1,const), 0)\n"
     ]
    },
    {
     "name": "stdout",
     "output_type": "stream",
     "text": [
      "   0    21.89      9.05033e+14       70         0.869293         0.925667     73.03m\n",
      "   1     9.90           232809       70         0.853373         0.826876     31.50m\n",
      "   2     7.49      2.44086e+07       40         0.664599         0.650708     22.19m\n",
      "   3     8.85          10589.6       14         0.480327          0.49291     19.21m\n",
      "   4    11.34           339.52       14         0.477866         0.514727     17.54m\n",
      "   5    12.14      3.63363e+06       12         0.475913         0.533048     15.80m\n",
      "   6    12.33            29845       12          0.47554         0.536402     14.00m\n",
      "   7    11.85          13537.9       12         0.475434         0.527056     12.57m\n",
      "   8    11.78          6843.92       12         0.474099         0.494772     21.98m\n",
      "   9    11.34          3884.99       12         0.475871         0.533426     16.11m\n",
      "  10    10.57      1.90064e+07       12         0.473438         0.500721     19.34m\n",
      "  11    10.06          83607.5       12         0.473255         0.502366     15.85m\n",
      "  12    10.12           911803       10         0.473476         0.500363     11.72m\n",
      "  13    10.09      6.28618e+07       10         0.471594          0.51751     10.40m\n",
      "  14    10.04      5.45139e+07       10         0.471106           0.5217      8.79m\n",
      "  15     9.99      5.52843e+07       10         0.470191         0.529931      6.91m\n",
      "  16     9.94            35893       10         0.469346         0.537541      4.66m\n",
      "  17    10.13      2.61026e+07       10         0.470734         0.525043      4.17m\n",
      "  18    10.07      5.49539e+07       10         0.470674         0.525587      1.77m\n",
      "  19    10.06      7.36977e+07       10         0.470978         0.522851      0.00s\n",
      "Expresión: mul(pot(X0, -0.612), mul(pot(X0, -0.529), pot2(X1)))\n"
     ]
    }
   ],
   "source": [
    "# entrenando modelo \n",
    "\n",
    "# Modelo\n",
    "model = SymbolicRegressor(population_size=5000,\n",
    "                           generations=20, \n",
    "                           stopping_criteria=0.01,\n",
    "                           p_crossover=0.7, \n",
    "                           p_subtree_mutation=0.1,\n",
    "                           p_hoist_mutation=0.05, \n",
    "                           p_point_mutation=0.1,\n",
    "                           max_samples=0.9, \n",
    "                           verbose=1,\n",
    "                           parsimony_coefficient=0.01, \n",
    "                           random_state=123,\n",
    "                           function_set=['add', 'mul',pot, pot2])\n",
    "\n",
    "model.fit(X_train, y_train)\n",
    "\n",
    "# Obtener la expresión simbólica\n",
    "expression = model._program\n",
    "print(\"Expresión:\", expression)"
   ]
  },
  {
   "cell_type": "code",
   "execution_count": 8,
   "metadata": {},
   "outputs": [],
   "source": [
    "# comparar con modelo de Rafael\n",
    "\n",
    "# 20*S^(-1.1)*Re^(-0.22)\n",
    "def fFriction(S, Re):\n",
    "    return 20*S**(-1.1)*Re**(-0.22)\n",
    "\n",
    "def fFriction_gp(S, Re):\n",
    "   return 20* S**(-1.141) * Re**(-0.22)"
   ]
  },
  {
   "cell_type": "code",
   "execution_count": 9,
   "metadata": {},
   "outputs": [
    {
     "name": "stdout",
     "output_type": "stream",
     "text": [
      "R^2 cdrag original: 0.8700702078373823, R^2 cdrag GPLearn: 0.8731581479699136 \n",
      "MSE cdrag original: 0.737637987361494, MSE cdrag GPLearn: 0.7201071200635435 \n",
      "MAE cdrag original: 0.5184759754778028, MAE cdrag GPLearn: 0.5128183255668937 \n",
      "MAPE cdrag original: 11.262660298844454*100, MAPE cdrag GPLearn: 11.193035102323485*100 \n"
     ]
    }
   ],
   "source": [
    "# Calcular cdrag_pred y cdrag_gp_pred en vectores separados\n",
    "ffriction_pred = X_test.apply(lambda row: fFriction(row['K'], row['Rem']), axis=1).values\n",
    "ffriction_gp_pred = X_test.apply(lambda row: fFriction_gp(row['K'], row['Rem']), axis=1).values\n",
    "\n",
    "# Calcular R^2 y MSE para cdrag\n",
    "r2 = r2_score(y_test['frictionFactor'], ffriction_pred)\n",
    "mse = mean_squared_error(y_test['frictionFactor'], ffriction_pred)\n",
    "\n",
    "# Calcular MAE y MAPE para cdrag\n",
    "mae = mean_absolute_error(y_test['frictionFactor'], ffriction_pred)\n",
    "mape = mean_absolute_percentage_error(y_test['frictionFactor'], ffriction_pred)\n",
    "\n",
    "# Calcular R^2 y MSE para cdrag_gp\n",
    "r2_gp = r2_score(y_test['frictionFactor'], ffriction_gp_pred)\n",
    "mse_gp = mean_squared_error(y_test['frictionFactor'], ffriction_gp_pred)\n",
    "\n",
    "# Calcular MAE y MAPE para cdrag_gp\n",
    "mae_gp = mean_absolute_error(y_test['frictionFactor'], ffriction_gp_pred)\n",
    "mape_gp = mean_absolute_percentage_error(y_test['frictionFactor'], ffriction_gp_pred)\n",
    "\n",
    "#  Mostrar Metricas \n",
    "\n",
    "print(f\"R^2 cdrag original: {r2}, R^2 cdrag GPLearn: {r2_gp} \")\n",
    "print(f\"MSE cdrag original: {mse}, MSE cdrag GPLearn: {mse_gp} \")\n",
    "print(f\"MAE cdrag original: {mae}, MAE cdrag GPLearn: {mae_gp} \")\n",
    "print(f\"MAPE cdrag original: {mape*100}*100, MAPE cdrag GPLearn: {mape_gp*100}*100 \")"
   ]
  },
  {
   "cell_type": "markdown",
   "metadata": {},
   "source": [
    "### Ajuste Automatico de Exponencial 1.1"
   ]
  },
  {
   "cell_type": "code",
   "execution_count": 4,
   "metadata": {},
   "outputs": [],
   "source": [
    "def pot(x1, const):\n",
    "    con1 = x1 > 0\n",
    "    con2 = (const >= -2) & (const < 0)\n",
    "    with np.errstate(divide='ignore', invalid='ignore'):\n",
    "        result = np.where(con1 & con2,np.power(x1,const), 0)\n",
    "    return result\n",
    "\n",
    "pot= make_function(function=pot, name='pot', arity=2)\n",
    "\n",
    "# A * x**B\n",
    "def pot2(x1,B):\n",
    "    con1 = x1 > 0\n",
    "    con2 = (B >= -1) & (B <= 0)\n",
    "    # con3 = (A >=19) & (A <=21)\n",
    "    with np.errstate(divide='ignore', invalid='ignore'):\n",
    "        result = np.where(con1 , 20 *np.power(x1,B), 0)\n",
    "    return result\n",
    "\n",
    "pot2= make_function(function=pot2, name='pot2', arity=2)"
   ]
  },
  {
   "cell_type": "code",
   "execution_count": 6,
   "metadata": {},
   "outputs": [
    {
     "name": "stdout",
     "output_type": "stream",
     "text": [
      "    |   Population Average    |             Best Individual              |\n",
      "---- ------------------------- ------------------------------------------ ----------\n",
      " Gen   Length          Fitness   Length          Fitness      OOB Fitness  Time Left\n"
     ]
    },
    {
     "name": "stderr",
     "output_type": "stream",
     "text": [
      "C:\\Users\\lucas\\AppData\\Local\\Temp\\ipykernel_7884\\1178671220.py:16: RuntimeWarning: overflow encountered in power\n",
      "  result = np.where(con1 , 20 *np.power(x1,B), 0)\n",
      "C:\\Users\\lucas\\AppData\\Local\\Temp\\ipykernel_7884\\1178671220.py:5: RuntimeWarning: overflow encountered in power\n",
      "  result = np.where(con1 & con2,np.power(x1,const), 0)\n",
      "C:\\Users\\lucas\\AppData\\Local\\Temp\\ipykernel_7884\\1178671220.py:16: RuntimeWarning: overflow encountered in multiply\n",
      "  result = np.where(con1 , 20 *np.power(x1,B), 0)\n",
      "d:\\env\\lib\\site-packages\\gplearn\\functions.py:46: RuntimeWarning: invalid value encountered in multiply\n",
      "  return self.function(*args)\n",
      "d:\\env\\lib\\site-packages\\gplearn\\functions.py:46: RuntimeWarning: overflow encountered in multiply\n",
      "  return self.function(*args)\n",
      "d:\\env\\lib\\site-packages\\gplearn\\functions.py:127: RuntimeWarning: overflow encountered in divide\n",
      "  return np.where(np.abs(x2) > 0.001, np.divide(x1, x2), 1.)\n",
      "d:\\env\\lib\\site-packages\\numpy\\lib\\_function_base_impl.py:578: RuntimeWarning: invalid value encountered in multiply\n",
      "  avg = avg_as_array = np.multiply(a, wgt,\n",
      "d:\\env\\lib\\site-packages\\numpy\\_core\\_methods.py:53: RuntimeWarning: overflow encountered in reduce\n",
      "  return umr_sum(a, axis, dtype, out, keepdims, initial, where)\n",
      "d:\\env\\lib\\site-packages\\gplearn\\functions.py:46: RuntimeWarning: invalid value encountered in subtract\n",
      "  return self.function(*args)\n",
      "d:\\env\\lib\\site-packages\\gplearn\\functions.py:46: RuntimeWarning: overflow encountered in add\n",
      "  return self.function(*args)\n",
      "d:\\env\\lib\\site-packages\\gplearn\\functions.py:46: RuntimeWarning: invalid value encountered in add\n",
      "  return self.function(*args)\n"
     ]
    },
    {
     "name": "stdout",
     "output_type": "stream",
     "text": [
      "   0    39.73              nan       63              nan              nan     69.91m\n"
     ]
    },
    {
     "name": "stderr",
     "output_type": "stream",
     "text": [
      "d:\\env\\lib\\site-packages\\gplearn\\functions.py:46: RuntimeWarning: overflow encountered in subtract\n",
      "  return self.function(*args)\n"
     ]
    },
    {
     "name": "stdout",
     "output_type": "stream",
     "text": [
      "   1    45.42              nan       23              nan              nan     49.66m\n",
      "   2    55.40              nan       27              nan              nan     58.74m\n",
      "   3    61.22              nan       25              nan              nan     72.17m\n"
     ]
    },
    {
     "ename": "KeyboardInterrupt",
     "evalue": "",
     "output_type": "error",
     "traceback": [
      "\u001b[1;31m---------------------------------------------------------------------------\u001b[0m",
      "\u001b[1;31mKeyboardInterrupt\u001b[0m                         Traceback (most recent call last)",
      "Cell \u001b[1;32mIn[6], line 17\u001b[0m\n\u001b[0;32m      1\u001b[0m \u001b[38;5;66;03m# entrenando modelo \u001b[39;00m\n\u001b[0;32m      2\u001b[0m \n\u001b[0;32m      3\u001b[0m \u001b[38;5;66;03m# Modelo\u001b[39;00m\n\u001b[0;32m      4\u001b[0m model \u001b[38;5;241m=\u001b[39m SymbolicRegressor(population_size\u001b[38;5;241m=\u001b[39m\u001b[38;5;241m5000\u001b[39m,\n\u001b[0;32m      5\u001b[0m                         generations\u001b[38;5;241m=\u001b[39m\u001b[38;5;241m20\u001b[39m, \n\u001b[0;32m      6\u001b[0m                         stopping_criteria\u001b[38;5;241m=\u001b[39m\u001b[38;5;241m0.01\u001b[39m,\n\u001b[1;32m   (...)\u001b[0m\n\u001b[0;32m     14\u001b[0m                         random_state\u001b[38;5;241m=\u001b[39m\u001b[38;5;241m42\u001b[39m,\n\u001b[0;32m     15\u001b[0m                         function_set\u001b[38;5;241m=\u001b[39m[\u001b[38;5;124m'\u001b[39m\u001b[38;5;124madd\u001b[39m\u001b[38;5;124m'\u001b[39m,\u001b[38;5;124m'\u001b[39m\u001b[38;5;124msub\u001b[39m\u001b[38;5;124m'\u001b[39m, \u001b[38;5;124m'\u001b[39m\u001b[38;5;124mmul\u001b[39m\u001b[38;5;124m'\u001b[39m,\u001b[38;5;124m'\u001b[39m\u001b[38;5;124mdiv\u001b[39m\u001b[38;5;124m'\u001b[39m,pot, pot2])\n\u001b[1;32m---> 17\u001b[0m \u001b[43mmodel\u001b[49m\u001b[38;5;241;43m.\u001b[39;49m\u001b[43mfit\u001b[49m\u001b[43m(\u001b[49m\u001b[43mX_train\u001b[49m\u001b[43m,\u001b[49m\u001b[43m \u001b[49m\u001b[43my_train\u001b[49m\u001b[43m)\u001b[49m\n\u001b[0;32m     19\u001b[0m \u001b[38;5;66;03m# Obtener la expresión simbólica\u001b[39;00m\n\u001b[0;32m     20\u001b[0m expression \u001b[38;5;241m=\u001b[39m model\u001b[38;5;241m.\u001b[39m_program\n",
      "File \u001b[1;32md:\\env\\lib\\site-packages\\gplearn\\genetic.py:476\u001b[0m, in \u001b[0;36mBaseSymbolic.fit\u001b[1;34m(self, X, y, sample_weight)\u001b[0m\n\u001b[0;32m    472\u001b[0m n_jobs, n_programs, starts \u001b[38;5;241m=\u001b[39m _partition_estimators(\n\u001b[0;32m    473\u001b[0m     \u001b[38;5;28mself\u001b[39m\u001b[38;5;241m.\u001b[39mpopulation_size, \u001b[38;5;28mself\u001b[39m\u001b[38;5;241m.\u001b[39mn_jobs)\n\u001b[0;32m    474\u001b[0m seeds \u001b[38;5;241m=\u001b[39m random_state\u001b[38;5;241m.\u001b[39mrandint(MAX_INT, size\u001b[38;5;241m=\u001b[39m\u001b[38;5;28mself\u001b[39m\u001b[38;5;241m.\u001b[39mpopulation_size)\n\u001b[1;32m--> 476\u001b[0m population \u001b[38;5;241m=\u001b[39m \u001b[43mParallel\u001b[49m\u001b[43m(\u001b[49m\u001b[43mn_jobs\u001b[49m\u001b[38;5;241;43m=\u001b[39;49m\u001b[43mn_jobs\u001b[49m\u001b[43m,\u001b[49m\n\u001b[0;32m    477\u001b[0m \u001b[43m                      \u001b[49m\u001b[43mverbose\u001b[49m\u001b[38;5;241;43m=\u001b[39;49m\u001b[38;5;28;43mint\u001b[39;49m\u001b[43m(\u001b[49m\u001b[38;5;28;43mself\u001b[39;49m\u001b[38;5;241;43m.\u001b[39;49m\u001b[43mverbose\u001b[49m\u001b[43m \u001b[49m\u001b[38;5;241;43m>\u001b[39;49m\u001b[43m \u001b[49m\u001b[38;5;241;43m1\u001b[39;49m\u001b[43m)\u001b[49m\u001b[43m)\u001b[49m\u001b[43m(\u001b[49m\n\u001b[0;32m    478\u001b[0m \u001b[43m    \u001b[49m\u001b[43mdelayed\u001b[49m\u001b[43m(\u001b[49m\u001b[43m_parallel_evolve\u001b[49m\u001b[43m)\u001b[49m\u001b[43m(\u001b[49m\u001b[43mn_programs\u001b[49m\u001b[43m[\u001b[49m\u001b[43mi\u001b[49m\u001b[43m]\u001b[49m\u001b[43m,\u001b[49m\n\u001b[0;32m    479\u001b[0m \u001b[43m                              \u001b[49m\u001b[43mparents\u001b[49m\u001b[43m,\u001b[49m\n\u001b[0;32m    480\u001b[0m \u001b[43m                              \u001b[49m\u001b[43mX\u001b[49m\u001b[43m,\u001b[49m\n\u001b[0;32m    481\u001b[0m \u001b[43m                              \u001b[49m\u001b[43my\u001b[49m\u001b[43m,\u001b[49m\n\u001b[0;32m    482\u001b[0m \u001b[43m                              \u001b[49m\u001b[43msample_weight\u001b[49m\u001b[43m,\u001b[49m\n\u001b[0;32m    483\u001b[0m \u001b[43m                              \u001b[49m\u001b[43mseeds\u001b[49m\u001b[43m[\u001b[49m\u001b[43mstarts\u001b[49m\u001b[43m[\u001b[49m\u001b[43mi\u001b[49m\u001b[43m]\u001b[49m\u001b[43m:\u001b[49m\u001b[43mstarts\u001b[49m\u001b[43m[\u001b[49m\u001b[43mi\u001b[49m\u001b[43m \u001b[49m\u001b[38;5;241;43m+\u001b[39;49m\u001b[43m \u001b[49m\u001b[38;5;241;43m1\u001b[39;49m\u001b[43m]\u001b[49m\u001b[43m]\u001b[49m\u001b[43m,\u001b[49m\n\u001b[0;32m    484\u001b[0m \u001b[43m                              \u001b[49m\u001b[43mparams\u001b[49m\u001b[43m)\u001b[49m\n\u001b[0;32m    485\u001b[0m \u001b[43m    \u001b[49m\u001b[38;5;28;43;01mfor\u001b[39;49;00m\u001b[43m \u001b[49m\u001b[43mi\u001b[49m\u001b[43m \u001b[49m\u001b[38;5;129;43;01min\u001b[39;49;00m\u001b[43m \u001b[49m\u001b[38;5;28;43mrange\u001b[39;49m\u001b[43m(\u001b[49m\u001b[43mn_jobs\u001b[49m\u001b[43m)\u001b[49m\u001b[43m)\u001b[49m\n\u001b[0;32m    487\u001b[0m \u001b[38;5;66;03m# Reduce, maintaining order across different n_jobs\u001b[39;00m\n\u001b[0;32m    488\u001b[0m population \u001b[38;5;241m=\u001b[39m \u001b[38;5;28mlist\u001b[39m(itertools\u001b[38;5;241m.\u001b[39mchain\u001b[38;5;241m.\u001b[39mfrom_iterable(population))\n",
      "File \u001b[1;32md:\\env\\lib\\site-packages\\joblib\\parallel.py:1918\u001b[0m, in \u001b[0;36mParallel.__call__\u001b[1;34m(self, iterable)\u001b[0m\n\u001b[0;32m   1916\u001b[0m     output \u001b[38;5;241m=\u001b[39m \u001b[38;5;28mself\u001b[39m\u001b[38;5;241m.\u001b[39m_get_sequential_output(iterable)\n\u001b[0;32m   1917\u001b[0m     \u001b[38;5;28mnext\u001b[39m(output)\n\u001b[1;32m-> 1918\u001b[0m     \u001b[38;5;28;01mreturn\u001b[39;00m output \u001b[38;5;28;01mif\u001b[39;00m \u001b[38;5;28mself\u001b[39m\u001b[38;5;241m.\u001b[39mreturn_generator \u001b[38;5;28;01melse\u001b[39;00m \u001b[38;5;28;43mlist\u001b[39;49m\u001b[43m(\u001b[49m\u001b[43moutput\u001b[49m\u001b[43m)\u001b[49m\n\u001b[0;32m   1920\u001b[0m \u001b[38;5;66;03m# Let's create an ID that uniquely identifies the current call. If the\u001b[39;00m\n\u001b[0;32m   1921\u001b[0m \u001b[38;5;66;03m# call is interrupted early and that the same instance is immediately\u001b[39;00m\n\u001b[0;32m   1922\u001b[0m \u001b[38;5;66;03m# re-used, this id will be used to prevent workers that were\u001b[39;00m\n\u001b[0;32m   1923\u001b[0m \u001b[38;5;66;03m# concurrently finalizing a task from the previous call to run the\u001b[39;00m\n\u001b[0;32m   1924\u001b[0m \u001b[38;5;66;03m# callback.\u001b[39;00m\n\u001b[0;32m   1925\u001b[0m \u001b[38;5;28;01mwith\u001b[39;00m \u001b[38;5;28mself\u001b[39m\u001b[38;5;241m.\u001b[39m_lock:\n",
      "File \u001b[1;32md:\\env\\lib\\site-packages\\joblib\\parallel.py:1847\u001b[0m, in \u001b[0;36mParallel._get_sequential_output\u001b[1;34m(self, iterable)\u001b[0m\n\u001b[0;32m   1845\u001b[0m \u001b[38;5;28mself\u001b[39m\u001b[38;5;241m.\u001b[39mn_dispatched_batches \u001b[38;5;241m+\u001b[39m\u001b[38;5;241m=\u001b[39m \u001b[38;5;241m1\u001b[39m\n\u001b[0;32m   1846\u001b[0m \u001b[38;5;28mself\u001b[39m\u001b[38;5;241m.\u001b[39mn_dispatched_tasks \u001b[38;5;241m+\u001b[39m\u001b[38;5;241m=\u001b[39m \u001b[38;5;241m1\u001b[39m\n\u001b[1;32m-> 1847\u001b[0m res \u001b[38;5;241m=\u001b[39m func(\u001b[38;5;241m*\u001b[39margs, \u001b[38;5;241m*\u001b[39m\u001b[38;5;241m*\u001b[39mkwargs)\n\u001b[0;32m   1848\u001b[0m \u001b[38;5;28mself\u001b[39m\u001b[38;5;241m.\u001b[39mn_completed_tasks \u001b[38;5;241m+\u001b[39m\u001b[38;5;241m=\u001b[39m \u001b[38;5;241m1\u001b[39m\n\u001b[0;32m   1849\u001b[0m \u001b[38;5;28mself\u001b[39m\u001b[38;5;241m.\u001b[39mprint_progress()\n",
      "File \u001b[1;32md:\\env\\lib\\site-packages\\gplearn\\genetic.py:147\u001b[0m, in \u001b[0;36m_parallel_evolve\u001b[1;34m(n_programs, parents, X, y, sample_weight, seeds, params)\u001b[0m\n\u001b[0;32m    144\u001b[0m curr_sample_weight[not_indices] \u001b[38;5;241m=\u001b[39m \u001b[38;5;241m0\u001b[39m\n\u001b[0;32m    145\u001b[0m oob_sample_weight[indices] \u001b[38;5;241m=\u001b[39m \u001b[38;5;241m0\u001b[39m\n\u001b[1;32m--> 147\u001b[0m program\u001b[38;5;241m.\u001b[39mraw_fitness_ \u001b[38;5;241m=\u001b[39m \u001b[43mprogram\u001b[49m\u001b[38;5;241;43m.\u001b[39;49m\u001b[43mraw_fitness\u001b[49m\u001b[43m(\u001b[49m\u001b[43mX\u001b[49m\u001b[43m,\u001b[49m\u001b[43m \u001b[49m\u001b[43my\u001b[49m\u001b[43m,\u001b[49m\u001b[43m \u001b[49m\u001b[43mcurr_sample_weight\u001b[49m\u001b[43m)\u001b[49m\n\u001b[0;32m    148\u001b[0m \u001b[38;5;28;01mif\u001b[39;00m max_samples \u001b[38;5;241m<\u001b[39m n_samples:\n\u001b[0;32m    149\u001b[0m     \u001b[38;5;66;03m# Calculate OOB fitness\u001b[39;00m\n\u001b[0;32m    150\u001b[0m     program\u001b[38;5;241m.\u001b[39moob_fitness_ \u001b[38;5;241m=\u001b[39m program\u001b[38;5;241m.\u001b[39mraw_fitness(X, y, oob_sample_weight)\n",
      "File \u001b[1;32md:\\env\\lib\\site-packages\\gplearn\\_program.py:462\u001b[0m, in \u001b[0;36m_Program.raw_fitness\u001b[1;34m(self, X, y, sample_weight)\u001b[0m\n\u001b[0;32m    441\u001b[0m \u001b[38;5;28;01mdef\u001b[39;00m \u001b[38;5;21mraw_fitness\u001b[39m(\u001b[38;5;28mself\u001b[39m, X, y, sample_weight):\n\u001b[0;32m    442\u001b[0m \u001b[38;5;250m    \u001b[39m\u001b[38;5;124;03m\"\"\"Evaluate the raw fitness of the program according to X, y.\u001b[39;00m\n\u001b[0;32m    443\u001b[0m \n\u001b[0;32m    444\u001b[0m \u001b[38;5;124;03m    Parameters\u001b[39;00m\n\u001b[1;32m   (...)\u001b[0m\n\u001b[0;32m    460\u001b[0m \n\u001b[0;32m    461\u001b[0m \u001b[38;5;124;03m    \"\"\"\u001b[39;00m\n\u001b[1;32m--> 462\u001b[0m     y_pred \u001b[38;5;241m=\u001b[39m \u001b[38;5;28;43mself\u001b[39;49m\u001b[38;5;241;43m.\u001b[39;49m\u001b[43mexecute\u001b[49m\u001b[43m(\u001b[49m\u001b[43mX\u001b[49m\u001b[43m)\u001b[49m\n\u001b[0;32m    463\u001b[0m     \u001b[38;5;28;01mif\u001b[39;00m \u001b[38;5;28mself\u001b[39m\u001b[38;5;241m.\u001b[39mtransformer:\n\u001b[0;32m    464\u001b[0m         y_pred \u001b[38;5;241m=\u001b[39m \u001b[38;5;28mself\u001b[39m\u001b[38;5;241m.\u001b[39mtransformer(y_pred)\n",
      "File \u001b[1;32md:\\env\\lib\\site-packages\\gplearn\\_program.py:380\u001b[0m, in \u001b[0;36m_Program.execute\u001b[1;34m(self, X)\u001b[0m\n\u001b[0;32m    376\u001b[0m function \u001b[38;5;241m=\u001b[39m apply_stack[\u001b[38;5;241m-\u001b[39m\u001b[38;5;241m1\u001b[39m][\u001b[38;5;241m0\u001b[39m]\n\u001b[0;32m    377\u001b[0m terminals \u001b[38;5;241m=\u001b[39m [np\u001b[38;5;241m.\u001b[39mrepeat(t, X\u001b[38;5;241m.\u001b[39mshape[\u001b[38;5;241m0\u001b[39m]) \u001b[38;5;28;01mif\u001b[39;00m \u001b[38;5;28misinstance\u001b[39m(t, \u001b[38;5;28mfloat\u001b[39m)\n\u001b[0;32m    378\u001b[0m              \u001b[38;5;28;01melse\u001b[39;00m X[:, t] \u001b[38;5;28;01mif\u001b[39;00m \u001b[38;5;28misinstance\u001b[39m(t, \u001b[38;5;28mint\u001b[39m)\n\u001b[0;32m    379\u001b[0m              \u001b[38;5;28;01melse\u001b[39;00m t \u001b[38;5;28;01mfor\u001b[39;00m t \u001b[38;5;129;01min\u001b[39;00m apply_stack[\u001b[38;5;241m-\u001b[39m\u001b[38;5;241m1\u001b[39m][\u001b[38;5;241m1\u001b[39m:]]\n\u001b[1;32m--> 380\u001b[0m intermediate_result \u001b[38;5;241m=\u001b[39m \u001b[43mfunction\u001b[49m\u001b[43m(\u001b[49m\u001b[38;5;241;43m*\u001b[39;49m\u001b[43mterminals\u001b[49m\u001b[43m)\u001b[49m\n\u001b[0;32m    381\u001b[0m \u001b[38;5;28;01mif\u001b[39;00m \u001b[38;5;28mlen\u001b[39m(apply_stack) \u001b[38;5;241m!=\u001b[39m \u001b[38;5;241m1\u001b[39m:\n\u001b[0;32m    382\u001b[0m     apply_stack\u001b[38;5;241m.\u001b[39mpop()\n",
      "File \u001b[1;32md:\\env\\lib\\site-packages\\gplearn\\functions.py:46\u001b[0m, in \u001b[0;36m_Function.__call__\u001b[1;34m(self, *args)\u001b[0m\n\u001b[0;32m     45\u001b[0m \u001b[38;5;28;01mdef\u001b[39;00m \u001b[38;5;21m__call__\u001b[39m(\u001b[38;5;28mself\u001b[39m, \u001b[38;5;241m*\u001b[39margs):\n\u001b[1;32m---> 46\u001b[0m     \u001b[38;5;28;01mreturn\u001b[39;00m \u001b[38;5;28;43mself\u001b[39;49m\u001b[38;5;241;43m.\u001b[39;49m\u001b[43mfunction\u001b[49m\u001b[43m(\u001b[49m\u001b[38;5;241;43m*\u001b[39;49m\u001b[43margs\u001b[49m\u001b[43m)\u001b[49m\n",
      "File \u001b[1;32md:\\env\\lib\\site-packages\\joblib\\externals\\loky\\cloudpickle_wrapper.py:32\u001b[0m, in \u001b[0;36mCallableObjectWrapper.__call__\u001b[1;34m(self, *args, **kwargs)\u001b[0m\n\u001b[0;32m     31\u001b[0m \u001b[38;5;28;01mdef\u001b[39;00m \u001b[38;5;21m__call__\u001b[39m(\u001b[38;5;28mself\u001b[39m, \u001b[38;5;241m*\u001b[39margs, \u001b[38;5;241m*\u001b[39m\u001b[38;5;241m*\u001b[39mkwargs):\n\u001b[1;32m---> 32\u001b[0m     \u001b[38;5;28;01mreturn\u001b[39;00m \u001b[38;5;28mself\u001b[39m\u001b[38;5;241m.\u001b[39m_obj(\u001b[38;5;241m*\u001b[39margs, \u001b[38;5;241m*\u001b[39m\u001b[38;5;241m*\u001b[39mkwargs)\n",
      "Cell \u001b[1;32mIn[4], line 5\u001b[0m, in \u001b[0;36mpot\u001b[1;34m(x1, const)\u001b[0m\n\u001b[0;32m      3\u001b[0m con2 \u001b[38;5;241m=\u001b[39m (const \u001b[38;5;241m>\u001b[39m\u001b[38;5;241m=\u001b[39m \u001b[38;5;241m-\u001b[39m\u001b[38;5;241m2\u001b[39m) \u001b[38;5;241m&\u001b[39m (const \u001b[38;5;241m<\u001b[39m \u001b[38;5;241m0\u001b[39m)\n\u001b[0;32m      4\u001b[0m \u001b[38;5;28;01mwith\u001b[39;00m np\u001b[38;5;241m.\u001b[39merrstate(divide\u001b[38;5;241m=\u001b[39m\u001b[38;5;124m'\u001b[39m\u001b[38;5;124mignore\u001b[39m\u001b[38;5;124m'\u001b[39m, invalid\u001b[38;5;241m=\u001b[39m\u001b[38;5;124m'\u001b[39m\u001b[38;5;124mignore\u001b[39m\u001b[38;5;124m'\u001b[39m):\n\u001b[1;32m----> 5\u001b[0m     result \u001b[38;5;241m=\u001b[39m \u001b[43mnp\u001b[49m\u001b[38;5;241;43m.\u001b[39;49m\u001b[43mwhere\u001b[49m\u001b[43m(\u001b[49m\u001b[43mcon1\u001b[49m\u001b[43m \u001b[49m\u001b[38;5;241;43m&\u001b[39;49m\u001b[43m \u001b[49m\u001b[43mcon2\u001b[49m\u001b[43m,\u001b[49m\u001b[43mnp\u001b[49m\u001b[38;5;241;43m.\u001b[39;49m\u001b[43mpower\u001b[49m\u001b[43m(\u001b[49m\u001b[43mx1\u001b[49m\u001b[43m,\u001b[49m\u001b[43mconst\u001b[49m\u001b[43m)\u001b[49m\u001b[43m,\u001b[49m\u001b[43m \u001b[49m\u001b[38;5;241;43m0\u001b[39;49m\u001b[43m)\u001b[49m\n\u001b[0;32m      6\u001b[0m \u001b[38;5;28;01mreturn\u001b[39;00m result\n",
      "\u001b[1;31mKeyboardInterrupt\u001b[0m: "
     ]
    }
   ],
   "source": [
    "# entrenando modelo \n",
    "\n",
    "# Modelo\n",
    "model = SymbolicRegressor(population_size=5000,\n",
    "                        generations=20, \n",
    "                        stopping_criteria=0.01,\n",
    "                        p_crossover=0.7, \n",
    "                        p_subtree_mutation=0.1,\n",
    "                        p_hoist_mutation=0.05, \n",
    "                        p_point_mutation=0.1,\n",
    "                        max_samples=0.9, \n",
    "                        verbose=1,\n",
    "                        parsimony_coefficient=0.01, \n",
    "                        random_state=42,\n",
    "                        function_set=['add','sub', 'mul','div',pot, pot2])\n",
    "\n",
    "model.fit(X_train, y_train)\n",
    "\n",
    "# Obtener la expresión simbólica\n",
    "expression = model._program\n",
    "print(\"Expresión:\", expression)"
   ]
  },
  {
   "cell_type": "markdown",
   "metadata": {},
   "source": [
    "### Ajuste automatico exponencial V2"
   ]
  },
  {
   "cell_type": "code",
   "execution_count": 10,
   "metadata": {},
   "outputs": [],
   "source": [
    "def pot(x1, const):\n",
    "    con1 = x1 > 0\n",
    "    con2 = (const >= -2) & (const < 0)\n",
    "    with np.errstate(divide='ignore', invalid='ignore'):\n",
    "        result = np.where(con1 & con2,np.power(x1,const), 0)\n",
    "    return result\n",
    "\n",
    "pot= make_function(function=pot, name='pot', arity=2)\n",
    "\n",
    "# A * x**B\n",
    "def pot2(x1, A, B):\n",
    "    con1 = x1 > 0\n",
    "    con2 = (B >= -1) & (B < 0)\n",
    "    con3 = (A >=15) & (A <=25)\n",
    "    with np.errstate(divide='ignore', invalid='ignore'):\n",
    "        result = np.where(con1 & con2 & con3, A *np.power(x1,B), 0)\n",
    "    return result\n",
    "\n",
    "pot2= make_function(function=pot2, name='pot2', arity=3)"
   ]
  },
  {
   "cell_type": "code",
   "execution_count": 11,
   "metadata": {},
   "outputs": [
    {
     "name": "stderr",
     "output_type": "stream",
     "text": [
      "d:\\env\\lib\\site-packages\\sklearn\\utils\\validation.py:1339: DataConversionWarning: A column-vector y was passed when a 1d array was expected. Please change the shape of y to (n_samples, ), for example using ravel().\n",
      "  y = column_or_1d(y, warn=True)\n",
      "C:\\Users\\lucas\\AppData\\Local\\Temp\\ipykernel_7336\\1791202140.py:16: RuntimeWarning: overflow encountered in power\n",
      "  result = np.where(con1 & con2 & con3, A *np.power(x1,B), 0)\n"
     ]
    },
    {
     "name": "stdout",
     "output_type": "stream",
     "text": [
      "    |   Population Average    |             Best Individual              |\n",
      "---- ------------------------- ------------------------------------------ ----------\n",
      " Gen   Length          Fitness   Length          Fitness      OOB Fitness  Time Left\n"
     ]
    },
    {
     "name": "stderr",
     "output_type": "stream",
     "text": [
      "C:\\Users\\lucas\\AppData\\Local\\Temp\\ipykernel_7336\\1791202140.py:16: RuntimeWarning: overflow encountered in multiply\n",
      "  result = np.where(con1 & con2 & con3, A *np.power(x1,B), 0)\n",
      "C:\\Users\\lucas\\AppData\\Local\\Temp\\ipykernel_7336\\1791202140.py:5: RuntimeWarning: overflow encountered in power\n",
      "  result = np.where(con1 & con2,np.power(x1,const), 0)\n"
     ]
    },
    {
     "name": "stdout",
     "output_type": "stream",
     "text": [
      "   0    62.29      8.94692e+14        5          1.70934          1.73429    131.55m\n",
      "   1    12.99      1.33992e+08        7          1.67388          1.67584     29.43m\n",
      "   2    10.11      4.57058e+07        5          1.02793          1.05324     17.50m\n",
      "   3     8.97          56837.2        9          0.96272         0.983959     18.49m\n",
      "   4     8.27          25127.7       17         0.570199         0.576406     18.06m\n",
      "   5    11.07      7.93214e+06       17         0.571668         0.563183     14.22m\n",
      "   6    11.22          20052.5       21         0.558275         0.557218     17.09m\n",
      "   7    13.69      1.03464e+07       17         0.553206         0.573087     18.87m\n",
      "   8    13.25          41582.7       21         0.552357         0.585808     16.39m\n",
      "   9    13.31            20873       17          0.55531         0.584199     15.33m\n",
      "  10    13.61      3.72408e+07       17         0.556107         0.546979     13.05m\n",
      "  11    13.48          40147.3       13         0.554348         0.574506     11.37m\n",
      "  12    13.21          78965.4       13         0.552404         0.595537      9.73m\n",
      "  13    13.05      6.74819e+07       13         0.548717         0.625187      8.75m\n",
      "  14    13.21      3.04583e+07       13         0.547721         0.611296      6.47m\n",
      "  15    13.07          65277.5       13         0.546582         0.612907      4.70m\n",
      "  16    13.03          70941.4       13         0.544961         0.636135      3.80m\n",
      "  17    13.19      2.60435e+07       13         0.546372         0.624824      2.80m\n",
      "  18    13.07            35579       13         0.544801         0.628944      1.28m\n",
      "  19    13.06          38274.4       13         0.545943         0.609687      0.00s\n",
      "Expresión: mul(add(pot(mul(X0, X0), -0.911), pot(X0, -0.450)), add(0.758, 0.907))\n"
     ]
    }
   ],
   "source": [
    "# entrenando modelo \n",
    "\n",
    "# Modelo\n",
    "model = SymbolicRegressor(population_size=5000,\n",
    "                        generations=20, \n",
    "                        stopping_criteria=0.01,\n",
    "                        p_crossover=0.7, \n",
    "                        p_subtree_mutation=0.1,\n",
    "                        p_hoist_mutation=0.05, \n",
    "                        p_point_mutation=0.1,\n",
    "                        max_samples=0.9, \n",
    "                        verbose=1,\n",
    "                        parsimony_coefficient=0.01, \n",
    "                        random_state=123,\n",
    "                        function_set=['add', 'mul',pot, pot2])\n",
    "\n",
    "model.fit(X_train, y_train)\n",
    "\n",
    "# Obtener la expresión simbólica\n",
    "expression = model._program\n",
    "print(\"Expresión:\", expression)"
   ]
  },
  {
   "cell_type": "markdown",
   "metadata": {},
   "source": [
    "### Ajuste automatico exponencial V3"
   ]
  },
  {
   "cell_type": "code",
   "execution_count": 4,
   "metadata": {},
   "outputs": [],
   "source": [
    "def pot(x1, const):\n",
    "    con1 = x1 > 0\n",
    "    con2 = (const >= -2) & (const < 0)\n",
    "    with np.errstate(divide='ignore', invalid='ignore'):\n",
    "        result = np.where(con1 & con2,np.power(x1,const), 0)\n",
    "    return result\n",
    "\n",
    "pot= make_function(function=pot, name='pot', arity=2)"
   ]
  },
  {
   "cell_type": "code",
   "execution_count": 6,
   "metadata": {},
   "outputs": [
    {
     "name": "stdout",
     "output_type": "stream",
     "text": [
      "    |   Population Average    |             Best Individual              |\n",
      "---- ------------------------- ------------------------------------------ ----------\n",
      " Gen   Length          Fitness   Length          Fitness      OOB Fitness  Time Left\n"
     ]
    },
    {
     "name": "stderr",
     "output_type": "stream",
     "text": [
      "C:\\Users\\lucas\\AppData\\Local\\Temp\\ipykernel_10180\\2573759771.py:5: RuntimeWarning: overflow encountered in power\n",
      "  result = np.where(con1 & con2,np.power(x1,const), 0)\n"
     ]
    },
    {
     "name": "stdout",
     "output_type": "stream",
     "text": [
      "   0    34.47      3.20847e+17        7           2.1863          2.20314     39.63m\n",
      "   1     5.43      1.24405e+11        5         0.656201         0.631332     11.89m\n",
      "   2     3.44      3.80555e+07        5         0.649892         0.688112      4.19m\n",
      "   3     2.78      1.97088e+07        5         0.647882         0.706199      4.87m\n",
      "   4     2.96      9.96783e+07        5         0.646384         0.719684      4.35m\n",
      "   5     5.15      2.01698e+07        5         0.644747         0.734419      5.73m\n",
      "   6     5.26          41783.8        5         0.646107         0.722175      5.69m\n",
      "   7     5.23      5.54543e+08        5         0.646509         0.718555      4.66m\n",
      "   8     5.25      9.06321e+14        5         0.646769         0.716219      5.21m\n",
      "   9     5.29       1.9081e+07        5         0.645854         0.724456      5.41m\n",
      "  10     5.22           376509        5         0.646166         0.721645      3.51m\n",
      "  11     5.20      5.79001e+07        5         0.646724         0.716624      4.44m\n",
      "  12     5.35          53705.4        5         0.646238            0.721      2.77m\n",
      "  13     5.30           392731        5         0.646866         0.715348      2.79m\n",
      "  14     5.24      3.99792e+08        5         0.644736         0.734512      2.10m\n",
      "  15     5.28      1.97993e+08        5         0.646686         0.716967      1.59m\n",
      "  16     5.22      2.35501e+08        5         0.646239         0.720991      1.38m\n",
      "  17     5.24      3.82116e+08        5           0.6456         0.726738     51.00s\n",
      "  18     5.28       3.8276e+07        5         0.646078         0.722437     25.33s\n",
      "  19     5.23      3.95244e+08        5         0.643887         0.742153      0.00s\n",
      "Expresión: pot(mul(0.273, X0), -0.982)\n"
     ]
    }
   ],
   "source": [
    "# entrenando modelo \n",
    "\n",
    "# Modelo\n",
    "model = SymbolicRegressor(population_size=5000,\n",
    "                        generations=20, \n",
    "                        stopping_criteria=0.01,\n",
    "                        const_range= (-2.0, 25),\n",
    "                        p_crossover=0.7, \n",
    "                        p_subtree_mutation=0.1,\n",
    "                        p_hoist_mutation=0.05, \n",
    "                        p_point_mutation=0.1,\n",
    "                        max_samples=0.9, \n",
    "                        verbose=1,\n",
    "                        parsimony_coefficient=0.01, \n",
    "                        random_state=0,\n",
    "                        function_set=['mul',pot])\n",
    "\n",
    "model.fit(X_train, y_train)\n",
    "\n",
    "# Obtener la expresión simbólica\n",
    "expression = model._program\n",
    "print(\"Expresión:\", expression)"
   ]
  },
  {
   "cell_type": "markdown",
   "metadata": {},
   "source": [
    "### Ajuste automatico de constante Vn"
   ]
  },
  {
   "cell_type": "markdown",
   "metadata": {},
   "source": [
    "Entrenando con la configuracion que ha dado los mejores resultados hasta ahora con el coeficiente de arrastre."
   ]
  },
  {
   "cell_type": "code",
   "execution_count": 6,
   "metadata": {},
   "outputs": [],
   "source": [
    "# definiendo \n",
    "\n",
    "def _rmsle(y, y_pred, w):\n",
    "    \"\"\"Calculate the rmsle.\"\"\"\n",
    "    log_true = np.log((np.maximum(0.001, y) + 1))\n",
    "    log_pred = np.log((np.maximum(0.001, y_pred) + 1))\n",
    "    \n",
    "    # Calcular el error cuadrático medio logarítmico\n",
    "    rmsle_value = (log_pred - log_true) ** 2\n",
    "    \n",
    "    return np.sqrt(np.average(rmsle_value, weights=w))\n",
    "\n",
    "rmsle = make_fitness(function=_rmsle,\n",
    "                    greater_is_better=False)"
   ]
  },
  {
   "cell_type": "code",
   "execution_count": 7,
   "metadata": {},
   "outputs": [],
   "source": [
    "# X1 ^ B\n",
    "\n",
    "def pot(x1,B):\n",
    "    con1 = x1 > 0\n",
    "    con2 = (B > -1) & (B < 0)\n",
    "    #con3 = (A>=1) & (A<10)\n",
    "    with np.errstate(divide='ignore', invalid='ignore', over='ignore'):\n",
    "        result = np.where(con1 & con2 ,np.power(x1,B), 0)\n",
    "    return result\n",
    "\n",
    "pot_fn= make_function(function=pot, name='pot', arity=2)\n",
    "\n",
    "# 5* X1 ^B\n",
    "def pot2(x1, B):\n",
    "    con1 = x1 > 0\n",
    "    con2 = (B > -1) & (B < 0)\n",
    "    #con3 = (A>=1) & (A<10)\n",
    "    with np.errstate(divide='ignore', invalid='ignore', over='ignore'):\n",
    "        result = np.where(con1 & con2 ,20*np.power(x1,B), 0)\n",
    "    return result\n",
    "\n",
    "pot2_fn= make_function(function=pot2, name='pot2', arity=2)"
   ]
  },
  {
   "cell_type": "code",
   "execution_count": 8,
   "metadata": {},
   "outputs": [
    {
     "name": "stdout",
     "output_type": "stream",
     "text": [
      "    |   Population Average    |             Best Individual              |\n",
      "---- ------------------------- ------------------------------------------ ----------\n",
      " Gen   Length          Fitness   Length          Fitness      OOB Fitness  Time Left\n",
      "   0    40.13          2.09366      127         0.227063         0.231678     25.31m\n",
      "   1    29.03          1.36939       15         0.224127         0.229759     18.51m\n",
      "   2    41.59          1.19744       11         0.140124         0.141043     23.77m\n",
      "   3    62.06          1.07388       43         0.110219         0.109363     32.44m\n",
      "   4    27.86          1.13797       19         0.106752         0.103242     14.12m\n",
      "   5    19.76           1.0654       17         0.106052         0.108861      8.93m\n",
      "   6    19.03         0.796245       11         0.105818         0.112302      9.19m\n",
      "   7    14.13         0.756378       21         0.105589         0.113498      6.76m\n",
      "   8    11.71         0.782435       19         0.105693          0.10626      5.12m\n",
      "   9     9.95          0.74997        9         0.105387         0.114282      4.12m\n",
      "  10     9.05         0.716972       11         0.105736         0.112992      3.51m\n",
      "  11     9.07         0.741811        9         0.105636         0.112194      3.70m\n",
      "  12     9.08         0.736249        9         0.105534         0.113051      2.77m\n",
      "  13     9.14         0.774815        9         0.105146         0.116265      2.32m\n",
      "  14     9.03          0.84167        9         0.105178         0.116003      2.02m\n",
      "  15     9.18         0.840184        9         0.105273         0.115222      1.64m\n",
      "  16     9.20         0.814726        9         0.105101         0.116624      1.21m\n",
      "  17     9.16         0.835905        9         0.105275         0.115207     47.30s\n",
      "  18     9.25         0.831363        9         0.105162         0.116134     23.46s\n",
      "  19     9.21         0.830945        9         0.105205         0.115779      0.00s\n",
      "Expresión: sub(pot2(Re, mul(S, -0.309)), sub(-0.925, 0.767))\n"
     ]
    }
   ],
   "source": [
    "# Modelo\n",
    "model = SymbolicRegressor(population_size=5000,\n",
    "                        generations=20, \n",
    "                        stopping_criteria=0.01,\n",
    "                        p_crossover=0.7, \n",
    "                        p_subtree_mutation=0.1,\n",
    "                        p_hoist_mutation=0.05, \n",
    "                        p_point_mutation=0.1,\n",
    "                        max_samples=0.9, \n",
    "                        verbose=1,\n",
    "                        parsimony_coefficient=0.001, \n",
    "                        random_state=0,\n",
    "                        function_set=['add', 'sub', 'mul', 'div',pot_fn, pot2_fn],\n",
    "                        metric = rmsle, \n",
    "                        feature_names=['S', 'Re'])\n",
    "\n",
    "model.fit(X_train, y_train)\n",
    "\n",
    "# Obtener la expresión simbólica\n",
    "expression = model._program\n",
    "print(\"Expresión:\", expression)"
   ]
  },
  {
   "cell_type": "code",
   "execution_count": 9,
   "metadata": {},
   "outputs": [],
   "source": [
    "# x ^ B\n",
    "\n",
    "def pot(x1, B):\n",
    "    con1 = x1 > 0\n",
    "    con2 = (B > -1) & (B < 0)\n",
    "    #con3 = (A>=1) & (A<10)\n",
    "    with np.errstate(divide='ignore', invalid='ignore', over='ignore'):\n",
    "        result = np.where(con1 & con2 , np.power(x1,B), 0)\n",
    "    return result\n",
    "\n",
    "pot_fn= make_function(function=pot, name='pot', arity=2)\n",
    "\n",
    "def pot2(x1, A, B):\n",
    "    con1 = x1 > 0\n",
    "    con2 = (B > -1) & (B < 0)\n",
    "    con3 = (A>=1) & (A<10)\n",
    "    with np.errstate(divide='ignore', invalid='ignore', over='ignore'):\n",
    "        result = np.where(con1 & con2 & con3 , A*np.power(x1,B), 0)\n",
    "    return result\n",
    "\n",
    "pot2_fn= make_function(function=pot2, name='pot2', arity=3)"
   ]
  },
  {
   "cell_type": "code",
   "execution_count": 11,
   "metadata": {},
   "outputs": [
    {
     "name": "stdout",
     "output_type": "stream",
     "text": [
      "    |   Population Average    |             Best Individual              |\n",
      "---- ------------------------- ------------------------------------------ ----------\n",
      " Gen   Length          Fitness   Length          Fitness      OOB Fitness  Time Left\n",
      "   0   517.99          1.87751      214          0.14305              N/A    194.18m\n",
      "   1   144.87          1.06463      212          0.14305              N/A     50.59m\n",
      "   2    99.72         0.865201      225          0.14305              N/A     35.88m\n",
      "   3   126.65         0.630268       39         0.129122              N/A     42.61m\n",
      "   4    54.82         0.566092       35         0.128362              N/A     17.21m\n",
      "   5    27.47         0.803385       35         0.128362              N/A      9.00m\n",
      "   6    17.33         0.888016       34         0.125527              N/A      5.59m\n",
      "   7    18.66         0.913089       36         0.124635              N/A      5.09m\n",
      "   8    14.85         0.740196       33         0.124803              N/A      3.82m\n",
      "   9    14.46         0.632332       24         0.124272              N/A      3.34m\n",
      "  10    13.04         0.588284       19         0.124297              N/A      3.24m\n",
      "  11    12.18          0.51313       27         0.123967              N/A      2.41m\n",
      "  12    10.93         0.377685       13         0.124682              N/A      1.93m\n",
      "  13    11.05         0.344003       21         0.124319              N/A      1.64m\n",
      "  14    11.10         0.337854       19         0.125049              N/A      1.37m\n",
      "  15    11.08         0.346572       19         0.125049              N/A      1.10m\n",
      "  16    11.08         0.344708       19         0.125049              N/A     50.19s\n",
      "  17    11.15         0.347573       19         0.125049              N/A     33.57s\n",
      "  18    11.07         0.335482       19         0.125049              N/A     16.78s\n",
      "  19    11.09         0.321974       19         0.124931              N/A      0.00s\n",
      "Expresión: add(div(3.073, S), div(div(add(div(3.073, S), div(div(div(3.409, S), S), 9.102)), S), 9.375))\n"
     ]
    }
   ],
   "source": [
    "# Modelo\n",
    "model = SymbolicRegressor(population_size=7000,\n",
    "                        init_depth=(5, 9),\n",
    "                        generations=20, \n",
    "                        stopping_criteria=0.01,\n",
    "                        const_range = (-1.0, 10.0),\n",
    "                        p_crossover=0.9,\n",
    "                        p_subtree_mutation=0.01, \n",
    "                        p_hoist_mutation=0.01, \n",
    "                        p_point_mutation=0.01, \n",
    "                        p_point_replace=0.05, \n",
    "                        max_samples=1.0,\n",
    "                        verbose=1,\n",
    "                        parsimony_coefficient=1e-3, \n",
    "                        random_state=0,\n",
    "                        function_set=['add', 'sub', 'mul', 'div',pot_fn, pot2_fn],\n",
    "                        metric = rmsle, \n",
    "                        feature_names=['S', 'Re'])\n",
    "\n",
    "model.fit(X_train, y_train)\n",
    "\n",
    "# Obtener la expresión simbólica\n",
    "expression = model._program\n",
    "print(\"Expresión:\", expression)"
   ]
  }
 ],
 "metadata": {
  "kernelspec": {
   "display_name": "env",
   "language": "python",
   "name": "python3"
  },
  "language_info": {
   "codemirror_mode": {
    "name": "ipython",
    "version": 3
   },
   "file_extension": ".py",
   "mimetype": "text/x-python",
   "name": "python",
   "nbconvert_exporter": "python",
   "pygments_lexer": "ipython3",
   "version": "3.10.4"
  }
 },
 "nbformat": 4,
 "nbformat_minor": 2
}
