{
 "cells": [
  {
   "cell_type": "markdown",
   "metadata": {},
   "source": [
    "# Factor de friccion"
   ]
  },
  {
   "cell_type": "code",
   "execution_count": 1,
   "metadata": {},
   "outputs": [],
   "source": [
    "# importando librerias \n",
    "\n",
    "import pandas as pd\n",
    "import matplotlib \n",
    "from gplearn.genetic import SymbolicRegressor\n",
    "from gplearn.functions import make_function\n",
    "from sklearn.ensemble import RandomForestRegressor\n",
    "from sklearn.tree import DecisionTreeRegressor\n",
    "from sklearn.utils.random import check_random_state\n",
    "from sklearn.metrics import mean_squared_error, r2_score\n",
    "from mpl_toolkits.mplot3d import Axes3D\n",
    "import matplotlib.pyplot as plt\n",
    "import numpy as np\n",
    "from sklearn.tree import export_graphviz\n",
    "import graphviz\n",
    "import pandas as pd"
   ]
  },
  {
   "cell_type": "code",
   "execution_count": 2,
   "metadata": {},
   "outputs": [],
   "source": [
    "# cargando datos\n",
    "\n",
    "# importacion de DF\n",
    "file_path = 'D:\\\\CODES\\\\LIB_SR\\\\Dataset_coeficientes\\\\df_ff_25.txt'\n",
    "df_ff_25 = pd.read_csv(file_path, delimiter=',')\n",
    "\n",
    "file_path = 'D:\\\\CODES\\\\LIB_SR\\\\Dataset_coeficientes\\\\df_ff_53.txt'\n",
    "df_ff_53 = pd.read_csv(file_path, delimiter=',')\n",
    "\n",
    "file_path = 'D:\\\\CODES\\\\LIB_SR\\\\Dataset_coeficientes\\\\df_ff_74.txt'\n",
    "df_ff_74 = pd.read_csv(file_path, delimiter=',')\n",
    "\n",
    "file_path = 'D:\\\\CODES\\\\LIB_SR\\\\Dataset_coeficientes\\\\df_ff_102.txt'\n",
    "df_ff_102 = pd.read_csv(file_path, delimiter=',')"
   ]
  },
  {
   "cell_type": "code",
   "execution_count": 19,
   "metadata": {},
   "outputs": [],
   "source": [
    "# definiendo conjuntos de train y test\n",
    "\n",
    "# definiendo conjunto de train\n",
    "df_ff_train = pd.concat([df_ff_25, df_ff_74], ignore_index=True)\n",
    "\n",
    "# separando entre x e y\n",
    "y_train = df_ff_train.drop(columns=['Current','K','Flujo','t_viento','Diametro','col_fluido','col_celda','n_fluido','n_celda','Rem','colIndex'])\n",
    "X_train = df_ff_train.drop(columns=['Current','Flujo','t_viento','Diametro','col_fluido','col_celda','n_fluido','n_celda','colIndex','frictionFactor'])\n",
    "\n",
    "# definiendo conjunto de test\n",
    "\n",
    "y_test = df_ff_53.drop(columns=['Current','K','Flujo','t_viento','Diametro','col_fluido','col_celda','n_fluido','n_celda','Rem','colIndex'])\n",
    "X_test = df_ff_53.drop(columns=['Current','Flujo','t_viento','Diametro','col_fluido','col_celda','n_fluido','n_celda','colIndex','frictionFactor'])"
   ]
  },
  {
   "cell_type": "markdown",
   "metadata": {},
   "source": [
    "### Modelo original "
   ]
  },
  {
   "cell_type": "code",
   "execution_count": 5,
   "metadata": {},
   "outputs": [
    {
     "name": "stderr",
     "output_type": "stream",
     "text": [
      "d:\\env\\lib\\site-packages\\sklearn\\utils\\validation.py:1339: DataConversionWarning: A column-vector y was passed when a 1d array was expected. Please change the shape of y to (n_samples, ), for example using ravel().\n",
      "  y = column_or_1d(y, warn=True)\n"
     ]
    },
    {
     "name": "stdout",
     "output_type": "stream",
     "text": [
      "    |   Population Average    |             Best Individual              |\n",
      "---- ------------------------- ------------------------------------------ ----------\n",
      " Gen   Length          Fitness   Length          Fitness      OOB Fitness  Time Left\n",
      "   0    37.35      4.28094e+28       23         0.628484         0.678839     11.44m\n",
      "   1    17.24      1.68328e+08       25         0.629673         0.665225      7.74m\n",
      "   2    18.26       9.1841e+11       23         0.630923         0.653972     10.55m\n",
      "   3    25.85      4.00302e+11       13         0.563529         0.547598      6.16m\n",
      "   4    23.94      3.77601e+09       13         0.556433         0.541774      4.68m\n",
      "   5    17.79           334315       13         0.555681          0.54854      6.03m\n",
      "   6    13.63      8.31439e+07       13         0.551765         0.583786      3.69m\n",
      "   7    11.34      2.01239e+07       13         0.550698         0.593388      3.12m\n",
      "   8    10.83      1.00142e+08       13         0.549114         0.607643      3.48m\n",
      "   9    11.96      4.50046e+08       13         0.548735         0.611051      2.91m\n",
      "  10    12.80      3.39351e+13       13         0.546163         0.612241      2.69m\n",
      "  11    12.87      2.66245e+08       13         0.546381         0.632238      2.29m\n",
      "  12    12.93      9.53129e+07       13         0.547597         0.621298      2.37m\n",
      "  13    12.99      8.20225e+10       13         0.548043         0.617281      1.80m\n",
      "  14    12.94      4.71894e+11       13          0.54722         0.602725      2.38m\n",
      "  15    12.85      2.93274e+07       13         0.545873         0.614847      1.81m\n",
      "  16    12.76        2.871e+07       13         0.545658         0.616781     49.46s\n",
      "  17    13.10      2.80432e+11       13          0.54697         0.604981     39.22s\n",
      "  18    12.94      6.89673e+07       13         0.546843          0.62808     13.85s\n",
      "  19    13.07      1.85769e+20       13         0.545926         0.614373      0.00s\n",
      "Expresión: add(div(div(add(X0, 0.477), mul(X0, 0.578)), X0), div(0.792, X0))\n"
     ]
    }
   ],
   "source": [
    "# entrenando modelo \n",
    "\n",
    "# Modelo\n",
    "model = SymbolicRegressor(population_size=5000,\n",
    "                           generations=20, \n",
    "                           stopping_criteria=0.01,\n",
    "                           p_crossover=0.7, \n",
    "                           p_subtree_mutation=0.1,\n",
    "                           p_hoist_mutation=0.05, \n",
    "                           p_point_mutation=0.1,\n",
    "                           max_samples=0.9, \n",
    "                           verbose=1,\n",
    "                           parsimony_coefficient=0.01, \n",
    "                           random_state=123,\n",
    "                           function_set=['add', 'sub', 'mul', 'div'])\n",
    "\n",
    "model.fit(X_train, y_train)\n",
    "\n",
    "# Obtener la expresión simbólica\n",
    "expression = model._program\n",
    "print(\"Expresión:\", expression)"
   ]
  },
  {
   "cell_type": "code",
   "execution_count": 6,
   "metadata": {},
   "outputs": [
    {
     "name": "stdout",
     "output_type": "stream",
     "text": [
      "MSE: 1.1110193928741372\n",
      "R^2: 0.8043016746993664\n"
     ]
    }
   ],
   "source": [
    "# Predecir en los datos de prueba\n",
    "y_pred = model.predict(X_test)\n",
    "\n",
    "# Calcular métricas\n",
    "mse = mean_squared_error(y_test, y_pred)\n",
    "r2 = r2_score(y_test, y_pred)\n",
    "\n",
    "print(\"MSE:\", mse)\n",
    "print(\"R^2:\", r2)"
   ]
  },
  {
   "cell_type": "code",
   "execution_count": null,
   "metadata": {},
   "outputs": [],
   "source": [
    "# comparar con modelo de Rafael\n",
    "\n",
    "# 20*S^(-1.1)*Re^(-0.22)\n",
    "def ffriction(S, Re):\n",
    "    return 20*S**(-1.1)*Re*(-0.22)\n",
    "\n",
    "#def ffriction_gp(S, Re):\n",
    "#   return "
   ]
  },
  {
   "cell_type": "markdown",
   "metadata": {},
   "source": [
    "### Incorporar potencias"
   ]
  },
  {
   "cell_type": "code",
   "execution_count": 20,
   "metadata": {},
   "outputs": [],
   "source": [
    "# S ^(-1.1) \n",
    "def pot1(x1):\n",
    "    with np.errstate(divide='ignore', invalid='ignore'):\n",
    "        result = np.where(x1 > 0, np.power(x1, -1.1), 0)\n",
    "    return result\n",
    "\n",
    "pot1_fn = make_function(function=pot1, \n",
    "                        name='pot1', \n",
    "                        arity=1)\n",
    "\n",
    "# 20* Re ^ (-0.22)\n",
    "def pot2(x1):\n",
    "    with np.errstate(divide='ignore', invalid='ignore'):\n",
    "        result = np.where(x1 > 0, 20*np.power(x1, -0.22), 0)\n",
    "    return result\n",
    "\n",
    "pot2_fn = make_function(function=pot2, \n",
    "                        name='pot2', \n",
    "                        arity=1)"
   ]
  },
  {
   "cell_type": "code",
   "execution_count": 21,
   "metadata": {},
   "outputs": [
    {
     "name": "stderr",
     "output_type": "stream",
     "text": [
      "d:\\env\\lib\\site-packages\\sklearn\\utils\\validation.py:1339: DataConversionWarning: A column-vector y was passed when a 1d array was expected. Please change the shape of y to (n_samples, ), for example using ravel().\n",
      "  y = column_or_1d(y, warn=True)\n"
     ]
    },
    {
     "name": "stdout",
     "output_type": "stream",
     "text": [
      "    |   Population Average    |             Best Individual              |\n",
      "---- ------------------------- ------------------------------------------ ----------\n",
      " Gen   Length          Fitness   Length          Fitness      OOB Fitness  Time Left\n",
      "   0    19.46       1.2489e+15        4          0.52396         0.514965     28.05m\n",
      "   1    11.82      3.01331e+06        5         0.484317         0.457411     13.89m\n",
      "   2     8.24      3.70547e+07        5          0.47922         0.503287     10.28m\n",
      "   3     8.14          51184.1        5         0.476157         0.530848     10.59m\n",
      "   4     5.74          53356.5       17          0.47276         0.460887      7.46m\n",
      "   5     5.37      5.68701e+07        5         0.476578         0.527059      7.51m\n",
      "   6     5.26      2.80269e+08        5         0.476737         0.525635     11.74m\n",
      "   7     5.24          54549.3        5         0.476402         0.528651      9.59m\n",
      "   8     5.24      1.21369e+08        5         0.474707         0.543898      7.59m\n",
      "   9     5.24          69207.7        5         0.475871         0.533426      6.38m\n",
      "  10     5.25      5.56156e+07        5         0.476599         0.526872      5.63m\n",
      "  11     5.18          69868.4        5         0.475751         0.534507      5.28m\n",
      "  12     5.22      3.92581e+12        5         0.476281         0.529736      4.76m\n",
      "  13     5.27           137253        5         0.475298         0.538583      5.87m\n",
      "  14     5.26      2.00628e+07        5         0.475956         0.532661      5.83m\n",
      "  15     5.22      1.23326e+11        5         0.475392         0.537738      9.84m\n",
      "  16     5.15      5.74819e+07        5         0.474548         0.545332      4.55m\n",
      "  17     5.25           328677        5         0.475888         0.533274      3.16m\n",
      "  18     5.22      1.90973e+07        5         0.475848         0.533632      2.75m\n",
      "  19     5.23      3.69771e+07        5         0.476134         0.531062      3.24m\n",
      "  20     5.19           205561        5         0.475673         0.535209      2.14m\n",
      "  21     5.17            55583        5         0.475967         0.532561      1.67m\n",
      "  22     5.23          58149.4        5         0.475196         0.539501      1.62m\n",
      "  23     5.21          84284.4        5         0.475975         0.532492     31.87s\n",
      "  24     5.19           101207        5         0.476081         0.531532      0.00s\n",
      "Expresión: mul(pot2(X1), pot1(X0))\n"
     ]
    }
   ],
   "source": [
    "# entrenando modelo \n",
    "\n",
    "# Modelo\n",
    "model = SymbolicRegressor(population_size=5000,\n",
    "                           generations=25, \n",
    "                           stopping_criteria=0.01,\n",
    "                           p_crossover=0.7, \n",
    "                           p_subtree_mutation=0.1,\n",
    "                           p_hoist_mutation=0.05, \n",
    "                           p_point_mutation=0.1,\n",
    "                           max_samples=0.9, \n",
    "                           verbose=1,\n",
    "                           parsimony_coefficient=0.01, \n",
    "                           random_state=123,\n",
    "                           function_set=['add', 'sub', 'mul', 'div',pot1_fn, pot2_fn])\n",
    "\n",
    "model.fit(X_train, y_train)\n",
    "\n",
    "# Obtener la expresión simbólica\n",
    "expression = model._program\n",
    "print(\"Expresión:\", expression)"
   ]
  },
  {
   "cell_type": "code",
   "execution_count": 22,
   "metadata": {},
   "outputs": [
    {
     "name": "stdout",
     "output_type": "stream",
     "text": [
      "MSE: 0.737637987361494\n",
      "R^2: 0.8700702078373823\n"
     ]
    }
   ],
   "source": [
    "# Predecir en los datos de prueba\n",
    "y_pred = model.predict(X_test)\n",
    "\n",
    "# Calcular métricas\n",
    "mse = mean_squared_error(y_test, y_pred)\n",
    "r2 = r2_score(y_test, y_pred)\n",
    "\n",
    "print(\"MSE:\", mse)\n",
    "print(\"R^2:\", r2)"
   ]
  },
  {
   "cell_type": "code",
   "execution_count": 23,
   "metadata": {},
   "outputs": [],
   "source": [
    "# comparar con modelo de Rafael\n",
    "\n",
    "# 20*S^(-1.1)*Re^(-0.22)\n",
    "def fFriction(S, Re):\n",
    "    return 20*S**(-1.1)*Re*(-0.22)\n",
    "\n",
    "def fFriction_gp(S, Re):\n",
    "   return S**(-1.1)*20*Re*(-0.22)  # misma expresion c:  "
   ]
  },
  {
   "cell_type": "code",
   "execution_count": 24,
   "metadata": {},
   "outputs": [
    {
     "name": "stdout",
     "output_type": "stream",
     "text": [
      "R^2 frictionFactor: -79524813.05076136, MSE cdrag: 451478623.9962755\n",
      "R^2 frictionFactor_gp: -79524813.05076136, MSE cdrag_gp: 451478623.9962755\n"
     ]
    }
   ],
   "source": [
    "X_test['ff_pred'] = X_test.apply(lambda row: fFriction(row['K'], row['Rem']), axis=1)\n",
    "X_test['ff_gp_pred'] = X_test.apply(lambda row: fFriction_gp(row['K'], row['Rem']), axis=1)\n",
    "\n",
    "r2_ff = r2_score(y_test['frictionFactor'], X_test['ff_pred'])\n",
    "mse_ff = mean_squared_error(y_test['frictionFactor'], X_test['ff_pred'])\n",
    "\n",
    "# Calcular R^2 y MSE para cdrag_gp\n",
    "r2_ff_gp = r2_score(y_test['frictionFactor'], X_test['ff_gp_pred'])\n",
    "mse_ff_gp = mean_squared_error(y_test['frictionFactor'], X_test['ff_gp_pred'])\n",
    "\n",
    "print(f\"R^2 frictionFactor: {r2_ff}, MSE cdrag: {mse_ff}\")\n",
    "print(f\"R^2 frictionFactor_gp: {r2_ff}, MSE cdrag_gp: {mse_ff_gp}\")"
   ]
  },
  {
   "cell_type": "markdown",
   "metadata": {},
   "source": [
    "Altos valores de error. Sin embargo, algo similar se menciona en la tesis de Rafael. "
   ]
  }
 ],
 "metadata": {
  "kernelspec": {
   "display_name": "env",
   "language": "python",
   "name": "python3"
  },
  "language_info": {
   "codemirror_mode": {
    "name": "ipython",
    "version": 3
   },
   "file_extension": ".py",
   "mimetype": "text/x-python",
   "name": "python",
   "nbconvert_exporter": "python",
   "pygments_lexer": "ipython3",
   "version": "3.10.4"
  }
 },
 "nbformat": 4,
 "nbformat_minor": 2
}
