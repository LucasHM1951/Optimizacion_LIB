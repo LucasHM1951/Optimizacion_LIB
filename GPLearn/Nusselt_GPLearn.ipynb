{
 "cells": [
  {
   "cell_type": "markdown",
   "metadata": {},
   "source": [
    "# Numero de Nusselt"
   ]
  },
  {
   "cell_type": "code",
   "execution_count": 1,
   "metadata": {},
   "outputs": [],
   "source": [
    "import pandas as pd\n",
    "import matplotlib \n",
    "from gplearn.genetic import SymbolicRegressor\n",
    "from gplearn.functions import make_function\n",
    "from sklearn.ensemble import RandomForestRegressor\n",
    "from sklearn.tree import DecisionTreeRegressor\n",
    "from sklearn.utils.random import check_random_state\n",
    "from sklearn.metrics import mean_squared_error, r2_score\n",
    "from mpl_toolkits.mplot3d import Axes3D\n",
    "import matplotlib.pyplot as plt\n",
    "import numpy as np\n",
    "from sklearn.tree import export_graphviz\n",
    "import graphviz\n",
    "import pandas as pd\n"
   ]
  },
  {
   "cell_type": "code",
   "execution_count": 2,
   "metadata": {},
   "outputs": [],
   "source": [
    "# cargando datos\n",
    "\n",
    "# importacion de DF\n",
    "file_path = 'D:\\\\CODES\\\\LIB_SR\\\\Dataset_coeficientes\\\\df_n_25.txt'\n",
    "df_n_25 = pd.read_csv(file_path, delimiter=',')\n",
    "\n",
    "file_path = 'D:\\\\CODES\\\\LIB_SR\\\\Dataset_coeficientes\\\\df_n_53.txt'\n",
    "df_n_53 = pd.read_csv(file_path, delimiter=',')\n",
    "\n",
    "file_path = 'D:\\\\CODES\\\\LIB_SR\\\\Dataset_coeficientes\\\\df_n_74.txt'\n",
    "df_n_74 = pd.read_csv(file_path, delimiter=',')\n",
    "\n",
    "file_path = 'D:\\\\CODES\\\\LIB_SR\\\\Dataset_coeficientes\\\\df_n_102.txt'\n",
    "df_n_102 = pd.read_csv(file_path, delimiter=',')"
   ]
  },
  {
   "cell_type": "code",
   "execution_count": 3,
   "metadata": {},
   "outputs": [],
   "source": [
    "# definiendo conjuntos de train y test\n",
    "\n",
    "# definiendo conjunto de train\n",
    "df_n_train = pd.concat([df_n_25, df_n_74], ignore_index=True)\n",
    "\n",
    "# separando entre x e y\n",
    "y_train = df_n_train.drop(columns=['Current','K','Flujo','t_viento','Diametro','col_fluido','col_celda','n_fluido','n_celda','Rem','prandtl','colIndex'])\n",
    "X_train = df_n_train.drop(columns=['Current','Flujo','t_viento','Diametro','col_fluido','col_celda','n_fluido','n_celda','colIndex','nusselt'])\n",
    "\n",
    "\n",
    "# definiendo conjunto de test\n",
    "\n",
    "y_test = df_n_53.drop(columns=['Current','K','Flujo','t_viento','Diametro','col_fluido','col_celda','n_fluido','n_celda','Rem','prandtl','colIndex'])\n",
    "X_test = df_n_53.drop(columns=['Current','Flujo','t_viento','Diametro','col_fluido','col_celda','n_fluido','n_celda','colIndex','nusselt'])"
   ]
  },
  {
   "cell_type": "markdown",
   "metadata": {},
   "source": [
    "### Entrenar modelo original"
   ]
  },
  {
   "cell_type": "code",
   "execution_count": 5,
   "metadata": {},
   "outputs": [
    {
     "name": "stderr",
     "output_type": "stream",
     "text": [
      "d:\\env\\lib\\site-packages\\sklearn\\utils\\validation.py:1339: DataConversionWarning: A column-vector y was passed when a 1d array was expected. Please change the shape of y to (n_samples, ), for example using ravel().\n",
      "  y = column_or_1d(y, warn=True)\n"
     ]
    },
    {
     "name": "stdout",
     "output_type": "stream",
     "text": [
      "    |   Population Average    |             Best Individual              |\n",
      "---- ------------------------- ------------------------------------------ ----------\n",
      " Gen   Length          Fitness   Length          Fitness      OOB Fitness  Time Left\n",
      "   0    32.83      4.89184e+31       31          11.7311            11.78     20.90m\n",
      "   1    17.97      6.65547e+15       31          9.48876          9.30918     14.81m\n",
      "   2    26.49      4.08048e+09       27          6.99431          6.97922     24.02m\n",
      "   3    30.02      1.92981e+13       27          7.00878          6.84901     16.49m\n",
      "   4    29.69       1.2269e+11       27          6.93223          7.53787     12.27m\n",
      "   5    32.47       4.5187e+07       25          6.67603          6.71544     12.32m\n",
      "   6    35.73       1.3954e+09       67          3.30332          3.29504     11.02m\n",
      "   7    38.75      1.40532e+10       57          3.24255          3.28773     11.20m\n",
      "   8    38.52      7.44973e+07       57          3.23477          3.35773     10.94m\n",
      "   9    43.14      1.16198e+08       77          2.43765            2.377      9.53m\n",
      "  10    63.16      1.06491e+10       61           2.2577          2.25474     11.72m\n",
      "  11    69.53      2.85628e+07       67           2.1622           2.1599     12.67m\n",
      "  12    69.45      2.38197e+10       81          2.11824          2.09017     12.45m\n",
      "  13    71.04      5.14839e+10      119          2.05728          2.02094     14.21m\n",
      "  14    68.60       3.9951e+07      119          2.05196           2.0688     11.04m\n",
      "  15    64.62      2.09058e+07       67          2.09549          2.19811     16.73m\n",
      "  16    61.48      1.44958e+07       71          2.09104          2.23829     13.52m\n",
      "  17    59.14           805851       71          2.08622          2.15044      6.82m\n",
      "  18    55.00       1.6344e+07       63          2.08811           2.2588      5.19m\n",
      "  19    51.52      2.51768e+07      101          2.08149          2.08079      5.53m\n",
      "  20    48.46      1.92449e+08       59          2.07987          2.07116      5.24m\n",
      "  21    46.39      2.79738e+08       49          2.08112          2.09479      3.78m\n",
      "  22    45.06      1.57305e+09       63          2.06245          2.17111      3.23m\n",
      "  23    43.21      1.27312e+11       71          2.07125          2.14079      2.52m\n",
      "  24    40.82      2.75442e+08       61          2.08183          2.15294      2.10m\n",
      "  25    40.00      7.78962e+08       41          2.08575          2.27829      1.69m\n",
      "  26    38.78      4.01893e+07       45          2.08698           2.2608      1.15m\n",
      "  27    38.47       4.4399e+07       41          2.08531          2.28219     45.29s\n",
      "  28    37.51      3.97545e+10       41          2.08638          2.27254     23.96s\n",
      "  29    37.17      1.72438e+07       37          2.08743          2.26316      0.00s\n",
      "Expresión: sub(div(sub(add(X2, X2), div(-0.042, 0.995)), mul(mul(add(X0, 0.949), X1), div(0.036, X1))), mul(div(div(mul(0.138, X0), add(X0, X0)), div(sub(X2, -0.386), add(-0.687, 0.437))), mul(X1, 0.700)))\n"
     ]
    }
   ],
   "source": [
    "# entrenando modelo \n",
    "\n",
    "# Modelo\n",
    "model = SymbolicRegressor(population_size=5000,\n",
    "                           generations=30, \n",
    "                           stopping_criteria=0.01,\n",
    "                           p_crossover=0.7, \n",
    "                           p_subtree_mutation=0.1,\n",
    "                           p_hoist_mutation=0.05, \n",
    "                           p_point_mutation=0.1,\n",
    "                           max_samples=0.9, \n",
    "                           verbose=1,\n",
    "                           parsimony_coefficient=0.01, \n",
    "                           random_state=123,\n",
    "                           function_set=['add', 'sub', 'mul', 'div'])\n",
    "\n",
    "model.fit(X_train, y_train)\n",
    "\n",
    "# Obtener la expresión simbólica\n",
    "expression = model._program\n",
    "print(\"Expresión:\", expression)"
   ]
  },
  {
   "cell_type": "code",
   "execution_count": 6,
   "metadata": {},
   "outputs": [
    {
     "name": "stdout",
     "output_type": "stream",
     "text": [
      "MSE: 11.00072279485055\n",
      "R^2: 0.9773198439795644\n"
     ]
    }
   ],
   "source": [
    "# Predecir en los datos de prueba\n",
    "y_pred = model.predict(X_test)\n",
    "\n",
    "# Calcular métricas\n",
    "mse = mean_squared_error(y_test, y_pred)\n",
    "r2 = r2_score(y_test, y_pred)\n",
    "\n",
    "print(\"MSE:\", mse)\n",
    "print(\"R^2:\", r2)"
   ]
  },
  {
   "cell_type": "markdown",
   "metadata": {},
   "source": [
    "### Entrenar agregando potencias"
   ]
  },
  {
   "cell_type": "code",
   "execution_count": 8,
   "metadata": {},
   "outputs": [],
   "source": [
    "# creando funciones auxiliares\n",
    "\n",
    "# S ^(-0.2) \n",
    "def pot1(x1):\n",
    "    with np.errstate(divide='ignore', invalid='ignore'):\n",
    "        result = np.where(x1 > 0, np.power(x1, -0.2), 0)\n",
    "    return result\n",
    "\n",
    "pot1_fn = make_function(function=pot1, \n",
    "                        name='pot1', \n",
    "                        arity=1)\n",
    "\n",
    "# 0.5 Re ^ (0.64)\n",
    "def pot2(x1):\n",
    "    with np.errstate(divide='ignore', invalid='ignore'):\n",
    "        result = np.where(x1 > 0, 0.5*np.power(x1, 0.64), 0)\n",
    "    return result\n",
    "\n",
    "pot2_fn = make_function(function=pot2, \n",
    "                        name='pot2', \n",
    "                        arity=1)\n",
    "\n"
   ]
  },
  {
   "cell_type": "code",
   "execution_count": 9,
   "metadata": {},
   "outputs": [
    {
     "name": "stderr",
     "output_type": "stream",
     "text": [
      "d:\\env\\lib\\site-packages\\sklearn\\utils\\validation.py:1339: DataConversionWarning: A column-vector y was passed when a 1d array was expected. Please change the shape of y to (n_samples, ), for example using ravel().\n",
      "  y = column_or_1d(y, warn=True)\n"
     ]
    },
    {
     "name": "stdout",
     "output_type": "stream",
     "text": [
      "    |   Population Average    |             Best Individual              |\n",
      "---- ------------------------- ------------------------------------------ ----------\n",
      " Gen   Length          Fitness   Length          Fitness      OOB Fitness  Time Left\n",
      "   0    17.31      1.28917e+18       31          3.44956          3.49005     22.60m\n",
      "   1    14.55          38461.8       19          2.40209           2.4134     18.03m\n",
      "   2    20.72          83461.2       13          2.21551          2.21593     28.03m\n",
      "   3    27.49          38385.9       30          1.83343          1.76745     29.17m\n",
      "   4    22.86          4679.08       35          1.81892          1.89808     23.20m\n",
      "   5    20.79          551.603       25          1.67295          1.73142     26.10m\n",
      "   6    24.68          22297.9       33          1.66798          1.75921     29.30m\n",
      "   7    20.71          7257.64       28          1.66958          1.76174     20.94m\n",
      "   8    16.98          869.651       33          1.66608          1.70798     20.00m\n",
      "   9    16.96          4176.35       16          1.58551          1.57313     12.75m\n",
      "  10    18.09          2661.76       14          1.57621          1.65683     13.49m\n",
      "  11    15.71      1.88142e+07       16          1.57036          1.70945     13.75m\n",
      "  12    13.39          2467.98       14           1.5714          1.70007     16.57m\n",
      "  13    13.73          1802.43       14          1.57127          1.70128     10.16m\n",
      "  14    13.86          5814.31       14          1.57004          1.71232      8.52m\n",
      "  15    13.80          4510.93       14          1.56937           1.7184     10.89m\n",
      "  16    13.68          21880.9       14          1.57191          1.69556      6.59m\n",
      "  17    13.92          13720.7       14          1.57024          1.71054      6.33m\n",
      "  18    13.77           780726       14          1.56976           1.7149      6.09m\n",
      "  19    13.92          2200.75       14          1.57162          1.69813      4.24m\n",
      "  20    13.78          5408.87       14          1.57021          1.71078      3.51m\n",
      "  21    13.71          4573.01       14          1.56851           1.7261      3.04m\n",
      "  22    13.90          1782.19       14          1.57006          1.71214      1.81m\n",
      "  23    13.91          7894.22       14           1.5705          1.70823      1.02m\n",
      "  24    13.69          13424.6       14          1.57141          1.69998      0.00s\n",
      "Expresión: pot2(mul(pot2(pot1(X0)), mul(pot1(X0), add(X1, pot2(add(X1, X1))))))\n"
     ]
    }
   ],
   "source": [
    "# Modelo\n",
    "model = SymbolicRegressor(population_size=5000,\n",
    "                           generations=25, \n",
    "                           stopping_criteria=0.01,\n",
    "                           p_crossover=0.7, \n",
    "                           p_subtree_mutation=0.1,\n",
    "                           p_hoist_mutation=0.05, \n",
    "                           p_point_mutation=0.1,\n",
    "                           max_samples=0.9, \n",
    "                           verbose=1,\n",
    "                           parsimony_coefficient=0.01, \n",
    "                           random_state=123,\n",
    "                           function_set=['add', 'sub', 'mul', 'div',pot1_fn, pot2_fn])\n",
    "\n",
    "model.fit(X_train, y_train)\n",
    "\n",
    "# Obtener la expresión simbólica\n",
    "expression = model._program\n",
    "print(\"Expresión:\", expression)"
   ]
  },
  {
   "cell_type": "code",
   "execution_count": 10,
   "metadata": {},
   "outputs": [
    {
     "name": "stdout",
     "output_type": "stream",
     "text": [
      "MSE: 4.909670601450528\n",
      "R^2: 0.9898777473692939\n"
     ]
    }
   ],
   "source": [
    "# Predecir en los datos de prueba\n",
    "y_pred = model.predict(X_test)\n",
    "\n",
    "# Calcular métricas\n",
    "mse = mean_squared_error(y_test, y_pred)\n",
    "r2 = r2_score(y_test, y_pred)\n",
    "\n",
    "print(\"MSE:\", mse)\n",
    "print(\"R^2:\", r2)"
   ]
  }
 ],
 "metadata": {
  "kernelspec": {
   "display_name": "env",
   "language": "python",
   "name": "python3"
  },
  "language_info": {
   "codemirror_mode": {
    "name": "ipython",
    "version": 3
   },
   "file_extension": ".py",
   "mimetype": "text/x-python",
   "name": "python",
   "nbconvert_exporter": "python",
   "pygments_lexer": "ipython3",
   "version": "3.10.4"
  }
 },
 "nbformat": 4,
 "nbformat_minor": 2
}
