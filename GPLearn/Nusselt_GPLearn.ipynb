{
  "cells": [
    {
      "cell_type": "markdown",
      "metadata": {
        "id": "9vJYSGHOI3ZE"
      },
      "source": [
        "# Numero de Nusselt"
      ]
    },
    {
      "cell_type": "code",
      "execution_count": 2,
      "metadata": {
        "id": "MhKEnXw5I3ZG"
      },
      "outputs": [],
      "source": [
        "import pandas as pd\n",
        "import matplotlib\n",
        "from gplearn.genetic import SymbolicRegressor\n",
        "from gplearn.functions import make_function\n",
        "from gplearn.fitness import make_fitness\n",
        "from sklearn.ensemble import RandomForestRegressor\n",
        "from sklearn.tree import DecisionTreeRegressor\n",
        "from sklearn.utils.random import check_random_state\n",
        "from sklearn.metrics import mean_absolute_error, mean_absolute_percentage_error, mean_squared_error, r2_score\n",
        "from mpl_toolkits.mplot3d import Axes3D\n",
        "import matplotlib.pyplot as plt\n",
        "import numpy as np\n",
        "from sklearn.tree import export_graphviz\n",
        "#import graphviz\n",
        "import pandas as pd\n"
      ]
    },
    {
      "cell_type": "code",
      "execution_count": 3,
      "metadata": {
        "id": "pLRaOfFbI3ZI"
      },
      "outputs": [],
      "source": [
        "# cargando datos\n",
        "\n",
        "# importacion de DF\n",
        "file_path = 'C:\\\\Users\\\\lucas\\\\Documents\\\\VSCode\\\\CODES\\\\LIB_SR\\\\Dataset_coeficientes\\\\df_n_25.txt'\n",
        "df_n_25 = pd.read_csv(file_path, delimiter=',')\n",
        "\n",
        "file_path = 'C:\\\\Users\\\\lucas\\\\Documents\\\\VSCode\\\\CODES\\\\LIB_SR\\\\Dataset_coeficientes\\\\df_n_53.txt'\n",
        "df_n_53 = pd.read_csv(file_path, delimiter=',')\n",
        "\n",
        "file_path = 'C:\\\\Users\\\\lucas\\\\Documents\\\\VSCode\\\\CODES\\\\LIB_SR\\\\Dataset_coeficientes\\\\df_n_74.txt'\n",
        "df_n_74 = pd.read_csv(file_path, delimiter=',')\n",
        "\n",
        "file_path = 'C:\\\\Users\\\\lucas\\\\Documents\\\\VSCode\\\\CODES\\\\LIB_SR\\\\Dataset_coeficientes\\\\df_n_102.txt'\n",
        "df_n_102 = pd.read_csv(file_path, delimiter=',')"
      ]
    },
    {
      "cell_type": "code",
      "execution_count": 4,
      "metadata": {
        "id": "8KBC0FitI3ZJ"
      },
      "outputs": [],
      "source": [
        "# definiendo conjuntos de train y test\n",
        "\n",
        "# definiendo conjunto de train\n",
        "df_n_train = pd.concat([df_n_25, df_n_74], ignore_index=True)\n",
        "\n",
        "# separando entre x e y\n",
        "y_train = df_n_train.drop(columns=['Current','K','Flujo','t_viento','Diametro','col_fluido','col_celda','n_fluido','n_celda','Rem','prandtl','colIndex'])\n",
        "X_train = df_n_train.drop(columns=['Current','Flujo','t_viento','Diametro','col_fluido','col_celda','n_fluido','n_celda','colIndex','nusselt'])\n",
        "\n",
        "\n",
        "# definiendo conjunto de test\n",
        "\n",
        "y_test = df_n_53.drop(columns=['Current','K','Flujo','t_viento','Diametro','col_fluido','col_celda','n_fluido','n_celda','Rem','prandtl','colIndex'])\n",
        "X_test = df_n_53.drop(columns=['Current','Flujo','t_viento','Diametro','col_fluido','col_celda','n_fluido','n_celda','colIndex','nusselt'])\n",
        "\n",
        "y_train = y_train.values.ravel()"
      ]
    },
    {
      "cell_type": "markdown",
      "metadata": {
        "id": "Ltk79FwoI3ZJ"
      },
      "source": [
        "### Entrenar modelo original"
      ]
    },
    {
      "cell_type": "code",
      "execution_count": null,
      "metadata": {
        "id": "J9aM83aaI3ZK",
        "outputId": "1ba5042e-40d4-4d80-c896-b4ff217c5029"
      },
      "outputs": [
        {
          "name": "stderr",
          "output_type": "stream",
          "text": [
            "d:\\env\\lib\\site-packages\\sklearn\\utils\\validation.py:1339: DataConversionWarning: A column-vector y was passed when a 1d array was expected. Please change the shape of y to (n_samples, ), for example using ravel().\n",
            "  y = column_or_1d(y, warn=True)\n"
          ]
        },
        {
          "name": "stdout",
          "output_type": "stream",
          "text": [
            "    |   Population Average    |             Best Individual              |\n",
            "---- ------------------------- ------------------------------------------ ----------\n",
            " Gen   Length          Fitness   Length          Fitness      OOB Fitness  Time Left\n",
            "   0    32.83      4.89184e+31       31          11.7311            11.78     17.84m\n",
            "   1    17.97      6.65547e+15       31          9.48876          9.30918     10.14m\n",
            "   2    26.49      4.08048e+09       27          6.99431          6.97922     10.41m\n",
            "   3    30.02      1.92981e+13       27          7.00878          6.84901     11.08m\n",
            "   4    29.69       1.2269e+11       27          6.93223          7.53787      9.77m\n",
            "   5    32.47       4.5187e+07       25          6.67603          6.71544     10.18m\n",
            "   6    35.73       1.3954e+09       67          3.30332          3.29504     10.31m\n",
            "   7    38.75      1.40532e+10       57          3.24255          3.28773     11.61m\n",
            "   8    38.52      7.44973e+07       57          3.23477          3.35773     10.30m\n",
            "   9    43.14      1.16198e+08       77          2.43765            2.377     15.41m\n",
            "  10    63.16      1.06491e+10       61           2.2577          2.25474     10.94m\n",
            "  11    69.53      2.85628e+07       67           2.1622           2.1599      9.70m\n",
            "  12    69.45      2.38197e+10       81          2.11824          2.09017      9.22m\n",
            "  13    71.04      5.14839e+10      119          2.05728          2.02094      8.97m\n",
            "  14    68.60       3.9951e+07      119          2.05196           2.0688      8.00m\n",
            "  15    64.62      2.09058e+07       67          2.09549          2.19811      7.48m\n",
            "  16    61.48      1.44958e+07       71          2.09104          2.23829      6.58m\n",
            "  17    59.14           805851       71          2.08622          2.15044      6.15m\n",
            "  18    55.00       1.6344e+07       63          2.08811           2.2588      4.97m\n",
            "  19    51.52      2.51768e+07      101          2.08149          2.08079      4.71m\n",
            "  20    48.46      1.92449e+08       59          2.07987          2.07116      4.21m\n",
            "  21    46.39      2.79738e+08       49          2.08112          2.09479      3.38m\n",
            "  22    45.06      1.57305e+09       63          2.06245          2.17111      2.93m\n"
          ]
        },
        {
          "ename": "KeyboardInterrupt",
          "evalue": "",
          "output_type": "error",
          "traceback": [
            "\u001b[1;31m---------------------------------------------------------------------------\u001b[0m",
            "\u001b[1;31mKeyboardInterrupt\u001b[0m                         Traceback (most recent call last)",
            "Cell \u001b[1;32mIn[10], line 17\u001b[0m\n\u001b[0;32m      1\u001b[0m \u001b[38;5;66;03m# entrenando modelo \u001b[39;00m\n\u001b[0;32m      2\u001b[0m \n\u001b[0;32m      3\u001b[0m \u001b[38;5;66;03m# Modelo\u001b[39;00m\n\u001b[0;32m      4\u001b[0m model \u001b[38;5;241m=\u001b[39m SymbolicRegressor(population_size\u001b[38;5;241m=\u001b[39m\u001b[38;5;241m5000\u001b[39m,\n\u001b[0;32m      5\u001b[0m                            generations\u001b[38;5;241m=\u001b[39m\u001b[38;5;241m30\u001b[39m, \n\u001b[0;32m      6\u001b[0m                            stopping_criteria\u001b[38;5;241m=\u001b[39m\u001b[38;5;241m0.01\u001b[39m,\n\u001b[1;32m   (...)\u001b[0m\n\u001b[0;32m     14\u001b[0m                            random_state\u001b[38;5;241m=\u001b[39m\u001b[38;5;241m123\u001b[39m,\n\u001b[0;32m     15\u001b[0m                            function_set\u001b[38;5;241m=\u001b[39m[\u001b[38;5;124m'\u001b[39m\u001b[38;5;124madd\u001b[39m\u001b[38;5;124m'\u001b[39m, \u001b[38;5;124m'\u001b[39m\u001b[38;5;124msub\u001b[39m\u001b[38;5;124m'\u001b[39m, \u001b[38;5;124m'\u001b[39m\u001b[38;5;124mmul\u001b[39m\u001b[38;5;124m'\u001b[39m, \u001b[38;5;124m'\u001b[39m\u001b[38;5;124mdiv\u001b[39m\u001b[38;5;124m'\u001b[39m])\n\u001b[1;32m---> 17\u001b[0m \u001b[43mmodel\u001b[49m\u001b[38;5;241;43m.\u001b[39;49m\u001b[43mfit\u001b[49m\u001b[43m(\u001b[49m\u001b[43mX_train\u001b[49m\u001b[43m,\u001b[49m\u001b[43m \u001b[49m\u001b[43my_train\u001b[49m\u001b[43m)\u001b[49m\n\u001b[0;32m     19\u001b[0m \u001b[38;5;66;03m# Obtener la expresión simbólica\u001b[39;00m\n\u001b[0;32m     20\u001b[0m expression \u001b[38;5;241m=\u001b[39m model\u001b[38;5;241m.\u001b[39m_program\n",
            "File \u001b[1;32md:\\env\\lib\\site-packages\\gplearn\\genetic.py:476\u001b[0m, in \u001b[0;36mBaseSymbolic.fit\u001b[1;34m(self, X, y, sample_weight)\u001b[0m\n\u001b[0;32m    472\u001b[0m n_jobs, n_programs, starts \u001b[38;5;241m=\u001b[39m _partition_estimators(\n\u001b[0;32m    473\u001b[0m     \u001b[38;5;28mself\u001b[39m\u001b[38;5;241m.\u001b[39mpopulation_size, \u001b[38;5;28mself\u001b[39m\u001b[38;5;241m.\u001b[39mn_jobs)\n\u001b[0;32m    474\u001b[0m seeds \u001b[38;5;241m=\u001b[39m random_state\u001b[38;5;241m.\u001b[39mrandint(MAX_INT, size\u001b[38;5;241m=\u001b[39m\u001b[38;5;28mself\u001b[39m\u001b[38;5;241m.\u001b[39mpopulation_size)\n\u001b[1;32m--> 476\u001b[0m population \u001b[38;5;241m=\u001b[39m \u001b[43mParallel\u001b[49m\u001b[43m(\u001b[49m\u001b[43mn_jobs\u001b[49m\u001b[38;5;241;43m=\u001b[39;49m\u001b[43mn_jobs\u001b[49m\u001b[43m,\u001b[49m\n\u001b[0;32m    477\u001b[0m \u001b[43m                      \u001b[49m\u001b[43mverbose\u001b[49m\u001b[38;5;241;43m=\u001b[39;49m\u001b[38;5;28;43mint\u001b[39;49m\u001b[43m(\u001b[49m\u001b[38;5;28;43mself\u001b[39;49m\u001b[38;5;241;43m.\u001b[39;49m\u001b[43mverbose\u001b[49m\u001b[43m \u001b[49m\u001b[38;5;241;43m>\u001b[39;49m\u001b[43m \u001b[49m\u001b[38;5;241;43m1\u001b[39;49m\u001b[43m)\u001b[49m\u001b[43m)\u001b[49m\u001b[43m(\u001b[49m\n\u001b[0;32m    478\u001b[0m \u001b[43m    \u001b[49m\u001b[43mdelayed\u001b[49m\u001b[43m(\u001b[49m\u001b[43m_parallel_evolve\u001b[49m\u001b[43m)\u001b[49m\u001b[43m(\u001b[49m\u001b[43mn_programs\u001b[49m\u001b[43m[\u001b[49m\u001b[43mi\u001b[49m\u001b[43m]\u001b[49m\u001b[43m,\u001b[49m\n\u001b[0;32m    479\u001b[0m \u001b[43m                              \u001b[49m\u001b[43mparents\u001b[49m\u001b[43m,\u001b[49m\n\u001b[0;32m    480\u001b[0m \u001b[43m                              \u001b[49m\u001b[43mX\u001b[49m\u001b[43m,\u001b[49m\n\u001b[0;32m    481\u001b[0m \u001b[43m                              \u001b[49m\u001b[43my\u001b[49m\u001b[43m,\u001b[49m\n\u001b[0;32m    482\u001b[0m \u001b[43m                              \u001b[49m\u001b[43msample_weight\u001b[49m\u001b[43m,\u001b[49m\n\u001b[0;32m    483\u001b[0m \u001b[43m                              \u001b[49m\u001b[43mseeds\u001b[49m\u001b[43m[\u001b[49m\u001b[43mstarts\u001b[49m\u001b[43m[\u001b[49m\u001b[43mi\u001b[49m\u001b[43m]\u001b[49m\u001b[43m:\u001b[49m\u001b[43mstarts\u001b[49m\u001b[43m[\u001b[49m\u001b[43mi\u001b[49m\u001b[43m \u001b[49m\u001b[38;5;241;43m+\u001b[39;49m\u001b[43m \u001b[49m\u001b[38;5;241;43m1\u001b[39;49m\u001b[43m]\u001b[49m\u001b[43m]\u001b[49m\u001b[43m,\u001b[49m\n\u001b[0;32m    484\u001b[0m \u001b[43m                              \u001b[49m\u001b[43mparams\u001b[49m\u001b[43m)\u001b[49m\n\u001b[0;32m    485\u001b[0m \u001b[43m    \u001b[49m\u001b[38;5;28;43;01mfor\u001b[39;49;00m\u001b[43m \u001b[49m\u001b[43mi\u001b[49m\u001b[43m \u001b[49m\u001b[38;5;129;43;01min\u001b[39;49;00m\u001b[43m \u001b[49m\u001b[38;5;28;43mrange\u001b[39;49m\u001b[43m(\u001b[49m\u001b[43mn_jobs\u001b[49m\u001b[43m)\u001b[49m\u001b[43m)\u001b[49m\n\u001b[0;32m    487\u001b[0m \u001b[38;5;66;03m# Reduce, maintaining order across different n_jobs\u001b[39;00m\n\u001b[0;32m    488\u001b[0m population \u001b[38;5;241m=\u001b[39m \u001b[38;5;28mlist\u001b[39m(itertools\u001b[38;5;241m.\u001b[39mchain\u001b[38;5;241m.\u001b[39mfrom_iterable(population))\n",
            "File \u001b[1;32md:\\env\\lib\\site-packages\\joblib\\parallel.py:1918\u001b[0m, in \u001b[0;36mParallel.__call__\u001b[1;34m(self, iterable)\u001b[0m\n\u001b[0;32m   1916\u001b[0m     output \u001b[38;5;241m=\u001b[39m \u001b[38;5;28mself\u001b[39m\u001b[38;5;241m.\u001b[39m_get_sequential_output(iterable)\n\u001b[0;32m   1917\u001b[0m     \u001b[38;5;28mnext\u001b[39m(output)\n\u001b[1;32m-> 1918\u001b[0m     \u001b[38;5;28;01mreturn\u001b[39;00m output \u001b[38;5;28;01mif\u001b[39;00m \u001b[38;5;28mself\u001b[39m\u001b[38;5;241m.\u001b[39mreturn_generator \u001b[38;5;28;01melse\u001b[39;00m \u001b[38;5;28;43mlist\u001b[39;49m\u001b[43m(\u001b[49m\u001b[43moutput\u001b[49m\u001b[43m)\u001b[49m\n\u001b[0;32m   1920\u001b[0m \u001b[38;5;66;03m# Let's create an ID that uniquely identifies the current call. If the\u001b[39;00m\n\u001b[0;32m   1921\u001b[0m \u001b[38;5;66;03m# call is interrupted early and that the same instance is immediately\u001b[39;00m\n\u001b[0;32m   1922\u001b[0m \u001b[38;5;66;03m# re-used, this id will be used to prevent workers that were\u001b[39;00m\n\u001b[0;32m   1923\u001b[0m \u001b[38;5;66;03m# concurrently finalizing a task from the previous call to run the\u001b[39;00m\n\u001b[0;32m   1924\u001b[0m \u001b[38;5;66;03m# callback.\u001b[39;00m\n\u001b[0;32m   1925\u001b[0m \u001b[38;5;28;01mwith\u001b[39;00m \u001b[38;5;28mself\u001b[39m\u001b[38;5;241m.\u001b[39m_lock:\n",
            "File \u001b[1;32md:\\env\\lib\\site-packages\\joblib\\parallel.py:1847\u001b[0m, in \u001b[0;36mParallel._get_sequential_output\u001b[1;34m(self, iterable)\u001b[0m\n\u001b[0;32m   1845\u001b[0m \u001b[38;5;28mself\u001b[39m\u001b[38;5;241m.\u001b[39mn_dispatched_batches \u001b[38;5;241m+\u001b[39m\u001b[38;5;241m=\u001b[39m \u001b[38;5;241m1\u001b[39m\n\u001b[0;32m   1846\u001b[0m \u001b[38;5;28mself\u001b[39m\u001b[38;5;241m.\u001b[39mn_dispatched_tasks \u001b[38;5;241m+\u001b[39m\u001b[38;5;241m=\u001b[39m \u001b[38;5;241m1\u001b[39m\n\u001b[1;32m-> 1847\u001b[0m res \u001b[38;5;241m=\u001b[39m func(\u001b[38;5;241m*\u001b[39margs, \u001b[38;5;241m*\u001b[39m\u001b[38;5;241m*\u001b[39mkwargs)\n\u001b[0;32m   1848\u001b[0m \u001b[38;5;28mself\u001b[39m\u001b[38;5;241m.\u001b[39mn_completed_tasks \u001b[38;5;241m+\u001b[39m\u001b[38;5;241m=\u001b[39m \u001b[38;5;241m1\u001b[39m\n\u001b[0;32m   1849\u001b[0m \u001b[38;5;28mself\u001b[39m\u001b[38;5;241m.\u001b[39mprint_progress()\n",
            "File \u001b[1;32md:\\env\\lib\\site-packages\\gplearn\\genetic.py:150\u001b[0m, in \u001b[0;36m_parallel_evolve\u001b[1;34m(n_programs, parents, X, y, sample_weight, seeds, params)\u001b[0m\n\u001b[0;32m    147\u001b[0m     program\u001b[38;5;241m.\u001b[39mraw_fitness_ \u001b[38;5;241m=\u001b[39m program\u001b[38;5;241m.\u001b[39mraw_fitness(X, y, curr_sample_weight)\n\u001b[0;32m    148\u001b[0m     \u001b[38;5;28;01mif\u001b[39;00m max_samples \u001b[38;5;241m<\u001b[39m n_samples:\n\u001b[0;32m    149\u001b[0m         \u001b[38;5;66;03m# Calculate OOB fitness\u001b[39;00m\n\u001b[1;32m--> 150\u001b[0m         program\u001b[38;5;241m.\u001b[39moob_fitness_ \u001b[38;5;241m=\u001b[39m \u001b[43mprogram\u001b[49m\u001b[38;5;241;43m.\u001b[39;49m\u001b[43mraw_fitness\u001b[49m\u001b[43m(\u001b[49m\u001b[43mX\u001b[49m\u001b[43m,\u001b[49m\u001b[43m \u001b[49m\u001b[43my\u001b[49m\u001b[43m,\u001b[49m\u001b[43m \u001b[49m\u001b[43moob_sample_weight\u001b[49m\u001b[43m)\u001b[49m\n\u001b[0;32m    152\u001b[0m     programs\u001b[38;5;241m.\u001b[39mappend(program)\n\u001b[0;32m    154\u001b[0m \u001b[38;5;28;01mreturn\u001b[39;00m programs\n",
            "File \u001b[1;32md:\\env\\lib\\site-packages\\gplearn\\_program.py:462\u001b[0m, in \u001b[0;36m_Program.raw_fitness\u001b[1;34m(self, X, y, sample_weight)\u001b[0m\n\u001b[0;32m    441\u001b[0m \u001b[38;5;28;01mdef\u001b[39;00m \u001b[38;5;21mraw_fitness\u001b[39m(\u001b[38;5;28mself\u001b[39m, X, y, sample_weight):\n\u001b[0;32m    442\u001b[0m \u001b[38;5;250m    \u001b[39m\u001b[38;5;124;03m\"\"\"Evaluate the raw fitness of the program according to X, y.\u001b[39;00m\n\u001b[0;32m    443\u001b[0m \n\u001b[0;32m    444\u001b[0m \u001b[38;5;124;03m    Parameters\u001b[39;00m\n\u001b[1;32m   (...)\u001b[0m\n\u001b[0;32m    460\u001b[0m \n\u001b[0;32m    461\u001b[0m \u001b[38;5;124;03m    \"\"\"\u001b[39;00m\n\u001b[1;32m--> 462\u001b[0m     y_pred \u001b[38;5;241m=\u001b[39m \u001b[38;5;28;43mself\u001b[39;49m\u001b[38;5;241;43m.\u001b[39;49m\u001b[43mexecute\u001b[49m\u001b[43m(\u001b[49m\u001b[43mX\u001b[49m\u001b[43m)\u001b[49m\n\u001b[0;32m    463\u001b[0m     \u001b[38;5;28;01mif\u001b[39;00m \u001b[38;5;28mself\u001b[39m\u001b[38;5;241m.\u001b[39mtransformer:\n\u001b[0;32m    464\u001b[0m         y_pred \u001b[38;5;241m=\u001b[39m \u001b[38;5;28mself\u001b[39m\u001b[38;5;241m.\u001b[39mtransformer(y_pred)\n",
            "File \u001b[1;32md:\\env\\lib\\site-packages\\gplearn\\_program.py:380\u001b[0m, in \u001b[0;36m_Program.execute\u001b[1;34m(self, X)\u001b[0m\n\u001b[0;32m    376\u001b[0m function \u001b[38;5;241m=\u001b[39m apply_stack[\u001b[38;5;241m-\u001b[39m\u001b[38;5;241m1\u001b[39m][\u001b[38;5;241m0\u001b[39m]\n\u001b[0;32m    377\u001b[0m terminals \u001b[38;5;241m=\u001b[39m [np\u001b[38;5;241m.\u001b[39mrepeat(t, X\u001b[38;5;241m.\u001b[39mshape[\u001b[38;5;241m0\u001b[39m]) \u001b[38;5;28;01mif\u001b[39;00m \u001b[38;5;28misinstance\u001b[39m(t, \u001b[38;5;28mfloat\u001b[39m)\n\u001b[0;32m    378\u001b[0m              \u001b[38;5;28;01melse\u001b[39;00m X[:, t] \u001b[38;5;28;01mif\u001b[39;00m \u001b[38;5;28misinstance\u001b[39m(t, \u001b[38;5;28mint\u001b[39m)\n\u001b[0;32m    379\u001b[0m              \u001b[38;5;28;01melse\u001b[39;00m t \u001b[38;5;28;01mfor\u001b[39;00m t \u001b[38;5;129;01min\u001b[39;00m apply_stack[\u001b[38;5;241m-\u001b[39m\u001b[38;5;241m1\u001b[39m][\u001b[38;5;241m1\u001b[39m:]]\n\u001b[1;32m--> 380\u001b[0m intermediate_result \u001b[38;5;241m=\u001b[39m \u001b[43mfunction\u001b[49m\u001b[43m(\u001b[49m\u001b[38;5;241;43m*\u001b[39;49m\u001b[43mterminals\u001b[49m\u001b[43m)\u001b[49m\n\u001b[0;32m    381\u001b[0m \u001b[38;5;28;01mif\u001b[39;00m \u001b[38;5;28mlen\u001b[39m(apply_stack) \u001b[38;5;241m!=\u001b[39m \u001b[38;5;241m1\u001b[39m:\n\u001b[0;32m    382\u001b[0m     apply_stack\u001b[38;5;241m.\u001b[39mpop()\n",
            "File \u001b[1;32md:\\env\\lib\\site-packages\\gplearn\\functions.py:46\u001b[0m, in \u001b[0;36m_Function.__call__\u001b[1;34m(self, *args)\u001b[0m\n\u001b[0;32m     45\u001b[0m \u001b[38;5;28;01mdef\u001b[39;00m \u001b[38;5;21m__call__\u001b[39m(\u001b[38;5;28mself\u001b[39m, \u001b[38;5;241m*\u001b[39margs):\n\u001b[1;32m---> 46\u001b[0m     \u001b[38;5;28;01mreturn\u001b[39;00m \u001b[38;5;28;43mself\u001b[39;49m\u001b[38;5;241;43m.\u001b[39;49m\u001b[43mfunction\u001b[49m\u001b[43m(\u001b[49m\u001b[38;5;241;43m*\u001b[39;49m\u001b[43margs\u001b[49m\u001b[43m)\u001b[49m\n",
            "\u001b[1;31mKeyboardInterrupt\u001b[0m: "
          ]
        }
      ],
      "source": [
        "# entrenando modelo\n",
        "\n",
        "# Modelo\n",
        "model = SymbolicRegressor(population_size=5000,\n",
        "                        generations=30,\n",
        "                        stopping_criteria=0.01,\n",
        "                        p_crossover=0.7,\n",
        "                        p_subtree_mutation=0.1,\n",
        "                        p_hoist_mutation=0.05,\n",
        "                        p_point_mutation=0.1,\n",
        "                        max_samples=0.9,\n",
        "                        verbose=1,\n",
        "                        parsimony_coefficient=0.01,\n",
        "                        random_state=123,\n",
        "                        function_set=['add', 'sub', 'mul', 'div'])\n",
        "\n",
        "model.fit(X_train, y_train)\n",
        "\n",
        "# Obtener la expresión simbólica\n",
        "expression = model._program\n",
        "print(\"Expresión:\", expression)"
      ]
    },
    {
      "cell_type": "code",
      "execution_count": null,
      "metadata": {
        "id": "JmZPWC8lI3ZK",
        "outputId": "41b67981-6c52-4772-b346-9884ff4353c8"
      },
      "outputs": [
        {
          "name": "stdout",
          "output_type": "stream",
          "text": [
            "MSE: 11.00072279485055\n",
            "R^2: 0.9773198439795644\n"
          ]
        }
      ],
      "source": [
        "# Predecir en los datos de prueba\n",
        "y_pred = model.predict(X_test)\n",
        "\n",
        "# Calcular métricas\n",
        "mse = mean_squared_error(y_test, y_pred)\n",
        "r2 = r2_score(y_test, y_pred)\n",
        "\n",
        "print(\"MSE:\", mse)\n",
        "print(\"R^2:\", r2)"
      ]
    },
    {
      "cell_type": "markdown",
      "metadata": {
        "id": "7UwXBjdQI3ZL"
      },
      "source": [
        "### Entrenar agregando  potencias V1"
      ]
    },
    {
      "cell_type": "code",
      "execution_count": null,
      "metadata": {
        "id": "SFcVRULuI3ZL"
      },
      "outputs": [],
      "source": [
        "# creando funciones auxiliares\n",
        "\n",
        "\n",
        "# 0.5 * S ^(-0.2)\n",
        "def pot1(x1):\n",
        "    with np.errstate(divide='ignore', invalid='ignore'):\n",
        "        result = np.where(x1 > 0, 0.5*x1**(-0.2), 0)\n",
        "    return result\n",
        "\n",
        "pot1_fn = make_function(function=pot1,\n",
        "                        name='pot1',\n",
        "                        arity=1)\n",
        "\n",
        "# Re^(0.64) *Pr\n",
        "def pot2(x1,x2):\n",
        "    with np.errstate(divide='ignore', invalid='ignore'):\n",
        "        result = np.where(x1 > 0, x1**(0.64)*x2, 0)\n",
        "    return result\n",
        "\n",
        "pot2_fn = make_function(function=pot2,\n",
        "                        name='pot2',\n",
        "                        arity=2)\n"
      ]
    },
    {
      "cell_type": "code",
      "execution_count": null,
      "metadata": {
        "id": "2RP9oDeaI3ZM",
        "outputId": "3c8484e7-e29f-48e5-c2d8-c9da0498afa1"
      },
      "outputs": [
        {
          "name": "stderr",
          "output_type": "stream",
          "text": [
            "d:\\env\\lib\\site-packages\\sklearn\\utils\\validation.py:1339: DataConversionWarning: A column-vector y was passed when a 1d array was expected. Please change the shape of y to (n_samples, ), for example using ravel().\n",
            "  y = column_or_1d(y, warn=True)\n"
          ]
        },
        {
          "name": "stdout",
          "output_type": "stream",
          "text": [
            "    |   Population Average    |             Best Individual              |\n",
            "---- ------------------------- ------------------------------------------ ----------\n",
            " Gen   Length          Fitness   Length          Fitness      OOB Fitness  Time Left\n",
            "   0    24.91      1.49917e+18       18          2.66988          2.67641     21.73m\n",
            "   1    19.34      1.05018e+08       18          2.67266          2.65142     17.54m\n",
            "   2    24.46      1.52122e+08       38           1.5917          1.64675     19.08m\n",
            "   3    23.76      9.01816e+10       45          1.55893          1.59787     18.05m\n",
            "   4    23.16      9.65336e+09       29          1.55417          1.57869     21.14m\n",
            "   5    27.10       1.0189e+10       33          1.55048          1.55992     18.92m\n",
            "   6    29.47       1.7731e+06       25          1.52482          1.57193     19.04m\n",
            "   7    23.65           159348       25          1.52548          1.56594     14.12m\n",
            "   8    21.43      1.64753e+06       25          1.52125          1.60405     11.78m\n",
            "   9    20.13           672594       42          1.51838          1.60835     13.21m\n",
            "  10    18.10      2.19288e+06       21          1.52004          1.61429     11.62m\n",
            "  11    15.60      5.20825e+09       20          1.52041          1.60975     10.06m\n",
            "  12    13.16          69063.8       20          1.52079          1.60639     11.15m\n",
            "  13    12.00          78178.6       11          1.53527          1.66004      9.84m\n",
            "  14    11.34          75986.1       11          1.53469          1.66533      8.57m\n",
            "  15    11.07          19996.4       11          1.53407          1.67084      7.65m\n",
            "  16    10.96          39548.4       11          1.53515          1.66114      6.58m\n",
            "  17    11.11      5.14653e+09       11            1.535          1.66248      4.99m\n",
            "  18    11.05      1.11534e+06       11          1.53368          1.67435      4.29m\n",
            "  19    11.07          69076.3       11          1.53137          1.69516      3.65m\n",
            "  20    11.01           122934       11          1.53431          1.66869      2.75m\n",
            "  21    11.01          34222.8       11          1.53264          1.68376      2.21m\n",
            "  22    11.00      7.10207e+07       11          1.53359          1.67517      1.41m\n",
            "  23    11.06           698001       11          1.53196           1.6899     44.44s\n",
            "  24    11.00      1.19546e+06       11          1.53411          1.67051      0.00s\n",
            "Expresión: pot2(pot2(pot1(0.892), mul(X1, 0.892)), pot1(div(X0, X2)))\n"
          ]
        }
      ],
      "source": [
        "# Modelo\n",
        "model = SymbolicRegressor(population_size=5000,\n",
        "                           generations=25,\n",
        "                           stopping_criteria=0.01,\n",
        "                           p_crossover=0.7,\n",
        "                           p_subtree_mutation=0.1,\n",
        "                           p_hoist_mutation=0.05,\n",
        "                           p_point_mutation=0.1,\n",
        "                           max_samples=0.9,\n",
        "                           verbose=1,\n",
        "                           parsimony_coefficient=0.01,\n",
        "                           random_state=123,\n",
        "                           function_set=['add', 'sub', 'mul', 'div',pot1_fn,pot2_fn])\n",
        "\n",
        "model.fit(X_train, y_train)\n",
        "\n",
        "# Obtener la expresión simbólica\n",
        "expression = model._program\n",
        "print(\"Expresión:\", expression)"
      ]
    },
    {
      "cell_type": "code",
      "execution_count": null,
      "metadata": {
        "id": "fDLLoR2_I3ZM",
        "outputId": "5b8fed8d-4e35-42fb-d277-77be24341333"
      },
      "outputs": [
        {
          "name": "stdout",
          "output_type": "stream",
          "text": [
            "MSE: 4.800143692048582\n",
            "R^2: 0.9901035586582426\n"
          ]
        }
      ],
      "source": [
        "# Predecir en los datos de prueba\n",
        "y_pred = model.predict(X_test)\n",
        "\n",
        "# Calcular métricas\n",
        "mse = mean_squared_error(y_test, y_pred)\n",
        "r2 = r2_score(y_test, y_pred)\n",
        "\n",
        "print(\"MSE:\", mse)\n",
        "print(\"R^2:\", r2)"
      ]
    },
    {
      "cell_type": "markdown",
      "metadata": {
        "id": "cWW5UWcnI3ZN"
      },
      "source": [
        "# 0.4015568 * X1 ^(0.64) * (X0/X2)^(-2)"
      ]
    },
    {
      "cell_type": "code",
      "execution_count": null,
      "metadata": {
        "id": "Lc4psIh0I3ZN"
      },
      "outputs": [],
      "source": [
        "# comparar con modelo de Rafael\n",
        "\n",
        "def nusselt(S, Re, Pr):\n",
        "    return 0.5 * S **(-0.2) * Re **(0.64) * Pr\n",
        "\n",
        "def nusselt_gp(S, Re, Pr):\n",
        "    return 0.3575 * Re **(0.64) * (S/Pr)**(-0.2)"
      ]
    },
    {
      "cell_type": "code",
      "execution_count": null,
      "metadata": {
        "id": "zLCEWveTI3ZN",
        "outputId": "c7ae5e5e-99db-4208-b061-80a361d87f5e"
      },
      "outputs": [
        {
          "data": {
            "text/html": [
              "<div>\n",
              "<style scoped>\n",
              "    .dataframe tbody tr th:only-of-type {\n",
              "        vertical-align: middle;\n",
              "    }\n",
              "\n",
              "    .dataframe tbody tr th {\n",
              "        vertical-align: top;\n",
              "    }\n",
              "\n",
              "    .dataframe thead th {\n",
              "        text-align: right;\n",
              "    }\n",
              "</style>\n",
              "<table border=\"1\" class=\"dataframe\">\n",
              "  <thead>\n",
              "    <tr style=\"text-align: right;\">\n",
              "      <th></th>\n",
              "      <th>K</th>\n",
              "      <th>Rem</th>\n",
              "      <th>prandtl</th>\n",
              "    </tr>\n",
              "  </thead>\n",
              "  <tbody>\n",
              "    <tr>\n",
              "      <th>0</th>\n",
              "      <td>0.6</td>\n",
              "      <td>2824.604561</td>\n",
              "      <td>0.709843</td>\n",
              "    </tr>\n",
              "    <tr>\n",
              "      <th>1</th>\n",
              "      <td>0.6</td>\n",
              "      <td>2824.604561</td>\n",
              "      <td>0.709843</td>\n",
              "    </tr>\n",
              "    <tr>\n",
              "      <th>2</th>\n",
              "      <td>0.6</td>\n",
              "      <td>2352.302465</td>\n",
              "      <td>0.709842</td>\n",
              "    </tr>\n",
              "    <tr>\n",
              "      <th>3</th>\n",
              "      <td>0.6</td>\n",
              "      <td>2000.632597</td>\n",
              "      <td>0.709842</td>\n",
              "    </tr>\n",
              "    <tr>\n",
              "      <th>4</th>\n",
              "      <td>0.6</td>\n",
              "      <td>1878.735604</td>\n",
              "      <td>0.709842</td>\n",
              "    </tr>\n",
              "    <tr>\n",
              "      <th>...</th>\n",
              "      <td>...</td>\n",
              "      <td>...</td>\n",
              "      <td>...</td>\n",
              "    </tr>\n",
              "    <tr>\n",
              "      <th>8605</th>\n",
              "      <td>1.2</td>\n",
              "      <td>9267.885175</td>\n",
              "      <td>0.707768</td>\n",
              "    </tr>\n",
              "    <tr>\n",
              "      <th>8606</th>\n",
              "      <td>1.2</td>\n",
              "      <td>8959.387980</td>\n",
              "      <td>0.707705</td>\n",
              "    </tr>\n",
              "    <tr>\n",
              "      <th>8607</th>\n",
              "      <td>1.2</td>\n",
              "      <td>8691.558442</td>\n",
              "      <td>0.707625</td>\n",
              "    </tr>\n",
              "    <tr>\n",
              "      <th>8608</th>\n",
              "      <td>1.2</td>\n",
              "      <td>8537.950633</td>\n",
              "      <td>0.707554</td>\n",
              "    </tr>\n",
              "    <tr>\n",
              "      <th>8609</th>\n",
              "      <td>1.2</td>\n",
              "      <td>8360.980275</td>\n",
              "      <td>0.707482</td>\n",
              "    </tr>\n",
              "  </tbody>\n",
              "</table>\n",
              "<p>8610 rows × 3 columns</p>\n",
              "</div>"
            ],
            "text/plain": [
              "        K          Rem   prandtl\n",
              "0     0.6  2824.604561  0.709843\n",
              "1     0.6  2824.604561  0.709843\n",
              "2     0.6  2352.302465  0.709842\n",
              "3     0.6  2000.632597  0.709842\n",
              "4     0.6  1878.735604  0.709842\n",
              "...   ...          ...       ...\n",
              "8605  1.2  9267.885175  0.707768\n",
              "8606  1.2  8959.387980  0.707705\n",
              "8607  1.2  8691.558442  0.707625\n",
              "8608  1.2  8537.950633  0.707554\n",
              "8609  1.2  8360.980275  0.707482\n",
              "\n",
              "[8610 rows x 3 columns]"
            ]
          },
          "execution_count": 6,
          "metadata": {},
          "output_type": "execute_result"
        }
      ],
      "source": [
        "X_test"
      ]
    },
    {
      "cell_type": "code",
      "execution_count": null,
      "metadata": {
        "id": "AAs19eTFI3ZN",
        "outputId": "09ed9477-3661-40ca-ece5-c08dc6f40b30"
      },
      "outputs": [
        {
          "name": "stdout",
          "output_type": "stream",
          "text": [
            "R^2 cdrag original: 0.9509992536047758, R^2 cdrag GPLearn: 0.9898656037772775 \n",
            "MSE cdrag original: 23.767192225174124, MSE cdrag GPLearn: 4.915560697152972 \n",
            "MAE cdrag original: 4.174721418276441, MAE cdrag GPLearn: 1.6305633774376995 \n",
            "MAPE cdrag original: 7.197154998836116*100, MAPE cdrag GPLearn: 2.8637994390677814*100 \n"
          ]
        }
      ],
      "source": [
        "# Calcular cdrag_pred y cdrag_gp_pred en vectores separados\n",
        "cdrag_pred = X_test.apply(lambda row: nusselt(row['K'], row['Rem'], row['prandtl']), axis=1).values\n",
        "cdrag_gp_pred = X_test.apply(lambda row: nusselt_gp(row['K'], row['Rem'], row['prandtl']), axis=1).values\n",
        "\n",
        "# Calcular R^2 y MSE para cdrag\n",
        "r2_cdrag = r2_score(y_test['nusselt'], cdrag_pred)\n",
        "mse_cdrag = mean_squared_error(y_test['nusselt'], cdrag_pred)\n",
        "\n",
        "# Calcular MAE y MAPE para cdrag\n",
        "mae_cdrag = mean_absolute_error(y_test['nusselt'], cdrag_pred)\n",
        "mape_cdrag = mean_absolute_percentage_error(y_test['nusselt'], cdrag_pred)\n",
        "\n",
        "# Calcular R^2 y MSE para cdrag_gp\n",
        "r2_cdrag_gp = r2_score(y_test['nusselt'], cdrag_gp_pred)\n",
        "mse_cdrag_gp = mean_squared_error(y_test['nusselt'], cdrag_gp_pred)\n",
        "\n",
        "# Calcular MAE y MAPE para cdrag_gp\n",
        "mae_cdrag_gp = mean_absolute_error(y_test['nusselt'], cdrag_gp_pred)\n",
        "mape_cdrag_gp = mean_absolute_percentage_error(y_test['nusselt'], cdrag_gp_pred)\n",
        "\n",
        "#  Mostrar Metricas\n",
        "\n",
        "print(f\"R^2 cdrag original: {r2_cdrag}, R^2 cdrag GPLearn: {r2_cdrag_gp} \")\n",
        "print(f\"MSE cdrag original: {mse_cdrag}, MSE cdrag GPLearn: {mse_cdrag_gp} \")\n",
        "print(f\"MAE cdrag original: {mae_cdrag}, MAE cdrag GPLearn: {mae_cdrag_gp} \")\n",
        "print(f\"MAPE cdrag original: {mape_cdrag*100}*100, MAPE cdrag GPLearn: {mape_cdrag_gp*100}*100 \")"
      ]
    },
    {
      "cell_type": "markdown",
      "metadata": {
        "id": "Ifkvrmr8I3ZO"
      },
      "source": [
        "### Entrenar agregando  potencias V2"
      ]
    },
    {
      "cell_type": "code",
      "execution_count": null,
      "metadata": {
        "id": "11n9gt3uI3ZO"
      },
      "outputs": [],
      "source": [
        "### Entrenar agregando  potencias V2\n",
        "\n",
        "# 0.5 * S ^(-0.2) * Re ^0.64 * Pr\n",
        "def pot1(x1, x2, x3):\n",
        "    with np.errstate(divide='ignore', invalid='ignore'):\n",
        "        result = np.where((x1 > 0) & (x2>0) & (x3>0), 0.5*x1**(-0.2)* x2 **(0.64) * x3, 0)\n",
        "    return result\n",
        "\n",
        "pot1_fn = make_function(function=pot1,\n",
        "                        name='pot1',\n",
        "                        arity=3)\n"
      ]
    },
    {
      "cell_type": "code",
      "execution_count": null,
      "metadata": {
        "id": "eUOjBlikI3ZO",
        "outputId": "15806c79-998c-4f5c-c7eb-3c6b7bfa569c"
      },
      "outputs": [
        {
          "data": {
            "text/plain": [
              "count    15900.000000\n",
              "mean         0.708010\n",
              "std          0.001358\n",
              "min          0.695312\n",
              "25%          0.707104\n",
              "50%          0.707981\n",
              "75%          0.709256\n",
              "max          0.710697\n",
              "Name: prandtl, dtype: float64"
            ]
          },
          "execution_count": 26,
          "metadata": {},
          "output_type": "execute_result"
        }
      ],
      "source": [
        "X_train['prandtl'].describe()"
      ]
    },
    {
      "cell_type": "code",
      "execution_count": null,
      "metadata": {
        "id": "cCxSnitLI3ZO",
        "outputId": "848d32f0-f50d-4668-da7b-00a5ce946888"
      },
      "outputs": [
        {
          "name": "stderr",
          "output_type": "stream",
          "text": [
            "d:\\env\\lib\\site-packages\\sklearn\\utils\\validation.py:1339: DataConversionWarning: A column-vector y was passed when a 1d array was expected. Please change the shape of y to (n_samples, ), for example using ravel().\n",
            "  y = column_or_1d(y, warn=True)\n"
          ]
        },
        {
          "name": "stdout",
          "output_type": "stream",
          "text": [
            "    |   Population Average    |             Best Individual              |\n",
            "---- ------------------------- ------------------------------------------ ----------\n",
            " Gen   Length          Fitness   Length          Fitness      OOB Fitness  Time Left\n",
            "   0    51.11      2.23472e+16       37          4.69737          4.72079     33.76m\n",
            "   1    28.93      2.31285e+07       11          3.68762          3.68981     16.80m\n",
            "   2    36.28      2.41273e+06       16          2.76631          2.74759     22.18m\n",
            "   3    24.33       1.2282e+07        6           1.5527          1.64455     16.29m\n",
            "   4    13.73      4.08384e+07        4          1.54242           1.6014     10.69m\n",
            "   5    16.32           355479        4          1.53925          1.62987      9.97m\n",
            "   6    12.83           301063       10          1.52804          1.55206      7.30m\n",
            "   7     7.90      1.28664e+08        8          1.51811          1.56201      5.29m\n",
            "   8     4.75      3.37881e+06        8          1.52101          1.53591      4.38m\n",
            "   9     4.33           941079        4          1.52693          1.67874      4.07m\n",
            "  10     4.45      1.63458e+06        4          1.52511          1.69504      4.06m\n",
            "  11     4.34           365247        4          1.52846          1.66488      3.27m\n",
            "  12     4.41      2.76611e+09        4          1.52449           1.7007      2.89m\n",
            "  13     4.34            18542        4           1.5257          1.68974      2.43m\n",
            "  14     4.27           461053        4          1.52769          1.67183      2.13m\n",
            "  15     4.48      2.41509e+09        4          1.52659          1.68173      2.01m\n",
            "  16     4.32      7.00678e+10        4          1.52776          1.67123      1.44m\n",
            "  17     4.37           123717        4          1.52768          1.67191     49.43s\n",
            "  18     4.35      1.93605e+07        4          1.52814          1.66785     25.12s\n",
            "  19     4.36      1.37974e+07        4          1.52713          1.67693      0.00s\n",
            "Expresión: pot1(X0, X1, 0.660)\n"
          ]
        }
      ],
      "source": [
        "# Modelo\n",
        "model = SymbolicRegressor(population_size=5000,\n",
        "                           generations=20,\n",
        "                           stopping_criteria=0.01,\n",
        "                           p_crossover=0.7,\n",
        "                           p_subtree_mutation=0.1,\n",
        "                           p_hoist_mutation=0.05,\n",
        "                           p_point_mutation=0.1,\n",
        "                           max_samples=0.9,\n",
        "                           verbose=1,\n",
        "                           parsimony_coefficient=0.01,\n",
        "                           random_state=123,\n",
        "                           function_set=['add', 'sub', 'mul', 'div',pot1_fn])\n",
        "\n",
        "model.fit(X_train, y_train)\n",
        "\n",
        "# Obtener la expresión simbólica\n",
        "expression = model._program\n",
        "print(\"Expresión:\", expression)"
      ]
    },
    {
      "cell_type": "code",
      "execution_count": null,
      "metadata": {
        "id": "RnEhyG-bI3ZP"
      },
      "outputs": [],
      "source": [
        "# comparar con modelo de Rafael\n",
        "\n",
        "def nusselt(S, Re, Pr):\n",
        "    return 0.5 * S **(-0.2) * Re **(0.64) * Pr\n",
        "\n",
        "def nusselt_gp(S, Re, Pr):\n",
        "    return 0.5 * S **(-0.2)*Re **(0.64) * 0.660"
      ]
    },
    {
      "cell_type": "code",
      "execution_count": null,
      "metadata": {
        "id": "eNSlpBq7I3ZP",
        "outputId": "20ea95d4-5e9c-452f-99ac-00e4814e5df4"
      },
      "outputs": [
        {
          "name": "stdout",
          "output_type": "stream",
          "text": [
            "R^2 cdrag original: 0.9509992536047758, R^2 cdrag GPLearn: 0.9901974685565402 \n",
            "MSE cdrag original: 23.767192225174124, MSE cdrag GPLearn: 4.754593883752133 \n",
            "MAE cdrag original: 4.174721418276441, MAE cdrag GPLearn: 1.5605096310233906 \n",
            "MAPE cdrag original: 7.197154998836116*100, MAPE cdrag GPLearn: 2.720218831637322*100 \n"
          ]
        }
      ],
      "source": [
        "# Calcular cdrag_pred y cdrag_gp_pred en vectores separados\n",
        "cdrag_pred = X_test.apply(lambda row: nusselt(row['K'], row['Rem'], row['prandtl']), axis=1).values\n",
        "cdrag_gp_pred = X_test.apply(lambda row: nusselt_gp(row['K'], row['Rem'], row['prandtl']), axis=1).values\n",
        "\n",
        "# Calcular R^2 y MSE para cdrag\n",
        "r2_cdrag = r2_score(y_test['nusselt'], cdrag_pred)\n",
        "mse_cdrag = mean_squared_error(y_test['nusselt'], cdrag_pred)\n",
        "\n",
        "# Calcular MAE y MAPE para cdrag\n",
        "mae_cdrag = mean_absolute_error(y_test['nusselt'], cdrag_pred)\n",
        "mape_cdrag = mean_absolute_percentage_error(y_test['nusselt'], cdrag_pred)\n",
        "\n",
        "# Calcular R^2 y MSE para cdrag_gp\n",
        "r2_cdrag_gp = r2_score(y_test['nusselt'], cdrag_gp_pred)\n",
        "mse_cdrag_gp = mean_squared_error(y_test['nusselt'], cdrag_gp_pred)\n",
        "\n",
        "# Calcular MAE y MAPE para cdrag_gp\n",
        "mae_cdrag_gp = mean_absolute_error(y_test['nusselt'], cdrag_gp_pred)\n",
        "mape_cdrag_gp = mean_absolute_percentage_error(y_test['nusselt'], cdrag_gp_pred)\n",
        "\n",
        "#  Mostrar Metricas\n",
        "\n",
        "print(f\"R^2 cdrag original: {r2_cdrag}, R^2 cdrag GPLearn: {r2_cdrag_gp} \")\n",
        "print(f\"MSE cdrag original: {mse_cdrag}, MSE cdrag GPLearn: {mse_cdrag_gp} \")\n",
        "print(f\"MAE cdrag original: {mae_cdrag}, MAE cdrag GPLearn: {mae_cdrag_gp} \")\n",
        "print(f\"MAPE cdrag original: {mape_cdrag*100}*100, MAPE cdrag GPLearn: {mape_cdrag_gp*100}*100 \")"
      ]
    },
    {
      "cell_type": "markdown",
      "metadata": {
        "id": "bNcAFiMlI3ZP"
      },
      "source": [
        "Se consiguen mejores metricas sin incluir el prantdl, ¿pero tendra sentido físico?"
      ]
    },
    {
      "cell_type": "markdown",
      "metadata": {
        "id": "lqO11gUaI3ZQ"
      },
      "source": [
        "### Entrenar agregando  potencias V3"
      ]
    },
    {
      "cell_type": "code",
      "execution_count": null,
      "metadata": {
        "id": "WKxzK_ZSI3ZQ"
      },
      "outputs": [],
      "source": [
        "# * S ^(-0.2)\n",
        "def pot1(x1):\n",
        "    with np.errstate(divide='ignore', invalid='ignore'):\n",
        "        result = np.where(x1 > 0, x1**(-0.2), 0)\n",
        "    return result\n",
        "\n",
        "pot1_fn = make_function(function=pot1,\n",
        "                        name='pot1',\n",
        "                        arity=1)\n",
        "\n",
        "# 0.5*Re^(0.64) *Pr\n",
        "def pot2(x1,x2):\n",
        "    with np.errstate(divide='ignore', invalid='ignore'):\n",
        "        result = np.where((x1 > 0) & (x2>0), 0.5*x1**(0.64)*x2, 0)\n",
        "    return result\n",
        "\n",
        "pot2_fn = make_function(function=pot2,\n",
        "                        name='pot2',\n",
        "                        arity=2)\n"
      ]
    },
    {
      "cell_type": "code",
      "execution_count": null,
      "metadata": {
        "id": "QwQQ8VdgI3ZQ",
        "outputId": "6f7aa4eb-e51e-47f5-b2d8-e23f67592d8d"
      },
      "outputs": [
        {
          "name": "stderr",
          "output_type": "stream",
          "text": [
            "d:\\env\\lib\\site-packages\\sklearn\\utils\\validation.py:1339: DataConversionWarning: A column-vector y was passed when a 1d array was expected. Please change the shape of y to (n_samples, ), for example using ravel().\n",
            "  y = column_or_1d(y, warn=True)\n"
          ]
        },
        {
          "name": "stdout",
          "output_type": "stream",
          "text": [
            "    |   Population Average    |             Best Individual              |\n",
            "---- ------------------------- ------------------------------------------ ----------\n",
            " Gen   Length          Fitness   Length          Fitness      OOB Fitness  Time Left\n",
            "   0    24.91      1.35864e+18        6          4.81152           4.8322     17.77m\n",
            "   1    19.51      2.05391e+06       27          3.48503          3.42718     16.74m\n",
            "   2    19.99      2.67266e+10       13           2.4308          2.58527     11.96m\n",
            "   3    12.47      9.96721e+06       13          1.55962          1.58239      7.97m\n",
            "   4    18.36       3.2885e+07       13          1.55991          1.57979     12.35m\n",
            "   5    16.84      9.28862e+06       18          1.53076          1.53807     10.16m\n",
            "   6    18.48          18241.2       18          1.52855          1.55796     11.24m\n",
            "   7    14.55          16603.9       18          1.52596           1.5813      9.77m\n",
            "   8    11.01           596001       15          1.52178           1.5448      7.16m\n",
            "   9     8.75           715122       11          1.52072          1.65643      5.87m\n",
            "  10     7.40           313653       11          1.52781           1.5926      7.07m\n",
            "  11     7.18      2.60277e+09        7          1.53639          1.68222      7.36m\n",
            "  12     7.19           456218        7          1.53543          1.69085      5.81m\n",
            "  13     7.18           267522        7          1.53733          1.67374      5.55m\n",
            "  14     7.17          19468.7        7           1.5385          1.66319      4.36m\n",
            "  15     7.15           802552        7          1.53735          1.67357      2.78m\n",
            "  16     7.12          42203.3        7          1.53801           1.6676      1.87m\n",
            "  17     7.20      2.39822e+09        7          1.53836          1.66444      1.36m\n",
            "  18     7.17      1.33134e+07        7          1.53591          1.68649     37.02s\n",
            "  19     7.18           276932        7           1.5361          1.68487      0.00s\n",
            "Expresión: pot2(pot1(0.116), pot2(X1, pot1(X0)))\n"
          ]
        }
      ],
      "source": [
        "# Modelo\n",
        "model = SymbolicRegressor(population_size=5000,\n",
        "                           generations=20,\n",
        "                           stopping_criteria=0.01,\n",
        "                           p_crossover=0.7,\n",
        "                           p_subtree_mutation=0.1,\n",
        "                           p_hoist_mutation=0.05,\n",
        "                           p_point_mutation=0.1,\n",
        "                           max_samples=0.9,\n",
        "                           verbose=1,\n",
        "                           parsimony_coefficient=0.01,\n",
        "                           random_state=123,\n",
        "                           function_set=['add', 'sub', 'mul', 'div',pot1_fn,pot2_fn])\n",
        "\n",
        "model.fit(X_train, y_train)\n",
        "\n",
        "# Obtener la expresión simbólica\n",
        "expression = model._program\n",
        "print(\"Expresión:\", expression)"
      ]
    },
    {
      "cell_type": "code",
      "execution_count": null,
      "metadata": {
        "id": "EkEetYbgI3ZR",
        "outputId": "a41a265c-799a-4e3a-f49d-cda66365d19b"
      },
      "outputs": [
        {
          "name": "stdout",
          "output_type": "stream",
          "text": [
            "MSE: 4.849711232645084\n",
            "R^2: 0.9900013654137402\n"
          ]
        }
      ],
      "source": [
        "# Predecir en los datos de prueba\n",
        "y_pred = model.predict(X_test)\n",
        "\n",
        "# Calcular métricas\n",
        "mse = mean_squared_error(y_test, y_pred)\n",
        "r2 = r2_score(y_test, y_pred)\n",
        "\n",
        "print(\"MSE:\", mse)\n",
        "print(\"R^2:\", r2)"
      ]
    },
    {
      "cell_type": "code",
      "execution_count": null,
      "metadata": {
        "id": "l-TPBVU5I3ZS"
      },
      "outputs": [],
      "source": [
        "def nusselt(S, Re, Pr):\n",
        "    return 0.5 * S **(-0.2) * Re **(0.64) * Pr\n",
        "\n",
        "def nusselt_gp(S, Re, Pr):\n",
        "    return 0.4065 * S**(-0.2) *Re **(0.64)"
      ]
    },
    {
      "cell_type": "code",
      "execution_count": null,
      "metadata": {
        "id": "UBMzxjhCI3ZS",
        "outputId": "95e230c9-227f-41e8-e010-9361e0adcc89"
      },
      "outputs": [
        {
          "name": "stdout",
          "output_type": "stream",
          "text": [
            "R^2 cdrag original: 0.9509992536047758, R^2 cdrag GPLearn: 0.5671402704718504 \n",
            "MSE cdrag original: 23.767192225174124, MSE cdrag GPLearn: 209.95313653497948 \n",
            "MAE cdrag original: 4.174721418276441, MAE cdrag GPLearn: 13.461254276672511 \n",
            "MAPE cdrag original: 7.197154998836116*100, MAPE cdrag GPLearn: 22.902589897738164*100 \n"
          ]
        }
      ],
      "source": [
        "# Calcular cdrag_pred y cdrag_gp_pred en vectores separados\n",
        "cdrag_pred = X_test.apply(lambda row: nusselt(row['K'], row['Rem'], row['prandtl']), axis=1).values\n",
        "cdrag_gp_pred = X_test.apply(lambda row: nusselt_gp(row['K'], row['Rem'], row['prandtl']), axis=1).values\n",
        "\n",
        "# Calcular R^2 y MSE para cdrag\n",
        "r2_cdrag = r2_score(y_test['nusselt'], cdrag_pred)\n",
        "mse_cdrag = mean_squared_error(y_test['nusselt'], cdrag_pred)\n",
        "\n",
        "# Calcular MAE y MAPE para cdrag\n",
        "mae_cdrag = mean_absolute_error(y_test['nusselt'], cdrag_pred)\n",
        "mape_cdrag = mean_absolute_percentage_error(y_test['nusselt'], cdrag_pred)\n",
        "\n",
        "# Calcular R^2 y MSE para cdrag_gp\n",
        "r2_cdrag_gp = r2_score(y_test['nusselt'], cdrag_gp_pred)\n",
        "mse_cdrag_gp = mean_squared_error(y_test['nusselt'], cdrag_gp_pred)\n",
        "\n",
        "# Calcular MAE y MAPE para cdrag_gp\n",
        "mae_cdrag_gp = mean_absolute_error(y_test['nusselt'], cdrag_gp_pred)\n",
        "mape_cdrag_gp = mean_absolute_percentage_error(y_test['nusselt'], cdrag_gp_pred)\n",
        "\n",
        "#  Mostrar Metricas\n",
        "\n",
        "print(f\"R^2 cdrag original: {r2_cdrag}, R^2 cdrag GPLearn: {r2_cdrag_gp} \")\n",
        "print(f\"MSE cdrag original: {mse_cdrag}, MSE cdrag GPLearn: {mse_cdrag_gp} \")\n",
        "print(f\"MAE cdrag original: {mae_cdrag}, MAE cdrag GPLearn: {mae_cdrag_gp} \")\n",
        "print(f\"MAPE cdrag original: {mape_cdrag*100}*100, MAPE cdrag GPLearn: {mape_cdrag_gp*100}*100 \")"
      ]
    },
    {
      "cell_type": "markdown",
      "metadata": {
        "id": "MMwj1UmKI3ZS"
      },
      "source": [
        "### Entrenar agregando potencias V4"
      ]
    },
    {
      "cell_type": "code",
      "execution_count": null,
      "metadata": {
        "id": "HMM1agt3I3ZS"
      },
      "outputs": [],
      "source": [
        "# * S ^(-0.2) * Pr\n",
        "def pot1(x1,x2):\n",
        "    with np.errstate(divide='ignore', invalid='ignore'):\n",
        "        result = np.where((x1 > 0) & (x2>0), x1**(-0.2)*x2, 0)\n",
        "    return result\n",
        "\n",
        "pot1_fn = make_function(function=pot1,\n",
        "                        name='pot1',\n",
        "                        arity=2)\n",
        "\n",
        "# 0.5*Re^(0.64)\n",
        "def pot2(x1):\n",
        "    with np.errstate(divide='ignore', invalid='ignore'):\n",
        "        result = np.where((x1 > 0) , 0.5*x1**(0.64), 0)\n",
        "    return result\n",
        "\n",
        "pot2_fn = make_function(function=pot2,\n",
        "                        name='pot2',\n",
        "                        arity=1)\n"
      ]
    },
    {
      "cell_type": "code",
      "execution_count": null,
      "metadata": {
        "id": "p0ApBl20I3ZT",
        "outputId": "bdbc93b2-e468-4553-d41a-578a32cf38f9"
      },
      "outputs": [
        {
          "name": "stderr",
          "output_type": "stream",
          "text": [
            "d:\\env\\lib\\site-packages\\sklearn\\utils\\validation.py:1339: DataConversionWarning: A column-vector y was passed when a 1d array was expected. Please change the shape of y to (n_samples, ), for example using ravel().\n",
            "  y = column_or_1d(y, warn=True)\n"
          ]
        },
        {
          "name": "stdout",
          "output_type": "stream",
          "text": [
            "    |   Population Average    |             Best Individual              |\n",
            "---- ------------------------- ------------------------------------------ ----------\n",
            " Gen   Length          Fitness   Length          Fitness      OOB Fitness  Time Left\n",
            "   0    24.85      3.75924e+11        8          2.27472          2.31835     19.15m\n",
            "   1    18.24           144130       35          1.90703          1.93398     12.97m\n",
            "   2    25.53            28689       11          1.81943          1.84413     17.83m\n",
            "   3    45.30          15447.7       11          1.81137          1.91659     24.54m\n",
            "   4    27.54          6584.38       16          1.55501          1.52351     15.98m\n",
            "   5    21.27      1.83745e+07       16          1.55029          1.56591     12.34m\n",
            "   6    16.35          7812.12       16          1.54852          1.61831     10.56m\n",
            "   7    12.99           3417.8       16          1.54867          1.58055      8.25m\n",
            "   8    12.03          2422.51       16          1.54599          1.60465      7.38m\n",
            "   9    11.17          15319.3       16           1.5428          1.63335      6.81m\n",
            "  10    11.13          6429.65       16          1.54618          1.60295      6.42m\n",
            "  11    10.96          5925.26       11          1.54871          1.60717      5.68m\n",
            "  12    10.83          2790.11       11          1.54622          1.62952      4.49m\n",
            "  13    10.23          7136.53       11          1.54536          1.63732      3.65m\n",
            "  14     9.34          11673.5       11          1.54602          1.63134      3.06m\n",
            "  15     9.06          9051.11       11          1.54691          1.62334      2.28m\n",
            "  16     8.95          32710.6        9           1.5531          1.67992      1.74m\n",
            "  17     9.16          10631.4        9          1.54626          1.74143      1.25m\n",
            "  18     9.14          3363.54        9          1.55179          1.69168     33.10s\n",
            "  19     9.16          12724.3        9          1.55199          1.68989      0.00s\n",
            "Expresión: pot1(div(X0, pot2(0.631)), pot2(mul(X1, X2)))\n"
          ]
        }
      ],
      "source": [
        "# Modelo\n",
        "model = SymbolicRegressor(population_size=5000,\n",
        "                           generations=20,\n",
        "                           stopping_criteria=0.01,\n",
        "                           p_crossover=0.7,\n",
        "                           p_subtree_mutation=0.1,\n",
        "                           p_hoist_mutation=0.05,\n",
        "                           p_point_mutation=0.1,\n",
        "                           max_samples=0.9,\n",
        "                           verbose=1,\n",
        "                           parsimony_coefficient=0.01,\n",
        "                           random_state=123,\n",
        "                           function_set=['add', 'sub', 'mul', 'div',pot1_fn,pot2_fn])\n",
        "\n",
        "model.fit(X_train, y_train)\n",
        "\n",
        "# Obtener la expresión simbólica\n",
        "expression = model._program\n",
        "print(\"Expresión:\", expression)"
      ]
    },
    {
      "cell_type": "code",
      "execution_count": null,
      "metadata": {
        "id": "hukjke3rI3ZT",
        "outputId": "f3b6fd37-1d9e-4aed-f9af-9d0b978277fe"
      },
      "outputs": [
        {
          "name": "stdout",
          "output_type": "stream",
          "text": [
            "MSE: 4.920381752448901\n",
            "R^2: 0.989855664222547\n"
          ]
        }
      ],
      "source": [
        "# Predecir en los datos de prueba\n",
        "y_pred = model.predict(X_test)\n",
        "\n",
        "# Calcular métricas\n",
        "mse = mean_squared_error(y_test, y_pred)\n",
        "r2 = r2_score(y_test, y_pred)\n",
        "\n",
        "print(\"MSE:\", mse)\n",
        "print(\"R^2:\", r2)"
      ]
    },
    {
      "cell_type": "code",
      "execution_count": null,
      "metadata": {
        "id": "WYrHC74ZI3ZT",
        "outputId": "972715bd-cba2-4a2a-887a-f823f3c2ae4d"
      },
      "outputs": [
        {
          "data": {
            "text/html": [
              "<div>\n",
              "<style scoped>\n",
              "    .dataframe tbody tr th:only-of-type {\n",
              "        vertical-align: middle;\n",
              "    }\n",
              "\n",
              "    .dataframe tbody tr th {\n",
              "        vertical-align: top;\n",
              "    }\n",
              "\n",
              "    .dataframe thead th {\n",
              "        text-align: right;\n",
              "    }\n",
              "</style>\n",
              "<table border=\"1\" class=\"dataframe\">\n",
              "  <thead>\n",
              "    <tr style=\"text-align: right;\">\n",
              "      <th></th>\n",
              "      <th>K</th>\n",
              "      <th>Rem</th>\n",
              "      <th>prandtl</th>\n",
              "    </tr>\n",
              "  </thead>\n",
              "  <tbody>\n",
              "    <tr>\n",
              "      <th>0</th>\n",
              "      <td>0.6</td>\n",
              "      <td>2824.604561</td>\n",
              "      <td>0.709843</td>\n",
              "    </tr>\n",
              "    <tr>\n",
              "      <th>1</th>\n",
              "      <td>0.6</td>\n",
              "      <td>2824.604561</td>\n",
              "      <td>0.709843</td>\n",
              "    </tr>\n",
              "    <tr>\n",
              "      <th>2</th>\n",
              "      <td>0.6</td>\n",
              "      <td>2352.302465</td>\n",
              "      <td>0.709842</td>\n",
              "    </tr>\n",
              "    <tr>\n",
              "      <th>3</th>\n",
              "      <td>0.6</td>\n",
              "      <td>2000.632597</td>\n",
              "      <td>0.709842</td>\n",
              "    </tr>\n",
              "    <tr>\n",
              "      <th>4</th>\n",
              "      <td>0.6</td>\n",
              "      <td>1878.735604</td>\n",
              "      <td>0.709842</td>\n",
              "    </tr>\n",
              "    <tr>\n",
              "      <th>...</th>\n",
              "      <td>...</td>\n",
              "      <td>...</td>\n",
              "      <td>...</td>\n",
              "    </tr>\n",
              "    <tr>\n",
              "      <th>8605</th>\n",
              "      <td>1.2</td>\n",
              "      <td>9267.885175</td>\n",
              "      <td>0.707768</td>\n",
              "    </tr>\n",
              "    <tr>\n",
              "      <th>8606</th>\n",
              "      <td>1.2</td>\n",
              "      <td>8959.387980</td>\n",
              "      <td>0.707705</td>\n",
              "    </tr>\n",
              "    <tr>\n",
              "      <th>8607</th>\n",
              "      <td>1.2</td>\n",
              "      <td>8691.558442</td>\n",
              "      <td>0.707625</td>\n",
              "    </tr>\n",
              "    <tr>\n",
              "      <th>8608</th>\n",
              "      <td>1.2</td>\n",
              "      <td>8537.950633</td>\n",
              "      <td>0.707554</td>\n",
              "    </tr>\n",
              "    <tr>\n",
              "      <th>8609</th>\n",
              "      <td>1.2</td>\n",
              "      <td>8360.980275</td>\n",
              "      <td>0.707482</td>\n",
              "    </tr>\n",
              "  </tbody>\n",
              "</table>\n",
              "<p>8610 rows × 3 columns</p>\n",
              "</div>"
            ],
            "text/plain": [
              "        K          Rem   prandtl\n",
              "0     0.6  2824.604561  0.709843\n",
              "1     0.6  2824.604561  0.709843\n",
              "2     0.6  2352.302465  0.709842\n",
              "3     0.6  2000.632597  0.709842\n",
              "4     0.6  1878.735604  0.709842\n",
              "...   ...          ...       ...\n",
              "8605  1.2  9267.885175  0.707768\n",
              "8606  1.2  8959.387980  0.707705\n",
              "8607  1.2  8691.558442  0.707625\n",
              "8608  1.2  8537.950633  0.707554\n",
              "8609  1.2  8360.980275  0.707482\n",
              "\n",
              "[8610 rows x 3 columns]"
            ]
          },
          "execution_count": 43,
          "metadata": {},
          "output_type": "execute_result"
        }
      ],
      "source": [
        "X_test"
      ]
    },
    {
      "cell_type": "code",
      "execution_count": null,
      "metadata": {
        "id": "0sTFgiOkI3ZU"
      },
      "outputs": [],
      "source": [
        "def nusselt(S, Re, Pr):\n",
        "    return 0.5 * S **(-0.2) * Re **(0.64) * Pr\n",
        "\n",
        "def nusselt_gp(S, Re, Pr):\n",
        "    return 0.425 * S**(-0.2) *(Re*Pr) **(0.64)"
      ]
    },
    {
      "cell_type": "code",
      "execution_count": null,
      "metadata": {
        "id": "U29jxNFjI3ZU",
        "outputId": "e3c9d39d-faff-4f79-8dd9-bfbb8e11057b"
      },
      "outputs": [
        {
          "data": {
            "text/html": [
              "<div>\n",
              "<style scoped>\n",
              "    .dataframe tbody tr th:only-of-type {\n",
              "        vertical-align: middle;\n",
              "    }\n",
              "\n",
              "    .dataframe tbody tr th {\n",
              "        vertical-align: top;\n",
              "    }\n",
              "\n",
              "    .dataframe thead th {\n",
              "        text-align: right;\n",
              "    }\n",
              "</style>\n",
              "<table border=\"1\" class=\"dataframe\">\n",
              "  <thead>\n",
              "    <tr style=\"text-align: right;\">\n",
              "      <th></th>\n",
              "      <th>nusselt</th>\n",
              "    </tr>\n",
              "  </thead>\n",
              "  <tbody>\n",
              "    <tr>\n",
              "      <th>0</th>\n",
              "      <td>61.165728</td>\n",
              "    </tr>\n",
              "    <tr>\n",
              "      <th>1</th>\n",
              "      <td>52.824696</td>\n",
              "    </tr>\n",
              "    <tr>\n",
              "      <th>2</th>\n",
              "      <td>50.527730</td>\n",
              "    </tr>\n",
              "    <tr>\n",
              "      <th>3</th>\n",
              "      <td>48.422178</td>\n",
              "    </tr>\n",
              "    <tr>\n",
              "      <th>4</th>\n",
              "      <td>48.421871</td>\n",
              "    </tr>\n",
              "    <tr>\n",
              "      <th>...</th>\n",
              "      <td>...</td>\n",
              "    </tr>\n",
              "    <tr>\n",
              "      <th>8605</th>\n",
              "      <td>108.036259</td>\n",
              "    </tr>\n",
              "    <tr>\n",
              "      <th>8606</th>\n",
              "      <td>104.910067</td>\n",
              "    </tr>\n",
              "    <tr>\n",
              "      <th>8607</th>\n",
              "      <td>105.201331</td>\n",
              "    </tr>\n",
              "    <tr>\n",
              "      <th>8608</th>\n",
              "      <td>107.374645</td>\n",
              "    </tr>\n",
              "    <tr>\n",
              "      <th>8609</th>\n",
              "      <td>100.891507</td>\n",
              "    </tr>\n",
              "  </tbody>\n",
              "</table>\n",
              "<p>8610 rows × 1 columns</p>\n",
              "</div>"
            ],
            "text/plain": [
              "         nusselt\n",
              "0      61.165728\n",
              "1      52.824696\n",
              "2      50.527730\n",
              "3      48.422178\n",
              "4      48.421871\n",
              "...          ...\n",
              "8605  108.036259\n",
              "8606  104.910067\n",
              "8607  105.201331\n",
              "8608  107.374645\n",
              "8609  100.891507\n",
              "\n",
              "[8610 rows x 1 columns]"
            ]
          },
          "execution_count": 44,
          "metadata": {},
          "output_type": "execute_result"
        }
      ],
      "source": []
    },
    {
      "cell_type": "code",
      "execution_count": null,
      "metadata": {
        "id": "b0mfKXGRI3ZU",
        "outputId": "4f48f3a4-9d2c-4827-f249-e4e0c6d81838"
      },
      "outputs": [
        {
          "name": "stdout",
          "output_type": "stream",
          "text": [
            "R^2 cdrag original: 0.9509992536047758, R^2 cdrag GPLearn: 0.9834064526321625 \n",
            "MSE cdrag original: 23.767192225174124, MSE cdrag GPLearn: 8.048490257841516 \n",
            "MAE cdrag original: 4.174721418276441, MAE cdrag GPLearn: 2.204764220777838 \n",
            "MAPE cdrag original: 7.197154998836116*100, MAPE cdrag GPLearn: 3.8382421591454543*100 \n"
          ]
        }
      ],
      "source": [
        "# Calcular cdrag_pred y cdrag_gp_pred en vectores separados\n",
        "cdrag_pred = X_test.apply(lambda row: nusselt(row['K'], row['Rem'], row['prandtl']), axis=1).values\n",
        "cdrag_gp_pred = X_test.apply(lambda row: nusselt_gp(row['K'], row['Rem'], row['prandtl']), axis=1).values\n",
        "\n",
        "# Calcular R^2 y MSE para cdrag\n",
        "r2_cdrag = r2_score(y_test['nusselt'], cdrag_pred)\n",
        "mse_cdrag = mean_squared_error(y_test['nusselt'], cdrag_pred)\n",
        "\n",
        "# Calcular MAE y MAPE para cdrag\n",
        "mae_cdrag = mean_absolute_error(y_test['nusselt'], cdrag_pred)\n",
        "mape_cdrag = mean_absolute_percentage_error(y_test['nusselt'], cdrag_pred)\n",
        "\n",
        "# Calcular R^2 y MSE para cdrag_gp\n",
        "r2_cdrag_gp = r2_score(y_test['nusselt'], cdrag_gp_pred)\n",
        "mse_cdrag_gp = mean_squared_error(y_test['nusselt'], cdrag_gp_pred)\n",
        "\n",
        "# Calcular MAE y MAPE para cdrag_gp\n",
        "mae_cdrag_gp = mean_absolute_error(y_test['nusselt'], cdrag_gp_pred)\n",
        "mape_cdrag_gp = mean_absolute_percentage_error(y_test['nusselt'], cdrag_gp_pred)\n",
        "\n",
        "#  Mostrar Metricas\n",
        "\n",
        "print(f\"R^2 cdrag original: {r2_cdrag}, R^2 cdrag GPLearn: {r2_cdrag_gp} \")\n",
        "print(f\"MSE cdrag original: {mse_cdrag}, MSE cdrag GPLearn: {mse_cdrag_gp} \")\n",
        "print(f\"MAE cdrag original: {mae_cdrag}, MAE cdrag GPLearn: {mae_cdrag_gp} \")\n",
        "print(f\"MAPE cdrag original: {mape_cdrag*100}*100, MAPE cdrag GPLearn: {mape_cdrag_gp*100}*100 \")"
      ]
    },
    {
      "cell_type": "markdown",
      "metadata": {
        "id": "dmfk78yHI3ZV"
      },
      "source": [
        "### Entrenar agregando potencias V4"
      ]
    },
    {
      "cell_type": "code",
      "execution_count": null,
      "metadata": {
        "id": "KyVH2YziI3ZV"
      },
      "outputs": [],
      "source": [
        "# 0.5 * S ^(-0.2) * Pr\n",
        "def pot1(x1,x2):\n",
        "    with np.errstate(divide='ignore', invalid='ignore'):\n",
        "        result = np.where((x1 > 0) & (x2>0),0.5*x1**(-0.2)*x2, 0)\n",
        "    return result\n",
        "\n",
        "pot1_fn = make_function(function=pot1,\n",
        "                        name='pot1',\n",
        "                        arity=2)\n",
        "\n",
        "# Re^(0.64)\n",
        "def pot2(x1):\n",
        "    with np.errstate(divide='ignore', invalid='ignore'):\n",
        "        result = np.where((x1 > 0) , x1**(0.64), 0)\n",
        "    return result\n",
        "\n",
        "pot2_fn = make_function(function=pot2,\n",
        "                        name='pot2',\n",
        "                        arity=1)"
      ]
    },
    {
      "cell_type": "code",
      "execution_count": null,
      "metadata": {
        "id": "LU67KHvnI3ZV",
        "outputId": "1dddfaa9-dd1f-4577-f935-7945ff713b5e"
      },
      "outputs": [
        {
          "name": "stderr",
          "output_type": "stream",
          "text": [
            "d:\\env\\lib\\site-packages\\sklearn\\utils\\validation.py:1339: DataConversionWarning: A column-vector y was passed when a 1d array was expected. Please change the shape of y to (n_samples, ), for example using ravel().\n",
            "  y = column_or_1d(y, warn=True)\n"
          ]
        },
        {
          "name": "stdout",
          "output_type": "stream",
          "text": [
            "    |   Population Average    |             Best Individual              |\n",
            "---- ------------------------- ------------------------------------------ ----------\n",
            " Gen   Length          Fitness   Length          Fitness      OOB Fitness  Time Left\n",
            "   0    24.85      2.63625e+11       28          2.13181          2.13015     17.50m\n",
            "   1    22.52       1.0166e+07       24          1.71166          1.70853     14.45m\n",
            "   2    28.67           123170       24          1.70518          1.76685     19.13m\n",
            "   3    27.14          10805.9       11            1.544           1.5088     15.15m\n",
            "   4    26.88          8492.31       11          1.53039          1.63125     14.78m\n",
            "   5    22.10      1.83723e+07       11          1.53442          1.59497     11.13m\n",
            "   6    14.49      1.95097e+06       11          1.53082          1.62744      7.79m\n",
            "   7    10.37          6396.48       11          1.52825          1.65051      6.65m\n",
            "   8    10.03          2480.13       11          1.52442            1.685      6.71m\n",
            "   9     8.48          8626.56        7          1.52586          1.67279      6.10m\n",
            "  10     7.39          10231.5        7          1.52746          1.65839      5.37m\n",
            "  11     7.10          1775.49        7          1.52594          1.67204      4.93m\n",
            "  12     7.17          8423.47        7          1.52505          1.68006      4.25m\n",
            "  13     7.11          6456.02        7           1.5269          1.66343      3.87m\n",
            "  14     7.02          8430.94        7           1.5216          1.71116      2.97m\n",
            "  15     7.07          387.845        7          1.52702          1.66236      2.40m\n",
            "  16     7.00          26548.1        7          1.52812          1.65246      1.78m\n",
            "  17     7.09          11195.2        7          1.52778          1.65555      1.21m\n",
            "  18     7.12          9607.42        7          1.52571          1.67415     36.02s\n",
            "  19     7.10          6905.65        7          1.52555          1.67559      0.00s\n",
            "Expresión: pot1(X0, pot2(pot1(pot2(X2), X1)))\n"
          ]
        }
      ],
      "source": [
        "# Modelo\n",
        "model = SymbolicRegressor(population_size=5000,\n",
        "                           generations=20,\n",
        "                           stopping_criteria=0.01,\n",
        "                           p_crossover=0.7,\n",
        "                           p_subtree_mutation=0.1,\n",
        "                           p_hoist_mutation=0.05,\n",
        "                           p_point_mutation=0.1,\n",
        "                           max_samples=0.9,\n",
        "                           verbose=1,\n",
        "                           parsimony_coefficient=0.01,\n",
        "                           random_state=123,\n",
        "                           function_set=['add', 'sub', 'mul', 'div',pot1_fn,pot2_fn])\n",
        "\n",
        "model.fit(X_train, y_train)\n",
        "\n",
        "# Obtener la expresión simbólica\n",
        "expression = model._program\n",
        "print(\"Expresión:\", expression)"
      ]
    },
    {
      "cell_type": "code",
      "execution_count": null,
      "metadata": {
        "id": "oCRQQXfAI3ZW",
        "outputId": "cb3084b2-68e3-4cfc-ada7-00a34dfb8cba"
      },
      "outputs": [
        {
          "name": "stdout",
          "output_type": "stream",
          "text": [
            "MSE: 4.744489424390825\n",
            "R^2: 0.9902183008890233\n"
          ]
        }
      ],
      "source": [
        "# Predecir en los datos de prueba\n",
        "y_pred = model.predict(X_test)\n",
        "\n",
        "# Calcular métricas\n",
        "mse = mean_squared_error(y_test, y_pred)\n",
        "r2 = r2_score(y_test, y_pred)\n",
        "\n",
        "print(\"MSE:\", mse)\n",
        "print(\"R^2:\", r2)"
      ]
    },
    {
      "cell_type": "code",
      "execution_count": null,
      "metadata": {
        "id": "z1iEA9K7I3ZW"
      },
      "outputs": [],
      "source": [
        "def nusselt(S, Re, Pr):\n",
        "    return 0.5 * S **(-0.2) * Re **(0.64) * Pr\n",
        "\n",
        "def nusselt_gp(S, Re, Pr):\n",
        "    return 0.32086 * S**(-0.2) * Re**(0.64) * Pr**(-0.0806)"
      ]
    },
    {
      "cell_type": "code",
      "execution_count": null,
      "metadata": {
        "colab": {
          "base_uri": "https://localhost:8080/"
        },
        "id": "XGBIBPfrI3ZX",
        "outputId": "d39a5d7d-d7bd-4018-9fd4-28e4af4ed5ce"
      },
      "outputs": [
        {
          "name": "stdout",
          "output_type": "stream",
          "text": [
            "R^2 cdrag original: 0.9509992536047758, R^2 cdrag GPLearn: 0.9901893887939061 \n",
            "MSE cdrag original: 23.767192225174124, MSE cdrag GPLearn: 4.75851287041635 \n",
            "MAE cdrag original: 4.174721418276441, MAE cdrag GPLearn: 1.5608072500947368 \n",
            "MAPE cdrag original: 7.197154998836116*100, MAPE cdrag GPLearn: 2.719390533868199*100 \n"
          ]
        }
      ],
      "source": [
        "# Calcular cdrag_pred y cdrag_gp_pred en vectores separados\n",
        "cdrag_pred = X_test.apply(lambda row: nusselt(row['K'], row['Rem'], row['prandtl']), axis=1).values\n",
        "cdrag_gp_pred = X_test.apply(lambda row: nusselt_gp(row['K'], row['Rem'], row['prandtl']), axis=1).values\n",
        "\n",
        "# Calcular R^2 y MSE para cdrag\n",
        "r2_cdrag = r2_score(y_test['nusselt'], cdrag_pred)\n",
        "mse_cdrag = mean_squared_error(y_test['nusselt'], cdrag_pred)\n",
        "\n",
        "# Calcular MAE y MAPE para cdrag\n",
        "mae_cdrag = mean_absolute_error(y_test['nusselt'], cdrag_pred)\n",
        "mape_cdrag = mean_absolute_percentage_error(y_test['nusselt'], cdrag_pred)\n",
        "\n",
        "# Calcular R^2 y MSE para cdrag_gp\n",
        "r2_cdrag_gp = r2_score(y_test['nusselt'], cdrag_gp_pred)\n",
        "mse_cdrag_gp = mean_squared_error(y_test['nusselt'], cdrag_gp_pred)\n",
        "\n",
        "# Calcular MAE y MAPE para cdrag_gp\n",
        "mae_cdrag_gp = mean_absolute_error(y_test['nusselt'], cdrag_gp_pred)\n",
        "mape_cdrag_gp = mean_absolute_percentage_error(y_test['nusselt'], cdrag_gp_pred)\n",
        "\n",
        "#  Mostrar Metricas\n",
        "\n",
        "print(f\"R^2 cdrag original: {r2_cdrag}, R^2 cdrag GPLearn: {r2_cdrag_gp} \")\n",
        "print(f\"MSE cdrag original: {mse_cdrag}, MSE cdrag GPLearn: {mse_cdrag_gp} \")\n",
        "print(f\"MAE cdrag original: {mae_cdrag}, MAE cdrag GPLearn: {mae_cdrag_gp} \")\n",
        "print(f\"MAPE cdrag original: {mape_cdrag*100}*100, MAPE cdrag GPLearn: {mape_cdrag_gp*100}*100 \")"
      ]
    },
    {
      "cell_type": "markdown",
      "metadata": {
        "id": "hd6XBItKI3ZX"
      },
      "source": [
        "### Experimento: ajuste automatico de constante"
      ]
    },
    {
      "cell_type": "code",
      "execution_count": null,
      "metadata": {
        "id": "uHez9IpdI3ZX"
      },
      "outputs": [],
      "source": [
        "# X4 * S ^(-0.2) * Re ^0.64 * Pr\n",
        "def pot1(x1, x2, x3, A):\n",
        "    con = (A>0) & (A<1)\n",
        "    with np.errstate(divide='ignore', invalid='ignore'):\n",
        "        result = np.where((x1 > 0) & (x2>0) & (x3>0) & con, A*x1**(-0.2)* x2 **(0.64) * x3, 0)\n",
        "    return result\n",
        "\n",
        "pot1 = make_function(function=pot1,\n",
        "                        name='pot1',\n",
        "                        arity=4)"
      ]
    },
    {
      "cell_type": "code",
      "execution_count": null,
      "metadata": {
        "colab": {
          "base_uri": "https://localhost:8080/"
        },
        "id": "2MWbNdIgI3ZY",
        "outputId": "2a7266e4-3fa6-4e31-b401-c247802eb667"
      },
      "outputs": [
        {
          "name": "stdout",
          "output_type": "stream",
          "text": [
            "    |   Population Average    |             Best Individual              |\n",
            "---- ------------------------- ------------------------------------------ ----------\n",
            " Gen   Length          Fitness   Length          Fitness      OOB Fitness  Time Left\n",
            "   0   759.06          424.947        9          8.75726           8.7988    594.60m\n",
            "   1    11.69          4408.86        9          7.71734          7.90505     11.42m\n",
            "   2     7.97            27399        9          2.51058          2.61845      8.41m\n",
            "   3     8.36          2911.96        5          1.92589          1.87022      8.27m\n",
            "   4     9.80           148170        9          1.58864          1.57872      9.17m\n",
            "   5     9.82          41887.8        9          1.58689          1.59444      8.20m\n",
            "   6    10.09          33362.6        9          1.57781           1.6762      7.84m\n",
            "   7     9.00          6850.15        9          1.56749          1.63974      6.74m\n",
            "   8     9.26          12757.4        9          1.55632          1.56564      6.05m\n",
            "   9     9.40          12087.9        9          1.55611          1.56752      5.70m\n",
            "  10     9.26          1734.63        9          1.55071          1.61614      4.98m\n",
            "  11     9.59            23533        9          1.54602          1.65837      4.66m\n",
            "  12     9.92          1642.34        9          1.54325          1.66343      4.09m\n",
            "  13     9.55          835.536        9          1.54283          1.68707      3.33m\n",
            "  14     9.41          1482.42        9          1.54323          1.68344      2.79m\n",
            "  15    10.57          22492.2        9          1.53796          1.54782      2.54m\n",
            "  16     9.42          1941.13        9           1.5325          1.59698      1.65m\n",
            "  17     9.77          5161.72        9          1.53441          1.57977      1.17m\n",
            "  18     9.52          2338.65        9          1.52775          1.63976     33.58s\n",
            "  19    10.48          1006.44        9          1.52611          1.65446      0.00s\n",
            "Expresión: pot1(pot1(0.587, 0.472, X0, X2), X1, 0.404, 0.710)\n"
          ]
        }
      ],
      "source": [
        "# Modelo\n",
        "model = SymbolicRegressor(population_size=5000,\n",
        "                        generations=20,\n",
        "                        stopping_criteria=0.01,\n",
        "                        p_crossover=0.7,\n",
        "                        p_subtree_mutation=0.1,\n",
        "                        p_hoist_mutation=0.05,\n",
        "                        p_point_mutation=0.1,\n",
        "                        max_samples=0.9,\n",
        "                        verbose=1,\n",
        "                        parsimony_coefficient=0.01,\n",
        "                        random_state=0,\n",
        "                        function_set=[pot1])\n",
        "\n",
        "model.fit(X_train, y_train)\n",
        "\n",
        "# Obtener la expresión simbólica\n",
        "expression = model._program\n",
        "print(\"Expresión:\", expression)"
      ]
    },
    {
      "cell_type": "code",
      "execution_count": null,
      "metadata": {
        "colab": {
          "base_uri": "https://localhost:8080/"
        },
        "id": "C7DsgFl8nGla",
        "outputId": "1c672c9b-0bb3-4fd0-973a-557a7f34b9e2"
      },
      "outputs": [
        {
          "name": "stdout",
          "output_type": "stream",
          "text": [
            "MSE: 4.694393322970937\n",
            "R^2: 0.9903215838657338\n"
          ]
        }
      ],
      "source": [
        "y_pred = model.predict(X_test)\n",
        "\n",
        "# Calcular métricas\n",
        "mse = mean_squared_error(y_test, y_pred)\n",
        "r2 = r2_score(y_test, y_pred)\n",
        "\n",
        "print(\"MSE:\", mse)\n",
        "print(\"R^2:\", r2)"
      ]
    },
    {
      "cell_type": "code",
      "execution_count": null,
      "metadata": {
        "id": "W3Npuv32Osco"
      },
      "outputs": [],
      "source": [
        "def nusselt(S, Re, Pr):\n",
        "    return 0.5 * S **(-0.2) * Re **(0.64) * Pr\n",
        "\n",
        "def nusselt_gp(S, Re, Pr):\n",
        "    return 0.30912*(S*Pr)**(-0.2)*Re**(0.64)"
      ]
    },
    {
      "cell_type": "code",
      "execution_count": null,
      "metadata": {
        "colab": {
          "base_uri": "https://localhost:8080/"
        },
        "id": "sIqCwraDPXfo",
        "outputId": "c2b5b032-71cb-4b31-8d27-acf89e1e0df6"
      },
      "outputs": [
        {
          "name": "stdout",
          "output_type": "stream",
          "text": [
            "R^2 nusselt original: 0.9509992536047758, R^2 nusselt GPLearn: 0.990348112149519 \n",
            "MSE nusselt original: 23.767192225174124, MSE nusselt GPLearn: 4.681526114478963 \n",
            "MAE nusselt original: 4.174721418276441, MAE nusselt GPLearn: 1.5603540746549476 \n",
            "MAPE nusselt original: 7.197154998836116%, MAPE nusselt GPLearn: 2.7361180199534223% \n"
          ]
        }
      ],
      "source": [
        "# Calcular nusselt_pred y nusselt_gp_pred en vectores separados\n",
        "nusselt_pred = X_test.apply(lambda row: nusselt(row['K'], row['Rem'], row['prandtl']), axis=1).values\n",
        "nusselt_gp_pred = X_test.apply(lambda row: nusselt_gp(row['K'], row['Rem'], row['prandtl']), axis=1).values\n",
        "\n",
        "# Calcular R^2 y MSE para nusselt\n",
        "r2_nusselt = r2_score(y_test['nusselt'], nusselt_pred)\n",
        "mse_nusselt = mean_squared_error(y_test['nusselt'], nusselt_pred)\n",
        "\n",
        "# Calcular MAE y MAPE para nusselt\n",
        "mae_nusselt = mean_absolute_error(y_test['nusselt'], nusselt_pred)\n",
        "mape_nusselt = mean_absolute_percentage_error(y_test['nusselt'], nusselt_pred)\n",
        "\n",
        "# Calcular R^2 y MSE para nusselt_gp\n",
        "r2_nusselt_gp = r2_score(y_test['nusselt'], nusselt_gp_pred)\n",
        "mse_nusselt_gp = mean_squared_error(y_test['nusselt'], nusselt_gp_pred)\n",
        "\n",
        "# Calcular MAE y MAPE para nusselt_gp\n",
        "mae_nusselt_gp = mean_absolute_error(y_test['nusselt'], nusselt_gp_pred)\n",
        "mape_nusselt_gp = mean_absolute_percentage_error(y_test['nusselt'], nusselt_gp_pred)\n",
        "\n",
        "#  Mostrar Métricas\n",
        "\n",
        "print(f\"R^2 nusselt original: {r2_nusselt}, R^2 nusselt GPLearn: {r2_nusselt_gp} \")\n",
        "print(f\"MSE nusselt original: {mse_nusselt}, MSE nusselt GPLearn: {mse_nusselt_gp} \")\n",
        "print(f\"MAE nusselt original: {mae_nusselt}, MAE nusselt GPLearn: {mae_nusselt_gp} \")\n",
        "print(f\"MAPE nusselt original: {mape_nusselt*100}%, MAPE nusselt GPLearn: {mape_nusselt_gp*100}% \")"
      ]
    },
    {
      "cell_type": "markdown",
      "metadata": {
        "id": "8J1DNJbNtXeW"
      },
      "source": [
        "### Experimento: Ajuste automatico de exponente"
      ]
    },
    {
      "cell_type": "code",
      "execution_count": null,
      "metadata": {
        "id": "lZJ0vGr_tb7M"
      },
      "outputs": [],
      "source": [
        "# x1* A\n",
        "def pot1(x1, A):\n",
        "    con = (x1>0)\n",
        "    con2 = (A<1) & (A>-1)\n",
        "    with np.errstate(divide='ignore', invalid='ignore'):\n",
        "        result = np.where(con & con2, np.power(x1,A), 0)\n",
        "    return result\n",
        "\n",
        "pot1_fn = make_function(function=pot1,\n",
        "                        name='pot1',\n",
        "                        arity=2)"
      ]
    },
    {
      "cell_type": "code",
      "execution_count": null,
      "metadata": {
        "colab": {
          "base_uri": "https://localhost:8080/"
        },
        "id": "Pgd3fzTUuI52",
        "outputId": "2a774206-36d2-4af6-9a16-87d2a2bfbca8"
      },
      "outputs": [
        {
          "name": "stdout",
          "output_type": "stream",
          "text": [
            "    |   Population Average    |             Best Individual              |\n",
            "---- ------------------------- ------------------------------------------ ----------\n",
            " Gen   Length          Fitness   Length          Fitness      OOB Fitness  Time Left\n"
          ]
        },
        {
          "name": "stderr",
          "output_type": "stream",
          "text": [
            "<ipython-input-54-80b9b0bf0bf0>:6: RuntimeWarning: overflow encountered in power\n",
            "  result = np.where(con & con2, np.power(x1,A), 0)\n"
          ]
        },
        {
          "name": "stdout",
          "output_type": "stream",
          "text": [
            "   0    29.86       9.0327e+12        5          5.09411          5.08621     14.03m\n",
            "   1    10.02      3.95072e+06        5          5.05824          5.40902      6.17m\n",
            "   2    10.87      2.59763e+07        7          4.10632          3.97934      5.33m\n",
            "   3     8.87      1.76421e+06        7           4.0847          4.17397      4.68m\n",
            "   4     5.84           539341        7          4.06301          4.36916      3.99m\n",
            "   5     5.57      9.43835e+06        7          4.06659          4.33688      3.58m\n",
            "   6     6.21      1.48285e+06        7          4.06663          4.33656      3.18m\n",
            "   7     6.88      1.79694e+06        7          3.93202           3.9537      2.62m\n",
            "   8     7.02      1.37634e+10        7          3.92105          4.05244      2.32m\n",
            "   9     7.10          86738.1        7          3.91721          4.08703      2.19m\n",
            "  10     7.12          18056.8        7          3.90792           4.1706      2.01m\n",
            "  11     7.04           180093        7          3.90118          4.23131      1.76m\n",
            "  12     7.09           374355        7          3.89872          4.25345      1.54m\n",
            "  13     7.16          43855.6        7          3.90153          4.22818      1.54m\n",
            "  14     7.11      3.19836e+07        7          3.90095          4.23338      1.12m\n",
            "  15     7.08          27330.6        7          3.90358          4.20967     52.77s\n",
            "  16     7.01      1.42675e+07        7          3.89934          4.24785     40.09s\n",
            "  17     7.06          18386.5        7          3.90171          4.22654     26.53s\n",
            "  18     7.02          20611.7        7          3.90226          4.22155     12.68s\n",
            "  19     7.20      9.68335e+06        7          3.89892          4.25164      0.00s\n",
            "Expresión: mul(pot1(X1, mul(0.771, 0.713)), X2)\n"
          ]
        }
      ],
      "source": [
        "# Modelo\n",
        "model = SymbolicRegressor(population_size=5000,\n",
        "                        generations=20,\n",
        "                        stopping_criteria=0.01,\n",
        "                        p_crossover=0.7,\n",
        "                        p_subtree_mutation=0.1,\n",
        "                        p_hoist_mutation=0.05,\n",
        "                        p_point_mutation=0.1,\n",
        "                        max_samples=0.9,\n",
        "                        verbose=1,\n",
        "                        parsimony_coefficient=0.01,\n",
        "                        random_state=42,\n",
        "                        function_set=['mul',pot1_fn])\n",
        "\n",
        "model.fit(X_train, y_train)\n",
        "\n",
        "# Obtener la expresión simbólica\n",
        "expression = model._program\n",
        "print(\"Expresión:\", expression)"
      ]
    },
    {
      "cell_type": "code",
      "execution_count": null,
      "metadata": {
        "colab": {
          "base_uri": "https://localhost:8080/"
        },
        "id": "WRfEQVU3XuDn",
        "outputId": "cb12c112-e4eb-4025-c3b2-e9b9f789b953"
      },
      "outputs": [
        {
          "name": "stdout",
          "output_type": "stream",
          "text": [
            "MSE: 31.9022198519111\n",
            "R^2: 0.9342272924122517\n"
          ]
        }
      ],
      "source": [
        "y_pred = model.predict(X_test)\n",
        "\n",
        "# Calcular métricas\n",
        "mse = mean_squared_error(y_test, y_pred)\n",
        "r2 = r2_score(y_test, y_pred)\n",
        "\n",
        "print(\"MSE:\", mse)\n",
        "print(\"R^2:\", r2)"
      ]
    },
    {
      "cell_type": "markdown",
      "metadata": {
        "id": "blMGSiwhauoY"
      },
      "source": [
        "### Experimento: Ajuste Automatico de constante V2"
      ]
    },
    {
      "cell_type": "code",
      "execution_count": null,
      "metadata": {
        "id": "EJ5JM4xka0S9"
      },
      "outputs": [],
      "source": [
        "# x1** A *x2\n",
        "def pot1(x1,x2, A):\n",
        "    con = (x1>0)\n",
        "    con2 = (A<1) & (A>-1)\n",
        "    con3 = (x2>0)\n",
        "    with np.errstate(divide='ignore', invalid='ignore'):\n",
        "        result = np.where(con & con2, x2*np.power(x1,A), 0)\n",
        "    return result\n",
        "\n",
        "pot1_fn = make_function(function=pot1,\n",
        "                        name='pot1',\n",
        "                        arity=3)"
      ]
    },
    {
      "cell_type": "code",
      "execution_count": null,
      "metadata": {
        "colab": {
          "base_uri": "https://localhost:8080/"
        },
        "id": "y6UhFTSCbFT7",
        "outputId": "f2dd1e39-4940-4838-e557-824a334f8cdb"
      },
      "outputs": [
        {
          "name": "stdout",
          "output_type": "stream",
          "text": [
            "    |   Population Average    |             Best Individual              |\n",
            "---- ------------------------- ------------------------------------------ ----------\n",
            " Gen   Length          Fitness   Length          Fitness      OOB Fitness  Time Left\n"
          ]
        },
        {
          "name": "stderr",
          "output_type": "stream",
          "text": [
            "<ipython-input-47-1b1940ad24f9>:7: RuntimeWarning: overflow encountered in power\n",
            "  result = np.where(con & con2, x2*np.power(x1,A), 0)\n",
            "<ipython-input-47-1b1940ad24f9>:7: RuntimeWarning: overflow encountered in multiply\n",
            "  result = np.where(con & con2, x2*np.power(x1,A), 0)\n"
          ]
        },
        {
          "name": "stdout",
          "output_type": "stream",
          "text": [
            "   0    78.74      1.56333e+27       35          11.3756          11.3252     28.76m\n",
            "   1    11.24      8.79388e+08       25          4.01821          4.19878      5.56m\n",
            "   2    12.61      3.95202e+12       15          2.97036          2.99578      5.60m\n",
            "   3    18.50      3.00022e+09       15          2.96261          3.06557      8.58m\n",
            "   4    21.36      9.23829e+07       15          2.95465          3.13724      7.44m\n",
            "   5    19.79      1.60217e+06       18          1.99733          2.05634      5.74m\n",
            "   6    16.60       1.0107e+07       34          1.84447          1.88272      5.02m\n",
            "   7    17.21      1.29466e+11       24          1.81553          1.87377      4.42m\n",
            "   8    19.10      4.74083e+09       24          1.81152          1.90984      4.48m\n",
            "   9    24.42       3.4281e+08       42          1.79785          1.86016      4.64m\n",
            "  10    22.14      4.06209e+06       24           1.8016          1.86552      4.13m\n",
            "  11    18.66       1.0723e+07       22          1.80012           1.9379      3.19m\n",
            "  12    15.78      1.11108e+06       24          1.80309          1.85211      2.38m\n",
            "  13    13.73      1.14146e+10       22          1.80548          1.88968      1.91m\n",
            "  14    11.82      7.86852e+09       15           1.8233          1.99316      1.71m\n",
            "  15    11.12      2.45712e+09       13          1.83247          1.92964      1.25m\n",
            "  16    11.05      6.77369e+15       11          1.83729          2.05014     56.70s\n",
            "  17    11.07      3.25918e+09       13            1.828          1.96979     40.29s\n",
            "  18    11.08      9.11871e+10       13          1.83758          1.88362     18.60s\n",
            "  19    11.04      4.34629e+08       13          1.83612          1.89674      0.00s\n",
            "Expresión: pot1(X1, mul(pot1(0.287, X2, mul(mul(0.311, X2), X0)), 0.484), 0.670)\n"
          ]
        }
      ],
      "source": [
        "# Modelo\n",
        "model = SymbolicRegressor(population_size=5000,\n",
        "                        generations=20,\n",
        "                        stopping_criteria=0.01,\n",
        "                        p_crossover=0.7,\n",
        "                        p_subtree_mutation=0.1,\n",
        "                        p_hoist_mutation=0.05,\n",
        "                        p_point_mutation=0.1,\n",
        "                        max_samples=0.9,\n",
        "                        verbose=1,\n",
        "                        parsimony_coefficient=0.01,\n",
        "                        random_state=0,\n",
        "                        function_set=['mul',pot1_fn])\n",
        "\n",
        "model.fit(X_train, y_train)\n",
        "\n",
        "# Obtener la expresión simbólica\n",
        "expression = model._program\n",
        "print(\"Expresión:\", expression)"
      ]
    },
    {
      "cell_type": "code",
      "execution_count": null,
      "metadata": {
        "colab": {
          "base_uri": "https://localhost:8080/"
        },
        "id": "4t25QE8Qgf8u",
        "outputId": "e9f7eb58-f119-49c3-9218-d26183345cf3"
      },
      "outputs": [
        {
          "name": "stdout",
          "output_type": "stream",
          "text": [
            "MSE: 6.7616908401481925\n",
            "R^2: 0.9860594429951187\n"
          ]
        }
      ],
      "source": [
        "y_pred = model.predict(X_test)\n",
        "\n",
        "# Calcular métricas\n",
        "mse = mean_squared_error(y_test, y_pred)\n",
        "r2 = r2_score(y_test, y_pred)\n",
        "\n",
        "print(\"MSE:\", mse)\n",
        "print(\"R^2:\", r2)"
      ]
    },
    {
      "cell_type": "code",
      "execution_count": null,
      "metadata": {
        "id": "sy0o3wNkh51E"
      },
      "outputs": [],
      "source": [
        "def nusselt(S, Re, Pr):\n",
        "    return 0.5 * S **(-0.2) * Re **(0.64) * Pr\n",
        "\n",
        "def nusselt_gp(S, Re, Pr):\n",
        "    return 0.484 * Pr * 0.287**(0.311*S*Pr) * Re**0.670"
      ]
    },
    {
      "cell_type": "code",
      "execution_count": null,
      "metadata": {
        "colab": {
          "base_uri": "https://localhost:8080/"
        },
        "id": "17F4E9JkiHyA",
        "outputId": "4261bc81-72d0-4227-ede1-bd577e715a28"
      },
      "outputs": [
        {
          "name": "stdout",
          "output_type": "stream",
          "text": [
            "R^2 nusselt original: 0.9509992536047758, R^2 nusselt GPLearn: 0.9862733804514594 \n",
            "MSE nusselt original: 23.767192225174124, MSE nusselt GPLearn: 6.657923183059813 \n",
            "MAE nusselt original: 4.174721418276441, MAE nusselt GPLearn: 1.7929337892268358 \n",
            "MAPE nusselt original: 7.197154998836116%, MAPE nusselt GPLearn: 3.1159537690684957% \n"
          ]
        }
      ],
      "source": [
        "# Calcular nusselt_pred y nusselt_gp_pred en vectores separados\n",
        "nusselt_pred = X_test.apply(lambda row: nusselt(row['K'], row['Rem'], row['prandtl']), axis=1).values\n",
        "nusselt_gp_pred = X_test.apply(lambda row: nusselt_gp(row['K'], row['Rem'], row['prandtl']), axis=1).values\n",
        "\n",
        "# Calcular R^2 y MSE para nusselt\n",
        "r2_nusselt = r2_score(y_test['nusselt'], nusselt_pred)\n",
        "mse_nusselt = mean_squared_error(y_test['nusselt'], nusselt_pred)\n",
        "\n",
        "# Calcular MAE y MAPE para nusselt\n",
        "mae_nusselt = mean_absolute_error(y_test['nusselt'], nusselt_pred)\n",
        "mape_nusselt = mean_absolute_percentage_error(y_test['nusselt'], nusselt_pred)\n",
        "\n",
        "# Calcular R^2 y MSE para nusselt_gp\n",
        "r2_nusselt_gp = r2_score(y_test['nusselt'], nusselt_gp_pred)\n",
        "mse_nusselt_gp = mean_squared_error(y_test['nusselt'], nusselt_gp_pred)\n",
        "\n",
        "# Calcular MAE y MAPE para nusselt_gp\n",
        "mae_nusselt_gp = mean_absolute_error(y_test['nusselt'], nusselt_gp_pred)\n",
        "mape_nusselt_gp = mean_absolute_percentage_error(y_test['nusselt'], nusselt_gp_pred)\n",
        "\n",
        "#  Mostrar Métricas\n",
        "\n",
        "print(f\"R^2 nusselt original: {r2_nusselt}, R^2 nusselt GPLearn: {r2_nusselt_gp} \")\n",
        "print(f\"MSE nusselt original: {mse_nusselt}, MSE nusselt GPLearn: {mse_nusselt_gp} \")\n",
        "print(f\"MAE nusselt original: {mae_nusselt}, MAE nusselt GPLearn: {mae_nusselt_gp} \")\n",
        "print(f\"MAPE nusselt original: {mape_nusselt*100}%, MAPE nusselt GPLearn: {mape_nusselt_gp*100}% \")"
      ]
    },
    {
      "cell_type": "markdown",
      "metadata": {
        "id": "Et-Plqkb9zua"
      },
      "source": [
        "### Experimento: Ajuste automatico de constante V3"
      ]
    },
    {
      "cell_type": "code",
      "execution_count": null,
      "metadata": {
        "id": "LCKX1jOS95Uq"
      },
      "outputs": [],
      "source": [
        "def pot1(x1, x2, x3, x4):\n",
        "    with np.errstate(divide='ignore', invalid='ignore'):\n",
        "        result = np.where((x1 > 0) & (x2>0) & (x3>0), x4*x1**(-0.2)* x2 **(0.64) * x3, 0)\n",
        "    return result\n",
        "\n",
        "pot1_fn = make_function(function=pot1,\n",
        "                        name='pot1',\n",
        "                        arity=4)"
      ]
    },
    {
      "cell_type": "code",
      "execution_count": null,
      "metadata": {
        "colab": {
          "base_uri": "https://localhost:8080/"
        },
        "id": "77RY2CSN99LF",
        "outputId": "89b4c57b-b406-4c11-bb00-8366a0dc9bf2"
      },
      "outputs": [
        {
          "name": "stdout",
          "output_type": "stream",
          "text": [
            "    |   Population Average    |             Best Individual              |\n",
            "---- ------------------------- ------------------------------------------ ----------\n",
            " Gen   Length          Fitness   Length          Fitness      OOB Fitness  Time Left\n",
            "   0   757.77      8.83101e+16        5          4.31785          4.39546    604.62m\n",
            "   1    13.14      2.30813e+12        5          2.81652          2.79483     12.71m\n",
            "   2    10.76      7.16365e+08       37          1.77045           1.6835     10.87m\n",
            "   3    11.23      4.63401e+19       37          1.76174          1.76185     10.10m\n",
            "   4     6.86      5.74908e+07       37          1.75492          1.82328      6.88m\n",
            "   5     7.27      1.97571e+08       37          1.75144           1.8546      6.60m\n",
            "   6    10.09      5.50028e+20       37           1.7493          1.87379      8.21m\n",
            "   7    11.90      8.84481e+08       37          1.75118          1.85693      8.10m\n",
            "   8    10.48      1.32567e+09        9          1.60515          1.61113      6.59m\n",
            "   9     9.33      1.92474e+09        9           1.6002          1.64459      5.80m\n",
            "  10     9.84      1.55674e+08        9          1.59583          1.69496      5.34m\n",
            "  11     9.64      1.19307e+08        9          1.56895          1.67148      4.88m\n",
            "  12     9.45      2.07586e+08        9           1.5675          1.68447      4.14m\n",
            "  13     9.37      1.96205e+08        9          1.56553           1.7022      3.37m\n",
            "  14     9.23      1.69934e+08        9          1.55551          1.62399      2.86m\n",
            "  15     9.60      1.81463e+13        9          1.55522          1.62661      2.29m\n",
            "  16     9.23      1.11189e+08        9          1.54866           1.6856      1.70m\n",
            "  17     9.58        3.441e+11        9            1.544          1.65039      1.13m\n",
            "  18     9.98      2.22902e+08        9          1.54209          1.66751     37.94s\n",
            "  19     9.60       1.5026e+07        9           1.5394          1.69177      0.00s\n",
            "Expresión: pot1(X0, 0.723, 0.709, pot1(0.511, X1, 0.709, 0.709))\n"
          ]
        }
      ],
      "source": [
        "model = SymbolicRegressor(population_size=5000,\n",
        "                           generations=20,\n",
        "                           stopping_criteria=0.01,\n",
        "                           p_crossover=0.7,\n",
        "                           p_subtree_mutation=0.1,\n",
        "                           p_hoist_mutation=0.05,\n",
        "                           p_point_mutation=0.1,\n",
        "                           max_samples=0.9,\n",
        "                           verbose=1,\n",
        "                           parsimony_coefficient=0.01,\n",
        "                           random_state=42,\n",
        "                           function_set=[pot1_fn])\n",
        "\n",
        "model.fit(X_train, y_train)\n",
        "\n",
        "# Obtener la expresión simbólica\n",
        "expression = model._program\n",
        "print(\"Expresión:\", expression)"
      ]
    },
    {
      "cell_type": "code",
      "execution_count": null,
      "metadata": {
        "colab": {
          "base_uri": "https://localhost:8080/"
        },
        "id": "5dzYZHQJ_bbn",
        "outputId": "de643578-957e-4399-cefd-1afaec83b3b4"
      },
      "outputs": [
        {
          "name": "stdout",
          "output_type": "stream",
          "text": [
            "MSE: 4.702760642569644\n",
            "R^2: 0.9903043329889041\n"
          ]
        }
      ],
      "source": [
        "y_pred = model.predict(X_test)\n",
        "\n",
        "# Calcular métricas\n",
        "mse = mean_squared_error(y_test, y_pred)\n",
        "r2 = r2_score(y_test, y_pred)\n",
        "\n",
        "print(\"MSE:\", mse)\n",
        "print(\"R^2:\", r2)"
      ]
    },
    {
      "cell_type": "code",
      "execution_count": null,
      "metadata": {
        "id": "EhlyrJyELJcI"
      },
      "outputs": [],
      "source": [
        "def nusselt(S, Re, Pr):\n",
        "    return 0.5 * S **(-0.2) * Re **(0.64) * Pr\n",
        "\n",
        "def nusselt_gp(S, Re, Pr):\n",
        "    return 0.484 * Pr * 0.287**(0.311*S*Pr) * Re**0.670"
      ]
    },
    {
      "cell_type": "markdown",
      "metadata": {
        "id": "qjgUWtisMDxQ"
      },
      "source": [
        "### Experimento: Ajuste automatico de constante V4"
      ]
    },
    {
      "cell_type": "code",
      "execution_count": null,
      "metadata": {
        "colab": {
          "base_uri": "https://localhost:8080/"
        },
        "id": "n-cztd94MJSk",
        "outputId": "56e41bc8-7688-47b2-bd07-2280e7a2235a"
      },
      "outputs": [
        {
          "name": "stdout",
          "output_type": "stream",
          "text": [
            "    |   Population Average    |             Best Individual              |\n",
            "---- ------------------------- ------------------------------------------ ----------\n",
            " Gen   Length          Fitness   Length          Fitness      OOB Fitness  Time Left\n",
            "   0    75.65      4.88859e+23        7          4.50603          4.42802     26.36m\n",
            "   1    27.36      2.65266e+13        7          4.48752          4.59462     10.02m\n",
            "   2    41.64      5.27191e+09       19          1.72347          1.66648     13.85m\n",
            "   3    26.97      2.14706e+11       17          1.71212          1.76924     10.19m\n",
            "   4    17.17      2.62789e+11       19          1.70961          1.79233      7.34m\n",
            "   5    23.74      1.20825e+07       19          1.66083          1.69868      8.03m\n",
            "   6    25.07      1.28172e+09       15          1.62325          1.66641      7.64m\n",
            "   7    16.90      6.33915e+09       15          1.62054          1.69074      4.78m\n",
            "   8    13.66      9.49802e+10       15          1.59009          1.60537      3.95m\n",
            "   9    13.51      2.04925e+07       17           1.5666          1.61846      3.44m\n",
            "  10    13.80      5.49605e+09       15          1.56328          1.63898      3.28m\n",
            "  11    14.43      3.84985e+07       13          1.55746          1.68379      2.95m\n",
            "  12    14.06      1.72442e+07       17          1.55123          1.63448      2.61m\n",
            "  13    13.73      2.94361e+09       15          1.55092           1.6424      2.11m\n",
            "  14    13.24      2.86627e+07       15          1.55247          1.62401      1.87m\n",
            "  15    13.00      8.81235e+10       15          1.55403          1.60992      1.39m\n",
            "  16    12.89          21784.7       15          1.54957          1.65006      1.10m\n",
            "  17    11.84      3.39647e+08       15          1.54959          1.65816     40.92s\n",
            "  18    11.25      3.93805e+21       13          1.55731          1.68508     23.77s\n",
            "  19    11.17      4.35402e+08       17          1.55546          1.62294      0.00s\n",
            "Expresión: add(mul(mul(-0.876, 0.924), mul(X0, X2)), pot1(div(X0, 0.866), X1, add(-0.264, X2), 0.774))\n"
          ]
        }
      ],
      "source": [
        "model = SymbolicRegressor(population_size=5000,\n",
        "                        generations=20,\n",
        "                        stopping_criteria=0.01,\n",
        "                        p_crossover=0.7,\n",
        "                        p_subtree_mutation=0.1,\n",
        "                        p_hoist_mutation=0.05,\n",
        "                        p_point_mutation=0.1,\n",
        "                        max_samples=0.9,\n",
        "                        verbose=1,\n",
        "                        parsimony_coefficient=0.01,\n",
        "                        random_state=42,\n",
        "                        function_set=['add', 'sub', 'mul', 'div',pot1_fn])\n",
        "\n",
        "model.fit(X_train, y_train)\n",
        "\n",
        "# Obtener la expresión simbólica\n",
        "expression = model._program\n",
        "print(\"Expresión:\", expression)"
      ]
    },
    {
      "cell_type": "code",
      "execution_count": null,
      "metadata": {
        "colab": {
          "base_uri": "https://localhost:8080/"
        },
        "id": "Qp_tZIq5Rf1_",
        "outputId": "0eaaabe9-8bf7-44f9-8798-bbafd911653d"
      },
      "outputs": [
        {
          "name": "stdout",
          "output_type": "stream",
          "text": [
            "MSE: 4.787532791681305\n",
            "R^2: 0.9901295585123633\n"
          ]
        }
      ],
      "source": [
        "y_pred = model.predict(X_test)\n",
        "\n",
        "# Calcular métricas\n",
        "mse = mean_squared_error(y_test, y_pred)\n",
        "r2 = r2_score(y_test, y_pred)\n",
        "\n",
        "print(\"MSE:\", mse)\n",
        "print(\"R^2:\", r2)"
      ]
    },
    {
      "cell_type": "code",
      "execution_count": null,
      "metadata": {
        "id": "jaecEDkMh704"
      },
      "outputs": [],
      "source": [
        "def nusselt(S, Re, Pr):\n",
        "    return 0.5 * S **(-0.2) * Re **(0.64) * Pr\n",
        "\n",
        "def nusselt_gp(S, Re, Pr):\n",
        "    return -0.809424*S*Pr + 0.75204*S**(-0.2)* Re**(0.64)*(-0.264+Pr)"
      ]
    },
    {
      "cell_type": "code",
      "execution_count": null,
      "metadata": {
        "colab": {
          "base_uri": "https://localhost:8080/"
        },
        "id": "5nw3CeMEiM7L",
        "outputId": "49ede37f-27b3-45b5-bd2c-9925916a7fcd"
      },
      "outputs": [
        {
          "name": "stdout",
          "output_type": "stream",
          "text": [
            "R^2 nusselt original: 0.9509992536047758, R^2 nusselt GPLearn: 0.9901320723045455 \n",
            "MSE nusselt original: 23.767192225174124, MSE nusselt GPLearn: 4.7863135085804815 \n",
            "MAE nusselt original: 4.174721418276441, MAE nusselt GPLearn: 1.542455482654369 \n",
            "MAPE nusselt original: 7.197154998836116%, MAPE nusselt GPLearn: 2.6848392142824777% \n"
          ]
        }
      ],
      "source": [
        "# Calcular nusselt_pred y nusselt_gp_pred en vectores separados\n",
        "nusselt_pred = X_test.apply(lambda row: nusselt(row['K'], row['Rem'], row['prandtl']), axis=1).values\n",
        "nusselt_gp_pred = X_test.apply(lambda row: nusselt_gp(row['K'], row['Rem'], row['prandtl']), axis=1).values\n",
        "\n",
        "# Calcular R^2 y MSE para nusselt\n",
        "r2_nusselt = r2_score(y_test['nusselt'], nusselt_pred)\n",
        "mse_nusselt = mean_squared_error(y_test['nusselt'], nusselt_pred)\n",
        "\n",
        "# Calcular MAE y MAPE para nusselt\n",
        "mae_nusselt = mean_absolute_error(y_test['nusselt'], nusselt_pred)\n",
        "mape_nusselt = mean_absolute_percentage_error(y_test['nusselt'], nusselt_pred)\n",
        "\n",
        "# Calcular R^2 y MSE para nusselt_gp\n",
        "r2_nusselt_gp = r2_score(y_test['nusselt'], nusselt_gp_pred)\n",
        "mse_nusselt_gp = mean_squared_error(y_test['nusselt'], nusselt_gp_pred)\n",
        "\n",
        "# Calcular MAE y MAPE para nusselt_gp\n",
        "mae_nusselt_gp = mean_absolute_error(y_test['nusselt'], nusselt_gp_pred)\n",
        "mape_nusselt_gp = mean_absolute_percentage_error(y_test['nusselt'], nusselt_gp_pred)\n",
        "\n",
        "#  Mostrar Métricas\n",
        "\n",
        "print(f\"R^2 nusselt original: {r2_nusselt}, R^2 nusselt GPLearn: {r2_nusselt_gp} \")\n",
        "print(f\"MSE nusselt original: {mse_nusselt}, MSE nusselt GPLearn: {mse_nusselt_gp} \")\n",
        "print(f\"MAE nusselt original: {mae_nusselt}, MAE nusselt GPLearn: {mae_nusselt_gp} \")\n",
        "print(f\"MAPE nusselt original: {mape_nusselt*100}%, MAPE nusselt GPLearn: {mape_nusselt_gp*100}% \")"
      ]
    },
    {
      "cell_type": "markdown",
      "metadata": {
        "id": "82RhI_dfjbPv"
      },
      "source": [
        "### Experimento: probando RMSLE como función fitness"
      ]
    },
    {
      "cell_type": "markdown",
      "metadata": {},
      "source": [
        "$\n",
        "RMSLE = \\sqrt{\\frac{1}{N} \\sum_{i=1}^{N} (log(y_i +1) - log(\\hat{y_i}+1))^2}\n",
        "$"
      ]
    },
    {
      "cell_type": "code",
      "execution_count": 68,
      "metadata": {
        "id": "TCWlJfEfjfmL"
      },
      "outputs": [],
      "source": [
        "# definiendo \n",
        "\n",
        "def _rmsle(y, y_pred, w):\n",
        "    \"\"\"Calculate the rmsle.\"\"\"\n",
        "    log_true = np.log((np.maximum(0.001, y) + 1))\n",
        "    log_pred = np.log((np.maximum(0.001, y_pred) + 1))\n",
        "    \n",
        "    # Calcular el error cuadrático medio logarítmico\n",
        "    rmsle_value = (log_true - log_pred) ** 2\n",
        "    \n",
        "    return np.sqrt(np.average(rmsle_value, weights=w))\n",
        "\n",
        "rmsle = make_fitness(function=_rmsle,\n",
        "                    greater_is_better=False)"
      ]
    },
    {
      "cell_type": "markdown",
      "metadata": {},
      "source": [
        "Incoporar forma física definida para el Número de Nusselt:\n",
        "\n",
        "$\n",
        "Nu = C \\cdot Re^n \\cdot Pr^m\n",
        "$\n"
      ]
    },
    {
      "cell_type": "code",
      "execution_count": 63,
      "metadata": {},
      "outputs": [],
      "source": [
        "# C * x1**n * x2**m\n",
        "def nusselt_form_(x1, x2, C, n, m):\n",
        "    con = (x1>0)\n",
        "    con2 = (x2>0)\n",
        "    con3 = (n<=1) & (n>0)\n",
        "    con4 = (m<=1) & (m>0)\n",
        "    con5 = (C>0) & (C<1)\n",
        "    with np.errstate(divide='ignore', invalid='ignore', over='ignore'):\n",
        "        result = np.where(con & con2 & con3 & con4, C*np.power(x1,n) * np.power(x2,m), 0)\n",
        "    return result\n",
        "    \n",
        "nusselt_form = make_function(function=nusselt_form_,\n",
        "                        name='nu',\n",
        "                        arity=5)"
      ]
    },
    {
      "cell_type": "markdown",
      "metadata": {},
      "source": [
        "Entrenando:"
      ]
    },
    {
      "cell_type": "code",
      "execution_count": 48,
      "metadata": {},
      "outputs": [
        {
          "name": "stdout",
          "output_type": "stream",
          "text": [
            "    |   Population Average    |             Best Individual              |\n",
            "---- ------------------------- ------------------------------------------ ----------\n",
            " Gen   Length          Fitness   Length          Fitness      OOB Fitness  Time Left\n",
            "   0   109.11          4.16991      315         0.561543         0.569694     32.63m\n",
            "   1    44.03          3.31047       30         0.469429          0.45953     13.00m\n",
            "   2    62.93          2.55175       27         0.228071         0.233898     16.00m\n",
            "   3    87.77          2.11362       14         0.101784         0.102442     21.49m\n",
            "   4    31.67          2.20242       14        0.0864406        0.0861088      7.17m\n",
            "   5    24.84          2.10601       32        0.0773027        0.0769756      5.54m\n",
            "   6    12.66          2.00285       33          0.06529        0.0647512      3.23m\n",
            "   7    16.30           1.7728       39         0.064129        0.0653802      3.78m\n",
            "   8    12.76          1.78282       31        0.0640313        0.0637741      3.07m\n",
            "   9    11.85          1.72252       31        0.0638868        0.0650653      2.75m\n",
            "  10    11.55          1.77785       31        0.0637559        0.0662113      2.45m\n",
            "  11    14.19          1.87657       22        0.0615044        0.0610679      2.21m\n",
            "  12    17.13          1.71241       30        0.0495795        0.0490788      1.94m\n",
            "  13    17.63          1.69463       30        0.0493413        0.0511941      1.67m\n",
            "  14    18.77          1.67885       28        0.0492356        0.0514676      1.46m\n",
            "  15    20.34          1.59479       28        0.0480599        0.0474785      1.16m\n",
            "  16    21.07          1.59646       22        0.0477926        0.0494124     53.68s\n",
            "  17    21.47          1.63919       24        0.0477646        0.0476571     36.02s\n",
            "  18    21.66          1.62628       24        0.0477021         0.048217     18.24s\n",
            "  19    21.72          1.64393       24        0.0474964         0.050011      0.00s\n",
            "Expresión: add(sub(0.052, add(S, S)), add(sub(0.052, div(S, 0.554)), nu(div(div(Re, S), S), Re, Pr, 0.052, mul(Pr, Pr))))\n",
            "MSE: 12.338506290470708\n",
            "R^2: 0.9745617399014913\n",
            "MAE: 2.408141742896457\n",
            "MAPE: 0.037812919196493745\n"
          ]
        }
      ],
      "source": [
        "model = SymbolicRegressor(population_size=5000,\n",
        "                        generations=20, \n",
        "                        stopping_criteria=0.01,\n",
        "                        p_crossover=0.7, \n",
        "                        p_subtree_mutation=0.1,\n",
        "                        p_hoist_mutation=0.05, \n",
        "                        p_point_mutation=0.1,\n",
        "                        max_samples=0.9, \n",
        "                        verbose=1,\n",
        "                        parsimony_coefficient=0.001, \n",
        "                        random_state=0,\n",
        "                        function_set=['add', 'sub', 'mul', 'div',nusselt_form],\n",
        "                        metric = rmsle, \n",
        "                        feature_names=['S', 'Re', 'Pr'])\n",
        "\n",
        "model.fit(X_train, y_train)\n",
        "\n",
        "# Obtener la expresión simbólica\n",
        "expression = model._program\n",
        "print(\"Expresión:\", expression)\n",
        "\n",
        "# prediciendo con el conjunto de prueba\n",
        "y_pred = model.predict(X_test)\n",
        "\n",
        "# Calcular métricas\n",
        "mse = mean_squared_error(y_test, y_pred)\n",
        "r2 = r2_score(y_test, y_pred)\n",
        "mae = mean_absolute_error(y_test, y_pred)\n",
        "mape = mean_absolute_percentage_error(y_test, y_pred)\n",
        "\n",
        "\n",
        "print(\"MSE:\", mse)\n",
        "print(\"R^2:\", r2)\n",
        "print(\"MAE:\", mae)\n",
        "print(\"MAPE:\",mape)"
      ]
    },
    {
      "cell_type": "code",
      "execution_count": 37,
      "metadata": {},
      "outputs": [
        {
          "name": "stdout",
          "output_type": "stream",
          "text": [
            "    |   Population Average    |             Best Individual              |\n",
            "---- ------------------------- ------------------------------------------ ----------\n",
            " Gen   Length          Fitness   Length          Fitness      OOB Fitness  Time Left\n",
            "   0   109.11          4.16991      315         0.561543         0.569694     32.95m\n",
            "   1    16.21          3.39369       17         0.393015         0.390505      5.14m\n",
            "   2    19.48          2.73515       27         0.228071         0.233898      5.25m\n",
            "   3    14.91          2.43021       24         0.139528         0.134625      3.72m\n",
            "   4    12.39          2.06492       11        0.0900156        0.0927521      2.80m\n",
            "   5     7.07          2.10711       11        0.0902284        0.0908723      2.13m\n",
            "   6     3.78          1.78967       11        0.0902162        0.0909813      1.67m\n",
            "   7     4.67          1.78299       11        0.0900675        0.0922979      1.69m\n",
            "   8     7.17          1.92685       11        0.0899661        0.0931838      2.03m\n",
            "   9     8.49          1.82907       32        0.0859605        0.0867394      2.35m\n",
            "  10     8.26          1.78462        8         0.098823         0.106897      2.19m\n",
            "  11     8.57          1.80432        8        0.0988374         0.101339      1.99m\n",
            "  12     8.26          1.74702        8        0.0986847         0.102669      1.72m\n",
            "  13     8.09          1.82252        8        0.0985321          0.10398      1.45m\n",
            "  14     8.40          1.77027        8         0.098388         0.105201      1.24m\n",
            "  15     8.32          1.75315        8        0.0982773         0.106128     58.17s\n",
            "  16     8.05           1.7504        8        0.0980644         0.107886     44.09s\n",
            "  17     8.27          1.75527       14        0.0659035        0.0661493     29.32s\n",
            "  18     8.30          1.74705        8        0.0984357         0.104799     14.85s\n",
            "  19     8.14          1.72505        8        0.0983536          0.10549      0.00s\n",
            "Expresión: mul(nu(Re, 0.477, Pr, Pr, Pr), 0.467)\n",
            "MSE: 43.71132030234871\n",
            "R^2: 0.9098805066899267\n",
            "MAE: 5.163229052491541\n",
            "MAPE: 0.0832822944260417\n"
          ]
        }
      ],
      "source": [
        "model = SymbolicRegressor(population_size=5000,\n",
        "                        generations=20, \n",
        "                        stopping_criteria=0.01,\n",
        "                        p_crossover=0.7, \n",
        "                        p_subtree_mutation=0.1,\n",
        "                        p_hoist_mutation=0.05, \n",
        "                        p_point_mutation=0.1,\n",
        "                        max_samples=0.9, \n",
        "                        verbose=1,\n",
        "                        parsimony_coefficient=0.01, \n",
        "                        random_state=0,\n",
        "                        function_set=['add', 'sub', 'mul', 'div',nusselt_form],\n",
        "                        metric = rmsle, \n",
        "                        feature_names=['S', 'Re', 'Pr'])\n",
        "\n",
        "model.fit(X_train, y_train)\n",
        "\n",
        "# Obtener la expresión simbólica\n",
        "expression = model._program\n",
        "print(\"Expresión:\", expression)\n",
        "\n",
        "# prediciendo con el conjunto de prueba\n",
        "y_pred = model.predict(X_test)\n",
        "\n",
        "# Calcular métricas\n",
        "mse = mean_squared_error(y_test, y_pred)\n",
        "r2 = r2_score(y_test, y_pred)\n",
        "mae = mean_absolute_error(y_test, y_pred)\n",
        "mape = mean_absolute_percentage_error(y_test, y_pred)\n",
        "\n",
        "\n",
        "print(\"MSE:\", mse)\n",
        "print(\"R^2:\", r2)\n",
        "print(\"MAE:\", mae)\n",
        "print(\"MAPE:\",mape)"
      ]
    },
    {
      "cell_type": "markdown",
      "metadata": {},
      "source": [
        "Forma obtenida:\n",
        "\n",
        "$\n",
        "(0.73 + S)^{-0.43} \\cdot Re^{0.532}\n",
        "$"
      ]
    },
    {
      "cell_type": "code",
      "execution_count": 18,
      "metadata": {},
      "outputs": [
        {
          "name": "stdout",
          "output_type": "stream",
          "text": [
            "R^2 nusselt original: 0.9509992536047758, R^2 nusselt GPLearn: 0.9482667458738379 \n",
            "MSE nusselt original: 23.767192225174124, MSE nusselt GPLearn: 25.09256053638636 \n",
            "MAE nusselt original: 4.174721418276441, MAE nusselt GPLearn: 3.8142354733715744 \n",
            "MAPE nusselt original: 7.197154998836116%, MAPE nusselt GPLearn: 5.860048968328055% \n"
          ]
        }
      ],
      "source": [
        "# Nusselt Rafael\n",
        "def nusselt(S, Re, Pr):\n",
        "    return 0.5 * S **(-0.2) * Re **(0.64) * Pr\n",
        "\n",
        "# Nusselt GPLearn\n",
        "def nusselt_gp(S, Re, Pr):\n",
        "    return Re*((0.73 + S)**(-0.43)) * Re**(-0.468)\n",
        "\n",
        "# Calcular nusselt_pred y nusselt_gp_pred en vectores separados\n",
        "nusselt_pred = X_test.apply(lambda row: nusselt(row['K'], row['Rem'], row['prandtl']), axis=1).values\n",
        "nusselt_gp_pred = X_test.apply(lambda row: nusselt_gp(row['K'], row['Rem'], row['prandtl']), axis=1).values\n",
        "\n",
        "# Calcular R^2 y MSE para nusselt\n",
        "r2_nusselt = r2_score(y_test['nusselt'], nusselt_pred)\n",
        "mse_nusselt = mean_squared_error(y_test['nusselt'], nusselt_pred)\n",
        "\n",
        "# Calcular MAE y MAPE para nusselt\n",
        "mae_nusselt = mean_absolute_error(y_test['nusselt'], nusselt_pred)\n",
        "mape_nusselt = mean_absolute_percentage_error(y_test['nusselt'], nusselt_pred)\n",
        "\n",
        "# Calcular R^2 y MSE para nusselt_gp\n",
        "r2_nusselt_gp = r2_score(y_test['nusselt'], nusselt_gp_pred)\n",
        "mse_nusselt_gp = mean_squared_error(y_test['nusselt'], nusselt_gp_pred)\n",
        "\n",
        "# Calcular MAE y MAPE para nusselt_gp\n",
        "mae_nusselt_gp = mean_absolute_error(y_test['nusselt'], nusselt_gp_pred)\n",
        "mape_nusselt_gp = mean_absolute_percentage_error(y_test['nusselt'], nusselt_gp_pred)\n",
        "\n",
        "#  Mostrar Métricas\n",
        "\n",
        "print(f\"R^2 nusselt original: {r2_nusselt}, R^2 nusselt GPLearn: {r2_nusselt_gp} \")\n",
        "print(f\"MSE nusselt original: {mse_nusselt}, MSE nusselt GPLearn: {mse_nusselt_gp} \")\n",
        "print(f\"MAE nusselt original: {mae_nusselt}, MAE nusselt GPLearn: {mae_nusselt_gp} \")\n",
        "print(f\"MAPE nusselt original: {mape_nusselt*100}%, MAPE nusselt GPLearn: {mape_nusselt_gp*100}% \")"
      ]
    },
    {
      "cell_type": "markdown",
      "metadata": {},
      "source": [
        "Incorporando potencia"
      ]
    },
    {
      "cell_type": "code",
      "execution_count": 64,
      "metadata": {},
      "outputs": [],
      "source": [
        "# x1** A *x2\n",
        "def pot1_(x1, A):\n",
        "    con = (x1>0)\n",
        "    con2 = (A<0) & (A>-1)\n",
        "    # con3 = (x2>0)\n",
        "    with np.errstate(divide='ignore', invalid='ignore', over='ignore'):\n",
        "        result = np.where(con & con2, np.power(x1,A), 0)\n",
        "    return result\n",
        "\n",
        "pot1 = make_function(function=pot1_,\n",
        "                        name='pot1',\n",
        "                        arity=2)"
      ]
    },
    {
      "cell_type": "code",
      "execution_count": 49,
      "metadata": {},
      "outputs": [
        {
          "name": "stdout",
          "output_type": "stream",
          "text": [
            "    |   Population Average    |             Best Individual              |\n",
            "---- ------------------------- ------------------------------------------ ----------\n",
            " Gen   Length          Fitness   Length          Fitness      OOB Fitness  Time Left\n",
            "   0    95.61          4.01649      229         0.290049         0.295516     33.01m\n",
            "   1    37.11          3.32783       10         0.149647         0.150547     12.57m\n",
            "   2    73.63          2.32452       11           0.1061         0.104684     23.08m\n",
            "   3    97.52          1.63335        9          0.10563          0.10455     24.83m\n",
            "   4    47.76          2.05023       48         0.043193        0.0430283     11.08m\n",
            "   5    30.83          2.03409       32        0.0413741        0.0397484      8.20m\n",
            "   6    19.77          2.18115       39        0.0384113         0.039047      4.61m\n",
            "   7    19.89          2.08697       48        0.0349614        0.0353153      3.84m\n",
            "   8    39.62          1.40071       64        0.0348642        0.0361697      6.00m\n",
            "   9    35.96          1.28968       78         0.034946        0.0354526      5.15m\n",
            "  10    29.10          1.42704       33        0.0352382        0.0357138      4.03m\n",
            "  11    25.23          1.58942       33        0.0352473         0.035633      2.84m\n",
            "  12    22.58           1.6145       31         0.035298        0.0366106      2.18m\n",
            "  13    20.72          1.71475       25        0.0353858        0.0365373      1.81m\n",
            "  14    19.46          1.83936       25        0.0353523        0.0368282      1.46m\n",
            "  15    19.14          1.78049       21        0.0407218         0.040075      1.17m\n",
            "  16    19.12          1.80927       19        0.0408382        0.0435376     53.61s\n",
            "  17    19.29          1.87631       19        0.0407769        0.0419829     34.90s\n",
            "  18    19.13          1.82567       19        0.0407684        0.0441221     17.62s\n",
            "  19    19.17          1.79449       19        0.0406991        0.0422076      0.00s\n",
            "Expresión: mul(pot1(Re, -0.272), add(sub(-0.701, mul(-0.110, Re)), div(div(add(0.719, S), S), pot1(Re, -0.561))))\n",
            "MSE: 11.356773695697878\n",
            "R^2: 0.9765857749430994\n",
            "MAE: 2.216322619859433\n",
            "MAPE: 3.3842309748157264\n"
          ]
        }
      ],
      "source": [
        "model = SymbolicRegressor(population_size=5000,\n",
        "                        generations=20, \n",
        "                        stopping_criteria=0.01,\n",
        "                        p_crossover=0.7, \n",
        "                        p_subtree_mutation=0.1,\n",
        "                        p_hoist_mutation=0.05, \n",
        "                        p_point_mutation=0.1,\n",
        "                        max_samples=0.9, \n",
        "                        verbose=1,\n",
        "                        parsimony_coefficient=0.001, \n",
        "                        random_state=0,\n",
        "                        function_set=['add', 'sub', 'mul', 'div',nusselt_form, pot1],\n",
        "                        metric = rmsle, \n",
        "                        feature_names=['S', 'Re', 'Pr'])\n",
        "\n",
        "model.fit(X_train, y_train)\n",
        "\n",
        "# Obtener la expresión simbólica\n",
        "expression = model._program\n",
        "print(\"Expresión:\", expression)\n",
        "\n",
        "# prediciendo con el conjunto de prueba\n",
        "y_pred = model.predict(X_test)\n",
        "\n",
        "# Calcular métricas\n",
        "mse = mean_squared_error(y_test, y_pred)\n",
        "r2 = r2_score(y_test, y_pred)\n",
        "mae = mean_absolute_error(y_test, y_pred)\n",
        "mape = mean_absolute_percentage_error(y_test, y_pred)\n",
        "\n",
        "\n",
        "print(\"MSE:\", mse)\n",
        "print(\"R^2:\", r2)\n",
        "print(\"MAE:\", mae)\n",
        "print(\"MAPE:\",mape*100)"
      ]
    },
    {
      "cell_type": "code",
      "execution_count": 51,
      "metadata": {},
      "outputs": [
        {
          "name": "stdout",
          "output_type": "stream",
          "text": [
            "    |   Population Average    |             Best Individual              |\n",
            "---- ------------------------- ------------------------------------------ ----------\n",
            " Gen   Length          Fitness   Length          Fitness      OOB Fitness  Time Left\n",
            "   0    57.03          4.00212        9         0.362742         0.360346     19.08m\n",
            "   1    28.03          3.36958       13          0.30977         0.308994      8.99m\n",
            "   2    24.51          2.75393       10         0.115779         0.117189      6.85m\n",
            "   3    15.87           2.3962        6        0.0888167        0.0896619      4.42m\n",
            "   4    15.33          2.17867       12        0.0788455        0.0784341      3.80m\n",
            "   5    17.57          1.89246       21         0.054624        0.0547495      4.19m\n",
            "   6    10.64          1.66787       13        0.0545114          0.05575      3.25m\n",
            "   7     9.82          1.73559       17        0.0477867        0.0467741      3.07m\n",
            "   8    14.44          1.84573       15        0.0463237        0.0467651      3.68m\n",
            "   9    14.88          1.96638       20        0.0447733        0.0465567      3.51m\n",
            "  10    14.58          2.02932       20        0.0447578        0.0466909      3.16m\n",
            "  11    14.69          2.03863       20        0.0448243        0.0461131      2.81m\n",
            "  12    14.74          1.99635       15        0.0458264        0.0476375      2.52m\n",
            "  13    14.80          2.09039       15        0.0457057        0.0486703      2.16m\n",
            "  14    14.71          2.09661       15        0.0456805        0.0488827      1.81m\n",
            "  15    14.90           2.0284       15        0.0457098        0.0486354      1.44m\n",
            "  16    14.59          2.03345       15        0.0456077        0.0494903      1.06m\n",
            "  17    14.77           2.0294       15        0.0457017         0.048704     44.33s\n",
            "  18    14.80          2.07377       15        0.0456047         0.049515     21.21s\n",
            "  19    14.71           2.0179       15        0.0456907        0.0487549      0.00s\n",
            "Expresión: sub(nu(Pr, Re, Pr, sub(0.927, nu(0.582, 0.563, Pr, S, S)), 0.582), S)\n",
            "MSE: 12.380669253185436\n",
            "R^2: 0.9744748126522107\n",
            "MAE: 2.4568957336213137\n",
            "MAPE: 3.714318935628093\n"
          ]
        }
      ],
      "source": [
        "model = SymbolicRegressor(population_size=5000,\n",
        "                        generations=20, \n",
        "                        init_method='grow', \n",
        "                        stopping_criteria=0.01,\n",
        "                        p_crossover=0.7, \n",
        "                        p_subtree_mutation=0.1,\n",
        "                        p_hoist_mutation=0.05, \n",
        "                        p_point_mutation=0.1,\n",
        "                        max_samples=0.9, \n",
        "                        verbose=1,\n",
        "                        parsimony_coefficient=0.001, \n",
        "                        random_state=0,\n",
        "                        function_set=['add', 'sub', 'mul', 'div',nusselt_form, pot1],\n",
        "                        metric = rmsle, \n",
        "                        feature_names=['S', 'Re', 'Pr'])\n",
        "\n",
        "model.fit(X_train, y_train)\n",
        "\n",
        "# Obtener la expresión simbólica\n",
        "expression = model._program\n",
        "print(\"Expresión:\", expression)\n",
        "\n",
        "# prediciendo con el conjunto de prueba\n",
        "y_pred = model.predict(X_test)\n",
        "\n",
        "# Calcular métricas\n",
        "mse = mean_squared_error(y_test, y_pred)\n",
        "r2 = r2_score(y_test, y_pred)\n",
        "mae = mean_absolute_error(y_test, y_pred)\n",
        "mape = mean_absolute_percentage_error(y_test, y_pred)\n",
        "\n",
        "\n",
        "print(\"MSE:\", mse)\n",
        "print(\"R^2:\", r2)\n",
        "print(\"MAE:\", mae)\n",
        "print(\"MAPE:\",mape*100)"
      ]
    },
    {
      "cell_type": "code",
      "execution_count": 52,
      "metadata": {},
      "outputs": [
        {
          "name": "stdout",
          "output_type": "stream",
          "text": [
            "    |   Population Average    |             Best Individual              |\n",
            "---- ------------------------- ------------------------------------------ ----------\n",
            " Gen   Length          Fitness   Length          Fitness      OOB Fitness  Time Left\n",
            "   0    57.03          4.00212        9         0.362742         0.360346     19.27m\n",
            "   1    13.93           3.4061       13          0.30977         0.308994      4.88m\n",
            "   2    16.61          2.79161        9         0.138495         0.138903      4.88m\n",
            "   3    12.54          2.47443       19         0.103404         0.101998      3.52m\n",
            "   4     9.28           2.3731       13        0.0976968        0.0989709      2.57m\n",
            "   5     8.44          2.49783       15        0.0928913        0.0926562      2.27m\n",
            "   6     6.87          2.16687       15        0.0929108        0.0924808      1.82m\n",
            "   7     7.89          1.42542       13        0.0918291        0.0948731      1.76m\n",
            "   8     6.99          1.28796       11        0.0965543        0.0957649      1.57m\n",
            "   9     6.21          1.80742        7         0.102916         0.108966      1.63m\n",
            "  10     5.29          2.26745        5         0.087334        0.0875624      1.62m\n",
            "  11     5.42          2.27321        5        0.0871321        0.0893536      1.45m\n",
            "  12     5.34          2.24089        5        0.0870088         0.090429      1.27m\n",
            "  13     5.33          2.24991        5        0.0869769         0.090705      1.08m\n",
            "  14     5.44          2.26654        5        0.0867691        0.0924787     54.40s\n",
            "  15     5.44          2.18625        5        0.0868462        0.0918252     43.36s\n",
            "  16     5.30           2.2068        5        0.0868263        0.0919942     32.19s\n",
            "  17     5.36          2.24108        5        0.0868832        0.0915096     23.09s\n",
            "  18     5.27          2.20739       13         0.086318        0.0850056     11.48s\n",
            "  19     5.31          2.18705        5        0.0868757        0.0915736      0.00s\n",
            "Expresión: div(0.649, pot1(Re, -0.561))\n",
            "MSE: 30.438406307397393\n",
            "R^2: 0.9372452322507083\n",
            "MAE: 4.099689932834176\n",
            "MAPE: 7.615416448916354\n"
          ]
        }
      ],
      "source": [
        "model = SymbolicRegressor(population_size=5000,\n",
        "                        generations=20, \n",
        "                        init_method='grow', \n",
        "                        stopping_criteria=0.01,\n",
        "                        p_crossover=0.7, \n",
        "                        p_subtree_mutation=0.1,\n",
        "                        p_hoist_mutation=0.05, \n",
        "                        p_point_mutation=0.1,\n",
        "                        max_samples=0.9, \n",
        "                        verbose=1,\n",
        "                        parsimony_coefficient=0.01, \n",
        "                        random_state=0,\n",
        "                        function_set=['add', 'sub', 'mul', 'div',nusselt_form, pot1],\n",
        "                        metric = rmsle, \n",
        "                        feature_names=['S', 'Re', 'Pr'])\n",
        "\n",
        "model.fit(X_train, y_train)\n",
        "\n",
        "# Obtener la expresión simbólica\n",
        "expression = model._program\n",
        "print(\"Expresión:\", expression)\n",
        "\n",
        "# prediciendo con el conjunto de prueba\n",
        "y_pred = model.predict(X_test)\n",
        "\n",
        "# Calcular métricas\n",
        "mse = mean_squared_error(y_test, y_pred)\n",
        "r2 = r2_score(y_test, y_pred)\n",
        "mae = mean_absolute_error(y_test, y_pred)\n",
        "mape = mean_absolute_percentage_error(y_test, y_pred)\n",
        "\n",
        "\n",
        "print(\"MSE:\", mse)\n",
        "print(\"R^2:\", r2)\n",
        "print(\"MAE:\", mae)\n",
        "print(\"MAPE:\",mape*100)"
      ]
    },
    {
      "cell_type": "code",
      "execution_count": 53,
      "metadata": {},
      "outputs": [
        {
          "name": "stdout",
          "output_type": "stream",
          "text": [
            "    |   Population Average    |             Best Individual              |\n",
            "---- ------------------------- ------------------------------------------ ----------\n",
            " Gen   Length          Fitness   Length          Fitness      OOB Fitness  Time Left\n",
            "   0    57.03          4.00212        9         0.362742         0.360346     19.12m\n",
            "   1    17.60          3.39198       13          0.30977         0.308994      5.93m\n",
            "   2    19.40          2.77602        9         0.138495         0.138903      5.57m\n",
            "   3    13.70          2.45301       19         0.103404         0.101998      3.76m\n",
            "   4    12.63           2.3018       19        0.0980652         0.103407      3.12m\n",
            "   5    12.09          2.34295       15        0.0927466        0.0939522      2.72m\n",
            "   6    11.12          2.33618       13         0.091213        0.0894611      2.41m\n",
            "   7     9.38          2.19052       17        0.0896672        0.0896502      2.13m\n",
            "   8     6.66          2.26196       11        0.0835964        0.0827995      1.90m\n",
            "   9     8.74          2.19499       11        0.0832804        0.0856174      1.79m\n",
            "  10     8.52          2.17895       11        0.0832726         0.085686      1.56m\n",
            "  11     6.14          2.21138       11        0.0833192        0.0852772      1.54m\n",
            "  12     5.34          2.23318        5        0.0857285         0.088967      1.25m\n",
            "  13     5.33          2.24563        5        0.0855896        0.0901623      1.06m\n",
            "  14     5.44          2.26858        5        0.0842555        0.0841298      2.13m\n",
            "  15     5.44          2.18747        5        0.0841047        0.0854773      1.80m\n",
            "  16     5.30          2.20772        5        0.0837332        0.0886991      1.47m\n",
            "  17     5.36          2.24185        5         0.083564        0.0901235     58.65s\n",
            "  18     5.27          2.20775        5        0.0834838        0.0907898     28.58s\n",
            "  19     5.31          2.18718        5        0.0834273        0.0912562      0.00s\n",
            "Expresión: div(0.615, pot1(Re, -0.562))\n",
            "MSE: 36.175522006211544\n",
            "R^2: 0.9254170386326214\n",
            "MAE: 4.2879332037741715\n",
            "MAPE: 7.274357998709648\n"
          ]
        }
      ],
      "source": [
        "model = SymbolicRegressor(population_size=5000,\n",
        "                        generations=20, \n",
        "                        init_method='grow', \n",
        "                        stopping_criteria=0.01,\n",
        "                        p_crossover=0.7, \n",
        "                        p_subtree_mutation=0.1,\n",
        "                        p_hoist_mutation=0.05, \n",
        "                        p_point_mutation=0.1,\n",
        "                        max_samples=0.9, \n",
        "                        verbose=1,\n",
        "                        parsimony_coefficient=0.005, \n",
        "                        random_state=0,\n",
        "                        function_set=['add', 'sub', 'mul', 'div',nusselt_form, pot1],\n",
        "                        metric = rmsle, \n",
        "                        feature_names=['S', 'Re', 'Pr'])\n",
        "\n",
        "model.fit(X_train, y_train)\n",
        "\n",
        "# Obtener la expresión simbólica\n",
        "expression = model._program\n",
        "print(\"Expresión:\", expression)\n",
        "\n",
        "# prediciendo con el conjunto de prueba\n",
        "y_pred = model.predict(X_test)\n",
        "\n",
        "# Calcular métricas\n",
        "mse = mean_squared_error(y_test, y_pred)\n",
        "r2 = r2_score(y_test, y_pred)\n",
        "mae = mean_absolute_error(y_test, y_pred)\n",
        "mape = mean_absolute_percentage_error(y_test, y_pred)\n",
        "\n",
        "\n",
        "print(\"MSE:\", mse)\n",
        "print(\"R^2:\", r2)\n",
        "print(\"MAE:\", mae)\n",
        "print(\"MAPE:\",mape*100)"
      ]
    },
    {
      "cell_type": "code",
      "execution_count": 46,
      "metadata": {},
      "outputs": [
        {
          "name": "stdout",
          "output_type": "stream",
          "text": [
            "    |   Population Average    |             Best Individual              |\n",
            "---- ------------------------- ------------------------------------------ ----------\n",
            " Gen   Length          Fitness   Length          Fitness      OOB Fitness  Time Left\n",
            "   0    95.61          4.01649      229         0.290049         0.295516     32.81m\n",
            "   1    17.15          3.39904        8         0.137091         0.134413      6.13m\n",
            "   2    28.42          2.60275       11         0.105588         0.104188      8.87m\n",
            "   3    26.41          2.28839       11         0.105228         0.107418      7.33m\n",
            "   4    14.25           2.5061       31        0.0414237        0.0418874      3.86m\n",
            "   5    10.09          2.58968       31        0.0414284        0.0418457      3.20m\n",
            "   6     7.89          2.59045        7         0.083346        0.0865602      2.75m\n",
            "   7     6.38          2.47434        7        0.0835529        0.0847459      2.28m\n",
            "   8     6.38          2.61359        7        0.0831784        0.0879991      2.06m\n",
            "   9     7.21          2.74996        7        0.0830349        0.0892103      1.92m\n",
            "  10     7.21          2.71319        7        0.0831793        0.0879917      1.70m\n",
            "  11     7.27          2.41833        7        0.0831817         0.087971      1.55m\n",
            "  12     7.31          2.30689        7        0.0829608        0.0898286      1.34m\n",
            "  13     7.22          2.40482        7        0.0829118        0.0902353      1.19m\n",
            "  14     7.16          2.35815        7        0.0829865        0.0896148     58.48s\n",
            "  15     7.44          2.32912        7        0.0830988        0.0886732     49.34s\n",
            "  16     7.45          2.36181        7         0.082987        0.0896107     36.81s\n",
            "  17     7.31          2.35983        7        0.0830301        0.0892504     24.36s\n",
            "  18     7.44          2.38094        7        0.0829321        0.0900673     12.03s\n",
            "  19     7.21          2.35205        7        0.0829014        0.0903211      0.00s\n",
            "Expresión: div(Pr, pot1(mul(Re, 0.806), -0.561))\n",
            "MSE: 34.918660651815905\n",
            "R^2: 0.9280083057834574\n",
            "MAE: 4.225860846243759\n",
            "MAPE: 7.2623699573538385\n"
          ]
        }
      ],
      "source": [
        "model = SymbolicRegressor(population_size=5000,\n",
        "                        generations=20, \n",
        "                        stopping_criteria=0.01,\n",
        "                        p_crossover=0.7, \n",
        "                        p_subtree_mutation=0.1,\n",
        "                        p_hoist_mutation=0.05, \n",
        "                        p_point_mutation=0.1,\n",
        "                        max_samples=0.9, \n",
        "                        verbose=1,\n",
        "                        parsimony_coefficient=0.01, \n",
        "                        random_state=0,\n",
        "                        function_set=['add', 'sub', 'mul', 'div',nusselt_form, pot1],\n",
        "                        metric = rmsle, \n",
        "                        feature_names=['S', 'Re', 'Pr'])\n",
        "\n",
        "model.fit(X_train, y_train)\n",
        "\n",
        "# Obtener la expresión simbólica\n",
        "expression = model._program\n",
        "print(\"Expresión:\", expression)\n",
        "\n",
        "# prediciendo con el conjunto de prueba\n",
        "y_pred = model.predict(X_test)\n",
        "\n",
        "# Calcular métricas\n",
        "mse = mean_squared_error(y_test, y_pred)\n",
        "r2 = r2_score(y_test, y_pred)\n",
        "mae = mean_absolute_error(y_test, y_pred)\n",
        "mape = mean_absolute_percentage_error(y_test, y_pred)\n",
        "\n",
        "\n",
        "print(\"MSE:\", mse)\n",
        "print(\"R^2:\", r2)\n",
        "print(\"MAE:\", mae)\n",
        "print(\"MAPE:\",mape*100)"
      ]
    },
    {
      "cell_type": "code",
      "execution_count": 41,
      "metadata": {},
      "outputs": [
        {
          "name": "stdout",
          "output_type": "stream",
          "text": [
            "    |   Population Average    |             Best Individual              |\n",
            "---- ------------------------- ------------------------------------------ ----------\n",
            " Gen   Length          Fitness   Length          Fitness      OOB Fitness  Time Left\n",
            "   0   128.42          4.00899      130          0.33595         0.345605     41.52m\n",
            "   1     7.67          3.59843        8         0.137091         0.134413      3.31m\n",
            "   2     6.90          2.97083        8         0.136618         0.138678      2.61m\n",
            "   3     8.18          2.54136        8          0.10824         0.103354      2.71m\n",
            "   4     7.55          2.43922        8         0.122925          0.12118      2.38m\n",
            "   5     7.23          2.52841        8         0.122553         0.124528      2.69m\n",
            "   6     7.54          2.60131        8         0.112917         0.112613      2.89m\n",
            "   7     6.62          2.42677        8         0.112665          0.11486      2.30m\n",
            "   8     6.28          2.28154        8         0.106345         0.103689      1.98m\n",
            "   9     5.46          1.68194        8         0.122516         0.124856      1.48m\n",
            "  10     5.47          1.66391        5         0.341551         0.357282      1.34m\n",
            "  11     5.51          1.67203        5         0.337937         0.334832      1.19m\n",
            "  12     5.34          1.60887        5         0.336808          0.34492      1.05m\n",
            "  13     5.34          1.64127        5         0.337015         0.343095     52.42s\n",
            "  14     5.31          1.63525        5         0.336269         0.349623     43.75s\n",
            "  15     5.39          1.60121        5         0.336246         0.349815     35.59s\n",
            "  16     5.37          1.63859        5         0.335906         0.352748     28.14s\n",
            "  17     5.43          1.66335        5         0.335843         0.353287     19.24s\n",
            "  18     5.63          1.65029        5         0.335984         0.352073      9.57s\n",
            "  19     5.59          1.61623        5         0.335808         0.353583      0.00s\n",
            "Expresión: div(div(0.629, 0.053), 0.213)\n",
            "MSE: 494.60081771061726\n",
            "R^2: -0.019716969757916702\n",
            "MAE: 17.521712092377445\n",
            "MAPE: 28.5204008294209\n"
          ]
        }
      ],
      "source": [
        "model = SymbolicRegressor(population_size=5000,\n",
        "                        generations=20, \n",
        "                        stopping_criteria=0.01,\n",
        "                        p_crossover=0.7, \n",
        "                        p_subtree_mutation=0.1,\n",
        "                        p_hoist_mutation=0.05, \n",
        "                        p_point_mutation=0.1,\n",
        "                        max_samples=0.9, \n",
        "                        verbose=1,\n",
        "                        parsimony_coefficient=0.1, \n",
        "                        random_state=0,\n",
        "                        function_set=['add', 'sub', 'mul', 'div',nusselt_form, pot1],\n",
        "                        metric = rmsle, \n",
        "                        feature_names=['S', 'Re', 'Pr'])\n",
        "\n",
        "model.fit(X_train, y_train)\n",
        "\n",
        "# Obtener la expresión simbólica\n",
        "expression = model._program\n",
        "print(\"Expresión:\", expression)\n",
        "\n",
        "# prediciendo con el conjunto de prueba\n",
        "y_pred = model.predict(X_test)\n",
        "\n",
        "# Calcular métricas\n",
        "mse = mean_squared_error(y_test, y_pred)\n",
        "r2 = r2_score(y_test, y_pred)\n",
        "mae = mean_absolute_error(y_test, y_pred)\n",
        "mape = mean_absolute_percentage_error(y_test, y_pred)\n",
        "\n",
        "\n",
        "print(\"MSE:\", mse)\n",
        "print(\"R^2:\", r2)\n",
        "print(\"MAE:\", mae)\n",
        "print(\"MAPE:\",mape*100)"
      ]
    },
    {
      "cell_type": "code",
      "execution_count": 32,
      "metadata": {},
      "outputs": [
        {
          "name": "stdout",
          "output_type": "stream",
          "text": [
            "    |   Population Average    |             Best Individual              |\n",
            "---- ------------------------- ------------------------------------------ ----------\n",
            " Gen   Length          Fitness   Length          Fitness      OOB Fitness  Time Left\n",
            "   0   128.42          4.21909       33         0.448535         0.455705     45.41m\n",
            "   1    42.71          3.22615       11         0.214346         0.215307     14.26m\n",
            "   2    46.65          2.32935       17          0.10082         0.100812     14.00m\n",
            "   3    36.78           2.1768       11        0.0725647        0.0736345      9.93m\n",
            "   4    27.55          2.12849       45        0.0508661        0.0499094      7.42m\n",
            "   5    20.75          2.22202       55         0.050785        0.0508452      5.73m\n",
            "   6    19.42          2.21934       50        0.0504489        0.0513661      5.08m\n",
            "   7    15.91          2.21984       52        0.0500729        0.0518495      3.97m\n",
            "   8    13.75          2.16397       52        0.0503155         0.049691      3.52m\n",
            "   9    13.07          2.15841       50         0.050707        0.0513462      3.28m\n",
            "  10    14.49          2.02693       15         0.055137        0.0557128      3.02m\n",
            "  11    16.34          1.82374       15        0.0550257        0.0566942      2.75m\n",
            "  12    16.03          1.81985       21        0.0531486        0.0555421      2.46m\n",
            "  13    15.08          1.90139       15        0.0530653        0.0545222      1.98m\n",
            "  14    15.08          1.69382       19        0.0527775        0.0549515      1.57m\n",
            "  15    15.14          1.57959       17         0.052753         0.052137      1.21m\n",
            "  16    14.96          1.57261       17        0.0524836        0.0545294     54.50s\n",
            "  17    15.10          1.56994       17        0.0523733        0.0554753     36.45s\n",
            "  18    15.30           1.5803       17        0.0525132        0.0511269     19.32s\n",
            "  19    15.28          1.57151       17        0.0524622         0.051596      0.00s\n",
            "Expresión: add(add(S, mul(S, S)), pot1(0.097, nu(Re, Pr, Pr, Pr, S), add(Pr, -0.286)))\n",
            "MSE: 12.559283643037634\n",
            "R^2: 0.9741065639193875\n",
            "MAE: 2.248052892632613\n",
            "MAPE: 3.594548029494983\n"
          ]
        }
      ],
      "source": [
        "model = SymbolicRegressor(population_size=5000,\n",
        "                        generations=20, \n",
        "                        stopping_criteria=0.01,\n",
        "                        p_crossover=0.7, \n",
        "                        p_subtree_mutation=0.1,\n",
        "                        p_hoist_mutation=0.05, \n",
        "                        p_point_mutation=0.1,\n",
        "                        max_samples=0.9, \n",
        "                        verbose=1,\n",
        "                        parsimony_coefficient=0.001, \n",
        "                        random_state=0,\n",
        "                        function_set=['add', 'sub', 'mul', 'div',nusselt_form, pot1],\n",
        "                        metric = rmsle, \n",
        "                        feature_names=['S', 'Re', 'Pr'])\n",
        "\n",
        "model.fit(X_train, y_train)\n",
        "\n",
        "# Obtener la expresión simbólica\n",
        "expression = model._program\n",
        "print(\"Expresión:\", expression)\n",
        "\n",
        "# prediciendo con el conjunto de prueba\n",
        "y_pred = model.predict(X_test)\n",
        "\n",
        "# Calcular métricas\n",
        "mse = mean_squared_error(y_test, y_pred)\n",
        "r2 = r2_score(y_test, y_pred)\n",
        "mae = mean_absolute_error(y_test, y_pred)\n",
        "mape = mean_absolute_percentage_error(y_test, y_pred)\n",
        "\n",
        "\n",
        "print(\"MSE:\", mse)\n",
        "print(\"R^2:\", r2)\n",
        "print(\"MAE:\", mae)\n",
        "print(\"MAPE:\",mape*100)"
      ]
    },
    {
      "cell_type": "markdown",
      "metadata": {},
      "source": [
        "### Realizando un GridSearch"
      ]
    },
    {
      "cell_type": "code",
      "execution_count": 55,
      "metadata": {},
      "outputs": [],
      "source": [
        "from sklearn.model_selection import GridSearchCV"
      ]
    },
    {
      "cell_type": "code",
      "execution_count": 58,
      "metadata": {},
      "outputs": [
        {
          "name": "stdout",
          "output_type": "stream",
          "text": [
            "    |   Population Average    |             Best Individual              |\n",
            "---- ------------------------- ------------------------------------------ ----------\n",
            " Gen   Length          Fitness   Length          Fitness      OOB Fitness  Time Left\n",
            "   0    57.03          3.99152        9         0.361017         0.359975     41.65m\n",
            "   1    37.41          3.79125        6         0.306437         0.312256     27.17m\n",
            "   2    35.91          3.66063       39         0.472852         0.470819     23.39m\n",
            "   3    42.81          3.50148       13         0.331126          0.32794     26.22m\n",
            "   4    50.10          3.40504        9         0.122818         0.123481     28.27m\n",
            "   5    53.53          3.30736       13         0.122556         0.126095     27.43m\n",
            "   6    54.16          3.22854       13         0.122561         0.126054     25.43m\n",
            "   7    58.44          3.15881       11         0.122577         0.125176     25.12m\n",
            "   8    64.63          3.04437       11         0.122649         0.124535     24.80m\n",
            "   9    70.97          2.91222       11         0.122666         0.124387     24.78m\n",
            "  10    75.45           2.7991        9         0.122581         0.125582     23.60m\n",
            "  11    80.65          2.62139        9         0.122578         0.125608     22.27m\n",
            "  12    87.61          2.43373       87         0.122477          0.12649     21.81m\n",
            "  13    98.64          2.19861       85         0.122454         0.126692     20.76m\n",
            "  14   114.27          1.91237      119        0.0835286        0.0844775     20.45m\n",
            "  15   134.72          1.63393      112         0.083937        0.0807522     19.05m\n",
            "  16   159.52          1.39056      112        0.0846908        0.0835539     16.82m\n",
            "  17   185.20          1.13911       44          0.10323         0.102478     12.73m\n",
            "  18   201.74         0.930688      246        0.0925164        0.0909997      6.61m\n",
            "  19   204.42         0.865944      301        0.0927505         0.088829      0.00s\n",
            "    |   Population Average    |             Best Individual              |\n",
            "---- ------------------------- ------------------------------------------ ----------\n",
            " Gen   Length          Fitness   Length          Fitness      OOB Fitness  Time Left\n",
            "   0    57.03          4.00897        9         0.368671         0.368906     38.39m\n",
            "   1    37.59          3.81236        6         0.311278         0.323642     24.67m\n",
            "   2    35.98          3.67387       39         0.480743         0.482188     22.25m\n",
            "   3    42.96          3.52606       18         0.516294         0.500803     24.31m\n",
            "   4    50.02          3.41873       21         0.351349           0.3442     26.34m\n",
            "   5    53.15          3.32431       31         0.204042         0.206024     25.44m\n",
            "   6    55.01          3.25144      263         0.472222         0.475647     24.06m\n",
            "   7    60.28          3.16534      160         0.342511         0.342535     23.93m\n",
            "   8    67.42          3.04044      263         0.281277         0.281133     24.06m\n",
            "   9    73.92          2.92046       10         0.307688         0.306821     23.79m\n",
            "  10    79.81          2.79463       18         0.277517         0.276027     23.23m\n",
            "  11    86.00          2.62011      113         0.100851         0.104914     22.32m\n",
            "  12    94.77          2.41671      125         0.101123          0.10253     21.62m\n",
            "  13   106.69          2.14828       47         0.100942         0.104124     20.99m\n",
            "  14   121.98          1.90178       43          0.10105         0.103169     20.10m\n",
            "  15   144.53           1.5941      145         0.100629         0.106809     19.38m\n",
            "  16   171.22          1.30675      145        0.0981921        0.0944679     16.84m\n",
            "  17   193.95          1.08798       95        0.0908928        0.0868836     12.58m\n"
          ]
        },
        {
          "ename": "KeyboardInterrupt",
          "evalue": "",
          "output_type": "error",
          "traceback": [
            "\u001b[1;31m---------------------------------------------------------------------------\u001b[0m",
            "\u001b[1;31mKeyboardInterrupt\u001b[0m                         Traceback (most recent call last)",
            "Cell \u001b[1;32mIn[58], line 15\u001b[0m\n\u001b[0;32m     12\u001b[0m \u001b[38;5;66;03m# Definir el GridSearchCV\u001b[39;00m\n\u001b[0;32m     13\u001b[0m grid_search \u001b[38;5;241m=\u001b[39m GridSearchCV(estimator\u001b[38;5;241m=\u001b[39mmodel, param_grid\u001b[38;5;241m=\u001b[39mparam_grid, cv\u001b[38;5;241m=\u001b[39m\u001b[38;5;241m5\u001b[39m, scoring\u001b[38;5;241m=\u001b[39m\u001b[38;5;124m'\u001b[39m\u001b[38;5;124mneg_mean_squared_error\u001b[39m\u001b[38;5;124m'\u001b[39m)\n\u001b[1;32m---> 15\u001b[0m \u001b[43mgrid_search\u001b[49m\u001b[38;5;241;43m.\u001b[39;49m\u001b[43mfit\u001b[49m\u001b[43m(\u001b[49m\u001b[43mX_train\u001b[49m\u001b[43m,\u001b[49m\u001b[43m \u001b[49m\u001b[43my_train\u001b[49m\u001b[43m)\u001b[49m\n\u001b[0;32m     17\u001b[0m \u001b[38;5;66;03m# Mostrar los mejores parámetros encontrados\u001b[39;00m\n\u001b[0;32m     18\u001b[0m \u001b[38;5;28mprint\u001b[39m(\u001b[38;5;124m\"\u001b[39m\u001b[38;5;124mMejores parámetros: \u001b[39m\u001b[38;5;124m\"\u001b[39m, grid_search\u001b[38;5;241m.\u001b[39mbest_params_)\n",
            "File \u001b[1;32mc:\\Users\\lucas\\Documents\\VSCode\\env\\Lib\\site-packages\\sklearn\\base.py:1473\u001b[0m, in \u001b[0;36m_fit_context.<locals>.decorator.<locals>.wrapper\u001b[1;34m(estimator, *args, **kwargs)\u001b[0m\n\u001b[0;32m   1466\u001b[0m     estimator\u001b[38;5;241m.\u001b[39m_validate_params()\n\u001b[0;32m   1468\u001b[0m \u001b[38;5;28;01mwith\u001b[39;00m config_context(\n\u001b[0;32m   1469\u001b[0m     skip_parameter_validation\u001b[38;5;241m=\u001b[39m(\n\u001b[0;32m   1470\u001b[0m         prefer_skip_nested_validation \u001b[38;5;129;01mor\u001b[39;00m global_skip_validation\n\u001b[0;32m   1471\u001b[0m     )\n\u001b[0;32m   1472\u001b[0m ):\n\u001b[1;32m-> 1473\u001b[0m     \u001b[38;5;28;01mreturn\u001b[39;00m \u001b[43mfit_method\u001b[49m\u001b[43m(\u001b[49m\u001b[43mestimator\u001b[49m\u001b[43m,\u001b[49m\u001b[43m \u001b[49m\u001b[38;5;241;43m*\u001b[39;49m\u001b[43margs\u001b[49m\u001b[43m,\u001b[49m\u001b[43m \u001b[49m\u001b[38;5;241;43m*\u001b[39;49m\u001b[38;5;241;43m*\u001b[39;49m\u001b[43mkwargs\u001b[49m\u001b[43m)\u001b[49m\n",
            "File \u001b[1;32mc:\\Users\\lucas\\Documents\\VSCode\\env\\Lib\\site-packages\\sklearn\\model_selection\\_search.py:1019\u001b[0m, in \u001b[0;36mBaseSearchCV.fit\u001b[1;34m(self, X, y, **params)\u001b[0m\n\u001b[0;32m   1013\u001b[0m     results \u001b[38;5;241m=\u001b[39m \u001b[38;5;28mself\u001b[39m\u001b[38;5;241m.\u001b[39m_format_results(\n\u001b[0;32m   1014\u001b[0m         all_candidate_params, n_splits, all_out, all_more_results\n\u001b[0;32m   1015\u001b[0m     )\n\u001b[0;32m   1017\u001b[0m     \u001b[38;5;28;01mreturn\u001b[39;00m results\n\u001b[1;32m-> 1019\u001b[0m \u001b[38;5;28;43mself\u001b[39;49m\u001b[38;5;241;43m.\u001b[39;49m\u001b[43m_run_search\u001b[49m\u001b[43m(\u001b[49m\u001b[43mevaluate_candidates\u001b[49m\u001b[43m)\u001b[49m\n\u001b[0;32m   1021\u001b[0m \u001b[38;5;66;03m# multimetric is determined here because in the case of a callable\u001b[39;00m\n\u001b[0;32m   1022\u001b[0m \u001b[38;5;66;03m# self.scoring the return type is only known after calling\u001b[39;00m\n\u001b[0;32m   1023\u001b[0m first_test_score \u001b[38;5;241m=\u001b[39m all_out[\u001b[38;5;241m0\u001b[39m][\u001b[38;5;124m\"\u001b[39m\u001b[38;5;124mtest_scores\u001b[39m\u001b[38;5;124m\"\u001b[39m]\n",
            "File \u001b[1;32mc:\\Users\\lucas\\Documents\\VSCode\\env\\Lib\\site-packages\\sklearn\\model_selection\\_search.py:1573\u001b[0m, in \u001b[0;36mGridSearchCV._run_search\u001b[1;34m(self, evaluate_candidates)\u001b[0m\n\u001b[0;32m   1571\u001b[0m \u001b[38;5;28;01mdef\u001b[39;00m \u001b[38;5;21m_run_search\u001b[39m(\u001b[38;5;28mself\u001b[39m, evaluate_candidates):\n\u001b[0;32m   1572\u001b[0m \u001b[38;5;250m    \u001b[39m\u001b[38;5;124;03m\"\"\"Search all candidates in param_grid\"\"\"\u001b[39;00m\n\u001b[1;32m-> 1573\u001b[0m     \u001b[43mevaluate_candidates\u001b[49m\u001b[43m(\u001b[49m\u001b[43mParameterGrid\u001b[49m\u001b[43m(\u001b[49m\u001b[38;5;28;43mself\u001b[39;49m\u001b[38;5;241;43m.\u001b[39;49m\u001b[43mparam_grid\u001b[49m\u001b[43m)\u001b[49m\u001b[43m)\u001b[49m\n",
            "File \u001b[1;32mc:\\Users\\lucas\\Documents\\VSCode\\env\\Lib\\site-packages\\sklearn\\model_selection\\_search.py:965\u001b[0m, in \u001b[0;36mBaseSearchCV.fit.<locals>.evaluate_candidates\u001b[1;34m(candidate_params, cv, more_results)\u001b[0m\n\u001b[0;32m    957\u001b[0m \u001b[38;5;28;01mif\u001b[39;00m \u001b[38;5;28mself\u001b[39m\u001b[38;5;241m.\u001b[39mverbose \u001b[38;5;241m>\u001b[39m \u001b[38;5;241m0\u001b[39m:\n\u001b[0;32m    958\u001b[0m     \u001b[38;5;28mprint\u001b[39m(\n\u001b[0;32m    959\u001b[0m         \u001b[38;5;124m\"\u001b[39m\u001b[38;5;124mFitting \u001b[39m\u001b[38;5;132;01m{0}\u001b[39;00m\u001b[38;5;124m folds for each of \u001b[39m\u001b[38;5;132;01m{1}\u001b[39;00m\u001b[38;5;124m candidates,\u001b[39m\u001b[38;5;124m\"\u001b[39m\n\u001b[0;32m    960\u001b[0m         \u001b[38;5;124m\"\u001b[39m\u001b[38;5;124m totalling \u001b[39m\u001b[38;5;132;01m{2}\u001b[39;00m\u001b[38;5;124m fits\u001b[39m\u001b[38;5;124m\"\u001b[39m\u001b[38;5;241m.\u001b[39mformat(\n\u001b[0;32m    961\u001b[0m             n_splits, n_candidates, n_candidates \u001b[38;5;241m*\u001b[39m n_splits\n\u001b[0;32m    962\u001b[0m         )\n\u001b[0;32m    963\u001b[0m     )\n\u001b[1;32m--> 965\u001b[0m out \u001b[38;5;241m=\u001b[39m \u001b[43mparallel\u001b[49m\u001b[43m(\u001b[49m\n\u001b[0;32m    966\u001b[0m \u001b[43m    \u001b[49m\u001b[43mdelayed\u001b[49m\u001b[43m(\u001b[49m\u001b[43m_fit_and_score\u001b[49m\u001b[43m)\u001b[49m\u001b[43m(\u001b[49m\n\u001b[0;32m    967\u001b[0m \u001b[43m        \u001b[49m\u001b[43mclone\u001b[49m\u001b[43m(\u001b[49m\u001b[43mbase_estimator\u001b[49m\u001b[43m)\u001b[49m\u001b[43m,\u001b[49m\n\u001b[0;32m    968\u001b[0m \u001b[43m        \u001b[49m\u001b[43mX\u001b[49m\u001b[43m,\u001b[49m\n\u001b[0;32m    969\u001b[0m \u001b[43m        \u001b[49m\u001b[43my\u001b[49m\u001b[43m,\u001b[49m\n\u001b[0;32m    970\u001b[0m \u001b[43m        \u001b[49m\u001b[43mtrain\u001b[49m\u001b[38;5;241;43m=\u001b[39;49m\u001b[43mtrain\u001b[49m\u001b[43m,\u001b[49m\n\u001b[0;32m    971\u001b[0m \u001b[43m        \u001b[49m\u001b[43mtest\u001b[49m\u001b[38;5;241;43m=\u001b[39;49m\u001b[43mtest\u001b[49m\u001b[43m,\u001b[49m\n\u001b[0;32m    972\u001b[0m \u001b[43m        \u001b[49m\u001b[43mparameters\u001b[49m\u001b[38;5;241;43m=\u001b[39;49m\u001b[43mparameters\u001b[49m\u001b[43m,\u001b[49m\n\u001b[0;32m    973\u001b[0m \u001b[43m        \u001b[49m\u001b[43msplit_progress\u001b[49m\u001b[38;5;241;43m=\u001b[39;49m\u001b[43m(\u001b[49m\u001b[43msplit_idx\u001b[49m\u001b[43m,\u001b[49m\u001b[43m \u001b[49m\u001b[43mn_splits\u001b[49m\u001b[43m)\u001b[49m\u001b[43m,\u001b[49m\n\u001b[0;32m    974\u001b[0m \u001b[43m        \u001b[49m\u001b[43mcandidate_progress\u001b[49m\u001b[38;5;241;43m=\u001b[39;49m\u001b[43m(\u001b[49m\u001b[43mcand_idx\u001b[49m\u001b[43m,\u001b[49m\u001b[43m \u001b[49m\u001b[43mn_candidates\u001b[49m\u001b[43m)\u001b[49m\u001b[43m,\u001b[49m\n\u001b[0;32m    975\u001b[0m \u001b[43m        \u001b[49m\u001b[38;5;241;43m*\u001b[39;49m\u001b[38;5;241;43m*\u001b[39;49m\u001b[43mfit_and_score_kwargs\u001b[49m\u001b[43m,\u001b[49m\n\u001b[0;32m    976\u001b[0m \u001b[43m    \u001b[49m\u001b[43m)\u001b[49m\n\u001b[0;32m    977\u001b[0m \u001b[43m    \u001b[49m\u001b[38;5;28;43;01mfor\u001b[39;49;00m\u001b[43m \u001b[49m\u001b[43m(\u001b[49m\u001b[43mcand_idx\u001b[49m\u001b[43m,\u001b[49m\u001b[43m \u001b[49m\u001b[43mparameters\u001b[49m\u001b[43m)\u001b[49m\u001b[43m,\u001b[49m\u001b[43m \u001b[49m\u001b[43m(\u001b[49m\u001b[43msplit_idx\u001b[49m\u001b[43m,\u001b[49m\u001b[43m \u001b[49m\u001b[43m(\u001b[49m\u001b[43mtrain\u001b[49m\u001b[43m,\u001b[49m\u001b[43m \u001b[49m\u001b[43mtest\u001b[49m\u001b[43m)\u001b[49m\u001b[43m)\u001b[49m\u001b[43m \u001b[49m\u001b[38;5;129;43;01min\u001b[39;49;00m\u001b[43m \u001b[49m\u001b[43mproduct\u001b[49m\u001b[43m(\u001b[49m\n\u001b[0;32m    978\u001b[0m \u001b[43m        \u001b[49m\u001b[38;5;28;43menumerate\u001b[39;49m\u001b[43m(\u001b[49m\u001b[43mcandidate_params\u001b[49m\u001b[43m)\u001b[49m\u001b[43m,\u001b[49m\n\u001b[0;32m    979\u001b[0m \u001b[43m        \u001b[49m\u001b[38;5;28;43menumerate\u001b[39;49m\u001b[43m(\u001b[49m\u001b[43mcv\u001b[49m\u001b[38;5;241;43m.\u001b[39;49m\u001b[43msplit\u001b[49m\u001b[43m(\u001b[49m\u001b[43mX\u001b[49m\u001b[43m,\u001b[49m\u001b[43m \u001b[49m\u001b[43my\u001b[49m\u001b[43m,\u001b[49m\u001b[43m \u001b[49m\u001b[38;5;241;43m*\u001b[39;49m\u001b[38;5;241;43m*\u001b[39;49m\u001b[43mrouted_params\u001b[49m\u001b[38;5;241;43m.\u001b[39;49m\u001b[43msplitter\u001b[49m\u001b[38;5;241;43m.\u001b[39;49m\u001b[43msplit\u001b[49m\u001b[43m)\u001b[49m\u001b[43m)\u001b[49m\u001b[43m,\u001b[49m\n\u001b[0;32m    980\u001b[0m \u001b[43m    \u001b[49m\u001b[43m)\u001b[49m\n\u001b[0;32m    981\u001b[0m \u001b[43m\u001b[49m\u001b[43m)\u001b[49m\n\u001b[0;32m    983\u001b[0m \u001b[38;5;28;01mif\u001b[39;00m \u001b[38;5;28mlen\u001b[39m(out) \u001b[38;5;241m<\u001b[39m \u001b[38;5;241m1\u001b[39m:\n\u001b[0;32m    984\u001b[0m     \u001b[38;5;28;01mraise\u001b[39;00m \u001b[38;5;167;01mValueError\u001b[39;00m(\n\u001b[0;32m    985\u001b[0m         \u001b[38;5;124m\"\u001b[39m\u001b[38;5;124mNo fits were performed. \u001b[39m\u001b[38;5;124m\"\u001b[39m\n\u001b[0;32m    986\u001b[0m         \u001b[38;5;124m\"\u001b[39m\u001b[38;5;124mWas the CV iterator empty? \u001b[39m\u001b[38;5;124m\"\u001b[39m\n\u001b[0;32m    987\u001b[0m         \u001b[38;5;124m\"\u001b[39m\u001b[38;5;124mWere there no candidates?\u001b[39m\u001b[38;5;124m\"\u001b[39m\n\u001b[0;32m    988\u001b[0m     )\n",
            "File \u001b[1;32mc:\\Users\\lucas\\Documents\\VSCode\\env\\Lib\\site-packages\\sklearn\\utils\\parallel.py:74\u001b[0m, in \u001b[0;36mParallel.__call__\u001b[1;34m(self, iterable)\u001b[0m\n\u001b[0;32m     69\u001b[0m config \u001b[38;5;241m=\u001b[39m get_config()\n\u001b[0;32m     70\u001b[0m iterable_with_config \u001b[38;5;241m=\u001b[39m (\n\u001b[0;32m     71\u001b[0m     (_with_config(delayed_func, config), args, kwargs)\n\u001b[0;32m     72\u001b[0m     \u001b[38;5;28;01mfor\u001b[39;00m delayed_func, args, kwargs \u001b[38;5;129;01min\u001b[39;00m iterable\n\u001b[0;32m     73\u001b[0m )\n\u001b[1;32m---> 74\u001b[0m \u001b[38;5;28;01mreturn\u001b[39;00m \u001b[38;5;28;43msuper\u001b[39;49m\u001b[43m(\u001b[49m\u001b[43m)\u001b[49m\u001b[38;5;241;43m.\u001b[39;49m\u001b[38;5;21;43m__call__\u001b[39;49m\u001b[43m(\u001b[49m\u001b[43miterable_with_config\u001b[49m\u001b[43m)\u001b[49m\n",
            "File \u001b[1;32mc:\\Users\\lucas\\Documents\\VSCode\\env\\Lib\\site-packages\\joblib\\parallel.py:1918\u001b[0m, in \u001b[0;36mParallel.__call__\u001b[1;34m(self, iterable)\u001b[0m\n\u001b[0;32m   1916\u001b[0m     output \u001b[38;5;241m=\u001b[39m \u001b[38;5;28mself\u001b[39m\u001b[38;5;241m.\u001b[39m_get_sequential_output(iterable)\n\u001b[0;32m   1917\u001b[0m     \u001b[38;5;28mnext\u001b[39m(output)\n\u001b[1;32m-> 1918\u001b[0m     \u001b[38;5;28;01mreturn\u001b[39;00m output \u001b[38;5;28;01mif\u001b[39;00m \u001b[38;5;28mself\u001b[39m\u001b[38;5;241m.\u001b[39mreturn_generator \u001b[38;5;28;01melse\u001b[39;00m \u001b[38;5;28;43mlist\u001b[39;49m\u001b[43m(\u001b[49m\u001b[43moutput\u001b[49m\u001b[43m)\u001b[49m\n\u001b[0;32m   1920\u001b[0m \u001b[38;5;66;03m# Let's create an ID that uniquely identifies the current call. If the\u001b[39;00m\n\u001b[0;32m   1921\u001b[0m \u001b[38;5;66;03m# call is interrupted early and that the same instance is immediately\u001b[39;00m\n\u001b[0;32m   1922\u001b[0m \u001b[38;5;66;03m# re-used, this id will be used to prevent workers that were\u001b[39;00m\n\u001b[0;32m   1923\u001b[0m \u001b[38;5;66;03m# concurrently finalizing a task from the previous call to run the\u001b[39;00m\n\u001b[0;32m   1924\u001b[0m \u001b[38;5;66;03m# callback.\u001b[39;00m\n\u001b[0;32m   1925\u001b[0m \u001b[38;5;28;01mwith\u001b[39;00m \u001b[38;5;28mself\u001b[39m\u001b[38;5;241m.\u001b[39m_lock:\n",
            "File \u001b[1;32mc:\\Users\\lucas\\Documents\\VSCode\\env\\Lib\\site-packages\\joblib\\parallel.py:1847\u001b[0m, in \u001b[0;36mParallel._get_sequential_output\u001b[1;34m(self, iterable)\u001b[0m\n\u001b[0;32m   1845\u001b[0m \u001b[38;5;28mself\u001b[39m\u001b[38;5;241m.\u001b[39mn_dispatched_batches \u001b[38;5;241m+\u001b[39m\u001b[38;5;241m=\u001b[39m \u001b[38;5;241m1\u001b[39m\n\u001b[0;32m   1846\u001b[0m \u001b[38;5;28mself\u001b[39m\u001b[38;5;241m.\u001b[39mn_dispatched_tasks \u001b[38;5;241m+\u001b[39m\u001b[38;5;241m=\u001b[39m \u001b[38;5;241m1\u001b[39m\n\u001b[1;32m-> 1847\u001b[0m res \u001b[38;5;241m=\u001b[39m \u001b[43mfunc\u001b[49m\u001b[43m(\u001b[49m\u001b[38;5;241;43m*\u001b[39;49m\u001b[43margs\u001b[49m\u001b[43m,\u001b[49m\u001b[43m \u001b[49m\u001b[38;5;241;43m*\u001b[39;49m\u001b[38;5;241;43m*\u001b[39;49m\u001b[43mkwargs\u001b[49m\u001b[43m)\u001b[49m\n\u001b[0;32m   1848\u001b[0m \u001b[38;5;28mself\u001b[39m\u001b[38;5;241m.\u001b[39mn_completed_tasks \u001b[38;5;241m+\u001b[39m\u001b[38;5;241m=\u001b[39m \u001b[38;5;241m1\u001b[39m\n\u001b[0;32m   1849\u001b[0m \u001b[38;5;28mself\u001b[39m\u001b[38;5;241m.\u001b[39mprint_progress()\n",
            "File \u001b[1;32mc:\\Users\\lucas\\Documents\\VSCode\\env\\Lib\\site-packages\\sklearn\\utils\\parallel.py:136\u001b[0m, in \u001b[0;36m_FuncWrapper.__call__\u001b[1;34m(self, *args, **kwargs)\u001b[0m\n\u001b[0;32m    134\u001b[0m     config \u001b[38;5;241m=\u001b[39m {}\n\u001b[0;32m    135\u001b[0m \u001b[38;5;28;01mwith\u001b[39;00m config_context(\u001b[38;5;241m*\u001b[39m\u001b[38;5;241m*\u001b[39mconfig):\n\u001b[1;32m--> 136\u001b[0m     \u001b[38;5;28;01mreturn\u001b[39;00m \u001b[38;5;28;43mself\u001b[39;49m\u001b[38;5;241;43m.\u001b[39;49m\u001b[43mfunction\u001b[49m\u001b[43m(\u001b[49m\u001b[38;5;241;43m*\u001b[39;49m\u001b[43margs\u001b[49m\u001b[43m,\u001b[49m\u001b[43m \u001b[49m\u001b[38;5;241;43m*\u001b[39;49m\u001b[38;5;241;43m*\u001b[39;49m\u001b[43mkwargs\u001b[49m\u001b[43m)\u001b[49m\n",
            "File \u001b[1;32mc:\\Users\\lucas\\Documents\\VSCode\\env\\Lib\\site-packages\\sklearn\\model_selection\\_validation.py:888\u001b[0m, in \u001b[0;36m_fit_and_score\u001b[1;34m(estimator, X, y, scorer, train, test, verbose, parameters, fit_params, score_params, return_train_score, return_parameters, return_n_test_samples, return_times, return_estimator, split_progress, candidate_progress, error_score)\u001b[0m\n\u001b[0;32m    886\u001b[0m         estimator\u001b[38;5;241m.\u001b[39mfit(X_train, \u001b[38;5;241m*\u001b[39m\u001b[38;5;241m*\u001b[39mfit_params)\n\u001b[0;32m    887\u001b[0m     \u001b[38;5;28;01melse\u001b[39;00m:\n\u001b[1;32m--> 888\u001b[0m         \u001b[43mestimator\u001b[49m\u001b[38;5;241;43m.\u001b[39;49m\u001b[43mfit\u001b[49m\u001b[43m(\u001b[49m\u001b[43mX_train\u001b[49m\u001b[43m,\u001b[49m\u001b[43m \u001b[49m\u001b[43my_train\u001b[49m\u001b[43m,\u001b[49m\u001b[43m \u001b[49m\u001b[38;5;241;43m*\u001b[39;49m\u001b[38;5;241;43m*\u001b[39;49m\u001b[43mfit_params\u001b[49m\u001b[43m)\u001b[49m\n\u001b[0;32m    890\u001b[0m \u001b[38;5;28;01mexcept\u001b[39;00m \u001b[38;5;167;01mException\u001b[39;00m:\n\u001b[0;32m    891\u001b[0m     \u001b[38;5;66;03m# Note fit time as time until error\u001b[39;00m\n\u001b[0;32m    892\u001b[0m     fit_time \u001b[38;5;241m=\u001b[39m time\u001b[38;5;241m.\u001b[39mtime() \u001b[38;5;241m-\u001b[39m start_time\n",
            "File \u001b[1;32mc:\\Users\\lucas\\Documents\\VSCode\\env\\Lib\\site-packages\\gplearn\\genetic.py:476\u001b[0m, in \u001b[0;36mBaseSymbolic.fit\u001b[1;34m(self, X, y, sample_weight)\u001b[0m\n\u001b[0;32m    472\u001b[0m n_jobs, n_programs, starts \u001b[38;5;241m=\u001b[39m _partition_estimators(\n\u001b[0;32m    473\u001b[0m     \u001b[38;5;28mself\u001b[39m\u001b[38;5;241m.\u001b[39mpopulation_size, \u001b[38;5;28mself\u001b[39m\u001b[38;5;241m.\u001b[39mn_jobs)\n\u001b[0;32m    474\u001b[0m seeds \u001b[38;5;241m=\u001b[39m random_state\u001b[38;5;241m.\u001b[39mrandint(MAX_INT, size\u001b[38;5;241m=\u001b[39m\u001b[38;5;28mself\u001b[39m\u001b[38;5;241m.\u001b[39mpopulation_size)\n\u001b[1;32m--> 476\u001b[0m population \u001b[38;5;241m=\u001b[39m \u001b[43mParallel\u001b[49m\u001b[43m(\u001b[49m\u001b[43mn_jobs\u001b[49m\u001b[38;5;241;43m=\u001b[39;49m\u001b[43mn_jobs\u001b[49m\u001b[43m,\u001b[49m\n\u001b[0;32m    477\u001b[0m \u001b[43m                      \u001b[49m\u001b[43mverbose\u001b[49m\u001b[38;5;241;43m=\u001b[39;49m\u001b[38;5;28;43mint\u001b[39;49m\u001b[43m(\u001b[49m\u001b[38;5;28;43mself\u001b[39;49m\u001b[38;5;241;43m.\u001b[39;49m\u001b[43mverbose\u001b[49m\u001b[43m \u001b[49m\u001b[38;5;241;43m>\u001b[39;49m\u001b[43m \u001b[49m\u001b[38;5;241;43m1\u001b[39;49m\u001b[43m)\u001b[49m\u001b[43m)\u001b[49m\u001b[43m(\u001b[49m\n\u001b[0;32m    478\u001b[0m \u001b[43m    \u001b[49m\u001b[43mdelayed\u001b[49m\u001b[43m(\u001b[49m\u001b[43m_parallel_evolve\u001b[49m\u001b[43m)\u001b[49m\u001b[43m(\u001b[49m\u001b[43mn_programs\u001b[49m\u001b[43m[\u001b[49m\u001b[43mi\u001b[49m\u001b[43m]\u001b[49m\u001b[43m,\u001b[49m\n\u001b[0;32m    479\u001b[0m \u001b[43m                              \u001b[49m\u001b[43mparents\u001b[49m\u001b[43m,\u001b[49m\n\u001b[0;32m    480\u001b[0m \u001b[43m                              \u001b[49m\u001b[43mX\u001b[49m\u001b[43m,\u001b[49m\n\u001b[0;32m    481\u001b[0m \u001b[43m                              \u001b[49m\u001b[43my\u001b[49m\u001b[43m,\u001b[49m\n\u001b[0;32m    482\u001b[0m \u001b[43m                              \u001b[49m\u001b[43msample_weight\u001b[49m\u001b[43m,\u001b[49m\n\u001b[0;32m    483\u001b[0m \u001b[43m                              \u001b[49m\u001b[43mseeds\u001b[49m\u001b[43m[\u001b[49m\u001b[43mstarts\u001b[49m\u001b[43m[\u001b[49m\u001b[43mi\u001b[49m\u001b[43m]\u001b[49m\u001b[43m:\u001b[49m\u001b[43mstarts\u001b[49m\u001b[43m[\u001b[49m\u001b[43mi\u001b[49m\u001b[43m \u001b[49m\u001b[38;5;241;43m+\u001b[39;49m\u001b[43m \u001b[49m\u001b[38;5;241;43m1\u001b[39;49m\u001b[43m]\u001b[49m\u001b[43m]\u001b[49m\u001b[43m,\u001b[49m\n\u001b[0;32m    484\u001b[0m \u001b[43m                              \u001b[49m\u001b[43mparams\u001b[49m\u001b[43m)\u001b[49m\n\u001b[0;32m    485\u001b[0m \u001b[43m    \u001b[49m\u001b[38;5;28;43;01mfor\u001b[39;49;00m\u001b[43m \u001b[49m\u001b[43mi\u001b[49m\u001b[43m \u001b[49m\u001b[38;5;129;43;01min\u001b[39;49;00m\u001b[43m \u001b[49m\u001b[38;5;28;43mrange\u001b[39;49m\u001b[43m(\u001b[49m\u001b[43mn_jobs\u001b[49m\u001b[43m)\u001b[49m\u001b[43m)\u001b[49m\n\u001b[0;32m    487\u001b[0m \u001b[38;5;66;03m# Reduce, maintaining order across different n_jobs\u001b[39;00m\n\u001b[0;32m    488\u001b[0m population \u001b[38;5;241m=\u001b[39m \u001b[38;5;28mlist\u001b[39m(itertools\u001b[38;5;241m.\u001b[39mchain\u001b[38;5;241m.\u001b[39mfrom_iterable(population))\n",
            "File \u001b[1;32mc:\\Users\\lucas\\Documents\\VSCode\\env\\Lib\\site-packages\\joblib\\parallel.py:1918\u001b[0m, in \u001b[0;36mParallel.__call__\u001b[1;34m(self, iterable)\u001b[0m\n\u001b[0;32m   1916\u001b[0m     output \u001b[38;5;241m=\u001b[39m \u001b[38;5;28mself\u001b[39m\u001b[38;5;241m.\u001b[39m_get_sequential_output(iterable)\n\u001b[0;32m   1917\u001b[0m     \u001b[38;5;28mnext\u001b[39m(output)\n\u001b[1;32m-> 1918\u001b[0m     \u001b[38;5;28;01mreturn\u001b[39;00m output \u001b[38;5;28;01mif\u001b[39;00m \u001b[38;5;28mself\u001b[39m\u001b[38;5;241m.\u001b[39mreturn_generator \u001b[38;5;28;01melse\u001b[39;00m \u001b[38;5;28;43mlist\u001b[39;49m\u001b[43m(\u001b[49m\u001b[43moutput\u001b[49m\u001b[43m)\u001b[49m\n\u001b[0;32m   1920\u001b[0m \u001b[38;5;66;03m# Let's create an ID that uniquely identifies the current call. If the\u001b[39;00m\n\u001b[0;32m   1921\u001b[0m \u001b[38;5;66;03m# call is interrupted early and that the same instance is immediately\u001b[39;00m\n\u001b[0;32m   1922\u001b[0m \u001b[38;5;66;03m# re-used, this id will be used to prevent workers that were\u001b[39;00m\n\u001b[0;32m   1923\u001b[0m \u001b[38;5;66;03m# concurrently finalizing a task from the previous call to run the\u001b[39;00m\n\u001b[0;32m   1924\u001b[0m \u001b[38;5;66;03m# callback.\u001b[39;00m\n\u001b[0;32m   1925\u001b[0m \u001b[38;5;28;01mwith\u001b[39;00m \u001b[38;5;28mself\u001b[39m\u001b[38;5;241m.\u001b[39m_lock:\n",
            "File \u001b[1;32mc:\\Users\\lucas\\Documents\\VSCode\\env\\Lib\\site-packages\\joblib\\parallel.py:1847\u001b[0m, in \u001b[0;36mParallel._get_sequential_output\u001b[1;34m(self, iterable)\u001b[0m\n\u001b[0;32m   1845\u001b[0m \u001b[38;5;28mself\u001b[39m\u001b[38;5;241m.\u001b[39mn_dispatched_batches \u001b[38;5;241m+\u001b[39m\u001b[38;5;241m=\u001b[39m \u001b[38;5;241m1\u001b[39m\n\u001b[0;32m   1846\u001b[0m \u001b[38;5;28mself\u001b[39m\u001b[38;5;241m.\u001b[39mn_dispatched_tasks \u001b[38;5;241m+\u001b[39m\u001b[38;5;241m=\u001b[39m \u001b[38;5;241m1\u001b[39m\n\u001b[1;32m-> 1847\u001b[0m res \u001b[38;5;241m=\u001b[39m \u001b[43mfunc\u001b[49m\u001b[43m(\u001b[49m\u001b[38;5;241;43m*\u001b[39;49m\u001b[43margs\u001b[49m\u001b[43m,\u001b[49m\u001b[43m \u001b[49m\u001b[38;5;241;43m*\u001b[39;49m\u001b[38;5;241;43m*\u001b[39;49m\u001b[43mkwargs\u001b[49m\u001b[43m)\u001b[49m\n\u001b[0;32m   1848\u001b[0m \u001b[38;5;28mself\u001b[39m\u001b[38;5;241m.\u001b[39mn_completed_tasks \u001b[38;5;241m+\u001b[39m\u001b[38;5;241m=\u001b[39m \u001b[38;5;241m1\u001b[39m\n\u001b[0;32m   1849\u001b[0m \u001b[38;5;28mself\u001b[39m\u001b[38;5;241m.\u001b[39mprint_progress()\n",
            "File \u001b[1;32mc:\\Users\\lucas\\Documents\\VSCode\\env\\Lib\\site-packages\\gplearn\\genetic.py:150\u001b[0m, in \u001b[0;36m_parallel_evolve\u001b[1;34m(n_programs, parents, X, y, sample_weight, seeds, params)\u001b[0m\n\u001b[0;32m    147\u001b[0m     program\u001b[38;5;241m.\u001b[39mraw_fitness_ \u001b[38;5;241m=\u001b[39m program\u001b[38;5;241m.\u001b[39mraw_fitness(X, y, curr_sample_weight)\n\u001b[0;32m    148\u001b[0m     \u001b[38;5;28;01mif\u001b[39;00m max_samples \u001b[38;5;241m<\u001b[39m n_samples:\n\u001b[0;32m    149\u001b[0m         \u001b[38;5;66;03m# Calculate OOB fitness\u001b[39;00m\n\u001b[1;32m--> 150\u001b[0m         program\u001b[38;5;241m.\u001b[39moob_fitness_ \u001b[38;5;241m=\u001b[39m \u001b[43mprogram\u001b[49m\u001b[38;5;241;43m.\u001b[39;49m\u001b[43mraw_fitness\u001b[49m\u001b[43m(\u001b[49m\u001b[43mX\u001b[49m\u001b[43m,\u001b[49m\u001b[43m \u001b[49m\u001b[43my\u001b[49m\u001b[43m,\u001b[49m\u001b[43m \u001b[49m\u001b[43moob_sample_weight\u001b[49m\u001b[43m)\u001b[49m\n\u001b[0;32m    152\u001b[0m     programs\u001b[38;5;241m.\u001b[39mappend(program)\n\u001b[0;32m    154\u001b[0m \u001b[38;5;28;01mreturn\u001b[39;00m programs\n",
            "File \u001b[1;32mc:\\Users\\lucas\\Documents\\VSCode\\env\\Lib\\site-packages\\gplearn\\_program.py:462\u001b[0m, in \u001b[0;36m_Program.raw_fitness\u001b[1;34m(self, X, y, sample_weight)\u001b[0m\n\u001b[0;32m    441\u001b[0m \u001b[38;5;28;01mdef\u001b[39;00m \u001b[38;5;21mraw_fitness\u001b[39m(\u001b[38;5;28mself\u001b[39m, X, y, sample_weight):\n\u001b[0;32m    442\u001b[0m \u001b[38;5;250m    \u001b[39m\u001b[38;5;124;03m\"\"\"Evaluate the raw fitness of the program according to X, y.\u001b[39;00m\n\u001b[0;32m    443\u001b[0m \n\u001b[0;32m    444\u001b[0m \u001b[38;5;124;03m    Parameters\u001b[39;00m\n\u001b[1;32m   (...)\u001b[0m\n\u001b[0;32m    460\u001b[0m \n\u001b[0;32m    461\u001b[0m \u001b[38;5;124;03m    \"\"\"\u001b[39;00m\n\u001b[1;32m--> 462\u001b[0m     y_pred \u001b[38;5;241m=\u001b[39m \u001b[38;5;28;43mself\u001b[39;49m\u001b[38;5;241;43m.\u001b[39;49m\u001b[43mexecute\u001b[49m\u001b[43m(\u001b[49m\u001b[43mX\u001b[49m\u001b[43m)\u001b[49m\n\u001b[0;32m    463\u001b[0m     \u001b[38;5;28;01mif\u001b[39;00m \u001b[38;5;28mself\u001b[39m\u001b[38;5;241m.\u001b[39mtransformer:\n\u001b[0;32m    464\u001b[0m         y_pred \u001b[38;5;241m=\u001b[39m \u001b[38;5;28mself\u001b[39m\u001b[38;5;241m.\u001b[39mtransformer(y_pred)\n",
            "File \u001b[1;32mc:\\Users\\lucas\\Documents\\VSCode\\env\\Lib\\site-packages\\gplearn\\_program.py:380\u001b[0m, in \u001b[0;36m_Program.execute\u001b[1;34m(self, X)\u001b[0m\n\u001b[0;32m    376\u001b[0m function \u001b[38;5;241m=\u001b[39m apply_stack[\u001b[38;5;241m-\u001b[39m\u001b[38;5;241m1\u001b[39m][\u001b[38;5;241m0\u001b[39m]\n\u001b[0;32m    377\u001b[0m terminals \u001b[38;5;241m=\u001b[39m [np\u001b[38;5;241m.\u001b[39mrepeat(t, X\u001b[38;5;241m.\u001b[39mshape[\u001b[38;5;241m0\u001b[39m]) \u001b[38;5;28;01mif\u001b[39;00m \u001b[38;5;28misinstance\u001b[39m(t, \u001b[38;5;28mfloat\u001b[39m)\n\u001b[0;32m    378\u001b[0m              \u001b[38;5;28;01melse\u001b[39;00m X[:, t] \u001b[38;5;28;01mif\u001b[39;00m \u001b[38;5;28misinstance\u001b[39m(t, \u001b[38;5;28mint\u001b[39m)\n\u001b[0;32m    379\u001b[0m              \u001b[38;5;28;01melse\u001b[39;00m t \u001b[38;5;28;01mfor\u001b[39;00m t \u001b[38;5;129;01min\u001b[39;00m apply_stack[\u001b[38;5;241m-\u001b[39m\u001b[38;5;241m1\u001b[39m][\u001b[38;5;241m1\u001b[39m:]]\n\u001b[1;32m--> 380\u001b[0m intermediate_result \u001b[38;5;241m=\u001b[39m \u001b[43mfunction\u001b[49m\u001b[43m(\u001b[49m\u001b[38;5;241;43m*\u001b[39;49m\u001b[43mterminals\u001b[49m\u001b[43m)\u001b[49m\n\u001b[0;32m    381\u001b[0m \u001b[38;5;28;01mif\u001b[39;00m \u001b[38;5;28mlen\u001b[39m(apply_stack) \u001b[38;5;241m!=\u001b[39m \u001b[38;5;241m1\u001b[39m:\n\u001b[0;32m    382\u001b[0m     apply_stack\u001b[38;5;241m.\u001b[39mpop()\n",
            "File \u001b[1;32mc:\\Users\\lucas\\Documents\\VSCode\\env\\Lib\\site-packages\\gplearn\\functions.py:46\u001b[0m, in \u001b[0;36m_Function.__call__\u001b[1;34m(self, *args)\u001b[0m\n\u001b[0;32m     45\u001b[0m \u001b[38;5;28;01mdef\u001b[39;00m \u001b[38;5;21m__call__\u001b[39m(\u001b[38;5;28mself\u001b[39m, \u001b[38;5;241m*\u001b[39margs):\n\u001b[1;32m---> 46\u001b[0m     \u001b[38;5;28;01mreturn\u001b[39;00m \u001b[38;5;28;43mself\u001b[39;49m\u001b[38;5;241;43m.\u001b[39;49m\u001b[43mfunction\u001b[49m\u001b[43m(\u001b[49m\u001b[38;5;241;43m*\u001b[39;49m\u001b[43margs\u001b[49m\u001b[43m)\u001b[49m\n",
            "File \u001b[1;32mc:\\Users\\lucas\\Documents\\VSCode\\env\\Lib\\site-packages\\joblib\\externals\\loky\\cloudpickle_wrapper.py:32\u001b[0m, in \u001b[0;36mCallableObjectWrapper.__call__\u001b[1;34m(self, *args, **kwargs)\u001b[0m\n\u001b[0;32m     31\u001b[0m \u001b[38;5;28;01mdef\u001b[39;00m \u001b[38;5;21m__call__\u001b[39m(\u001b[38;5;28mself\u001b[39m, \u001b[38;5;241m*\u001b[39margs, \u001b[38;5;241m*\u001b[39m\u001b[38;5;241m*\u001b[39mkwargs):\n\u001b[1;32m---> 32\u001b[0m     \u001b[38;5;28;01mreturn\u001b[39;00m \u001b[38;5;28;43mself\u001b[39;49m\u001b[38;5;241;43m.\u001b[39;49m\u001b[43m_obj\u001b[49m\u001b[43m(\u001b[49m\u001b[38;5;241;43m*\u001b[39;49m\u001b[43margs\u001b[49m\u001b[43m,\u001b[49m\u001b[43m \u001b[49m\u001b[38;5;241;43m*\u001b[39;49m\u001b[38;5;241;43m*\u001b[39;49m\u001b[43mkwargs\u001b[49m\u001b[43m)\u001b[49m\n",
            "Cell \u001b[1;32mIn[47], line 8\u001b[0m, in \u001b[0;36mnusselt_form_\u001b[1;34m(x1, x2, C, n, m)\u001b[0m\n\u001b[0;32m      6\u001b[0m con4 \u001b[38;5;241m=\u001b[39m (m\u001b[38;5;241m<\u001b[39m\u001b[38;5;241m=\u001b[39m\u001b[38;5;241m1\u001b[39m) \u001b[38;5;241m&\u001b[39m (m\u001b[38;5;241m>\u001b[39m\u001b[38;5;241m0\u001b[39m)\n\u001b[0;32m      7\u001b[0m con5 \u001b[38;5;241m=\u001b[39m (C\u001b[38;5;241m>\u001b[39m\u001b[38;5;241m0\u001b[39m) \u001b[38;5;241m&\u001b[39m (C\u001b[38;5;241m<\u001b[39m\u001b[38;5;241m1\u001b[39m)\n\u001b[1;32m----> 8\u001b[0m \u001b[38;5;28;01mwith\u001b[39;00m \u001b[43mnp\u001b[49m\u001b[38;5;241;43m.\u001b[39;49m\u001b[43merrstate\u001b[49m\u001b[43m(\u001b[49m\u001b[43mdivide\u001b[49m\u001b[38;5;241;43m=\u001b[39;49m\u001b[38;5;124;43m'\u001b[39;49m\u001b[38;5;124;43mignore\u001b[39;49m\u001b[38;5;124;43m'\u001b[39;49m\u001b[43m,\u001b[49m\u001b[43m \u001b[49m\u001b[43minvalid\u001b[49m\u001b[38;5;241;43m=\u001b[39;49m\u001b[38;5;124;43m'\u001b[39;49m\u001b[38;5;124;43mignore\u001b[39;49m\u001b[38;5;124;43m'\u001b[39;49m\u001b[43m,\u001b[49m\u001b[43m \u001b[49m\u001b[43mover\u001b[49m\u001b[38;5;241;43m=\u001b[39;49m\u001b[38;5;124;43m'\u001b[39;49m\u001b[38;5;124;43mignore\u001b[39;49m\u001b[38;5;124;43m'\u001b[39;49m\u001b[43m)\u001b[49m:\n\u001b[0;32m      9\u001b[0m     result \u001b[38;5;241m=\u001b[39m np\u001b[38;5;241m.\u001b[39mwhere(con \u001b[38;5;241m&\u001b[39m con2 \u001b[38;5;241m&\u001b[39m con3 \u001b[38;5;241m&\u001b[39m con4, C\u001b[38;5;241m*\u001b[39mnp\u001b[38;5;241m.\u001b[39mpower(x1,n) \u001b[38;5;241m*\u001b[39m np\u001b[38;5;241m.\u001b[39mpower(x2,m), \u001b[38;5;241m0\u001b[39m)\n\u001b[0;32m     10\u001b[0m \u001b[38;5;28;01mreturn\u001b[39;00m result\n",
            "File \u001b[1;32mc:\\Users\\lucas\\Documents\\VSCode\\env\\Lib\\site-packages\\numpy\\_core\\_ufunc_config.py:431\u001b[0m, in \u001b[0;36merrstate.__init__\u001b[1;34m(self, call, all, divide, over, under, invalid)\u001b[0m\n\u001b[0;32m    366\u001b[0m \u001b[38;5;250m\u001b[39m\u001b[38;5;124;03m\"\"\"\u001b[39;00m\n\u001b[0;32m    367\u001b[0m \u001b[38;5;124;03merrstate(**kwargs)\u001b[39;00m\n\u001b[0;32m    368\u001b[0m \n\u001b[1;32m   (...)\u001b[0m\n\u001b[0;32m    426\u001b[0m \n\u001b[0;32m    427\u001b[0m \u001b[38;5;124;03m\"\"\"\u001b[39;00m\n\u001b[0;32m    428\u001b[0m \u001b[38;5;18m__slots__\u001b[39m \u001b[38;5;241m=\u001b[39m (\n\u001b[0;32m    429\u001b[0m     \u001b[38;5;124m\"\u001b[39m\u001b[38;5;124m_call\u001b[39m\u001b[38;5;124m\"\u001b[39m, \u001b[38;5;124m\"\u001b[39m\u001b[38;5;124m_all\u001b[39m\u001b[38;5;124m\"\u001b[39m, \u001b[38;5;124m\"\u001b[39m\u001b[38;5;124m_divide\u001b[39m\u001b[38;5;124m\"\u001b[39m, \u001b[38;5;124m\"\u001b[39m\u001b[38;5;124m_over\u001b[39m\u001b[38;5;124m\"\u001b[39m, \u001b[38;5;124m\"\u001b[39m\u001b[38;5;124m_under\u001b[39m\u001b[38;5;124m\"\u001b[39m, \u001b[38;5;124m\"\u001b[39m\u001b[38;5;124m_invalid\u001b[39m\u001b[38;5;124m\"\u001b[39m, \u001b[38;5;124m\"\u001b[39m\u001b[38;5;124m_token\u001b[39m\u001b[38;5;124m\"\u001b[39m)\n\u001b[1;32m--> 431\u001b[0m \u001b[38;5;28;01mdef\u001b[39;00m \u001b[38;5;21m__init__\u001b[39m(\u001b[38;5;28mself\u001b[39m, \u001b[38;5;241m*\u001b[39m, call\u001b[38;5;241m=\u001b[39m_Unspecified,\n\u001b[0;32m    432\u001b[0m              \u001b[38;5;28mall\u001b[39m\u001b[38;5;241m=\u001b[39m\u001b[38;5;28;01mNone\u001b[39;00m, divide\u001b[38;5;241m=\u001b[39m\u001b[38;5;28;01mNone\u001b[39;00m, over\u001b[38;5;241m=\u001b[39m\u001b[38;5;28;01mNone\u001b[39;00m, under\u001b[38;5;241m=\u001b[39m\u001b[38;5;28;01mNone\u001b[39;00m, invalid\u001b[38;5;241m=\u001b[39m\u001b[38;5;28;01mNone\u001b[39;00m):\n\u001b[0;32m    433\u001b[0m     \u001b[38;5;28mself\u001b[39m\u001b[38;5;241m.\u001b[39m_token \u001b[38;5;241m=\u001b[39m \u001b[38;5;28;01mNone\u001b[39;00m\n\u001b[0;32m    434\u001b[0m     \u001b[38;5;28mself\u001b[39m\u001b[38;5;241m.\u001b[39m_call \u001b[38;5;241m=\u001b[39m call\n",
            "\u001b[1;31mKeyboardInterrupt\u001b[0m: "
          ]
        }
      ],
      "source": [
        "param_grid = {\n",
        "    'tournament_size': [2,3,5, 10, 15, 20],\n",
        "    'p_crossover': [0.6, 0.7, 0.8, 0.9],\n",
        "    'p_subtree_mutation': [0.1, 0.2],\n",
        "    'p_hoist_mutation': [0.05, 0.1],\n",
        "    'p_point_mutation': [0.1, 0.2],\n",
        "    'init_method':['grow', 'full', 'half and half'],\n",
        "    'max_samples': [0.9, 1.0],\n",
        "    'parsimony_coefficient': [0.0001, 0.001, 0.01],\n",
        "}\n",
        "\n",
        "# Definir el GridSearchCV\n",
        "grid_search = GridSearchCV(estimator=model, param_grid=param_grid, cv=5, scoring='neg_mean_squared_error')\n",
        "\n",
        "grid_search.fit(X_train, y_train)\n",
        "\n",
        "# Mostrar los mejores parámetros encontrados\n",
        "print(\"Mejores parámetros: \", grid_search.best_params_)"
      ]
    },
    {
      "cell_type": "markdown",
      "metadata": {},
      "source": [
        "### Experimento: Nusselt y potencia pero con restricciones\n"
      ]
    },
    {
      "cell_type": "code",
      "execution_count": 67,
      "metadata": {},
      "outputs": [],
      "source": [
        "# C * x1**n * x2**m\n",
        "def nusselt_form_(x1, x2, C, n, m):\n",
        "    con = (x1>0)\n",
        "    con2 = (x2>0)\n",
        "    con3 = (n<=1) & (n>0)\n",
        "    con4 = (m<=1) & (m>0)\n",
        "    con5 = (C>0) & (C<1)\n",
        "    con6 = type(n) is not np.ndarray\n",
        "    con7 = type(m) is not np.ndarray\n",
        "    with np.errstate(divide='ignore', invalid='ignore', over='ignore'):\n",
        "        result = np.where(con & con2 & con3 & con4 & con5 & con6 & con7, \n",
        "                          C*np.power(x1,n) * np.power(x2,m), 0)\n",
        "    return result\n",
        "    \n",
        "nusselt_form = make_function(function=nusselt_form_,\n",
        "                        name='nu',\n",
        "                        arity=5)"
      ]
    },
    {
      "cell_type": "code",
      "execution_count": 74,
      "metadata": {},
      "outputs": [],
      "source": [
        "# x1** A *x2\n",
        "def pot1_(x1, A):\n",
        "    con = (x1>0)\n",
        "    con2 = (A<0) & (A>-1)\n",
        "    con3 = np.ndim(A) == 0\n",
        "    # con3 = (x2>0)\n",
        "    with np.errstate(divide='ignore', invalid='ignore', over='ignore'):\n",
        "        result = np.where(con & con2 & con3, np.power(x1,A), 0)\n",
        "    return result\n",
        "\n",
        "pot1 = make_function(function=pot1_,\n",
        "                        name='pot1',\n",
        "                        arity=2)"
      ]
    },
    {
      "cell_type": "code",
      "execution_count": 70,
      "metadata": {},
      "outputs": [
        {
          "name": "stdout",
          "output_type": "stream",
          "text": [
            "    |   Population Average    |             Best Individual              |\n",
            "---- ------------------------- ------------------------------------------ ----------\n",
            " Gen   Length          Fitness   Length          Fitness      OOB Fitness  Time Left\n",
            "   0    95.61            4.006      229          0.29197         0.296815     80.44m\n",
            "   1    38.52          3.35963      231         0.291254         0.303079     31.09m\n",
            "   2    79.77          2.40089       21         0.241347         0.250925     56.28m\n",
            "   3   106.73          1.55704       70         0.228029         0.223905     70.28m\n",
            "   4    48.68          2.09776       32          0.22419         0.223899     28.04m\n",
            "   5    34.29          2.37145       32         0.213156         0.213522     17.89m\n",
            "   6    32.35          2.59254       32         0.212823         0.216488     15.31m\n",
            "   7    21.88          2.62212       32         0.191709         0.192448      9.16m\n",
            "   8    19.13          2.17182       29         0.191582         0.193798      8.37m\n",
            "   9    14.99          2.51066       32          0.19131         0.195994      5.96m\n",
            "  10    14.44           2.5777       42         0.182798         0.184987      4.81m\n",
            "  11    16.29          2.57525       42         0.178837         0.177008      4.45m\n",
            "  12    19.17          2.43311       44         0.170539         0.177996      3.82m\n",
            "  13    22.55          2.34983       39         0.167293         0.169582      3.35m\n",
            "  14    25.18          2.29582       48         0.161514          0.16668      2.99m\n",
            "  15    30.02          2.22587       47          0.16096         0.164682      2.72m\n",
            "  16    34.44          2.09037       78         0.148585         0.148039      2.37m\n",
            "  17    36.39          2.11936       39         0.154449         0.155438      1.67m\n",
            "  18    36.21          2.17524       43         0.144085         0.143335     49.21s\n",
            "  19    35.12           2.1121       51         0.135758         0.133768      0.00s\n",
            "Expresión: sub(sub(sub(sub(sub(sub(sub(mul(sub(0.766, Pr), sub(div(Re, Pr), add(add(Re, sub(0.766, Pr)), mul(mul(mul(Re, -0.254), sub(mul(-0.757, 0.303), S)), add(div(Pr, Pr), div(-0.323, 0.526)))))), -0.795), -0.795), add(-0.795, -0.967)), -0.795), -0.795), add(sub(0.033, Pr), -0.967)), -0.795)\n",
            "MSE: 199.78605113435782\n",
            "R^2: 0.5881017188656898\n",
            "MAE: 8.253930331575441\n",
            "MAPE: 10.520093843846855\n"
          ]
        }
      ],
      "source": [
        "model = SymbolicRegressor(population_size=5000,\n",
        "                        generations=20, \n",
        "                        stopping_criteria=0.01,\n",
        "                        p_crossover=0.7, \n",
        "                        p_subtree_mutation=0.1,\n",
        "                        p_hoist_mutation=0.05, \n",
        "                        p_point_mutation=0.1,\n",
        "                        max_samples=0.9, \n",
        "                        verbose=1,\n",
        "                        parsimony_coefficient=0.001, \n",
        "                        random_state=0,\n",
        "                        function_set=['add', 'sub', 'mul', 'div',nusselt_form, pot1],\n",
        "                        metric = rmsle, \n",
        "                        feature_names=['S', 'Re', 'Pr'])\n",
        "\n",
        "model.fit(X_train, y_train)\n",
        "\n",
        "# Obtener la expresión simbólica\n",
        "expression = model._program\n",
        "print(\"Expresión:\", expression)\n",
        "\n",
        "# prediciendo con el conjunto de prueba\n",
        "y_pred = model.predict(X_test)\n",
        "\n",
        "# Calcular métricas\n",
        "mse = mean_squared_error(y_test, y_pred)\n",
        "r2 = r2_score(y_test, y_pred)\n",
        "mae = mean_absolute_error(y_test, y_pred)\n",
        "mape = mean_absolute_percentage_error(y_test, y_pred)\n",
        "\n",
        "print('\\nMetricas:')\n",
        "print(\"MSE:\", mse)\n",
        "print(\"R^2:\", r2)\n",
        "print(\"MAE:\", mae)\n",
        "print(\"MAPE:\",mape*100)\n"
      ]
    },
    {
      "cell_type": "code",
      "execution_count": 75,
      "metadata": {},
      "outputs": [
        {
          "name": "stdout",
          "output_type": "stream",
          "text": [
            "    |   Population Average    |             Best Individual              |\n",
            "---- ------------------------- ------------------------------------------ ----------\n",
            " Gen   Length          Fitness   Length          Fitness      OOB Fitness  Time Left\n",
            "   0    95.61            4.006      229          0.29197         0.296815     34.94m\n",
            "   1     6.81          3.64034       11         0.316193         0.313563      3.65m\n",
            "   2     5.96          3.01703        9         0.257608          0.26096      2.35m\n",
            "   3     7.51          2.64974       19          0.21975         0.225974      2.39m\n",
            "   4     6.78          2.44851        7         0.232612         0.227225      2.16m\n",
            "   5     4.92           2.3018        7         0.231485         0.237355      2.02m\n",
            "   6     3.39          1.61849        7         0.238104         0.235678      1.80m\n",
            "   7     3.51          1.55361        3         0.335866          0.34709      1.64m\n",
            "   8     3.58          1.58331        3         0.335535         0.349964      2.82m\n",
            "   9     3.48          1.53271        3         0.335239         0.352505      1.68m\n",
            "  10     3.46          1.52427        3         0.334867         0.355671      1.29m\n",
            "  11     3.54          1.54774        3         0.246506         0.245338      1.26m\n",
            "  12     3.47          1.52297        3         0.245969         0.250145      1.04m\n",
            "  13     3.45          1.56924        3         0.244717         0.260964     52.21s\n",
            "  14     3.42          1.67406        3         0.244767         0.260537     42.52s\n",
            "  15     3.59          1.73421        3         0.244727         0.260873     31.76s\n",
            "  16     3.69           1.7675        3          0.24444         0.263285     24.91s\n",
            "  17     3.54          1.72242        3         0.244922         0.259227     15.70s\n",
            "  18     3.59          1.74933        3         0.244913           0.2593      7.87s\n",
            "  19     3.43           1.6903        5         0.227658         0.224049      0.00s\n",
            "Expresión: mul(div(Re, 0.907), 0.017)\n",
            "\n",
            "Metricas:\n",
            "MSE: 402.4192933102426\n",
            "R^2: 0.17033339280378212\n",
            "MAE: 12.840527491030562\n",
            "MAPE: 17.781628680461235\n"
          ]
        }
      ],
      "source": [
        "model = SymbolicRegressor(population_size=5000,\n",
        "                        generations=20, \n",
        "                        stopping_criteria=0.01,\n",
        "                        p_crossover=0.7, \n",
        "                        p_subtree_mutation=0.1,\n",
        "                        p_hoist_mutation=0.05, \n",
        "                        p_point_mutation=0.1,\n",
        "                        max_samples=0.9, \n",
        "                        verbose=1,\n",
        "                        parsimony_coefficient=0.1, \n",
        "                        random_state=0,\n",
        "                        function_set=['add', 'sub', 'mul', 'div',nusselt_form, pot1],\n",
        "                        metric = rmsle, \n",
        "                        feature_names=['S', 'Re', 'Pr'])\n",
        "\n",
        "model.fit(X_train, y_train)\n",
        "\n",
        "# Obtener la expresión simbólica\n",
        "expression = model._program\n",
        "print(\"Expresión:\", expression)\n",
        "\n",
        "# prediciendo con el conjunto de prueba\n",
        "y_pred = model.predict(X_test)\n",
        "\n",
        "# Calcular métricas\n",
        "mse = mean_squared_error(y_test, y_pred)\n",
        "r2 = r2_score(y_test, y_pred)\n",
        "mae = mean_absolute_error(y_test, y_pred)\n",
        "mape = mean_absolute_percentage_error(y_test, y_pred)\n",
        "\n",
        "print('\\nMetricas:')\n",
        "print(\"MSE:\", mse)\n",
        "print(\"R^2:\", r2)\n",
        "print(\"MAE:\", mae)\n",
        "print(\"MAPE:\",mape*100)"
      ]
    },
    {
      "cell_type": "code",
      "execution_count": 73,
      "metadata": {},
      "outputs": [
        {
          "name": "stdout",
          "output_type": "stream",
          "text": [
            "    |   Population Average    |             Best Individual              |\n",
            "---- ------------------------- ------------------------------------------ ----------\n",
            " Gen   Length          Fitness   Length          Fitness      OOB Fitness  Time Left\n",
            "   0    95.61            4.006      229          0.29197         0.296815     31.51m\n",
            "   1    16.71          3.44155      231         0.291254         0.303079      5.73m\n",
            "   2    25.29          2.71321      108         0.226184         0.225403      6.88m\n",
            "   3    29.23          2.28204       19         0.225477         0.231602      7.36m\n",
            "   4    14.57          2.50655       19         0.225453         0.231812      3.21m\n",
            "   5    11.97          2.74074       15         0.217794         0.214155      2.41m\n",
            "   6    11.07          2.87392       13         0.173681         0.173692      2.06m\n",
            "   7     8.58          2.90095       13         0.173578         0.174614      1.70m\n",
            "   8     7.55          2.93764       13         0.172925         0.180348      1.49m\n",
            "   9     7.58          2.86418       11          0.16867          0.16675      1.36m\n",
            "  10     8.14          2.70443       13         0.163691         0.161471      1.25m\n",
            "  11    10.02          2.23434       15         0.136205         0.135543      1.23m\n",
            "  12     9.91          2.00378       15         0.136029          0.13713      1.06m\n",
            "  13     9.28          1.99852       13         0.129849         0.130808     52.90s\n",
            "  14     9.22          1.97392       13         0.124997         0.124516     44.48s\n",
            "  15    10.15          1.86386       13         0.123408         0.125872     37.48s\n",
            "  16    11.76          1.58173       15         0.123443         0.121946     30.00s\n",
            "  17    12.94          1.40252       13         0.123082         0.121498     20.39s\n",
            "  18    12.90          1.43859       13         0.121897         0.123387     10.23s\n",
            "  19    11.40          1.56637       13         0.121455         0.125269      0.00s\n",
            "Expresión: add(div(0.628, 0.089), add(div(0.560, 0.089), mul(-0.502, mul(-0.029, Re))))\n",
            "\n",
            "Metricas:\n",
            "MSE: 117.16943649315625\n",
            "R^2: 0.758432136683305\n",
            "MAE: 7.318414824728346\n",
            "MAPE: 10.441860445250839\n"
          ]
        }
      ],
      "source": [
        "model = SymbolicRegressor(population_size=5000,\n",
        "                        generations=20, \n",
        "                        stopping_criteria=0.01,\n",
        "                        p_crossover=0.7, \n",
        "                        p_subtree_mutation=0.1,\n",
        "                        p_hoist_mutation=0.05, \n",
        "                        p_point_mutation=0.1,\n",
        "                        max_samples=0.9, \n",
        "                        verbose=1,\n",
        "                        parsimony_coefficient=0.01, \n",
        "                        random_state=0,\n",
        "                        function_set=['add', 'sub', 'mul', 'div',nusselt_form, pot1],\n",
        "                        metric = rmsle, \n",
        "                        feature_names=['S', 'Re', 'Pr'])\n",
        "\n",
        "model.fit(X_train, y_train)\n",
        "\n",
        "# Obtener la expresión simbólica\n",
        "expression = model._program\n",
        "print(\"Expresión:\", expression)\n",
        "\n",
        "# prediciendo con el conjunto de prueba\n",
        "y_pred = model.predict(X_test)\n",
        "\n",
        "# Calcular métricas\n",
        "mse = mean_squared_error(y_test, y_pred)\n",
        "r2 = r2_score(y_test, y_pred)\n",
        "mae = mean_absolute_error(y_test, y_pred)\n",
        "mape = mean_absolute_percentage_error(y_test, y_pred)\n",
        "\n",
        "print('\\nMetricas:')\n",
        "print(\"MSE:\", mse)\n",
        "print(\"R^2:\", r2)\n",
        "print(\"MAE:\", mae)\n",
        "print(\"MAPE:\",mape*100)"
      ]
    },
    {
      "cell_type": "markdown",
      "metadata": {},
      "source": [
        "### Experimento: probando RMSPE como metrica"
      ]
    },
    {
      "cell_type": "markdown",
      "metadata": {},
      "source": [
        "$\n",
        "RMSPE [\\%] = 100 \\times \\sqrt{ \\frac{1}{N} \\sum_{i=1} (\\frac{y_i - \\hat{y_i}}{y_i})^2 }\n",
        "$"
      ]
    },
    {
      "cell_type": "code",
      "execution_count": 5,
      "metadata": {},
      "outputs": [],
      "source": [
        "def _rmspe(y, y_pred, w):\n",
        "    \"\"\"Calculate the rmsle.\"\"\"\n",
        "    # log_true = np.log((np.maximum(0.001, y) + 1))\n",
        "    # log_pred = np.log((np.maximum(0.001, y_pred) + 1))\n",
        "    \n",
        "    # Calcular el error cuadrático medio logarítmico\n",
        "    rmspe_value = ((y-y_pred) /y) ** 2\n",
        "    \n",
        "    return np.sqrt(np.average(rmspe_value, weights=w))\n",
        "\n",
        "rmspe = make_fitness(function=_rmspe,\n",
        "                    greater_is_better=False)"
      ]
    },
    {
      "cell_type": "code",
      "execution_count": 6,
      "metadata": {},
      "outputs": [],
      "source": [
        "# C * x1**n * x2**m\n",
        "def nusselt_form_(x1, x2, C, n, m):\n",
        "    con = (x1>0)\n",
        "    con2 = (x2>0)\n",
        "    con3 = (n<=1) & (n>0)\n",
        "    con4 = (m<=1) & (m>0)\n",
        "    con5 = (C>0) & (C<1)\n",
        "    with np.errstate(divide='ignore', invalid='ignore', over='ignore'):\n",
        "        result = np.where(con & con2 & con3 & con4, C*np.power(x1,n) * np.power(x2,m), 0)\n",
        "    return result\n",
        "    \n",
        "nusselt_form = make_function(function=nusselt_form_,\n",
        "                        name='nu',\n",
        "                        arity=5)"
      ]
    },
    {
      "cell_type": "code",
      "execution_count": 14,
      "metadata": {},
      "outputs": [],
      "source": [
        "# x1** A *x2\n",
        "def pot1_(x1, A):\n",
        "    con = (x1>0)\n",
        "    con2 = (A<0) & (A>-1)\n",
        "    #con3 = (x2>0)\n",
        "    with np.errstate(divide='ignore', invalid='ignore', over='ignore'):\n",
        "        result = np.where(con & con2, np.power(x1,A), 0)\n",
        "    return result\n",
        "\n",
        "pot1 = make_function(function=pot1_,\n",
        "                        name='pot1',\n",
        "                        arity=2)"
      ]
    },
    {
      "cell_type": "code",
      "execution_count": 9,
      "metadata": {},
      "outputs": [
        {
          "name": "stdout",
          "output_type": "stream",
          "text": [
            "    |   Population Average    |             Best Individual              |\n",
            "---- ------------------------- ------------------------------------------ ----------\n",
            " Gen   Length          Fitness   Length          Fitness      OOB Fitness  Time Left\n",
            "   0    95.61      3.87253e+09       87          0.27744          0.27195     81.54m\n",
            "   1     7.00          2288.15       10         0.439851         0.445926      7.36m\n",
            "   2     6.90           9853.2        5         0.154922         0.151828      6.68m\n",
            "   3    10.90          3194.56       10        0.0905493        0.0922884      7.96m\n",
            "   4     9.11           339702       13        0.0643899        0.0654299      6.71m\n",
            "   5     8.54           383061       61        0.0860189         0.085181      6.42m\n",
            "   6     6.72      1.76568e+06        7        0.0822014        0.0845588      6.04m\n",
            "   7     7.50          409.284        7        0.0823183        0.0835291      7.08m\n",
            "   8     6.34          155.518        7        0.0820254        0.0860831      5.77m\n",
            "   9     5.78           371050        7        0.0821334        0.0851519      4.58m\n",
            "  10     5.35          4575.05        8        0.0848023         0.084754      3.62m\n",
            "  11     5.42           389641        5        0.0845154        0.0850738      3.31m\n",
            "  12     5.34          7584.35        5        0.0828534        0.0817371      2.91m\n",
            "  13     5.34          165.421        5        0.0826212        0.0838257      2.46m\n",
            "  14     5.29          7635.92        5         0.082273         0.083405      2.08m\n",
            "  15     5.52          21388.8        5        0.0822029        0.0840244      1.67m\n",
            "  16     5.58          2577.38        5        0.0819779        0.0859804      1.26m\n",
            "  17     5.43          32.4026        5        0.0818498        0.0870719     50.23s\n",
            "  18     5.51           3564.5        5         0.081772         0.087727     25.27s\n",
            "  19     5.32          18592.3        5        0.0817376        0.0880147      0.00s\n",
            "Expresión: div(0.615, pot1(Re, -0.562))\n",
            "\n",
            "Metricas:\n",
            "MSE: 36.175522006211544\n",
            "R^2: 0.9254170386326214\n",
            "MAE: 4.2879332037741715\n",
            "MAPE: 7.274357998709648\n"
          ]
        }
      ],
      "source": [
        "model = SymbolicRegressor(population_size=5000,\n",
        "                        generations=20, \n",
        "                        stopping_criteria=0.01,\n",
        "                        p_crossover=0.7, \n",
        "                        p_subtree_mutation=0.1,\n",
        "                        p_hoist_mutation=0.05, \n",
        "                        p_point_mutation=0.1,\n",
        "                        max_samples=0.9, \n",
        "                        verbose=1,\n",
        "                        parsimony_coefficient=0.01, \n",
        "                        random_state=0,\n",
        "                        function_set=['add', 'sub', 'mul', 'div',nusselt_form, pot1],\n",
        "                        metric = rmspe, \n",
        "                        feature_names=['S', 'Re', 'Pr'])\n",
        "\n",
        "model.fit(X_train, y_train)\n",
        "\n",
        "# Obtener la expresión simbólica\n",
        "expression = model._program\n",
        "print(\"Expresión:\", expression)\n",
        "\n",
        "# prediciendo con el conjunto de prueba\n",
        "y_pred = model.predict(X_test)\n",
        "\n",
        "# Calcular métricas\n",
        "mse = mean_squared_error(y_test, y_pred)\n",
        "r2 = r2_score(y_test, y_pred)\n",
        "mae = mean_absolute_error(y_test, y_pred)\n",
        "mape = mean_absolute_percentage_error(y_test, y_pred)\n",
        "\n",
        "print('\\nMetricas:')\n",
        "print(\"MSE:\", mse)\n",
        "print(\"R^2:\", r2)\n",
        "print(\"MAE:\", mae)\n",
        "print(\"MAPE:\",mape*100)"
      ]
    },
    {
      "cell_type": "code",
      "execution_count": 10,
      "metadata": {},
      "outputs": [
        {
          "name": "stdout",
          "output_type": "stream",
          "text": [
            "    |   Population Average    |             Best Individual              |\n",
            "---- ------------------------- ------------------------------------------ ----------\n",
            " Gen   Length          Fitness   Length          Fitness      OOB Fitness  Time Left\n",
            "   0    95.61      3.87253e+09       87          0.27744          0.27195     82.44m\n",
            "   1     7.84           1372.8       28         0.276561         0.279896      8.22m\n",
            "   2    14.78          5227.66        5         0.154922         0.151828     11.68m\n",
            "   3    32.34           164567        5         0.154337         0.157092     20.69m\n",
            "   4    20.25          74756.9       27         0.103184         0.100223     11.80m\n",
            "   5    13.90           384193       10        0.0878934        0.0874921      7.54m\n",
            "   6     7.69      1.77352e+06        7        0.0858047        0.0880421      5.47m\n",
            "   7     5.82          397.568        7          0.08594        0.0868459      5.00m\n",
            "   8     6.83          145.745       10        0.0834419         0.085575      5.66m\n",
            "   9     8.17           371037       10        0.0815641        0.0813062      6.33m\n",
            "  10     7.61          208.748        7        0.0822179        0.0844146      5.02m\n",
            "  11     7.10           379665        7        0.0821089        0.0853642      4.02m\n",
            "  12     6.61           368929        7        0.0820519         0.085856      3.73m\n",
            "  13     6.46          177.762        7        0.0820396        0.0859617      3.34m\n",
            "  14     6.26          19112.4        7        0.0823284        0.0834397      2.83m\n",
            "  15     6.39          21558.5        6        0.0847128        0.0893559      2.29m\n",
            "  16     6.44             2648       21        0.0835648        0.0829365      1.71m\n",
            "  17     6.42          6764.61        6        0.0846791        0.0897575      1.15m\n",
            "  18     6.37          2365.37        8        0.0835869        0.0843016     35.43s\n",
            "  19     6.26          13405.7        6        0.0845331        0.0908752      0.00s\n",
            "Expresión: nu(Re, 0.546, Pr, 0.546, 0.010)\n",
            "\n",
            "Metricas:\n",
            "MSE: 40.014942910914186\n",
            "R^2: 0.9175013164777517\n",
            "MAE: 4.5874362669259146\n",
            "MAPE: 7.638500097561497\n"
          ]
        }
      ],
      "source": [
        "model = SymbolicRegressor(population_size=5000,\n",
        "                        generations=20, \n",
        "                        stopping_criteria=0.01,\n",
        "                        p_crossover=0.7, \n",
        "                        p_subtree_mutation=0.1,\n",
        "                        p_hoist_mutation=0.05, \n",
        "                        p_point_mutation=0.1,\n",
        "                        max_samples=0.9, \n",
        "                        verbose=1,\n",
        "                        parsimony_coefficient=0.005, \n",
        "                        random_state=0,\n",
        "                        function_set=['add', 'sub', 'mul', 'div',nusselt_form, pot1],\n",
        "                        metric = rmspe, \n",
        "                        feature_names=['S', 'Re', 'Pr'])\n",
        "\n",
        "model.fit(X_train, y_train)\n",
        "\n",
        "# Obtener la expresión simbólica\n",
        "expression = model._program\n",
        "print(\"Expresión:\", expression)\n",
        "\n",
        "# prediciendo con el conjunto de prueba\n",
        "y_pred = model.predict(X_test)\n",
        "\n",
        "# Calcular métricas\n",
        "mse = mean_squared_error(y_test, y_pred)\n",
        "r2 = r2_score(y_test, y_pred)\n",
        "mae = mean_absolute_error(y_test, y_pred)\n",
        "mape = mean_absolute_percentage_error(y_test, y_pred)\n",
        "\n",
        "print('\\nMetricas:')\n",
        "print(\"MSE:\", mse)\n",
        "print(\"R^2:\", r2)\n",
        "print(\"MAE:\", mae)\n",
        "print(\"MAPE:\",mape*100)"
      ]
    },
    {
      "cell_type": "code",
      "execution_count": 15,
      "metadata": {},
      "outputs": [
        {
          "name": "stdout",
          "output_type": "stream",
          "text": [
            "    |   Population Average    |             Best Individual              |\n",
            "---- ------------------------- ------------------------------------------ ----------\n",
            " Gen   Length          Fitness   Length          Fitness      OOB Fitness  Time Left\n",
            "   0    95.61      3.87253e+09       87          0.27744          0.27195     82.53m\n",
            "   1     8.46          1363.55       28         0.276561         0.279896      8.54m\n",
            "   2    19.68          29585.3        5         0.154922         0.151828     15.31m\n",
            "   3    40.08           166044       23         0.114704         0.112009     25.51m\n",
            "   4    23.99      1.72597e+07       23         0.114271         0.115924     13.53m\n",
            "   5    15.50      1.44059e+06       25        0.0876753        0.0862851      8.10m\n",
            "   6     9.31      1.77346e+06       25        0.0815977        0.0831268      6.19m\n",
            "   7     5.77          401.287        7        0.0823183        0.0835291      4.70m\n",
            "   8     6.61          8101.25        7         0.077287        0.0790985      4.44m\n",
            "   9     7.19           672893        9        0.0709859        0.0747372      4.15m\n",
            "  10     6.43           308241       11        0.0708098         0.073132      3.72m\n",
            "  11     6.35           389636       11        0.0707963        0.0732493      3.37m\n",
            "  12     7.20      5.47029e+07        9        0.0707713        0.0765472      2.90m\n",
            "  13     6.78          682.314        9        0.0708903          0.07555      2.44m\n",
            "  14     5.79          7337.95        9        0.0709952        0.0746581      2.06m\n",
            "  15     5.53          21387.1        7        0.0772564        0.0793666      1.68m\n",
            "  16     5.58          2576.15        5        0.0830903        0.0888339      1.28m\n",
            "  17     5.43          31.3393        5        0.0831075        0.0886888     49.77s\n",
            "  18     5.51           3491.9        5        0.0830529        0.0891475     25.44s\n",
            "  19     5.32          17554.5        5        0.0829965        0.0896197      0.00s\n",
            "Expresión: div(0.645, pot1(Re, -0.556))\n",
            "\n",
            "Metricas:\n",
            "MSE: 38.99932912766824\n",
            "R^2: 0.9195952042604076\n",
            "MAE: 4.47833820176509\n",
            "MAPE: 7.45403896706371\n"
          ]
        }
      ],
      "source": [
        "model = SymbolicRegressor(population_size=5000,\n",
        "                        generations=20, \n",
        "                        stopping_criteria=0.01,\n",
        "                        p_crossover=0.7, \n",
        "                        p_subtree_mutation=0.1,\n",
        "                        p_hoist_mutation=0.05, \n",
        "                        p_point_mutation=0.1,\n",
        "                        max_samples=0.9, \n",
        "                        verbose=1,\n",
        "                        parsimony_coefficient=0.004, \n",
        "                        random_state=0,\n",
        "                        function_set=['add', 'sub', 'mul', 'div',nusselt_form, pot1],\n",
        "                        metric = rmspe, \n",
        "                        feature_names=['S', 'Re', 'Pr'])\n",
        "\n",
        "model.fit(X_train, y_train)\n",
        "\n",
        "# Obtener la expresión simbólica\n",
        "expression = model._program\n",
        "print(\"Expresión:\", expression)\n",
        "\n",
        "# prediciendo con el conjunto de prueba\n",
        "y_pred = model.predict(X_test)\n",
        "\n",
        "# Calcular métricas\n",
        "mse = mean_squared_error(y_test, y_pred)\n",
        "r2 = r2_score(y_test, y_pred)\n",
        "mae = mean_absolute_error(y_test, y_pred)\n",
        "mape = mean_absolute_percentage_error(y_test, y_pred)\n",
        "\n",
        "print('\\nMetricas:')\n",
        "print(\"MSE:\", mse)\n",
        "print(\"R^2:\", r2)\n",
        "print(\"MAE:\", mae)\n",
        "print(\"MAPE:\",mape*100)"
      ]
    },
    {
      "cell_type": "code",
      "execution_count": 17,
      "metadata": {},
      "outputs": [
        {
          "name": "stdout",
          "output_type": "stream",
          "text": [
            "    |   Population Average    |             Best Individual              |\n",
            "---- ------------------------- ------------------------------------------ ----------\n",
            " Gen   Length          Fitness   Length          Fitness      OOB Fitness  Time Left\n",
            "   0    95.61      3.87253e+09       87          0.27744          0.27195     82.18m\n",
            "   1     7.72          1372.78       28         0.276561         0.279896      8.38m\n",
            "   2    14.04          5172.72        5         0.154922         0.151828     11.21m\n",
            "   3    23.67           118920        5         0.154337         0.157092     15.71m\n",
            "   4    18.06          52531.7       27         0.103184         0.100223     10.74m\n",
            "   5    13.17           406491       25        0.0987719        0.0978509      7.67m\n",
            "   6     8.24      1.77335e+06        7        0.0858047        0.0880421      5.96m\n",
            "   7     5.58          402.425        7          0.08594        0.0868459      4.79m\n",
            "   8     5.76          150.627        7        0.0855624        0.0901394      4.69m\n",
            "   9     6.62           672867        7        0.0821705        0.0848286      4.27m\n",
            "  10     7.17          10835.5        7        0.0822331        0.0842809      3.96m\n",
            "  11     7.26           372981        7        0.0821089        0.0853642      3.78m\n",
            "  12     7.29          59.4256        7        0.0820364        0.0859887      3.22m\n",
            "  13     7.11          11365.7        7        0.0819334        0.0868686      2.54m\n",
            "  14     6.75          105.677        7        0.0818914        0.0872243      2.09m\n",
            "  15     6.06          47.8902        7        0.0819918        0.0863711      1.67m\n",
            "  16     5.58          2575.99        7        0.0824139        0.0826763      1.28m\n",
            "  17     5.43          32.1538        7        0.0872597        0.0867237     50.40s\n",
            "  18     5.51          3542.46        5        0.0895305        0.0891488     25.57s\n",
            "  19     5.32          18277.8        5        0.0891124        0.0928424      0.00s\n",
            "Expresión: div(0.604, pot1(Re, -0.561))\n",
            "\n",
            "Metricas:\n",
            "MSE: 49.911176198147494\n",
            "R^2: 0.8970982830448808\n",
            "MAE: 4.954758937986963\n",
            "MAPE: 7.719289692135566\n"
          ]
        }
      ],
      "source": [
        "model = SymbolicRegressor(population_size=5000,\n",
        "                        generations=20, \n",
        "                        stopping_criteria=0.01,\n",
        "                        p_crossover=0.7, \n",
        "                        p_subtree_mutation=0.1,\n",
        "                        p_hoist_mutation=0.05, \n",
        "                        p_point_mutation=0.1,\n",
        "                        max_samples=0.9, \n",
        "                        verbose=1,\n",
        "                        parsimony_coefficient=0.006, \n",
        "                        random_state=0,\n",
        "                        function_set=['add', 'sub', 'mul', 'div',nusselt_form, pot1],\n",
        "                        metric = rmspe, \n",
        "                        feature_names=['S', 'Re', 'Pr'])\n",
        "\n",
        "model.fit(X_train, y_train)\n",
        "\n",
        "# Obtener la expresión simbólica\n",
        "expression = model._program\n",
        "print(\"Expresión:\", expression)\n",
        "\n",
        "# prediciendo con el conjunto de prueba\n",
        "y_pred = model.predict(X_test)\n",
        "\n",
        "# Calcular métricas\n",
        "mse = mean_squared_error(y_test, y_pred)\n",
        "r2 = r2_score(y_test, y_pred)\n",
        "mae = mean_absolute_error(y_test, y_pred)\n",
        "mape = mean_absolute_percentage_error(y_test, y_pred)\n",
        "\n",
        "print('\\nMetricas:')\n",
        "print(\"MSE:\", mse)\n",
        "print(\"R^2:\", r2)\n",
        "print(\"MAE:\", mae)\n",
        "print(\"MAPE:\",mape*100)"
      ]
    },
    {
      "cell_type": "code",
      "execution_count": 18,
      "metadata": {},
      "outputs": [
        {
          "name": "stdout",
          "output_type": "stream",
          "text": [
            "    |   Population Average    |             Best Individual              |\n",
            "---- ------------------------- ------------------------------------------ ----------\n",
            " Gen   Length          Fitness   Length          Fitness      OOB Fitness  Time Left\n",
            "   0    95.61      3.87253e+09       87          0.27744          0.27195     33.85m\n",
            "   1    14.22          1368.14       28         0.276561         0.279896      5.47m\n",
            "   2    54.15          55479.9       11         0.174905         0.175542     17.24m\n",
            "   3    70.18      2.72139e+06       11          0.17463         0.177986     18.54m\n",
            "   4    41.47           224875        9         0.154417         0.156388      9.72m\n",
            "   5    26.22           207566       42         0.141328         0.147486      5.52m\n",
            "   6    27.06      2.39719e+10       39          0.12225         0.123381      5.65m\n",
            "   7    18.23          998.359       34         0.110874         0.110691      3.44m\n",
            "   8    20.17          604.414       21         0.062828         0.062562      3.31m\n",
            "   9    21.63      1.30195e+06       21        0.0629223        0.0617026      2.96m\n",
            "  10    24.51          1068.17       21        0.0627513        0.0632504      3.08m\n",
            "  11    29.10          31393.1       23        0.0557716        0.0555446      2.97m\n",
            "  12    32.05          9047.93       37        0.0472461        0.0496432      2.65m\n",
            "  13    31.01          273.556       37         0.047339        0.0488405      2.19m\n",
            "  14    27.28            242.2       37        0.0472981        0.0491955      1.47m\n",
            "  15    23.47          294.934       37        0.0471531        0.0504328     57.13s\n",
            "  16    21.61          2808.21       37        0.0472811        0.0493428     39.33s\n",
            "  17    21.87          385.358       37        0.0474203        0.0481252     24.98s\n",
            "  18    22.07          2575.69       25        0.0552425         0.054101     12.44s\n",
            "  19    21.06          1199.41       39         0.055155        0.0559213      0.00s\n",
            "Expresión: div(Re, div(add(div(add(Re, div(add(div(add(Re, S), S), mul(0.120, mul(S, Re))), div(div(Pr, S), pot1(Re, -0.561)))), S), mul(0.120, mul(S, Re))), div(div(Pr, S), pot1(Re, -0.561))))\n",
            "\n",
            "Metricas:\n",
            "MSE: 22.235612837852006\n",
            "R^2: 0.9541569060708854\n",
            "MAE: 3.2151226700218243\n",
            "MAPE: 4.60838527739079\n"
          ]
        }
      ],
      "source": [
        "model = SymbolicRegressor(population_size=5000,\n",
        "                        generations=20, \n",
        "                        stopping_criteria=0.01,\n",
        "                        p_crossover=0.7, \n",
        "                        p_subtree_mutation=0.1,\n",
        "                        p_hoist_mutation=0.05, \n",
        "                        p_point_mutation=0.1,\n",
        "                        max_samples=0.9, \n",
        "                        verbose=1,\n",
        "                        parsimony_coefficient=0.001, \n",
        "                        random_state=0,\n",
        "                        function_set=['add', 'sub', 'mul', 'div',nusselt_form, pot1],\n",
        "                        metric = rmspe, \n",
        "                        feature_names=['S', 'Re', 'Pr'])\n",
        "\n",
        "model.fit(X_train, y_train)\n",
        "\n",
        "# Obtener la expresión simbólica\n",
        "expression = model._program\n",
        "print(\"Expresión:\", expression)\n",
        "\n",
        "# prediciendo con el conjunto de prueba\n",
        "y_pred = model.predict(X_test)\n",
        "\n",
        "# Calcular métricas\n",
        "mse = mean_squared_error(y_test, y_pred)\n",
        "r2 = r2_score(y_test, y_pred)\n",
        "mae = mean_absolute_error(y_test, y_pred)\n",
        "mape = mean_absolute_percentage_error(y_test, y_pred)\n",
        "\n",
        "print('\\nMetricas:')\n",
        "print(\"MSE:\", mse)\n",
        "print(\"R^2:\", r2)\n",
        "print(\"MAE:\", mae)\n",
        "print(\"MAPE:\",mape*100)"
      ]
    },
    {
      "cell_type": "code",
      "execution_count": 19,
      "metadata": {},
      "outputs": [
        {
          "name": "stdout",
          "output_type": "stream",
          "text": [
            "    |   Population Average    |             Best Individual              |\n",
            "---- ------------------------- ------------------------------------------ ----------\n",
            " Gen   Length          Fitness   Length          Fitness      OOB Fitness  Time Left\n",
            "   0    95.61      3.87253e+09       87          0.27744          0.27195     33.09m\n",
            "   1     7.60          2341.92       28         0.276561         0.279896      3.28m\n",
            "   2    12.52          10056.3        5         0.154922         0.151828      4.04m\n",
            "   3    18.40          94606.6        5         0.154337         0.157092      5.12m\n",
            "   4    16.52            94946       13         0.117567         0.119337      4.16m\n",
            "   5    11.79      1.00752e+06       22         0.100624         0.100924      2.94m\n",
            "   6     7.42      1.77325e+06        7        0.0858047        0.0880421      2.30m\n",
            "   7     5.66          1011.58        7          0.08594        0.0868459      1.95m\n",
            "   8     5.65          7619.66       13        0.0808029        0.0803043      1.87m\n",
            "   9     6.12           371043       13        0.0649173        0.0668407      1.74m\n",
            "  10     7.16          148.725       13        0.0649999         0.066115      1.60m\n",
            "  11     7.27           372978        7        0.0821089        0.0853642      1.46m\n",
            "  12     7.27           58.345        7        0.0820364        0.0859887      1.23m\n",
            "  13     7.19          11365.4        7         0.081811        0.0879004      1.01m\n",
            "  14     7.16          98.1018        7        0.0818914        0.0872243     50.93s\n",
            "  15     7.43          40.4336        7        0.0819509        0.0867193     41.60s\n",
            "  16     7.45          15757.9        7        0.0819096        0.0870705     31.96s\n",
            "  17     7.31          48.8061        7        0.0819269        0.0869238     22.50s\n",
            "  18     7.44           2267.8        7        0.0818424        0.0876368     10.60s\n",
            "  19     7.21          146.611        7        0.0818357        0.0876931      0.00s\n",
            "Expresión: div(Pr, pot1(mul(Re, 0.806), -0.561))\n",
            "\n",
            "Metricas:\n",
            "MSE: 34.918660651815905\n",
            "R^2: 0.9280083057834574\n",
            "MAE: 4.225860846243759\n",
            "MAPE: 7.2623699573538385\n"
          ]
        }
      ],
      "source": [
        "model = SymbolicRegressor(population_size=5000,\n",
        "                        generations=20, \n",
        "                        stopping_criteria=0.01,\n",
        "                        p_crossover=0.7, \n",
        "                        p_subtree_mutation=0.1,\n",
        "                        p_hoist_mutation=0.05, \n",
        "                        p_point_mutation=0.1,\n",
        "                        max_samples=0.9, \n",
        "                        verbose=1,\n",
        "                        parsimony_coefficient=0.007, \n",
        "                        random_state=0,\n",
        "                        function_set=['add', 'sub', 'mul', 'div',nusselt_form, pot1],\n",
        "                        metric = rmspe, \n",
        "                        feature_names=['S', 'Re', 'Pr'])\n",
        "\n",
        "model.fit(X_train, y_train)\n",
        "\n",
        "# Obtener la expresión simbólica\n",
        "expression = model._program\n",
        "print(\"Expresión:\", expression)\n",
        "\n",
        "# prediciendo con el conjunto de prueba\n",
        "y_pred = model.predict(X_test)\n",
        "\n",
        "# Calcular métricas\n",
        "mse = mean_squared_error(y_test, y_pred)\n",
        "r2 = r2_score(y_test, y_pred)\n",
        "mae = mean_absolute_error(y_test, y_pred)\n",
        "mape = mean_absolute_percentage_error(y_test, y_pred)\n",
        "\n",
        "print('\\nMetricas:')\n",
        "print(\"MSE:\", mse)\n",
        "print(\"R^2:\", r2)\n",
        "print(\"MAE:\", mae)\n",
        "print(\"MAPE:\",mape*100)"
      ]
    },
    {
      "cell_type": "code",
      "execution_count": 11,
      "metadata": {},
      "outputs": [
        {
          "name": "stdout",
          "output_type": "stream",
          "text": [
            "    |   Population Average    |             Best Individual              |\n",
            "---- ------------------------- ------------------------------------------ ----------\n",
            " Gen   Length          Fitness   Length          Fitness      OOB Fitness  Time Left\n",
            "   0    95.61      3.87253e+09       87          0.27744          0.27195     81.74m\n",
            "   1     8.71          1364.26       28         0.276561         0.279896      8.79m\n",
            "   2    21.30          53238.5       11         0.174905         0.175542     16.25m\n",
            "   3    49.25           189804       23         0.114704         0.112009     31.13m\n",
            "   4    31.28           243492       65        0.0937382        0.0926169     17.45m\n",
            "   5    20.46          12780.4       67        0.0934246        0.0954268     10.61m\n",
            "   6    18.35          54588.4       23        0.0655549        0.0644169      9.46m\n",
            "   7    15.83          981.209       25        0.0628641        0.0629414      8.15m\n",
            "   8    13.90          48116.7       27        0.0587133        0.0583464      7.10m\n",
            "   9    14.03           400423       27        0.0548471        0.0539795      6.37m\n",
            "  10     9.60          2500.87       23         0.055909        0.0534806      4.83m\n",
            "  11     5.59           389641       11        0.0709213        0.0721526      3.44m\n",
            "  12     5.96          7575.85       11         0.070856        0.0727283      2.96m\n",
            "  13     7.23          682.536       11        0.0706493        0.0745156      2.60m\n",
            "  14     7.88            11829       11        0.0680874        0.0685401      2.13m\n",
            "  15     8.32          21618.8       11         0.070537        0.0754668      1.72m\n",
            "  16     7.15          2572.55       11        0.0706073         0.074873      1.32m\n",
            "  17     5.47          30.9826       11         0.071107        0.0704885     50.88s\n",
            "  18     5.51          3542.51        5        0.0821507        0.0878891     25.56s\n",
            "  19     5.32          18277.8        5        0.0821452        0.0879356      0.00s\n",
            "Expresión: div(0.628, pot1(Re, -0.561))\n",
            "\n",
            "Metricas:\n",
            "MSE: 34.86387872594767\n",
            "R^2: 0.9281212495098798\n",
            "MAE: 4.224000260542761\n",
            "MAPE: 7.28292240727096\n"
          ]
        }
      ],
      "source": [
        "model = SymbolicRegressor(population_size=5000,\n",
        "                        generations=20, \n",
        "                        stopping_criteria=0.01,\n",
        "                        p_crossover=0.7, \n",
        "                        p_subtree_mutation=0.1,\n",
        "                        p_hoist_mutation=0.05, \n",
        "                        p_point_mutation=0.1,\n",
        "                        max_samples=0.9, \n",
        "                        verbose=1,\n",
        "                        parsimony_coefficient=0.003, \n",
        "                        random_state=0,\n",
        "                        function_set=['add', 'sub', 'mul', 'div',nusselt_form, pot1],\n",
        "                        metric = rmspe, \n",
        "                        feature_names=['S', 'Re', 'Pr'])\n",
        "\n",
        "model.fit(X_train, y_train)\n",
        "\n",
        "# Obtener la expresión simbólica\n",
        "expression = model._program\n",
        "print(\"Expresión:\", expression)\n",
        "\n",
        "# prediciendo con el conjunto de prueba\n",
        "y_pred = model.predict(X_test)\n",
        "\n",
        "# Calcular métricas\n",
        "mse = mean_squared_error(y_test, y_pred)\n",
        "r2 = r2_score(y_test, y_pred)\n",
        "mae = mean_absolute_error(y_test, y_pred)\n",
        "mape = mean_absolute_percentage_error(y_test, y_pred)\n",
        "\n",
        "print('\\nMetricas:')\n",
        "print(\"MSE:\", mse)\n",
        "print(\"R^2:\", r2)\n",
        "print(\"MAE:\", mae)\n",
        "print(\"MAPE:\",mape*100)"
      ]
    },
    {
      "cell_type": "code",
      "execution_count": 22,
      "metadata": {},
      "outputs": [],
      "source": [
        "# x1** A *x2\n",
        "def pot1_(x1, x2, A):\n",
        "    con = (x1>0)\n",
        "    con2 = (A<0) & (A>-1)\n",
        "    con3 = (x2>0) & (x2<1)\n",
        "    with np.errstate(divide='ignore', invalid='ignore', over='ignore'):\n",
        "        result = np.where(con & con2, x2*np.power(x1,A), 0)\n",
        "    return result\n",
        "\n",
        "pot1 = make_function(function=pot1_,\n",
        "                        name='pot1',\n",
        "                        arity=3)"
      ]
    },
    {
      "cell_type": "code",
      "execution_count": 23,
      "metadata": {},
      "outputs": [
        {
          "name": "stdout",
          "output_type": "stream",
          "text": [
            "    |   Population Average    |             Best Individual              |\n",
            "---- ------------------------- ------------------------------------------ ----------\n",
            " Gen   Length          Fitness   Length          Fitness      OOB Fitness  Time Left\n",
            "   0   128.42      3.94917e+09      130         0.341662         0.359414     41.72m\n",
            "   1     9.11          975.188      131         0.342853         0.349062      3.68m\n",
            "   2    11.85          1394.59       20          0.24373         0.245134      3.91m\n",
            "   3    21.68          2827.85       20         0.196339         0.191964      6.01m\n",
            "   4    13.69          3612.95       14        0.0968834        0.0948232      3.40m\n",
            "   5    15.83           373063       23        0.0844543        0.0837985      3.89m\n",
            "   6    15.90          891.078       32        0.0670306        0.0676315      3.68m\n",
            "   7    15.09          1827.39       30        0.0670378        0.0671594      3.43m\n",
            "   8    11.79           372088       16        0.0762655        0.0776692      2.78m\n",
            "   9     8.67           632830       10        0.0831681        0.0838099      2.26m\n",
            "  10     7.24            13284        8        0.0750562        0.0733106      1.99m\n",
            "  11     6.41           437888        8        0.0746156        0.0772526      1.81m\n",
            "  12     6.32          372.476        8        0.0736528        0.0756316      1.54m\n",
            "  13     6.74          45394.6       10         0.065131        0.0653193      1.35m\n",
            "  14     7.83          84.4641       10        0.0640331         0.065621      1.18m\n",
            "  15     8.32          132.897       10        0.0636963        0.0647022     56.18s\n",
            "  16     8.24          2501.24       10        0.0635977        0.0655691     41.58s\n",
            "  17     8.34          134.077       10        0.0636581         0.064481     29.82s\n",
            "  18     8.57          15477.6       10        0.0634585        0.0662286     15.07s\n",
            "  19     8.51           132.51        8         0.059065        0.0597118      0.00s\n",
            "Expresión: nu(Re, div(0.871, S), Pr, 0.546, 0.160)\n",
            "\n",
            "Metricas:\n",
            "MSE: 26.319467897123285\n",
            "R^2: 0.9457372347786978\n",
            "MAE: 3.5024848506988704\n",
            "MAPE: 4.945571002190556\n"
          ]
        }
      ],
      "source": [
        "model = SymbolicRegressor(population_size=5000,\n",
        "                        generations=20, \n",
        "                        stopping_criteria=0.01,\n",
        "                        p_crossover=0.7, \n",
        "                        p_subtree_mutation=0.1,\n",
        "                        p_hoist_mutation=0.05, \n",
        "                        p_point_mutation=0.1,\n",
        "                        max_samples=0.9, \n",
        "                        verbose=1,\n",
        "                        parsimony_coefficient=0.005, \n",
        "                        random_state=0,\n",
        "                        function_set=['add', 'sub', 'mul', 'div',nusselt_form, pot1],\n",
        "                        metric = rmspe, \n",
        "                        feature_names=['S', 'Re', 'Pr'])\n",
        "\n",
        "model.fit(X_train, y_train)\n",
        "\n",
        "# Obtener la expresión simbólica\n",
        "expression = model._program\n",
        "print(\"Expresión:\", expression)\n",
        "\n",
        "# prediciendo con el conjunto de prueba\n",
        "y_pred = model.predict(X_test)\n",
        "\n",
        "# Calcular métricas\n",
        "mse = mean_squared_error(y_test, y_pred)\n",
        "r2 = r2_score(y_test, y_pred)\n",
        "mae = mean_absolute_error(y_test, y_pred)\n",
        "mape = mean_absolute_percentage_error(y_test, y_pred)\n",
        "\n",
        "print('\\nMetricas:')\n",
        "print(\"MSE:\", mse)\n",
        "print(\"R^2:\", r2)\n",
        "print(\"MAE:\", mae)\n",
        "print(\"MAPE:\",mape*100)"
      ]
    }
  ],
  "metadata": {
    "colab": {
      "provenance": []
    },
    "kernelspec": {
      "display_name": "env",
      "language": "python",
      "name": "python3"
    },
    "language_info": {
      "codemirror_mode": {
        "name": "ipython",
        "version": 3
      },
      "file_extension": ".py",
      "mimetype": "text/x-python",
      "name": "python",
      "nbconvert_exporter": "python",
      "pygments_lexer": "ipython3",
      "version": "3.12.7"
    }
  },
  "nbformat": 4,
  "nbformat_minor": 0
}
