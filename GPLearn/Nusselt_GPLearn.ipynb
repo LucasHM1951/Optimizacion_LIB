{
 "cells": [
  {
   "cell_type": "markdown",
   "metadata": {},
   "source": [
    "# Numero de Nusselt"
   ]
  },
  {
   "cell_type": "code",
   "execution_count": 7,
   "metadata": {},
   "outputs": [],
   "source": [
    "import pandas as pd\n",
    "import matplotlib \n",
    "from gplearn.genetic import SymbolicRegressor\n",
    "from gplearn.functions import make_function\n",
    "from sklearn.ensemble import RandomForestRegressor\n",
    "from sklearn.tree import DecisionTreeRegressor\n",
    "from sklearn.utils.random import check_random_state\n",
    "from sklearn.metrics import mean_absolute_error, mean_absolute_percentage_error, mean_squared_error, r2_score\n",
    "from mpl_toolkits.mplot3d import Axes3D\n",
    "import matplotlib.pyplot as plt\n",
    "import numpy as np\n",
    "from sklearn.tree import export_graphviz\n",
    "import graphviz\n",
    "import pandas as pd\n"
   ]
  },
  {
   "cell_type": "code",
   "execution_count": 2,
   "metadata": {},
   "outputs": [],
   "source": [
    "# cargando datos\n",
    "\n",
    "# importacion de DF\n",
    "file_path = 'D:\\\\CODES\\\\LIB_SR\\\\Dataset_coeficientes\\\\df_n_25.txt'\n",
    "df_n_25 = pd.read_csv(file_path, delimiter=',')\n",
    "\n",
    "file_path = 'D:\\\\CODES\\\\LIB_SR\\\\Dataset_coeficientes\\\\df_n_53.txt'\n",
    "df_n_53 = pd.read_csv(file_path, delimiter=',')\n",
    "\n",
    "file_path = 'D:\\\\CODES\\\\LIB_SR\\\\Dataset_coeficientes\\\\df_n_74.txt'\n",
    "df_n_74 = pd.read_csv(file_path, delimiter=',')\n",
    "\n",
    "file_path = 'D:\\\\CODES\\\\LIB_SR\\\\Dataset_coeficientes\\\\df_n_102.txt'\n",
    "df_n_102 = pd.read_csv(file_path, delimiter=',')"
   ]
  },
  {
   "cell_type": "code",
   "execution_count": 3,
   "metadata": {},
   "outputs": [],
   "source": [
    "# definiendo conjuntos de train y test\n",
    "\n",
    "# definiendo conjunto de train\n",
    "df_n_train = pd.concat([df_n_25, df_n_74], ignore_index=True)\n",
    "\n",
    "# separando entre x e y\n",
    "y_train = df_n_train.drop(columns=['Current','K','Flujo','t_viento','Diametro','col_fluido','col_celda','n_fluido','n_celda','Rem','prandtl','colIndex'])\n",
    "X_train = df_n_train.drop(columns=['Current','Flujo','t_viento','Diametro','col_fluido','col_celda','n_fluido','n_celda','colIndex','nusselt'])\n",
    "\n",
    "\n",
    "# definiendo conjunto de test\n",
    "\n",
    "y_test = df_n_53.drop(columns=['Current','K','Flujo','t_viento','Diametro','col_fluido','col_celda','n_fluido','n_celda','Rem','prandtl','colIndex'])\n",
    "X_test = df_n_53.drop(columns=['Current','Flujo','t_viento','Diametro','col_fluido','col_celda','n_fluido','n_celda','colIndex','nusselt'])"
   ]
  },
  {
   "cell_type": "markdown",
   "metadata": {},
   "source": [
    "### Entrenar modelo original"
   ]
  },
  {
   "cell_type": "code",
   "execution_count": 5,
   "metadata": {},
   "outputs": [
    {
     "name": "stderr",
     "output_type": "stream",
     "text": [
      "d:\\env\\lib\\site-packages\\sklearn\\utils\\validation.py:1339: DataConversionWarning: A column-vector y was passed when a 1d array was expected. Please change the shape of y to (n_samples, ), for example using ravel().\n",
      "  y = column_or_1d(y, warn=True)\n"
     ]
    },
    {
     "name": "stdout",
     "output_type": "stream",
     "text": [
      "    |   Population Average    |             Best Individual              |\n",
      "---- ------------------------- ------------------------------------------ ----------\n",
      " Gen   Length          Fitness   Length          Fitness      OOB Fitness  Time Left\n",
      "   0    32.83      4.89184e+31       31          11.7311            11.78     20.90m\n",
      "   1    17.97      6.65547e+15       31          9.48876          9.30918     14.81m\n",
      "   2    26.49      4.08048e+09       27          6.99431          6.97922     24.02m\n",
      "   3    30.02      1.92981e+13       27          7.00878          6.84901     16.49m\n",
      "   4    29.69       1.2269e+11       27          6.93223          7.53787     12.27m\n",
      "   5    32.47       4.5187e+07       25          6.67603          6.71544     12.32m\n",
      "   6    35.73       1.3954e+09       67          3.30332          3.29504     11.02m\n",
      "   7    38.75      1.40532e+10       57          3.24255          3.28773     11.20m\n",
      "   8    38.52      7.44973e+07       57          3.23477          3.35773     10.94m\n",
      "   9    43.14      1.16198e+08       77          2.43765            2.377      9.53m\n",
      "  10    63.16      1.06491e+10       61           2.2577          2.25474     11.72m\n",
      "  11    69.53      2.85628e+07       67           2.1622           2.1599     12.67m\n",
      "  12    69.45      2.38197e+10       81          2.11824          2.09017     12.45m\n",
      "  13    71.04      5.14839e+10      119          2.05728          2.02094     14.21m\n",
      "  14    68.60       3.9951e+07      119          2.05196           2.0688     11.04m\n",
      "  15    64.62      2.09058e+07       67          2.09549          2.19811     16.73m\n",
      "  16    61.48      1.44958e+07       71          2.09104          2.23829     13.52m\n",
      "  17    59.14           805851       71          2.08622          2.15044      6.82m\n",
      "  18    55.00       1.6344e+07       63          2.08811           2.2588      5.19m\n",
      "  19    51.52      2.51768e+07      101          2.08149          2.08079      5.53m\n",
      "  20    48.46      1.92449e+08       59          2.07987          2.07116      5.24m\n",
      "  21    46.39      2.79738e+08       49          2.08112          2.09479      3.78m\n",
      "  22    45.06      1.57305e+09       63          2.06245          2.17111      3.23m\n",
      "  23    43.21      1.27312e+11       71          2.07125          2.14079      2.52m\n",
      "  24    40.82      2.75442e+08       61          2.08183          2.15294      2.10m\n",
      "  25    40.00      7.78962e+08       41          2.08575          2.27829      1.69m\n",
      "  26    38.78      4.01893e+07       45          2.08698           2.2608      1.15m\n",
      "  27    38.47       4.4399e+07       41          2.08531          2.28219     45.29s\n",
      "  28    37.51      3.97545e+10       41          2.08638          2.27254     23.96s\n",
      "  29    37.17      1.72438e+07       37          2.08743          2.26316      0.00s\n",
      "Expresión: sub(div(sub(add(X2, X2), div(-0.042, 0.995)), mul(mul(add(X0, 0.949), X1), div(0.036, X1))), mul(div(div(mul(0.138, X0), add(X0, X0)), div(sub(X2, -0.386), add(-0.687, 0.437))), mul(X1, 0.700)))\n"
     ]
    }
   ],
   "source": [
    "# entrenando modelo \n",
    "\n",
    "# Modelo\n",
    "model = SymbolicRegressor(population_size=5000,\n",
    "                           generations=30, \n",
    "                           stopping_criteria=0.01,\n",
    "                           p_crossover=0.7, \n",
    "                           p_subtree_mutation=0.1,\n",
    "                           p_hoist_mutation=0.05, \n",
    "                           p_point_mutation=0.1,\n",
    "                           max_samples=0.9, \n",
    "                           verbose=1,\n",
    "                           parsimony_coefficient=0.01, \n",
    "                           random_state=123,\n",
    "                           function_set=['add', 'sub', 'mul', 'div'])\n",
    "\n",
    "model.fit(X_train, y_train)\n",
    "\n",
    "# Obtener la expresión simbólica\n",
    "expression = model._program\n",
    "print(\"Expresión:\", expression)"
   ]
  },
  {
   "cell_type": "code",
   "execution_count": 6,
   "metadata": {},
   "outputs": [
    {
     "name": "stdout",
     "output_type": "stream",
     "text": [
      "MSE: 11.00072279485055\n",
      "R^2: 0.9773198439795644\n"
     ]
    }
   ],
   "source": [
    "# Predecir en los datos de prueba\n",
    "y_pred = model.predict(X_test)\n",
    "\n",
    "# Calcular métricas\n",
    "mse = mean_squared_error(y_test, y_pred)\n",
    "r2 = r2_score(y_test, y_pred)\n",
    "\n",
    "print(\"MSE:\", mse)\n",
    "print(\"R^2:\", r2)"
   ]
  },
  {
   "cell_type": "markdown",
   "metadata": {},
   "source": [
    "### Entrenar agregando  potencias V1"
   ]
  },
  {
   "cell_type": "code",
   "execution_count": 8,
   "metadata": {},
   "outputs": [],
   "source": [
    "# creando funciones auxiliares\n",
    "\n",
    "\n",
    "# 0.5 * S ^(-0.2) \n",
    "def pot1(x1):\n",
    "    with np.errstate(divide='ignore', invalid='ignore'):\n",
    "        result = np.where(x1 > 0, 0.5*x1**(-0.2), 0)\n",
    "    return result\n",
    "\n",
    "pot1_fn = make_function(function=pot1, \n",
    "                        name='pot1', \n",
    "                        arity=1)\n",
    "\n",
    "# Re^(0.64) *Pr \n",
    "def pot2(x1,x2):\n",
    "    with np.errstate(divide='ignore', invalid='ignore'):\n",
    "        result = np.where(x1 > 0, x1**(0.64)*x2, 0)\n",
    "    return result\n",
    "\n",
    "pot2_fn = make_function(function=pot2, \n",
    "                        name='pot2', \n",
    "                        arity=2)\n"
   ]
  },
  {
   "cell_type": "code",
   "execution_count": 9,
   "metadata": {},
   "outputs": [
    {
     "name": "stderr",
     "output_type": "stream",
     "text": [
      "d:\\env\\lib\\site-packages\\sklearn\\utils\\validation.py:1339: DataConversionWarning: A column-vector y was passed when a 1d array was expected. Please change the shape of y to (n_samples, ), for example using ravel().\n",
      "  y = column_or_1d(y, warn=True)\n"
     ]
    },
    {
     "name": "stdout",
     "output_type": "stream",
     "text": [
      "    |   Population Average    |             Best Individual              |\n",
      "---- ------------------------- ------------------------------------------ ----------\n",
      " Gen   Length          Fitness   Length          Fitness      OOB Fitness  Time Left\n",
      "   0    24.91      1.49917e+18       18          2.66988          2.67641     21.73m\n",
      "   1    19.34      1.05018e+08       18          2.67266          2.65142     17.54m\n",
      "   2    24.46      1.52122e+08       38           1.5917          1.64675     19.08m\n",
      "   3    23.76      9.01816e+10       45          1.55893          1.59787     18.05m\n",
      "   4    23.16      9.65336e+09       29          1.55417          1.57869     21.14m\n",
      "   5    27.10       1.0189e+10       33          1.55048          1.55992     18.92m\n",
      "   6    29.47       1.7731e+06       25          1.52482          1.57193     19.04m\n",
      "   7    23.65           159348       25          1.52548          1.56594     14.12m\n",
      "   8    21.43      1.64753e+06       25          1.52125          1.60405     11.78m\n",
      "   9    20.13           672594       42          1.51838          1.60835     13.21m\n",
      "  10    18.10      2.19288e+06       21          1.52004          1.61429     11.62m\n",
      "  11    15.60      5.20825e+09       20          1.52041          1.60975     10.06m\n",
      "  12    13.16          69063.8       20          1.52079          1.60639     11.15m\n",
      "  13    12.00          78178.6       11          1.53527          1.66004      9.84m\n",
      "  14    11.34          75986.1       11          1.53469          1.66533      8.57m\n",
      "  15    11.07          19996.4       11          1.53407          1.67084      7.65m\n",
      "  16    10.96          39548.4       11          1.53515          1.66114      6.58m\n",
      "  17    11.11      5.14653e+09       11            1.535          1.66248      4.99m\n",
      "  18    11.05      1.11534e+06       11          1.53368          1.67435      4.29m\n",
      "  19    11.07          69076.3       11          1.53137          1.69516      3.65m\n",
      "  20    11.01           122934       11          1.53431          1.66869      2.75m\n",
      "  21    11.01          34222.8       11          1.53264          1.68376      2.21m\n",
      "  22    11.00      7.10207e+07       11          1.53359          1.67517      1.41m\n",
      "  23    11.06           698001       11          1.53196           1.6899     44.44s\n",
      "  24    11.00      1.19546e+06       11          1.53411          1.67051      0.00s\n",
      "Expresión: pot2(pot2(pot1(0.892), mul(X1, 0.892)), pot1(div(X0, X2)))\n"
     ]
    }
   ],
   "source": [
    "# Modelo\n",
    "model = SymbolicRegressor(population_size=5000,\n",
    "                           generations=25, \n",
    "                           stopping_criteria=0.01,\n",
    "                           p_crossover=0.7, \n",
    "                           p_subtree_mutation=0.1,\n",
    "                           p_hoist_mutation=0.05, \n",
    "                           p_point_mutation=0.1,\n",
    "                           max_samples=0.9, \n",
    "                           verbose=1,\n",
    "                           parsimony_coefficient=0.01, \n",
    "                           random_state=123,\n",
    "                           function_set=['add', 'sub', 'mul', 'div',pot1_fn,pot2_fn])\n",
    "\n",
    "model.fit(X_train, y_train)\n",
    "\n",
    "# Obtener la expresión simbólica\n",
    "expression = model._program\n",
    "print(\"Expresión:\", expression)"
   ]
  },
  {
   "cell_type": "code",
   "execution_count": 10,
   "metadata": {},
   "outputs": [
    {
     "name": "stdout",
     "output_type": "stream",
     "text": [
      "MSE: 4.800143692048582\n",
      "R^2: 0.9901035586582426\n"
     ]
    }
   ],
   "source": [
    "# Predecir en los datos de prueba\n",
    "y_pred = model.predict(X_test)\n",
    "\n",
    "# Calcular métricas\n",
    "mse = mean_squared_error(y_test, y_pred)\n",
    "r2 = r2_score(y_test, y_pred)\n",
    "\n",
    "print(\"MSE:\", mse)\n",
    "print(\"R^2:\", r2)"
   ]
  },
  {
   "cell_type": "markdown",
   "metadata": {},
   "source": [
    "# 0.4015568 * X1 ^(0.64) * (X0/X2)^(-2)"
   ]
  },
  {
   "cell_type": "code",
   "execution_count": 19,
   "metadata": {},
   "outputs": [],
   "source": [
    "# comparar con modelo de Rafael\n",
    "\n",
    "def nusselt(S, Re, Pr):\n",
    "    return 0.5 * S **(-0.2) * Re **(0.64) * Pr\n",
    "\n",
    "def nusselt_gp(S, Re, Pr):\n",
    "    return 0.3575 * Re **(0.64) * (S/Pr)**(-0.2)"
   ]
  },
  {
   "cell_type": "code",
   "execution_count": 6,
   "metadata": {},
   "outputs": [
    {
     "data": {
      "text/html": [
       "<div>\n",
       "<style scoped>\n",
       "    .dataframe tbody tr th:only-of-type {\n",
       "        vertical-align: middle;\n",
       "    }\n",
       "\n",
       "    .dataframe tbody tr th {\n",
       "        vertical-align: top;\n",
       "    }\n",
       "\n",
       "    .dataframe thead th {\n",
       "        text-align: right;\n",
       "    }\n",
       "</style>\n",
       "<table border=\"1\" class=\"dataframe\">\n",
       "  <thead>\n",
       "    <tr style=\"text-align: right;\">\n",
       "      <th></th>\n",
       "      <th>K</th>\n",
       "      <th>Rem</th>\n",
       "      <th>prandtl</th>\n",
       "    </tr>\n",
       "  </thead>\n",
       "  <tbody>\n",
       "    <tr>\n",
       "      <th>0</th>\n",
       "      <td>0.6</td>\n",
       "      <td>2824.604561</td>\n",
       "      <td>0.709843</td>\n",
       "    </tr>\n",
       "    <tr>\n",
       "      <th>1</th>\n",
       "      <td>0.6</td>\n",
       "      <td>2824.604561</td>\n",
       "      <td>0.709843</td>\n",
       "    </tr>\n",
       "    <tr>\n",
       "      <th>2</th>\n",
       "      <td>0.6</td>\n",
       "      <td>2352.302465</td>\n",
       "      <td>0.709842</td>\n",
       "    </tr>\n",
       "    <tr>\n",
       "      <th>3</th>\n",
       "      <td>0.6</td>\n",
       "      <td>2000.632597</td>\n",
       "      <td>0.709842</td>\n",
       "    </tr>\n",
       "    <tr>\n",
       "      <th>4</th>\n",
       "      <td>0.6</td>\n",
       "      <td>1878.735604</td>\n",
       "      <td>0.709842</td>\n",
       "    </tr>\n",
       "    <tr>\n",
       "      <th>...</th>\n",
       "      <td>...</td>\n",
       "      <td>...</td>\n",
       "      <td>...</td>\n",
       "    </tr>\n",
       "    <tr>\n",
       "      <th>8605</th>\n",
       "      <td>1.2</td>\n",
       "      <td>9267.885175</td>\n",
       "      <td>0.707768</td>\n",
       "    </tr>\n",
       "    <tr>\n",
       "      <th>8606</th>\n",
       "      <td>1.2</td>\n",
       "      <td>8959.387980</td>\n",
       "      <td>0.707705</td>\n",
       "    </tr>\n",
       "    <tr>\n",
       "      <th>8607</th>\n",
       "      <td>1.2</td>\n",
       "      <td>8691.558442</td>\n",
       "      <td>0.707625</td>\n",
       "    </tr>\n",
       "    <tr>\n",
       "      <th>8608</th>\n",
       "      <td>1.2</td>\n",
       "      <td>8537.950633</td>\n",
       "      <td>0.707554</td>\n",
       "    </tr>\n",
       "    <tr>\n",
       "      <th>8609</th>\n",
       "      <td>1.2</td>\n",
       "      <td>8360.980275</td>\n",
       "      <td>0.707482</td>\n",
       "    </tr>\n",
       "  </tbody>\n",
       "</table>\n",
       "<p>8610 rows × 3 columns</p>\n",
       "</div>"
      ],
      "text/plain": [
       "        K          Rem   prandtl\n",
       "0     0.6  2824.604561  0.709843\n",
       "1     0.6  2824.604561  0.709843\n",
       "2     0.6  2352.302465  0.709842\n",
       "3     0.6  2000.632597  0.709842\n",
       "4     0.6  1878.735604  0.709842\n",
       "...   ...          ...       ...\n",
       "8605  1.2  9267.885175  0.707768\n",
       "8606  1.2  8959.387980  0.707705\n",
       "8607  1.2  8691.558442  0.707625\n",
       "8608  1.2  8537.950633  0.707554\n",
       "8609  1.2  8360.980275  0.707482\n",
       "\n",
       "[8610 rows x 3 columns]"
      ]
     },
     "execution_count": 6,
     "metadata": {},
     "output_type": "execute_result"
    }
   ],
   "source": [
    "X_test"
   ]
  },
  {
   "cell_type": "code",
   "execution_count": 20,
   "metadata": {},
   "outputs": [
    {
     "name": "stdout",
     "output_type": "stream",
     "text": [
      "R^2 cdrag original: 0.9509992536047758, R^2 cdrag GPLearn: 0.9898656037772775 \n",
      "MSE cdrag original: 23.767192225174124, MSE cdrag GPLearn: 4.915560697152972 \n",
      "MAE cdrag original: 4.174721418276441, MAE cdrag GPLearn: 1.6305633774376995 \n",
      "MAPE cdrag original: 7.197154998836116*100, MAPE cdrag GPLearn: 2.8637994390677814*100 \n"
     ]
    }
   ],
   "source": [
    "# Calcular cdrag_pred y cdrag_gp_pred en vectores separados\n",
    "cdrag_pred = X_test.apply(lambda row: nusselt(row['K'], row['Rem'], row['prandtl']), axis=1).values\n",
    "cdrag_gp_pred = X_test.apply(lambda row: nusselt_gp(row['K'], row['Rem'], row['prandtl']), axis=1).values\n",
    "\n",
    "# Calcular R^2 y MSE para cdrag\n",
    "r2_cdrag = r2_score(y_test['nusselt'], cdrag_pred)\n",
    "mse_cdrag = mean_squared_error(y_test['nusselt'], cdrag_pred)\n",
    "\n",
    "# Calcular MAE y MAPE para cdrag\n",
    "mae_cdrag = mean_absolute_error(y_test['nusselt'], cdrag_pred)\n",
    "mape_cdrag = mean_absolute_percentage_error(y_test['nusselt'], cdrag_pred)\n",
    "\n",
    "# Calcular R^2 y MSE para cdrag_gp\n",
    "r2_cdrag_gp = r2_score(y_test['nusselt'], cdrag_gp_pred)\n",
    "mse_cdrag_gp = mean_squared_error(y_test['nusselt'], cdrag_gp_pred)\n",
    "\n",
    "# Calcular MAE y MAPE para cdrag_gp\n",
    "mae_cdrag_gp = mean_absolute_error(y_test['nusselt'], cdrag_gp_pred)\n",
    "mape_cdrag_gp = mean_absolute_percentage_error(y_test['nusselt'], cdrag_gp_pred)\n",
    "\n",
    "#  Mostrar Metricas \n",
    "\n",
    "print(f\"R^2 cdrag original: {r2_cdrag}, R^2 cdrag GPLearn: {r2_cdrag_gp} \")\n",
    "print(f\"MSE cdrag original: {mse_cdrag}, MSE cdrag GPLearn: {mse_cdrag_gp} \")\n",
    "print(f\"MAE cdrag original: {mae_cdrag}, MAE cdrag GPLearn: {mae_cdrag_gp} \")\n",
    "print(f\"MAPE cdrag original: {mape_cdrag*100}*100, MAPE cdrag GPLearn: {mape_cdrag_gp*100}*100 \")"
   ]
  },
  {
   "cell_type": "markdown",
   "metadata": {},
   "source": [
    "### Entrenar agregando  potencias V2"
   ]
  },
  {
   "cell_type": "code",
   "execution_count": 23,
   "metadata": {},
   "outputs": [],
   "source": [
    "### Entrenar agregando  potencias V2\n",
    "\n",
    "# 0.5 * S ^(-0.2) * Re ^0.64 * Pr\n",
    "def pot1(x1, x2, x3):\n",
    "    with np.errstate(divide='ignore', invalid='ignore'):\n",
    "        result = np.where((x1 > 0) & (x2>0) & (x3>0), 0.5*x1**(-0.2)* x2 **(0.64) * x3, 0)\n",
    "    return result\n",
    "\n",
    "pot1_fn = make_function(function=pot1, \n",
    "                        name='pot1', \n",
    "                        arity=3)\n"
   ]
  },
  {
   "cell_type": "code",
   "execution_count": 26,
   "metadata": {},
   "outputs": [
    {
     "data": {
      "text/plain": [
       "count    15900.000000\n",
       "mean         0.708010\n",
       "std          0.001358\n",
       "min          0.695312\n",
       "25%          0.707104\n",
       "50%          0.707981\n",
       "75%          0.709256\n",
       "max          0.710697\n",
       "Name: prandtl, dtype: float64"
      ]
     },
     "execution_count": 26,
     "metadata": {},
     "output_type": "execute_result"
    }
   ],
   "source": [
    "X_train['prandtl'].describe()"
   ]
  },
  {
   "cell_type": "code",
   "execution_count": 24,
   "metadata": {},
   "outputs": [
    {
     "name": "stderr",
     "output_type": "stream",
     "text": [
      "d:\\env\\lib\\site-packages\\sklearn\\utils\\validation.py:1339: DataConversionWarning: A column-vector y was passed when a 1d array was expected. Please change the shape of y to (n_samples, ), for example using ravel().\n",
      "  y = column_or_1d(y, warn=True)\n"
     ]
    },
    {
     "name": "stdout",
     "output_type": "stream",
     "text": [
      "    |   Population Average    |             Best Individual              |\n",
      "---- ------------------------- ------------------------------------------ ----------\n",
      " Gen   Length          Fitness   Length          Fitness      OOB Fitness  Time Left\n",
      "   0    51.11      2.23472e+16       37          4.69737          4.72079     33.76m\n",
      "   1    28.93      2.31285e+07       11          3.68762          3.68981     16.80m\n",
      "   2    36.28      2.41273e+06       16          2.76631          2.74759     22.18m\n",
      "   3    24.33       1.2282e+07        6           1.5527          1.64455     16.29m\n",
      "   4    13.73      4.08384e+07        4          1.54242           1.6014     10.69m\n",
      "   5    16.32           355479        4          1.53925          1.62987      9.97m\n",
      "   6    12.83           301063       10          1.52804          1.55206      7.30m\n",
      "   7     7.90      1.28664e+08        8          1.51811          1.56201      5.29m\n",
      "   8     4.75      3.37881e+06        8          1.52101          1.53591      4.38m\n",
      "   9     4.33           941079        4          1.52693          1.67874      4.07m\n",
      "  10     4.45      1.63458e+06        4          1.52511          1.69504      4.06m\n",
      "  11     4.34           365247        4          1.52846          1.66488      3.27m\n",
      "  12     4.41      2.76611e+09        4          1.52449           1.7007      2.89m\n",
      "  13     4.34            18542        4           1.5257          1.68974      2.43m\n",
      "  14     4.27           461053        4          1.52769          1.67183      2.13m\n",
      "  15     4.48      2.41509e+09        4          1.52659          1.68173      2.01m\n",
      "  16     4.32      7.00678e+10        4          1.52776          1.67123      1.44m\n",
      "  17     4.37           123717        4          1.52768          1.67191     49.43s\n",
      "  18     4.35      1.93605e+07        4          1.52814          1.66785     25.12s\n",
      "  19     4.36      1.37974e+07        4          1.52713          1.67693      0.00s\n",
      "Expresión: pot1(X0, X1, 0.660)\n"
     ]
    }
   ],
   "source": [
    "# Modelo\n",
    "model = SymbolicRegressor(population_size=5000,\n",
    "                           generations=20, \n",
    "                           stopping_criteria=0.01,\n",
    "                           p_crossover=0.7, \n",
    "                           p_subtree_mutation=0.1,\n",
    "                           p_hoist_mutation=0.05, \n",
    "                           p_point_mutation=0.1,\n",
    "                           max_samples=0.9, \n",
    "                           verbose=1,\n",
    "                           parsimony_coefficient=0.01, \n",
    "                           random_state=123,\n",
    "                           function_set=['add', 'sub', 'mul', 'div',pot1_fn])\n",
    "\n",
    "model.fit(X_train, y_train)\n",
    "\n",
    "# Obtener la expresión simbólica\n",
    "expression = model._program\n",
    "print(\"Expresión:\", expression)"
   ]
  },
  {
   "cell_type": "code",
   "execution_count": 32,
   "metadata": {},
   "outputs": [],
   "source": [
    "# comparar con modelo de Rafael\n",
    "\n",
    "def nusselt(S, Re, Pr):\n",
    "    return 0.5 * S **(-0.2) * Re **(0.64) * Pr\n",
    "\n",
    "def nusselt_gp(S, Re, Pr):\n",
    "    return 0.5 * S **(-0.2)*Re **(0.64) * 0.660"
   ]
  },
  {
   "cell_type": "code",
   "execution_count": 33,
   "metadata": {},
   "outputs": [
    {
     "name": "stdout",
     "output_type": "stream",
     "text": [
      "R^2 cdrag original: 0.9509992536047758, R^2 cdrag GPLearn: 0.9901974685565402 \n",
      "MSE cdrag original: 23.767192225174124, MSE cdrag GPLearn: 4.754593883752133 \n",
      "MAE cdrag original: 4.174721418276441, MAE cdrag GPLearn: 1.5605096310233906 \n",
      "MAPE cdrag original: 7.197154998836116*100, MAPE cdrag GPLearn: 2.720218831637322*100 \n"
     ]
    }
   ],
   "source": [
    "# Calcular cdrag_pred y cdrag_gp_pred en vectores separados\n",
    "cdrag_pred = X_test.apply(lambda row: nusselt(row['K'], row['Rem'], row['prandtl']), axis=1).values\n",
    "cdrag_gp_pred = X_test.apply(lambda row: nusselt_gp(row['K'], row['Rem'], row['prandtl']), axis=1).values\n",
    "\n",
    "# Calcular R^2 y MSE para cdrag\n",
    "r2_cdrag = r2_score(y_test['nusselt'], cdrag_pred)\n",
    "mse_cdrag = mean_squared_error(y_test['nusselt'], cdrag_pred)\n",
    "\n",
    "# Calcular MAE y MAPE para cdrag\n",
    "mae_cdrag = mean_absolute_error(y_test['nusselt'], cdrag_pred)\n",
    "mape_cdrag = mean_absolute_percentage_error(y_test['nusselt'], cdrag_pred)\n",
    "\n",
    "# Calcular R^2 y MSE para cdrag_gp\n",
    "r2_cdrag_gp = r2_score(y_test['nusselt'], cdrag_gp_pred)\n",
    "mse_cdrag_gp = mean_squared_error(y_test['nusselt'], cdrag_gp_pred)\n",
    "\n",
    "# Calcular MAE y MAPE para cdrag_gp\n",
    "mae_cdrag_gp = mean_absolute_error(y_test['nusselt'], cdrag_gp_pred)\n",
    "mape_cdrag_gp = mean_absolute_percentage_error(y_test['nusselt'], cdrag_gp_pred)\n",
    "\n",
    "#  Mostrar Metricas \n",
    "\n",
    "print(f\"R^2 cdrag original: {r2_cdrag}, R^2 cdrag GPLearn: {r2_cdrag_gp} \")\n",
    "print(f\"MSE cdrag original: {mse_cdrag}, MSE cdrag GPLearn: {mse_cdrag_gp} \")\n",
    "print(f\"MAE cdrag original: {mae_cdrag}, MAE cdrag GPLearn: {mae_cdrag_gp} \")\n",
    "print(f\"MAPE cdrag original: {mape_cdrag*100}*100, MAPE cdrag GPLearn: {mape_cdrag_gp*100}*100 \")"
   ]
  },
  {
   "cell_type": "markdown",
   "metadata": {},
   "source": [
    "Se consiguen mejores metricas sin incluir el prantdl, ¿pero tendra sentido físico?"
   ]
  },
  {
   "cell_type": "markdown",
   "metadata": {},
   "source": [
    "### Entrenar agregando  potencias V3"
   ]
  },
  {
   "cell_type": "code",
   "execution_count": 28,
   "metadata": {},
   "outputs": [],
   "source": [
    "# * S ^(-0.2) \n",
    "def pot1(x1):\n",
    "    with np.errstate(divide='ignore', invalid='ignore'):\n",
    "        result = np.where(x1 > 0, x1**(-0.2), 0)\n",
    "    return result\n",
    "\n",
    "pot1_fn = make_function(function=pot1, \n",
    "                        name='pot1', \n",
    "                        arity=1)\n",
    "\n",
    "# 0.5*Re^(0.64) *Pr \n",
    "def pot2(x1,x2):\n",
    "    with np.errstate(divide='ignore', invalid='ignore'):\n",
    "        result = np.where((x1 > 0) & (x2>0), 0.5*x1**(0.64)*x2, 0)\n",
    "    return result\n",
    "\n",
    "pot2_fn = make_function(function=pot2, \n",
    "                        name='pot2', \n",
    "                        arity=2)\n"
   ]
  },
  {
   "cell_type": "code",
   "execution_count": 29,
   "metadata": {},
   "outputs": [
    {
     "name": "stderr",
     "output_type": "stream",
     "text": [
      "d:\\env\\lib\\site-packages\\sklearn\\utils\\validation.py:1339: DataConversionWarning: A column-vector y was passed when a 1d array was expected. Please change the shape of y to (n_samples, ), for example using ravel().\n",
      "  y = column_or_1d(y, warn=True)\n"
     ]
    },
    {
     "name": "stdout",
     "output_type": "stream",
     "text": [
      "    |   Population Average    |             Best Individual              |\n",
      "---- ------------------------- ------------------------------------------ ----------\n",
      " Gen   Length          Fitness   Length          Fitness      OOB Fitness  Time Left\n",
      "   0    24.91      1.35864e+18        6          4.81152           4.8322     17.77m\n",
      "   1    19.51      2.05391e+06       27          3.48503          3.42718     16.74m\n",
      "   2    19.99      2.67266e+10       13           2.4308          2.58527     11.96m\n",
      "   3    12.47      9.96721e+06       13          1.55962          1.58239      7.97m\n",
      "   4    18.36       3.2885e+07       13          1.55991          1.57979     12.35m\n",
      "   5    16.84      9.28862e+06       18          1.53076          1.53807     10.16m\n",
      "   6    18.48          18241.2       18          1.52855          1.55796     11.24m\n",
      "   7    14.55          16603.9       18          1.52596           1.5813      9.77m\n",
      "   8    11.01           596001       15          1.52178           1.5448      7.16m\n",
      "   9     8.75           715122       11          1.52072          1.65643      5.87m\n",
      "  10     7.40           313653       11          1.52781           1.5926      7.07m\n",
      "  11     7.18      2.60277e+09        7          1.53639          1.68222      7.36m\n",
      "  12     7.19           456218        7          1.53543          1.69085      5.81m\n",
      "  13     7.18           267522        7          1.53733          1.67374      5.55m\n",
      "  14     7.17          19468.7        7           1.5385          1.66319      4.36m\n",
      "  15     7.15           802552        7          1.53735          1.67357      2.78m\n",
      "  16     7.12          42203.3        7          1.53801           1.6676      1.87m\n",
      "  17     7.20      2.39822e+09        7          1.53836          1.66444      1.36m\n",
      "  18     7.17      1.33134e+07        7          1.53591          1.68649     37.02s\n",
      "  19     7.18           276932        7           1.5361          1.68487      0.00s\n",
      "Expresión: pot2(pot1(0.116), pot2(X1, pot1(X0)))\n"
     ]
    }
   ],
   "source": [
    "# Modelo\n",
    "model = SymbolicRegressor(population_size=5000,\n",
    "                           generations=20, \n",
    "                           stopping_criteria=0.01,\n",
    "                           p_crossover=0.7, \n",
    "                           p_subtree_mutation=0.1,\n",
    "                           p_hoist_mutation=0.05, \n",
    "                           p_point_mutation=0.1,\n",
    "                           max_samples=0.9, \n",
    "                           verbose=1,\n",
    "                           parsimony_coefficient=0.01, \n",
    "                           random_state=123,\n",
    "                           function_set=['add', 'sub', 'mul', 'div',pot1_fn,pot2_fn])\n",
    "\n",
    "model.fit(X_train, y_train)\n",
    "\n",
    "# Obtener la expresión simbólica\n",
    "expression = model._program\n",
    "print(\"Expresión:\", expression)"
   ]
  },
  {
   "cell_type": "code",
   "execution_count": 34,
   "metadata": {},
   "outputs": [
    {
     "name": "stdout",
     "output_type": "stream",
     "text": [
      "MSE: 4.849711232645084\n",
      "R^2: 0.9900013654137402\n"
     ]
    }
   ],
   "source": [
    "# Predecir en los datos de prueba\n",
    "y_pred = model.predict(X_test)\n",
    "\n",
    "# Calcular métricas\n",
    "mse = mean_squared_error(y_test, y_pred)\n",
    "r2 = r2_score(y_test, y_pred)\n",
    "\n",
    "print(\"MSE:\", mse)\n",
    "print(\"R^2:\", r2)"
   ]
  },
  {
   "cell_type": "code",
   "execution_count": 35,
   "metadata": {},
   "outputs": [],
   "source": [
    "def nusselt(S, Re, Pr):\n",
    "    return 0.5 * S **(-0.2) * Re **(0.64) * Pr\n",
    "\n",
    "def nusselt_gp(S, Re, Pr):\n",
    "    return 0.4065 * S**(-0.2) *Re **(0.64) "
   ]
  },
  {
   "cell_type": "code",
   "execution_count": 36,
   "metadata": {},
   "outputs": [
    {
     "name": "stdout",
     "output_type": "stream",
     "text": [
      "R^2 cdrag original: 0.9509992536047758, R^2 cdrag GPLearn: 0.5671402704718504 \n",
      "MSE cdrag original: 23.767192225174124, MSE cdrag GPLearn: 209.95313653497948 \n",
      "MAE cdrag original: 4.174721418276441, MAE cdrag GPLearn: 13.461254276672511 \n",
      "MAPE cdrag original: 7.197154998836116*100, MAPE cdrag GPLearn: 22.902589897738164*100 \n"
     ]
    }
   ],
   "source": [
    "# Calcular cdrag_pred y cdrag_gp_pred en vectores separados\n",
    "cdrag_pred = X_test.apply(lambda row: nusselt(row['K'], row['Rem'], row['prandtl']), axis=1).values\n",
    "cdrag_gp_pred = X_test.apply(lambda row: nusselt_gp(row['K'], row['Rem'], row['prandtl']), axis=1).values\n",
    "\n",
    "# Calcular R^2 y MSE para cdrag\n",
    "r2_cdrag = r2_score(y_test['nusselt'], cdrag_pred)\n",
    "mse_cdrag = mean_squared_error(y_test['nusselt'], cdrag_pred)\n",
    "\n",
    "# Calcular MAE y MAPE para cdrag\n",
    "mae_cdrag = mean_absolute_error(y_test['nusselt'], cdrag_pred)\n",
    "mape_cdrag = mean_absolute_percentage_error(y_test['nusselt'], cdrag_pred)\n",
    "\n",
    "# Calcular R^2 y MSE para cdrag_gp\n",
    "r2_cdrag_gp = r2_score(y_test['nusselt'], cdrag_gp_pred)\n",
    "mse_cdrag_gp = mean_squared_error(y_test['nusselt'], cdrag_gp_pred)\n",
    "\n",
    "# Calcular MAE y MAPE para cdrag_gp\n",
    "mae_cdrag_gp = mean_absolute_error(y_test['nusselt'], cdrag_gp_pred)\n",
    "mape_cdrag_gp = mean_absolute_percentage_error(y_test['nusselt'], cdrag_gp_pred)\n",
    "\n",
    "#  Mostrar Metricas \n",
    "\n",
    "print(f\"R^2 cdrag original: {r2_cdrag}, R^2 cdrag GPLearn: {r2_cdrag_gp} \")\n",
    "print(f\"MSE cdrag original: {mse_cdrag}, MSE cdrag GPLearn: {mse_cdrag_gp} \")\n",
    "print(f\"MAE cdrag original: {mae_cdrag}, MAE cdrag GPLearn: {mae_cdrag_gp} \")\n",
    "print(f\"MAPE cdrag original: {mape_cdrag*100}*100, MAPE cdrag GPLearn: {mape_cdrag_gp*100}*100 \")"
   ]
  },
  {
   "cell_type": "markdown",
   "metadata": {},
   "source": [
    "### Entrenar agregando potencias V4"
   ]
  },
  {
   "cell_type": "code",
   "execution_count": 38,
   "metadata": {},
   "outputs": [],
   "source": [
    "# * S ^(-0.2) * Pr\n",
    "def pot1(x1,x2):\n",
    "    with np.errstate(divide='ignore', invalid='ignore'):\n",
    "        result = np.where((x1 > 0) & (x2>0), x1**(-0.2)*x2, 0)\n",
    "    return result\n",
    "\n",
    "pot1_fn = make_function(function=pot1, \n",
    "                        name='pot1', \n",
    "                        arity=2)\n",
    "\n",
    "# 0.5*Re^(0.64) \n",
    "def pot2(x1):\n",
    "    with np.errstate(divide='ignore', invalid='ignore'):\n",
    "        result = np.where((x1 > 0) , 0.5*x1**(0.64), 0)\n",
    "    return result\n",
    "\n",
    "pot2_fn = make_function(function=pot2, \n",
    "                        name='pot2', \n",
    "                        arity=1)\n"
   ]
  },
  {
   "cell_type": "code",
   "execution_count": 39,
   "metadata": {},
   "outputs": [
    {
     "name": "stderr",
     "output_type": "stream",
     "text": [
      "d:\\env\\lib\\site-packages\\sklearn\\utils\\validation.py:1339: DataConversionWarning: A column-vector y was passed when a 1d array was expected. Please change the shape of y to (n_samples, ), for example using ravel().\n",
      "  y = column_or_1d(y, warn=True)\n"
     ]
    },
    {
     "name": "stdout",
     "output_type": "stream",
     "text": [
      "    |   Population Average    |             Best Individual              |\n",
      "---- ------------------------- ------------------------------------------ ----------\n",
      " Gen   Length          Fitness   Length          Fitness      OOB Fitness  Time Left\n",
      "   0    24.85      3.75924e+11        8          2.27472          2.31835     19.15m\n",
      "   1    18.24           144130       35          1.90703          1.93398     12.97m\n",
      "   2    25.53            28689       11          1.81943          1.84413     17.83m\n",
      "   3    45.30          15447.7       11          1.81137          1.91659     24.54m\n",
      "   4    27.54          6584.38       16          1.55501          1.52351     15.98m\n",
      "   5    21.27      1.83745e+07       16          1.55029          1.56591     12.34m\n",
      "   6    16.35          7812.12       16          1.54852          1.61831     10.56m\n",
      "   7    12.99           3417.8       16          1.54867          1.58055      8.25m\n",
      "   8    12.03          2422.51       16          1.54599          1.60465      7.38m\n",
      "   9    11.17          15319.3       16           1.5428          1.63335      6.81m\n",
      "  10    11.13          6429.65       16          1.54618          1.60295      6.42m\n",
      "  11    10.96          5925.26       11          1.54871          1.60717      5.68m\n",
      "  12    10.83          2790.11       11          1.54622          1.62952      4.49m\n",
      "  13    10.23          7136.53       11          1.54536          1.63732      3.65m\n",
      "  14     9.34          11673.5       11          1.54602          1.63134      3.06m\n",
      "  15     9.06          9051.11       11          1.54691          1.62334      2.28m\n",
      "  16     8.95          32710.6        9           1.5531          1.67992      1.74m\n",
      "  17     9.16          10631.4        9          1.54626          1.74143      1.25m\n",
      "  18     9.14          3363.54        9          1.55179          1.69168     33.10s\n",
      "  19     9.16          12724.3        9          1.55199          1.68989      0.00s\n",
      "Expresión: pot1(div(X0, pot2(0.631)), pot2(mul(X1, X2)))\n"
     ]
    }
   ],
   "source": [
    "# Modelo\n",
    "model = SymbolicRegressor(population_size=5000,\n",
    "                           generations=20, \n",
    "                           stopping_criteria=0.01,\n",
    "                           p_crossover=0.7, \n",
    "                           p_subtree_mutation=0.1,\n",
    "                           p_hoist_mutation=0.05, \n",
    "                           p_point_mutation=0.1,\n",
    "                           max_samples=0.9, \n",
    "                           verbose=1,\n",
    "                           parsimony_coefficient=0.01, \n",
    "                           random_state=123,\n",
    "                           function_set=['add', 'sub', 'mul', 'div',pot1_fn,pot2_fn])\n",
    "\n",
    "model.fit(X_train, y_train)\n",
    "\n",
    "# Obtener la expresión simbólica\n",
    "expression = model._program\n",
    "print(\"Expresión:\", expression)"
   ]
  },
  {
   "cell_type": "code",
   "execution_count": 40,
   "metadata": {},
   "outputs": [
    {
     "name": "stdout",
     "output_type": "stream",
     "text": [
      "MSE: 4.920381752448901\n",
      "R^2: 0.989855664222547\n"
     ]
    }
   ],
   "source": [
    "# Predecir en los datos de prueba\n",
    "y_pred = model.predict(X_test)\n",
    "\n",
    "# Calcular métricas\n",
    "mse = mean_squared_error(y_test, y_pred)\n",
    "r2 = r2_score(y_test, y_pred)\n",
    "\n",
    "print(\"MSE:\", mse)\n",
    "print(\"R^2:\", r2)"
   ]
  },
  {
   "cell_type": "code",
   "execution_count": 43,
   "metadata": {},
   "outputs": [
    {
     "data": {
      "text/html": [
       "<div>\n",
       "<style scoped>\n",
       "    .dataframe tbody tr th:only-of-type {\n",
       "        vertical-align: middle;\n",
       "    }\n",
       "\n",
       "    .dataframe tbody tr th {\n",
       "        vertical-align: top;\n",
       "    }\n",
       "\n",
       "    .dataframe thead th {\n",
       "        text-align: right;\n",
       "    }\n",
       "</style>\n",
       "<table border=\"1\" class=\"dataframe\">\n",
       "  <thead>\n",
       "    <tr style=\"text-align: right;\">\n",
       "      <th></th>\n",
       "      <th>K</th>\n",
       "      <th>Rem</th>\n",
       "      <th>prandtl</th>\n",
       "    </tr>\n",
       "  </thead>\n",
       "  <tbody>\n",
       "    <tr>\n",
       "      <th>0</th>\n",
       "      <td>0.6</td>\n",
       "      <td>2824.604561</td>\n",
       "      <td>0.709843</td>\n",
       "    </tr>\n",
       "    <tr>\n",
       "      <th>1</th>\n",
       "      <td>0.6</td>\n",
       "      <td>2824.604561</td>\n",
       "      <td>0.709843</td>\n",
       "    </tr>\n",
       "    <tr>\n",
       "      <th>2</th>\n",
       "      <td>0.6</td>\n",
       "      <td>2352.302465</td>\n",
       "      <td>0.709842</td>\n",
       "    </tr>\n",
       "    <tr>\n",
       "      <th>3</th>\n",
       "      <td>0.6</td>\n",
       "      <td>2000.632597</td>\n",
       "      <td>0.709842</td>\n",
       "    </tr>\n",
       "    <tr>\n",
       "      <th>4</th>\n",
       "      <td>0.6</td>\n",
       "      <td>1878.735604</td>\n",
       "      <td>0.709842</td>\n",
       "    </tr>\n",
       "    <tr>\n",
       "      <th>...</th>\n",
       "      <td>...</td>\n",
       "      <td>...</td>\n",
       "      <td>...</td>\n",
       "    </tr>\n",
       "    <tr>\n",
       "      <th>8605</th>\n",
       "      <td>1.2</td>\n",
       "      <td>9267.885175</td>\n",
       "      <td>0.707768</td>\n",
       "    </tr>\n",
       "    <tr>\n",
       "      <th>8606</th>\n",
       "      <td>1.2</td>\n",
       "      <td>8959.387980</td>\n",
       "      <td>0.707705</td>\n",
       "    </tr>\n",
       "    <tr>\n",
       "      <th>8607</th>\n",
       "      <td>1.2</td>\n",
       "      <td>8691.558442</td>\n",
       "      <td>0.707625</td>\n",
       "    </tr>\n",
       "    <tr>\n",
       "      <th>8608</th>\n",
       "      <td>1.2</td>\n",
       "      <td>8537.950633</td>\n",
       "      <td>0.707554</td>\n",
       "    </tr>\n",
       "    <tr>\n",
       "      <th>8609</th>\n",
       "      <td>1.2</td>\n",
       "      <td>8360.980275</td>\n",
       "      <td>0.707482</td>\n",
       "    </tr>\n",
       "  </tbody>\n",
       "</table>\n",
       "<p>8610 rows × 3 columns</p>\n",
       "</div>"
      ],
      "text/plain": [
       "        K          Rem   prandtl\n",
       "0     0.6  2824.604561  0.709843\n",
       "1     0.6  2824.604561  0.709843\n",
       "2     0.6  2352.302465  0.709842\n",
       "3     0.6  2000.632597  0.709842\n",
       "4     0.6  1878.735604  0.709842\n",
       "...   ...          ...       ...\n",
       "8605  1.2  9267.885175  0.707768\n",
       "8606  1.2  8959.387980  0.707705\n",
       "8607  1.2  8691.558442  0.707625\n",
       "8608  1.2  8537.950633  0.707554\n",
       "8609  1.2  8360.980275  0.707482\n",
       "\n",
       "[8610 rows x 3 columns]"
      ]
     },
     "execution_count": 43,
     "metadata": {},
     "output_type": "execute_result"
    }
   ],
   "source": [
    "X_test"
   ]
  },
  {
   "cell_type": "code",
   "execution_count": 41,
   "metadata": {},
   "outputs": [],
   "source": [
    "def nusselt(S, Re, Pr):\n",
    "    return 0.5 * S **(-0.2) * Re **(0.64) * Pr\n",
    "\n",
    "def nusselt_gp(S, Re, Pr):\n",
    "    return 0.425 * S**(-0.2) *(Re*Pr) **(0.64) "
   ]
  },
  {
   "cell_type": "code",
   "execution_count": 44,
   "metadata": {},
   "outputs": [
    {
     "data": {
      "text/html": [
       "<div>\n",
       "<style scoped>\n",
       "    .dataframe tbody tr th:only-of-type {\n",
       "        vertical-align: middle;\n",
       "    }\n",
       "\n",
       "    .dataframe tbody tr th {\n",
       "        vertical-align: top;\n",
       "    }\n",
       "\n",
       "    .dataframe thead th {\n",
       "        text-align: right;\n",
       "    }\n",
       "</style>\n",
       "<table border=\"1\" class=\"dataframe\">\n",
       "  <thead>\n",
       "    <tr style=\"text-align: right;\">\n",
       "      <th></th>\n",
       "      <th>nusselt</th>\n",
       "    </tr>\n",
       "  </thead>\n",
       "  <tbody>\n",
       "    <tr>\n",
       "      <th>0</th>\n",
       "      <td>61.165728</td>\n",
       "    </tr>\n",
       "    <tr>\n",
       "      <th>1</th>\n",
       "      <td>52.824696</td>\n",
       "    </tr>\n",
       "    <tr>\n",
       "      <th>2</th>\n",
       "      <td>50.527730</td>\n",
       "    </tr>\n",
       "    <tr>\n",
       "      <th>3</th>\n",
       "      <td>48.422178</td>\n",
       "    </tr>\n",
       "    <tr>\n",
       "      <th>4</th>\n",
       "      <td>48.421871</td>\n",
       "    </tr>\n",
       "    <tr>\n",
       "      <th>...</th>\n",
       "      <td>...</td>\n",
       "    </tr>\n",
       "    <tr>\n",
       "      <th>8605</th>\n",
       "      <td>108.036259</td>\n",
       "    </tr>\n",
       "    <tr>\n",
       "      <th>8606</th>\n",
       "      <td>104.910067</td>\n",
       "    </tr>\n",
       "    <tr>\n",
       "      <th>8607</th>\n",
       "      <td>105.201331</td>\n",
       "    </tr>\n",
       "    <tr>\n",
       "      <th>8608</th>\n",
       "      <td>107.374645</td>\n",
       "    </tr>\n",
       "    <tr>\n",
       "      <th>8609</th>\n",
       "      <td>100.891507</td>\n",
       "    </tr>\n",
       "  </tbody>\n",
       "</table>\n",
       "<p>8610 rows × 1 columns</p>\n",
       "</div>"
      ],
      "text/plain": [
       "         nusselt\n",
       "0      61.165728\n",
       "1      52.824696\n",
       "2      50.527730\n",
       "3      48.422178\n",
       "4      48.421871\n",
       "...          ...\n",
       "8605  108.036259\n",
       "8606  104.910067\n",
       "8607  105.201331\n",
       "8608  107.374645\n",
       "8609  100.891507\n",
       "\n",
       "[8610 rows x 1 columns]"
      ]
     },
     "execution_count": 44,
     "metadata": {},
     "output_type": "execute_result"
    }
   ],
   "source": []
  },
  {
   "cell_type": "code",
   "execution_count": 42,
   "metadata": {},
   "outputs": [
    {
     "name": "stdout",
     "output_type": "stream",
     "text": [
      "R^2 cdrag original: 0.9509992536047758, R^2 cdrag GPLearn: 0.9834064526321625 \n",
      "MSE cdrag original: 23.767192225174124, MSE cdrag GPLearn: 8.048490257841516 \n",
      "MAE cdrag original: 4.174721418276441, MAE cdrag GPLearn: 2.204764220777838 \n",
      "MAPE cdrag original: 7.197154998836116*100, MAPE cdrag GPLearn: 3.8382421591454543*100 \n"
     ]
    }
   ],
   "source": [
    "# Calcular cdrag_pred y cdrag_gp_pred en vectores separados\n",
    "cdrag_pred = X_test.apply(lambda row: nusselt(row['K'], row['Rem'], row['prandtl']), axis=1).values\n",
    "cdrag_gp_pred = X_test.apply(lambda row: nusselt_gp(row['K'], row['Rem'], row['prandtl']), axis=1).values\n",
    "\n",
    "# Calcular R^2 y MSE para cdrag\n",
    "r2_cdrag = r2_score(y_test['nusselt'], cdrag_pred)\n",
    "mse_cdrag = mean_squared_error(y_test['nusselt'], cdrag_pred)\n",
    "\n",
    "# Calcular MAE y MAPE para cdrag\n",
    "mae_cdrag = mean_absolute_error(y_test['nusselt'], cdrag_pred)\n",
    "mape_cdrag = mean_absolute_percentage_error(y_test['nusselt'], cdrag_pred)\n",
    "\n",
    "# Calcular R^2 y MSE para cdrag_gp\n",
    "r2_cdrag_gp = r2_score(y_test['nusselt'], cdrag_gp_pred)\n",
    "mse_cdrag_gp = mean_squared_error(y_test['nusselt'], cdrag_gp_pred)\n",
    "\n",
    "# Calcular MAE y MAPE para cdrag_gp\n",
    "mae_cdrag_gp = mean_absolute_error(y_test['nusselt'], cdrag_gp_pred)\n",
    "mape_cdrag_gp = mean_absolute_percentage_error(y_test['nusselt'], cdrag_gp_pred)\n",
    "\n",
    "#  Mostrar Metricas \n",
    "\n",
    "print(f\"R^2 cdrag original: {r2_cdrag}, R^2 cdrag GPLearn: {r2_cdrag_gp} \")\n",
    "print(f\"MSE cdrag original: {mse_cdrag}, MSE cdrag GPLearn: {mse_cdrag_gp} \")\n",
    "print(f\"MAE cdrag original: {mae_cdrag}, MAE cdrag GPLearn: {mae_cdrag_gp} \")\n",
    "print(f\"MAPE cdrag original: {mape_cdrag*100}*100, MAPE cdrag GPLearn: {mape_cdrag_gp*100}*100 \")"
   ]
  },
  {
   "cell_type": "markdown",
   "metadata": {},
   "source": [
    "### Entrenar agregando potencias V4"
   ]
  },
  {
   "cell_type": "code",
   "execution_count": 46,
   "metadata": {},
   "outputs": [],
   "source": [
    "# 0.5 * S ^(-0.2) * Pr\n",
    "def pot1(x1,x2):\n",
    "    with np.errstate(divide='ignore', invalid='ignore'):\n",
    "        result = np.where((x1 > 0) & (x2>0),0.5*x1**(-0.2)*x2, 0)\n",
    "    return result\n",
    "\n",
    "pot1_fn = make_function(function=pot1, \n",
    "                        name='pot1', \n",
    "                        arity=2)\n",
    "\n",
    "# Re^(0.64) \n",
    "def pot2(x1):\n",
    "    with np.errstate(divide='ignore', invalid='ignore'):\n",
    "        result = np.where((x1 > 0) , x1**(0.64), 0)\n",
    "    return result\n",
    "\n",
    "pot2_fn = make_function(function=pot2, \n",
    "                        name='pot2', \n",
    "                        arity=1)"
   ]
  },
  {
   "cell_type": "code",
   "execution_count": 47,
   "metadata": {},
   "outputs": [
    {
     "name": "stderr",
     "output_type": "stream",
     "text": [
      "d:\\env\\lib\\site-packages\\sklearn\\utils\\validation.py:1339: DataConversionWarning: A column-vector y was passed when a 1d array was expected. Please change the shape of y to (n_samples, ), for example using ravel().\n",
      "  y = column_or_1d(y, warn=True)\n"
     ]
    },
    {
     "name": "stdout",
     "output_type": "stream",
     "text": [
      "    |   Population Average    |             Best Individual              |\n",
      "---- ------------------------- ------------------------------------------ ----------\n",
      " Gen   Length          Fitness   Length          Fitness      OOB Fitness  Time Left\n",
      "   0    24.85      2.63625e+11       28          2.13181          2.13015     17.50m\n",
      "   1    22.52       1.0166e+07       24          1.71166          1.70853     14.45m\n",
      "   2    28.67           123170       24          1.70518          1.76685     19.13m\n",
      "   3    27.14          10805.9       11            1.544           1.5088     15.15m\n",
      "   4    26.88          8492.31       11          1.53039          1.63125     14.78m\n",
      "   5    22.10      1.83723e+07       11          1.53442          1.59497     11.13m\n",
      "   6    14.49      1.95097e+06       11          1.53082          1.62744      7.79m\n",
      "   7    10.37          6396.48       11          1.52825          1.65051      6.65m\n",
      "   8    10.03          2480.13       11          1.52442            1.685      6.71m\n",
      "   9     8.48          8626.56        7          1.52586          1.67279      6.10m\n",
      "  10     7.39          10231.5        7          1.52746          1.65839      5.37m\n",
      "  11     7.10          1775.49        7          1.52594          1.67204      4.93m\n",
      "  12     7.17          8423.47        7          1.52505          1.68006      4.25m\n",
      "  13     7.11          6456.02        7           1.5269          1.66343      3.87m\n",
      "  14     7.02          8430.94        7           1.5216          1.71116      2.97m\n",
      "  15     7.07          387.845        7          1.52702          1.66236      2.40m\n",
      "  16     7.00          26548.1        7          1.52812          1.65246      1.78m\n",
      "  17     7.09          11195.2        7          1.52778          1.65555      1.21m\n",
      "  18     7.12          9607.42        7          1.52571          1.67415     36.02s\n",
      "  19     7.10          6905.65        7          1.52555          1.67559      0.00s\n",
      "Expresión: pot1(X0, pot2(pot1(pot2(X2), X1)))\n"
     ]
    }
   ],
   "source": [
    "# Modelo\n",
    "model = SymbolicRegressor(population_size=5000,\n",
    "                           generations=20, \n",
    "                           stopping_criteria=0.01,\n",
    "                           p_crossover=0.7, \n",
    "                           p_subtree_mutation=0.1,\n",
    "                           p_hoist_mutation=0.05, \n",
    "                           p_point_mutation=0.1,\n",
    "                           max_samples=0.9, \n",
    "                           verbose=1,\n",
    "                           parsimony_coefficient=0.01, \n",
    "                           random_state=123,\n",
    "                           function_set=['add', 'sub', 'mul', 'div',pot1_fn,pot2_fn])\n",
    "\n",
    "model.fit(X_train, y_train)\n",
    "\n",
    "# Obtener la expresión simbólica\n",
    "expression = model._program\n",
    "print(\"Expresión:\", expression)"
   ]
  },
  {
   "cell_type": "code",
   "execution_count": 48,
   "metadata": {},
   "outputs": [
    {
     "name": "stdout",
     "output_type": "stream",
     "text": [
      "MSE: 4.744489424390825\n",
      "R^2: 0.9902183008890233\n"
     ]
    }
   ],
   "source": [
    "# Predecir en los datos de prueba\n",
    "y_pred = model.predict(X_test)\n",
    "\n",
    "# Calcular métricas\n",
    "mse = mean_squared_error(y_test, y_pred)\n",
    "r2 = r2_score(y_test, y_pred)\n",
    "\n",
    "print(\"MSE:\", mse)\n",
    "print(\"R^2:\", r2)"
   ]
  },
  {
   "cell_type": "code",
   "execution_count": 49,
   "metadata": {},
   "outputs": [],
   "source": [
    "def nusselt(S, Re, Pr):\n",
    "    return 0.5 * S **(-0.2) * Re **(0.64) * Pr\n",
    "\n",
    "def nusselt_gp(S, Re, Pr):\n",
    "    return 0.637*S* Re**(-0.128)*Pr**(0.0164)"
   ]
  },
  {
   "cell_type": "code",
   "execution_count": 51,
   "metadata": {},
   "outputs": [
    {
     "data": {
      "text/html": [
       "<div>\n",
       "<style scoped>\n",
       "    .dataframe tbody tr th:only-of-type {\n",
       "        vertical-align: middle;\n",
       "    }\n",
       "\n",
       "    .dataframe tbody tr th {\n",
       "        vertical-align: top;\n",
       "    }\n",
       "\n",
       "    .dataframe thead th {\n",
       "        text-align: right;\n",
       "    }\n",
       "</style>\n",
       "<table border=\"1\" class=\"dataframe\">\n",
       "  <thead>\n",
       "    <tr style=\"text-align: right;\">\n",
       "      <th></th>\n",
       "      <th>K</th>\n",
       "      <th>Rem</th>\n",
       "      <th>prandtl</th>\n",
       "    </tr>\n",
       "  </thead>\n",
       "  <tbody>\n",
       "    <tr>\n",
       "      <th>0</th>\n",
       "      <td>0.6</td>\n",
       "      <td>2824.604561</td>\n",
       "      <td>0.709843</td>\n",
       "    </tr>\n",
       "    <tr>\n",
       "      <th>1</th>\n",
       "      <td>0.6</td>\n",
       "      <td>2824.604561</td>\n",
       "      <td>0.709843</td>\n",
       "    </tr>\n",
       "    <tr>\n",
       "      <th>2</th>\n",
       "      <td>0.6</td>\n",
       "      <td>2352.302465</td>\n",
       "      <td>0.709842</td>\n",
       "    </tr>\n",
       "    <tr>\n",
       "      <th>3</th>\n",
       "      <td>0.6</td>\n",
       "      <td>2000.632597</td>\n",
       "      <td>0.709842</td>\n",
       "    </tr>\n",
       "    <tr>\n",
       "      <th>4</th>\n",
       "      <td>0.6</td>\n",
       "      <td>1878.735604</td>\n",
       "      <td>0.709842</td>\n",
       "    </tr>\n",
       "    <tr>\n",
       "      <th>...</th>\n",
       "      <td>...</td>\n",
       "      <td>...</td>\n",
       "      <td>...</td>\n",
       "    </tr>\n",
       "    <tr>\n",
       "      <th>8605</th>\n",
       "      <td>1.2</td>\n",
       "      <td>9267.885175</td>\n",
       "      <td>0.707768</td>\n",
       "    </tr>\n",
       "    <tr>\n",
       "      <th>8606</th>\n",
       "      <td>1.2</td>\n",
       "      <td>8959.387980</td>\n",
       "      <td>0.707705</td>\n",
       "    </tr>\n",
       "    <tr>\n",
       "      <th>8607</th>\n",
       "      <td>1.2</td>\n",
       "      <td>8691.558442</td>\n",
       "      <td>0.707625</td>\n",
       "    </tr>\n",
       "    <tr>\n",
       "      <th>8608</th>\n",
       "      <td>1.2</td>\n",
       "      <td>8537.950633</td>\n",
       "      <td>0.707554</td>\n",
       "    </tr>\n",
       "    <tr>\n",
       "      <th>8609</th>\n",
       "      <td>1.2</td>\n",
       "      <td>8360.980275</td>\n",
       "      <td>0.707482</td>\n",
       "    </tr>\n",
       "  </tbody>\n",
       "</table>\n",
       "<p>8610 rows × 3 columns</p>\n",
       "</div>"
      ],
      "text/plain": [
       "        K          Rem   prandtl\n",
       "0     0.6  2824.604561  0.709843\n",
       "1     0.6  2824.604561  0.709843\n",
       "2     0.6  2352.302465  0.709842\n",
       "3     0.6  2000.632597  0.709842\n",
       "4     0.6  1878.735604  0.709842\n",
       "...   ...          ...       ...\n",
       "8605  1.2  9267.885175  0.707768\n",
       "8606  1.2  8959.387980  0.707705\n",
       "8607  1.2  8691.558442  0.707625\n",
       "8608  1.2  8537.950633  0.707554\n",
       "8609  1.2  8360.980275  0.707482\n",
       "\n",
       "[8610 rows x 3 columns]"
      ]
     },
     "execution_count": 51,
     "metadata": {},
     "output_type": "execute_result"
    }
   ],
   "source": [
    "X_test"
   ]
  },
  {
   "cell_type": "code",
   "execution_count": 50,
   "metadata": {},
   "outputs": [
    {
     "name": "stdout",
     "output_type": "stream",
     "text": [
      "R^2 cdrag original: 0.9509992536047758, R^2 cdrag GPLearn: -7.167198468899336 \n",
      "MSE cdrag original: 23.767192225174124, MSE cdrag GPLearn: 3961.3963098814575 \n",
      "MAE cdrag original: 4.174721418276441, MAE cdrag GPLearn: 58.95491430680741 \n",
      "MAPE cdrag original: 7.197154998836116*100, MAPE cdrag GPLearn: 99.56965531230732*100 \n"
     ]
    }
   ],
   "source": [
    "# Calcular cdrag_pred y cdrag_gp_pred en vectores separados\n",
    "cdrag_pred = X_test.apply(lambda row: nusselt(row['K'], row['Rem'], row['prandtl']), axis=1).values\n",
    "cdrag_gp_pred = X_test.apply(lambda row: nusselt_gp(row['K'], row['Rem'], row['prandtl']), axis=1).values\n",
    "\n",
    "# Calcular R^2 y MSE para cdrag\n",
    "r2_cdrag = r2_score(y_test['nusselt'], cdrag_pred)\n",
    "mse_cdrag = mean_squared_error(y_test['nusselt'], cdrag_pred)\n",
    "\n",
    "# Calcular MAE y MAPE para cdrag\n",
    "mae_cdrag = mean_absolute_error(y_test['nusselt'], cdrag_pred)\n",
    "mape_cdrag = mean_absolute_percentage_error(y_test['nusselt'], cdrag_pred)\n",
    "\n",
    "# Calcular R^2 y MSE para cdrag_gp\n",
    "r2_cdrag_gp = r2_score(y_test['nusselt'], cdrag_gp_pred)\n",
    "mse_cdrag_gp = mean_squared_error(y_test['nusselt'], cdrag_gp_pred)\n",
    "\n",
    "# Calcular MAE y MAPE para cdrag_gp\n",
    "mae_cdrag_gp = mean_absolute_error(y_test['nusselt'], cdrag_gp_pred)\n",
    "mape_cdrag_gp = mean_absolute_percentage_error(y_test['nusselt'], cdrag_gp_pred)\n",
    "\n",
    "#  Mostrar Metricas \n",
    "\n",
    "print(f\"R^2 cdrag original: {r2_cdrag}, R^2 cdrag GPLearn: {r2_cdrag_gp} \")\n",
    "print(f\"MSE cdrag original: {mse_cdrag}, MSE cdrag GPLearn: {mse_cdrag_gp} \")\n",
    "print(f\"MAE cdrag original: {mae_cdrag}, MAE cdrag GPLearn: {mae_cdrag_gp} \")\n",
    "print(f\"MAPE cdrag original: {mape_cdrag*100}*100, MAPE cdrag GPLearn: {mape_cdrag_gp*100}*100 \")"
   ]
  }
 ],
 "metadata": {
  "kernelspec": {
   "display_name": "env",
   "language": "python",
   "name": "python3"
  },
  "language_info": {
   "codemirror_mode": {
    "name": "ipython",
    "version": 3
   },
   "file_extension": ".py",
   "mimetype": "text/x-python",
   "name": "python",
   "nbconvert_exporter": "python",
   "pygments_lexer": "ipython3",
   "version": "3.10.4"
  }
 },
 "nbformat": 4,
 "nbformat_minor": 2
}
