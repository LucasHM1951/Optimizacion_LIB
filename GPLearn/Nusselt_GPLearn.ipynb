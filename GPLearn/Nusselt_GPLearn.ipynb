{
  "cells": [
    {
      "cell_type": "markdown",
      "metadata": {
        "id": "9vJYSGHOI3ZE"
      },
      "source": [
        "# Numero de Nusselt"
      ]
    },
    {
      "cell_type": "code",
      "execution_count": null,
      "metadata": {
        "colab": {
          "base_uri": "https://localhost:8080/"
        },
        "id": "My_mEnZfJFb6",
        "outputId": "bafdf32d-cfc4-4f61-be50-e705caf1d0b6"
      },
      "outputs": [
        {
          "output_type": "stream",
          "name": "stdout",
          "text": [
            "Collecting gplearn\n",
            "  Downloading gplearn-0.4.2-py3-none-any.whl.metadata (4.3 kB)\n",
            "Requirement already satisfied: scikit-learn>=1.0.2 in /usr/local/lib/python3.10/dist-packages (from gplearn) (1.3.2)\n",
            "Requirement already satisfied: joblib>=1.0.0 in /usr/local/lib/python3.10/dist-packages (from gplearn) (1.4.2)\n",
            "Requirement already satisfied: numpy<2.0,>=1.17.3 in /usr/local/lib/python3.10/dist-packages (from scikit-learn>=1.0.2->gplearn) (1.26.4)\n",
            "Requirement already satisfied: scipy>=1.5.0 in /usr/local/lib/python3.10/dist-packages (from scikit-learn>=1.0.2->gplearn) (1.13.1)\n",
            "Requirement already satisfied: threadpoolctl>=2.0.0 in /usr/local/lib/python3.10/dist-packages (from scikit-learn>=1.0.2->gplearn) (3.5.0)\n",
            "Downloading gplearn-0.4.2-py3-none-any.whl (25 kB)\n",
            "Installing collected packages: gplearn\n",
            "Successfully installed gplearn-0.4.2\n"
          ]
        }
      ],
      "source": [
        "!pip install gplearn"
      ]
    },
    {
      "cell_type": "code",
      "execution_count": null,
      "metadata": {
        "colab": {
          "base_uri": "https://localhost:8080/"
        },
        "id": "A2Q3gKneJMC6",
        "outputId": "4aa4bd63-a933-4bd5-f596-4b71d41be9a9"
      },
      "outputs": [
        {
          "output_type": "stream",
          "name": "stdout",
          "text": [
            "Mounted at /content/drive\n"
          ]
        }
      ],
      "source": [
        "from google.colab import drive\n",
        "drive.mount('/content/drive')"
      ]
    },
    {
      "cell_type": "code",
      "execution_count": null,
      "metadata": {
        "colab": {
          "base_uri": "https://localhost:8080/"
        },
        "id": "aAI_kclXJkpV",
        "outputId": "e7b21288-93d3-4cab-d9df-e016137427f7"
      },
      "outputs": [
        {
          "output_type": "stream",
          "name": "stdout",
          "text": [
            "/content/drive/MyDrive/Memoria/Data\n"
          ]
        }
      ],
      "source": [
        "cd /content/drive/MyDrive/Memoria/Data/"
      ]
    },
    {
      "cell_type": "code",
      "execution_count": null,
      "metadata": {
        "id": "MhKEnXw5I3ZG"
      },
      "outputs": [],
      "source": [
        "import pandas as pd\n",
        "import matplotlib\n",
        "from gplearn.genetic import SymbolicRegressor\n",
        "from gplearn.functions import make_function\n",
        "from sklearn.ensemble import RandomForestRegressor\n",
        "from sklearn.tree import DecisionTreeRegressor\n",
        "from sklearn.utils.random import check_random_state\n",
        "from sklearn.metrics import mean_absolute_error, mean_absolute_percentage_error, mean_squared_error, r2_score\n",
        "from mpl_toolkits.mplot3d import Axes3D\n",
        "import matplotlib.pyplot as plt\n",
        "import numpy as np\n",
        "from sklearn.tree import export_graphviz\n",
        "import graphviz\n",
        "import pandas as pd\n"
      ]
    },
    {
      "cell_type": "code",
      "execution_count": null,
      "metadata": {
        "id": "pLRaOfFbI3ZI"
      },
      "outputs": [],
      "source": [
        "# cargando datos\n",
        "\n",
        "# importacion de DF\n",
        "file_path = 'df_n_25.txt'\n",
        "df_n_25 = pd.read_csv(file_path, delimiter=',')\n",
        "\n",
        "file_path = 'df_n_53.txt'\n",
        "df_n_53 = pd.read_csv(file_path, delimiter=',')\n",
        "\n",
        "file_path = 'df_n_74.txt'\n",
        "df_n_74 = pd.read_csv(file_path, delimiter=',')\n",
        "\n",
        "file_path = 'df_n_102.txt'\n",
        "df_n_102 = pd.read_csv(file_path, delimiter=',')"
      ]
    },
    {
      "cell_type": "code",
      "execution_count": null,
      "metadata": {
        "id": "8KBC0FitI3ZJ"
      },
      "outputs": [],
      "source": [
        "# definiendo conjuntos de train y test\n",
        "\n",
        "# definiendo conjunto de train\n",
        "df_n_train = pd.concat([df_n_25, df_n_74], ignore_index=True)\n",
        "\n",
        "# separando entre x e y\n",
        "y_train = df_n_train.drop(columns=['Current','K','Flujo','t_viento','Diametro','col_fluido','col_celda','n_fluido','n_celda','Rem','prandtl','colIndex'])\n",
        "X_train = df_n_train.drop(columns=['Current','Flujo','t_viento','Diametro','col_fluido','col_celda','n_fluido','n_celda','colIndex','nusselt'])\n",
        "\n",
        "\n",
        "# definiendo conjunto de test\n",
        "\n",
        "y_test = df_n_53.drop(columns=['Current','K','Flujo','t_viento','Diametro','col_fluido','col_celda','n_fluido','n_celda','Rem','prandtl','colIndex'])\n",
        "X_test = df_n_53.drop(columns=['Current','Flujo','t_viento','Diametro','col_fluido','col_celda','n_fluido','n_celda','colIndex','nusselt'])\n",
        "\n",
        "y_train = y_train.values.ravel()"
      ]
    },
    {
      "cell_type": "markdown",
      "metadata": {
        "id": "Ltk79FwoI3ZJ"
      },
      "source": [
        "### Entrenar modelo original"
      ]
    },
    {
      "cell_type": "code",
      "execution_count": null,
      "metadata": {
        "id": "J9aM83aaI3ZK",
        "outputId": "1ba5042e-40d4-4d80-c896-b4ff217c5029"
      },
      "outputs": [
        {
          "name": "stderr",
          "output_type": "stream",
          "text": [
            "d:\\env\\lib\\site-packages\\sklearn\\utils\\validation.py:1339: DataConversionWarning: A column-vector y was passed when a 1d array was expected. Please change the shape of y to (n_samples, ), for example using ravel().\n",
            "  y = column_or_1d(y, warn=True)\n"
          ]
        },
        {
          "name": "stdout",
          "output_type": "stream",
          "text": [
            "    |   Population Average    |             Best Individual              |\n",
            "---- ------------------------- ------------------------------------------ ----------\n",
            " Gen   Length          Fitness   Length          Fitness      OOB Fitness  Time Left\n",
            "   0    32.83      4.89184e+31       31          11.7311            11.78     17.84m\n",
            "   1    17.97      6.65547e+15       31          9.48876          9.30918     10.14m\n",
            "   2    26.49      4.08048e+09       27          6.99431          6.97922     10.41m\n",
            "   3    30.02      1.92981e+13       27          7.00878          6.84901     11.08m\n",
            "   4    29.69       1.2269e+11       27          6.93223          7.53787      9.77m\n",
            "   5    32.47       4.5187e+07       25          6.67603          6.71544     10.18m\n",
            "   6    35.73       1.3954e+09       67          3.30332          3.29504     10.31m\n",
            "   7    38.75      1.40532e+10       57          3.24255          3.28773     11.61m\n",
            "   8    38.52      7.44973e+07       57          3.23477          3.35773     10.30m\n",
            "   9    43.14      1.16198e+08       77          2.43765            2.377     15.41m\n",
            "  10    63.16      1.06491e+10       61           2.2577          2.25474     10.94m\n",
            "  11    69.53      2.85628e+07       67           2.1622           2.1599      9.70m\n",
            "  12    69.45      2.38197e+10       81          2.11824          2.09017      9.22m\n",
            "  13    71.04      5.14839e+10      119          2.05728          2.02094      8.97m\n",
            "  14    68.60       3.9951e+07      119          2.05196           2.0688      8.00m\n",
            "  15    64.62      2.09058e+07       67          2.09549          2.19811      7.48m\n",
            "  16    61.48      1.44958e+07       71          2.09104          2.23829      6.58m\n",
            "  17    59.14           805851       71          2.08622          2.15044      6.15m\n",
            "  18    55.00       1.6344e+07       63          2.08811           2.2588      4.97m\n",
            "  19    51.52      2.51768e+07      101          2.08149          2.08079      4.71m\n",
            "  20    48.46      1.92449e+08       59          2.07987          2.07116      4.21m\n",
            "  21    46.39      2.79738e+08       49          2.08112          2.09479      3.38m\n",
            "  22    45.06      1.57305e+09       63          2.06245          2.17111      2.93m\n"
          ]
        },
        {
          "ename": "KeyboardInterrupt",
          "evalue": "",
          "output_type": "error",
          "traceback": [
            "\u001b[1;31m---------------------------------------------------------------------------\u001b[0m",
            "\u001b[1;31mKeyboardInterrupt\u001b[0m                         Traceback (most recent call last)",
            "Cell \u001b[1;32mIn[10], line 17\u001b[0m\n\u001b[0;32m      1\u001b[0m \u001b[38;5;66;03m# entrenando modelo \u001b[39;00m\n\u001b[0;32m      2\u001b[0m \n\u001b[0;32m      3\u001b[0m \u001b[38;5;66;03m# Modelo\u001b[39;00m\n\u001b[0;32m      4\u001b[0m model \u001b[38;5;241m=\u001b[39m SymbolicRegressor(population_size\u001b[38;5;241m=\u001b[39m\u001b[38;5;241m5000\u001b[39m,\n\u001b[0;32m      5\u001b[0m                            generations\u001b[38;5;241m=\u001b[39m\u001b[38;5;241m30\u001b[39m, \n\u001b[0;32m      6\u001b[0m                            stopping_criteria\u001b[38;5;241m=\u001b[39m\u001b[38;5;241m0.01\u001b[39m,\n\u001b[1;32m   (...)\u001b[0m\n\u001b[0;32m     14\u001b[0m                            random_state\u001b[38;5;241m=\u001b[39m\u001b[38;5;241m123\u001b[39m,\n\u001b[0;32m     15\u001b[0m                            function_set\u001b[38;5;241m=\u001b[39m[\u001b[38;5;124m'\u001b[39m\u001b[38;5;124madd\u001b[39m\u001b[38;5;124m'\u001b[39m, \u001b[38;5;124m'\u001b[39m\u001b[38;5;124msub\u001b[39m\u001b[38;5;124m'\u001b[39m, \u001b[38;5;124m'\u001b[39m\u001b[38;5;124mmul\u001b[39m\u001b[38;5;124m'\u001b[39m, \u001b[38;5;124m'\u001b[39m\u001b[38;5;124mdiv\u001b[39m\u001b[38;5;124m'\u001b[39m])\n\u001b[1;32m---> 17\u001b[0m \u001b[43mmodel\u001b[49m\u001b[38;5;241;43m.\u001b[39;49m\u001b[43mfit\u001b[49m\u001b[43m(\u001b[49m\u001b[43mX_train\u001b[49m\u001b[43m,\u001b[49m\u001b[43m \u001b[49m\u001b[43my_train\u001b[49m\u001b[43m)\u001b[49m\n\u001b[0;32m     19\u001b[0m \u001b[38;5;66;03m# Obtener la expresión simbólica\u001b[39;00m\n\u001b[0;32m     20\u001b[0m expression \u001b[38;5;241m=\u001b[39m model\u001b[38;5;241m.\u001b[39m_program\n",
            "File \u001b[1;32md:\\env\\lib\\site-packages\\gplearn\\genetic.py:476\u001b[0m, in \u001b[0;36mBaseSymbolic.fit\u001b[1;34m(self, X, y, sample_weight)\u001b[0m\n\u001b[0;32m    472\u001b[0m n_jobs, n_programs, starts \u001b[38;5;241m=\u001b[39m _partition_estimators(\n\u001b[0;32m    473\u001b[0m     \u001b[38;5;28mself\u001b[39m\u001b[38;5;241m.\u001b[39mpopulation_size, \u001b[38;5;28mself\u001b[39m\u001b[38;5;241m.\u001b[39mn_jobs)\n\u001b[0;32m    474\u001b[0m seeds \u001b[38;5;241m=\u001b[39m random_state\u001b[38;5;241m.\u001b[39mrandint(MAX_INT, size\u001b[38;5;241m=\u001b[39m\u001b[38;5;28mself\u001b[39m\u001b[38;5;241m.\u001b[39mpopulation_size)\n\u001b[1;32m--> 476\u001b[0m population \u001b[38;5;241m=\u001b[39m \u001b[43mParallel\u001b[49m\u001b[43m(\u001b[49m\u001b[43mn_jobs\u001b[49m\u001b[38;5;241;43m=\u001b[39;49m\u001b[43mn_jobs\u001b[49m\u001b[43m,\u001b[49m\n\u001b[0;32m    477\u001b[0m \u001b[43m                      \u001b[49m\u001b[43mverbose\u001b[49m\u001b[38;5;241;43m=\u001b[39;49m\u001b[38;5;28;43mint\u001b[39;49m\u001b[43m(\u001b[49m\u001b[38;5;28;43mself\u001b[39;49m\u001b[38;5;241;43m.\u001b[39;49m\u001b[43mverbose\u001b[49m\u001b[43m \u001b[49m\u001b[38;5;241;43m>\u001b[39;49m\u001b[43m \u001b[49m\u001b[38;5;241;43m1\u001b[39;49m\u001b[43m)\u001b[49m\u001b[43m)\u001b[49m\u001b[43m(\u001b[49m\n\u001b[0;32m    478\u001b[0m \u001b[43m    \u001b[49m\u001b[43mdelayed\u001b[49m\u001b[43m(\u001b[49m\u001b[43m_parallel_evolve\u001b[49m\u001b[43m)\u001b[49m\u001b[43m(\u001b[49m\u001b[43mn_programs\u001b[49m\u001b[43m[\u001b[49m\u001b[43mi\u001b[49m\u001b[43m]\u001b[49m\u001b[43m,\u001b[49m\n\u001b[0;32m    479\u001b[0m \u001b[43m                              \u001b[49m\u001b[43mparents\u001b[49m\u001b[43m,\u001b[49m\n\u001b[0;32m    480\u001b[0m \u001b[43m                              \u001b[49m\u001b[43mX\u001b[49m\u001b[43m,\u001b[49m\n\u001b[0;32m    481\u001b[0m \u001b[43m                              \u001b[49m\u001b[43my\u001b[49m\u001b[43m,\u001b[49m\n\u001b[0;32m    482\u001b[0m \u001b[43m                              \u001b[49m\u001b[43msample_weight\u001b[49m\u001b[43m,\u001b[49m\n\u001b[0;32m    483\u001b[0m \u001b[43m                              \u001b[49m\u001b[43mseeds\u001b[49m\u001b[43m[\u001b[49m\u001b[43mstarts\u001b[49m\u001b[43m[\u001b[49m\u001b[43mi\u001b[49m\u001b[43m]\u001b[49m\u001b[43m:\u001b[49m\u001b[43mstarts\u001b[49m\u001b[43m[\u001b[49m\u001b[43mi\u001b[49m\u001b[43m \u001b[49m\u001b[38;5;241;43m+\u001b[39;49m\u001b[43m \u001b[49m\u001b[38;5;241;43m1\u001b[39;49m\u001b[43m]\u001b[49m\u001b[43m]\u001b[49m\u001b[43m,\u001b[49m\n\u001b[0;32m    484\u001b[0m \u001b[43m                              \u001b[49m\u001b[43mparams\u001b[49m\u001b[43m)\u001b[49m\n\u001b[0;32m    485\u001b[0m \u001b[43m    \u001b[49m\u001b[38;5;28;43;01mfor\u001b[39;49;00m\u001b[43m \u001b[49m\u001b[43mi\u001b[49m\u001b[43m \u001b[49m\u001b[38;5;129;43;01min\u001b[39;49;00m\u001b[43m \u001b[49m\u001b[38;5;28;43mrange\u001b[39;49m\u001b[43m(\u001b[49m\u001b[43mn_jobs\u001b[49m\u001b[43m)\u001b[49m\u001b[43m)\u001b[49m\n\u001b[0;32m    487\u001b[0m \u001b[38;5;66;03m# Reduce, maintaining order across different n_jobs\u001b[39;00m\n\u001b[0;32m    488\u001b[0m population \u001b[38;5;241m=\u001b[39m \u001b[38;5;28mlist\u001b[39m(itertools\u001b[38;5;241m.\u001b[39mchain\u001b[38;5;241m.\u001b[39mfrom_iterable(population))\n",
            "File \u001b[1;32md:\\env\\lib\\site-packages\\joblib\\parallel.py:1918\u001b[0m, in \u001b[0;36mParallel.__call__\u001b[1;34m(self, iterable)\u001b[0m\n\u001b[0;32m   1916\u001b[0m     output \u001b[38;5;241m=\u001b[39m \u001b[38;5;28mself\u001b[39m\u001b[38;5;241m.\u001b[39m_get_sequential_output(iterable)\n\u001b[0;32m   1917\u001b[0m     \u001b[38;5;28mnext\u001b[39m(output)\n\u001b[1;32m-> 1918\u001b[0m     \u001b[38;5;28;01mreturn\u001b[39;00m output \u001b[38;5;28;01mif\u001b[39;00m \u001b[38;5;28mself\u001b[39m\u001b[38;5;241m.\u001b[39mreturn_generator \u001b[38;5;28;01melse\u001b[39;00m \u001b[38;5;28;43mlist\u001b[39;49m\u001b[43m(\u001b[49m\u001b[43moutput\u001b[49m\u001b[43m)\u001b[49m\n\u001b[0;32m   1920\u001b[0m \u001b[38;5;66;03m# Let's create an ID that uniquely identifies the current call. If the\u001b[39;00m\n\u001b[0;32m   1921\u001b[0m \u001b[38;5;66;03m# call is interrupted early and that the same instance is immediately\u001b[39;00m\n\u001b[0;32m   1922\u001b[0m \u001b[38;5;66;03m# re-used, this id will be used to prevent workers that were\u001b[39;00m\n\u001b[0;32m   1923\u001b[0m \u001b[38;5;66;03m# concurrently finalizing a task from the previous call to run the\u001b[39;00m\n\u001b[0;32m   1924\u001b[0m \u001b[38;5;66;03m# callback.\u001b[39;00m\n\u001b[0;32m   1925\u001b[0m \u001b[38;5;28;01mwith\u001b[39;00m \u001b[38;5;28mself\u001b[39m\u001b[38;5;241m.\u001b[39m_lock:\n",
            "File \u001b[1;32md:\\env\\lib\\site-packages\\joblib\\parallel.py:1847\u001b[0m, in \u001b[0;36mParallel._get_sequential_output\u001b[1;34m(self, iterable)\u001b[0m\n\u001b[0;32m   1845\u001b[0m \u001b[38;5;28mself\u001b[39m\u001b[38;5;241m.\u001b[39mn_dispatched_batches \u001b[38;5;241m+\u001b[39m\u001b[38;5;241m=\u001b[39m \u001b[38;5;241m1\u001b[39m\n\u001b[0;32m   1846\u001b[0m \u001b[38;5;28mself\u001b[39m\u001b[38;5;241m.\u001b[39mn_dispatched_tasks \u001b[38;5;241m+\u001b[39m\u001b[38;5;241m=\u001b[39m \u001b[38;5;241m1\u001b[39m\n\u001b[1;32m-> 1847\u001b[0m res \u001b[38;5;241m=\u001b[39m func(\u001b[38;5;241m*\u001b[39margs, \u001b[38;5;241m*\u001b[39m\u001b[38;5;241m*\u001b[39mkwargs)\n\u001b[0;32m   1848\u001b[0m \u001b[38;5;28mself\u001b[39m\u001b[38;5;241m.\u001b[39mn_completed_tasks \u001b[38;5;241m+\u001b[39m\u001b[38;5;241m=\u001b[39m \u001b[38;5;241m1\u001b[39m\n\u001b[0;32m   1849\u001b[0m \u001b[38;5;28mself\u001b[39m\u001b[38;5;241m.\u001b[39mprint_progress()\n",
            "File \u001b[1;32md:\\env\\lib\\site-packages\\gplearn\\genetic.py:150\u001b[0m, in \u001b[0;36m_parallel_evolve\u001b[1;34m(n_programs, parents, X, y, sample_weight, seeds, params)\u001b[0m\n\u001b[0;32m    147\u001b[0m     program\u001b[38;5;241m.\u001b[39mraw_fitness_ \u001b[38;5;241m=\u001b[39m program\u001b[38;5;241m.\u001b[39mraw_fitness(X, y, curr_sample_weight)\n\u001b[0;32m    148\u001b[0m     \u001b[38;5;28;01mif\u001b[39;00m max_samples \u001b[38;5;241m<\u001b[39m n_samples:\n\u001b[0;32m    149\u001b[0m         \u001b[38;5;66;03m# Calculate OOB fitness\u001b[39;00m\n\u001b[1;32m--> 150\u001b[0m         program\u001b[38;5;241m.\u001b[39moob_fitness_ \u001b[38;5;241m=\u001b[39m \u001b[43mprogram\u001b[49m\u001b[38;5;241;43m.\u001b[39;49m\u001b[43mraw_fitness\u001b[49m\u001b[43m(\u001b[49m\u001b[43mX\u001b[49m\u001b[43m,\u001b[49m\u001b[43m \u001b[49m\u001b[43my\u001b[49m\u001b[43m,\u001b[49m\u001b[43m \u001b[49m\u001b[43moob_sample_weight\u001b[49m\u001b[43m)\u001b[49m\n\u001b[0;32m    152\u001b[0m     programs\u001b[38;5;241m.\u001b[39mappend(program)\n\u001b[0;32m    154\u001b[0m \u001b[38;5;28;01mreturn\u001b[39;00m programs\n",
            "File \u001b[1;32md:\\env\\lib\\site-packages\\gplearn\\_program.py:462\u001b[0m, in \u001b[0;36m_Program.raw_fitness\u001b[1;34m(self, X, y, sample_weight)\u001b[0m\n\u001b[0;32m    441\u001b[0m \u001b[38;5;28;01mdef\u001b[39;00m \u001b[38;5;21mraw_fitness\u001b[39m(\u001b[38;5;28mself\u001b[39m, X, y, sample_weight):\n\u001b[0;32m    442\u001b[0m \u001b[38;5;250m    \u001b[39m\u001b[38;5;124;03m\"\"\"Evaluate the raw fitness of the program according to X, y.\u001b[39;00m\n\u001b[0;32m    443\u001b[0m \n\u001b[0;32m    444\u001b[0m \u001b[38;5;124;03m    Parameters\u001b[39;00m\n\u001b[1;32m   (...)\u001b[0m\n\u001b[0;32m    460\u001b[0m \n\u001b[0;32m    461\u001b[0m \u001b[38;5;124;03m    \"\"\"\u001b[39;00m\n\u001b[1;32m--> 462\u001b[0m     y_pred \u001b[38;5;241m=\u001b[39m \u001b[38;5;28;43mself\u001b[39;49m\u001b[38;5;241;43m.\u001b[39;49m\u001b[43mexecute\u001b[49m\u001b[43m(\u001b[49m\u001b[43mX\u001b[49m\u001b[43m)\u001b[49m\n\u001b[0;32m    463\u001b[0m     \u001b[38;5;28;01mif\u001b[39;00m \u001b[38;5;28mself\u001b[39m\u001b[38;5;241m.\u001b[39mtransformer:\n\u001b[0;32m    464\u001b[0m         y_pred \u001b[38;5;241m=\u001b[39m \u001b[38;5;28mself\u001b[39m\u001b[38;5;241m.\u001b[39mtransformer(y_pred)\n",
            "File \u001b[1;32md:\\env\\lib\\site-packages\\gplearn\\_program.py:380\u001b[0m, in \u001b[0;36m_Program.execute\u001b[1;34m(self, X)\u001b[0m\n\u001b[0;32m    376\u001b[0m function \u001b[38;5;241m=\u001b[39m apply_stack[\u001b[38;5;241m-\u001b[39m\u001b[38;5;241m1\u001b[39m][\u001b[38;5;241m0\u001b[39m]\n\u001b[0;32m    377\u001b[0m terminals \u001b[38;5;241m=\u001b[39m [np\u001b[38;5;241m.\u001b[39mrepeat(t, X\u001b[38;5;241m.\u001b[39mshape[\u001b[38;5;241m0\u001b[39m]) \u001b[38;5;28;01mif\u001b[39;00m \u001b[38;5;28misinstance\u001b[39m(t, \u001b[38;5;28mfloat\u001b[39m)\n\u001b[0;32m    378\u001b[0m              \u001b[38;5;28;01melse\u001b[39;00m X[:, t] \u001b[38;5;28;01mif\u001b[39;00m \u001b[38;5;28misinstance\u001b[39m(t, \u001b[38;5;28mint\u001b[39m)\n\u001b[0;32m    379\u001b[0m              \u001b[38;5;28;01melse\u001b[39;00m t \u001b[38;5;28;01mfor\u001b[39;00m t \u001b[38;5;129;01min\u001b[39;00m apply_stack[\u001b[38;5;241m-\u001b[39m\u001b[38;5;241m1\u001b[39m][\u001b[38;5;241m1\u001b[39m:]]\n\u001b[1;32m--> 380\u001b[0m intermediate_result \u001b[38;5;241m=\u001b[39m \u001b[43mfunction\u001b[49m\u001b[43m(\u001b[49m\u001b[38;5;241;43m*\u001b[39;49m\u001b[43mterminals\u001b[49m\u001b[43m)\u001b[49m\n\u001b[0;32m    381\u001b[0m \u001b[38;5;28;01mif\u001b[39;00m \u001b[38;5;28mlen\u001b[39m(apply_stack) \u001b[38;5;241m!=\u001b[39m \u001b[38;5;241m1\u001b[39m:\n\u001b[0;32m    382\u001b[0m     apply_stack\u001b[38;5;241m.\u001b[39mpop()\n",
            "File \u001b[1;32md:\\env\\lib\\site-packages\\gplearn\\functions.py:46\u001b[0m, in \u001b[0;36m_Function.__call__\u001b[1;34m(self, *args)\u001b[0m\n\u001b[0;32m     45\u001b[0m \u001b[38;5;28;01mdef\u001b[39;00m \u001b[38;5;21m__call__\u001b[39m(\u001b[38;5;28mself\u001b[39m, \u001b[38;5;241m*\u001b[39margs):\n\u001b[1;32m---> 46\u001b[0m     \u001b[38;5;28;01mreturn\u001b[39;00m \u001b[38;5;28;43mself\u001b[39;49m\u001b[38;5;241;43m.\u001b[39;49m\u001b[43mfunction\u001b[49m\u001b[43m(\u001b[49m\u001b[38;5;241;43m*\u001b[39;49m\u001b[43margs\u001b[49m\u001b[43m)\u001b[49m\n",
            "\u001b[1;31mKeyboardInterrupt\u001b[0m: "
          ]
        }
      ],
      "source": [
        "# entrenando modelo\n",
        "\n",
        "# Modelo\n",
        "model = SymbolicRegressor(population_size=5000,\n",
        "                           generations=30,\n",
        "                           stopping_criteria=0.01,\n",
        "                           p_crossover=0.7,\n",
        "                           p_subtree_mutation=0.1,\n",
        "                           p_hoist_mutation=0.05,\n",
        "                           p_point_mutation=0.1,\n",
        "                           max_samples=0.9,\n",
        "                           verbose=1,\n",
        "                           parsimony_coefficient=0.01,\n",
        "                           random_state=123,\n",
        "                           function_set=['add', 'sub', 'mul', 'div'])\n",
        "\n",
        "model.fit(X_train, y_train)\n",
        "\n",
        "# Obtener la expresión simbólica\n",
        "expression = model._program\n",
        "print(\"Expresión:\", expression)"
      ]
    },
    {
      "cell_type": "code",
      "execution_count": null,
      "metadata": {
        "id": "JmZPWC8lI3ZK",
        "outputId": "41b67981-6c52-4772-b346-9884ff4353c8"
      },
      "outputs": [
        {
          "name": "stdout",
          "output_type": "stream",
          "text": [
            "MSE: 11.00072279485055\n",
            "R^2: 0.9773198439795644\n"
          ]
        }
      ],
      "source": [
        "# Predecir en los datos de prueba\n",
        "y_pred = model.predict(X_test)\n",
        "\n",
        "# Calcular métricas\n",
        "mse = mean_squared_error(y_test, y_pred)\n",
        "r2 = r2_score(y_test, y_pred)\n",
        "\n",
        "print(\"MSE:\", mse)\n",
        "print(\"R^2:\", r2)"
      ]
    },
    {
      "cell_type": "markdown",
      "metadata": {
        "id": "7UwXBjdQI3ZL"
      },
      "source": [
        "### Entrenar agregando  potencias V1"
      ]
    },
    {
      "cell_type": "code",
      "execution_count": null,
      "metadata": {
        "id": "SFcVRULuI3ZL"
      },
      "outputs": [],
      "source": [
        "# creando funciones auxiliares\n",
        "\n",
        "\n",
        "# 0.5 * S ^(-0.2)\n",
        "def pot1(x1):\n",
        "    with np.errstate(divide='ignore', invalid='ignore'):\n",
        "        result = np.where(x1 > 0, 0.5*x1**(-0.2), 0)\n",
        "    return result\n",
        "\n",
        "pot1_fn = make_function(function=pot1,\n",
        "                        name='pot1',\n",
        "                        arity=1)\n",
        "\n",
        "# Re^(0.64) *Pr\n",
        "def pot2(x1,x2):\n",
        "    with np.errstate(divide='ignore', invalid='ignore'):\n",
        "        result = np.where(x1 > 0, x1**(0.64)*x2, 0)\n",
        "    return result\n",
        "\n",
        "pot2_fn = make_function(function=pot2,\n",
        "                        name='pot2',\n",
        "                        arity=2)\n"
      ]
    },
    {
      "cell_type": "code",
      "execution_count": null,
      "metadata": {
        "id": "2RP9oDeaI3ZM",
        "outputId": "3c8484e7-e29f-48e5-c2d8-c9da0498afa1"
      },
      "outputs": [
        {
          "name": "stderr",
          "output_type": "stream",
          "text": [
            "d:\\env\\lib\\site-packages\\sklearn\\utils\\validation.py:1339: DataConversionWarning: A column-vector y was passed when a 1d array was expected. Please change the shape of y to (n_samples, ), for example using ravel().\n",
            "  y = column_or_1d(y, warn=True)\n"
          ]
        },
        {
          "name": "stdout",
          "output_type": "stream",
          "text": [
            "    |   Population Average    |             Best Individual              |\n",
            "---- ------------------------- ------------------------------------------ ----------\n",
            " Gen   Length          Fitness   Length          Fitness      OOB Fitness  Time Left\n",
            "   0    24.91      1.49917e+18       18          2.66988          2.67641     21.73m\n",
            "   1    19.34      1.05018e+08       18          2.67266          2.65142     17.54m\n",
            "   2    24.46      1.52122e+08       38           1.5917          1.64675     19.08m\n",
            "   3    23.76      9.01816e+10       45          1.55893          1.59787     18.05m\n",
            "   4    23.16      9.65336e+09       29          1.55417          1.57869     21.14m\n",
            "   5    27.10       1.0189e+10       33          1.55048          1.55992     18.92m\n",
            "   6    29.47       1.7731e+06       25          1.52482          1.57193     19.04m\n",
            "   7    23.65           159348       25          1.52548          1.56594     14.12m\n",
            "   8    21.43      1.64753e+06       25          1.52125          1.60405     11.78m\n",
            "   9    20.13           672594       42          1.51838          1.60835     13.21m\n",
            "  10    18.10      2.19288e+06       21          1.52004          1.61429     11.62m\n",
            "  11    15.60      5.20825e+09       20          1.52041          1.60975     10.06m\n",
            "  12    13.16          69063.8       20          1.52079          1.60639     11.15m\n",
            "  13    12.00          78178.6       11          1.53527          1.66004      9.84m\n",
            "  14    11.34          75986.1       11          1.53469          1.66533      8.57m\n",
            "  15    11.07          19996.4       11          1.53407          1.67084      7.65m\n",
            "  16    10.96          39548.4       11          1.53515          1.66114      6.58m\n",
            "  17    11.11      5.14653e+09       11            1.535          1.66248      4.99m\n",
            "  18    11.05      1.11534e+06       11          1.53368          1.67435      4.29m\n",
            "  19    11.07          69076.3       11          1.53137          1.69516      3.65m\n",
            "  20    11.01           122934       11          1.53431          1.66869      2.75m\n",
            "  21    11.01          34222.8       11          1.53264          1.68376      2.21m\n",
            "  22    11.00      7.10207e+07       11          1.53359          1.67517      1.41m\n",
            "  23    11.06           698001       11          1.53196           1.6899     44.44s\n",
            "  24    11.00      1.19546e+06       11          1.53411          1.67051      0.00s\n",
            "Expresión: pot2(pot2(pot1(0.892), mul(X1, 0.892)), pot1(div(X0, X2)))\n"
          ]
        }
      ],
      "source": [
        "# Modelo\n",
        "model = SymbolicRegressor(population_size=5000,\n",
        "                           generations=25,\n",
        "                           stopping_criteria=0.01,\n",
        "                           p_crossover=0.7,\n",
        "                           p_subtree_mutation=0.1,\n",
        "                           p_hoist_mutation=0.05,\n",
        "                           p_point_mutation=0.1,\n",
        "                           max_samples=0.9,\n",
        "                           verbose=1,\n",
        "                           parsimony_coefficient=0.01,\n",
        "                           random_state=123,\n",
        "                           function_set=['add', 'sub', 'mul', 'div',pot1_fn,pot2_fn])\n",
        "\n",
        "model.fit(X_train, y_train)\n",
        "\n",
        "# Obtener la expresión simbólica\n",
        "expression = model._program\n",
        "print(\"Expresión:\", expression)"
      ]
    },
    {
      "cell_type": "code",
      "execution_count": null,
      "metadata": {
        "id": "fDLLoR2_I3ZM",
        "outputId": "5b8fed8d-4e35-42fb-d277-77be24341333"
      },
      "outputs": [
        {
          "name": "stdout",
          "output_type": "stream",
          "text": [
            "MSE: 4.800143692048582\n",
            "R^2: 0.9901035586582426\n"
          ]
        }
      ],
      "source": [
        "# Predecir en los datos de prueba\n",
        "y_pred = model.predict(X_test)\n",
        "\n",
        "# Calcular métricas\n",
        "mse = mean_squared_error(y_test, y_pred)\n",
        "r2 = r2_score(y_test, y_pred)\n",
        "\n",
        "print(\"MSE:\", mse)\n",
        "print(\"R^2:\", r2)"
      ]
    },
    {
      "cell_type": "markdown",
      "metadata": {
        "id": "cWW5UWcnI3ZN"
      },
      "source": [
        "# 0.4015568 * X1 ^(0.64) * (X0/X2)^(-2)"
      ]
    },
    {
      "cell_type": "code",
      "execution_count": null,
      "metadata": {
        "id": "Lc4psIh0I3ZN"
      },
      "outputs": [],
      "source": [
        "# comparar con modelo de Rafael\n",
        "\n",
        "def nusselt(S, Re, Pr):\n",
        "    return 0.5 * S **(-0.2) * Re **(0.64) * Pr\n",
        "\n",
        "def nusselt_gp(S, Re, Pr):\n",
        "    return 0.3575 * Re **(0.64) * (S/Pr)**(-0.2)"
      ]
    },
    {
      "cell_type": "code",
      "execution_count": null,
      "metadata": {
        "id": "zLCEWveTI3ZN",
        "outputId": "c7ae5e5e-99db-4208-b061-80a361d87f5e"
      },
      "outputs": [
        {
          "data": {
            "text/html": [
              "<div>\n",
              "<style scoped>\n",
              "    .dataframe tbody tr th:only-of-type {\n",
              "        vertical-align: middle;\n",
              "    }\n",
              "\n",
              "    .dataframe tbody tr th {\n",
              "        vertical-align: top;\n",
              "    }\n",
              "\n",
              "    .dataframe thead th {\n",
              "        text-align: right;\n",
              "    }\n",
              "</style>\n",
              "<table border=\"1\" class=\"dataframe\">\n",
              "  <thead>\n",
              "    <tr style=\"text-align: right;\">\n",
              "      <th></th>\n",
              "      <th>K</th>\n",
              "      <th>Rem</th>\n",
              "      <th>prandtl</th>\n",
              "    </tr>\n",
              "  </thead>\n",
              "  <tbody>\n",
              "    <tr>\n",
              "      <th>0</th>\n",
              "      <td>0.6</td>\n",
              "      <td>2824.604561</td>\n",
              "      <td>0.709843</td>\n",
              "    </tr>\n",
              "    <tr>\n",
              "      <th>1</th>\n",
              "      <td>0.6</td>\n",
              "      <td>2824.604561</td>\n",
              "      <td>0.709843</td>\n",
              "    </tr>\n",
              "    <tr>\n",
              "      <th>2</th>\n",
              "      <td>0.6</td>\n",
              "      <td>2352.302465</td>\n",
              "      <td>0.709842</td>\n",
              "    </tr>\n",
              "    <tr>\n",
              "      <th>3</th>\n",
              "      <td>0.6</td>\n",
              "      <td>2000.632597</td>\n",
              "      <td>0.709842</td>\n",
              "    </tr>\n",
              "    <tr>\n",
              "      <th>4</th>\n",
              "      <td>0.6</td>\n",
              "      <td>1878.735604</td>\n",
              "      <td>0.709842</td>\n",
              "    </tr>\n",
              "    <tr>\n",
              "      <th>...</th>\n",
              "      <td>...</td>\n",
              "      <td>...</td>\n",
              "      <td>...</td>\n",
              "    </tr>\n",
              "    <tr>\n",
              "      <th>8605</th>\n",
              "      <td>1.2</td>\n",
              "      <td>9267.885175</td>\n",
              "      <td>0.707768</td>\n",
              "    </tr>\n",
              "    <tr>\n",
              "      <th>8606</th>\n",
              "      <td>1.2</td>\n",
              "      <td>8959.387980</td>\n",
              "      <td>0.707705</td>\n",
              "    </tr>\n",
              "    <tr>\n",
              "      <th>8607</th>\n",
              "      <td>1.2</td>\n",
              "      <td>8691.558442</td>\n",
              "      <td>0.707625</td>\n",
              "    </tr>\n",
              "    <tr>\n",
              "      <th>8608</th>\n",
              "      <td>1.2</td>\n",
              "      <td>8537.950633</td>\n",
              "      <td>0.707554</td>\n",
              "    </tr>\n",
              "    <tr>\n",
              "      <th>8609</th>\n",
              "      <td>1.2</td>\n",
              "      <td>8360.980275</td>\n",
              "      <td>0.707482</td>\n",
              "    </tr>\n",
              "  </tbody>\n",
              "</table>\n",
              "<p>8610 rows × 3 columns</p>\n",
              "</div>"
            ],
            "text/plain": [
              "        K          Rem   prandtl\n",
              "0     0.6  2824.604561  0.709843\n",
              "1     0.6  2824.604561  0.709843\n",
              "2     0.6  2352.302465  0.709842\n",
              "3     0.6  2000.632597  0.709842\n",
              "4     0.6  1878.735604  0.709842\n",
              "...   ...          ...       ...\n",
              "8605  1.2  9267.885175  0.707768\n",
              "8606  1.2  8959.387980  0.707705\n",
              "8607  1.2  8691.558442  0.707625\n",
              "8608  1.2  8537.950633  0.707554\n",
              "8609  1.2  8360.980275  0.707482\n",
              "\n",
              "[8610 rows x 3 columns]"
            ]
          },
          "execution_count": 6,
          "metadata": {},
          "output_type": "execute_result"
        }
      ],
      "source": [
        "X_test"
      ]
    },
    {
      "cell_type": "code",
      "execution_count": null,
      "metadata": {
        "id": "AAs19eTFI3ZN",
        "outputId": "09ed9477-3661-40ca-ece5-c08dc6f40b30"
      },
      "outputs": [
        {
          "name": "stdout",
          "output_type": "stream",
          "text": [
            "R^2 cdrag original: 0.9509992536047758, R^2 cdrag GPLearn: 0.9898656037772775 \n",
            "MSE cdrag original: 23.767192225174124, MSE cdrag GPLearn: 4.915560697152972 \n",
            "MAE cdrag original: 4.174721418276441, MAE cdrag GPLearn: 1.6305633774376995 \n",
            "MAPE cdrag original: 7.197154998836116*100, MAPE cdrag GPLearn: 2.8637994390677814*100 \n"
          ]
        }
      ],
      "source": [
        "# Calcular cdrag_pred y cdrag_gp_pred en vectores separados\n",
        "cdrag_pred = X_test.apply(lambda row: nusselt(row['K'], row['Rem'], row['prandtl']), axis=1).values\n",
        "cdrag_gp_pred = X_test.apply(lambda row: nusselt_gp(row['K'], row['Rem'], row['prandtl']), axis=1).values\n",
        "\n",
        "# Calcular R^2 y MSE para cdrag\n",
        "r2_cdrag = r2_score(y_test['nusselt'], cdrag_pred)\n",
        "mse_cdrag = mean_squared_error(y_test['nusselt'], cdrag_pred)\n",
        "\n",
        "# Calcular MAE y MAPE para cdrag\n",
        "mae_cdrag = mean_absolute_error(y_test['nusselt'], cdrag_pred)\n",
        "mape_cdrag = mean_absolute_percentage_error(y_test['nusselt'], cdrag_pred)\n",
        "\n",
        "# Calcular R^2 y MSE para cdrag_gp\n",
        "r2_cdrag_gp = r2_score(y_test['nusselt'], cdrag_gp_pred)\n",
        "mse_cdrag_gp = mean_squared_error(y_test['nusselt'], cdrag_gp_pred)\n",
        "\n",
        "# Calcular MAE y MAPE para cdrag_gp\n",
        "mae_cdrag_gp = mean_absolute_error(y_test['nusselt'], cdrag_gp_pred)\n",
        "mape_cdrag_gp = mean_absolute_percentage_error(y_test['nusselt'], cdrag_gp_pred)\n",
        "\n",
        "#  Mostrar Metricas\n",
        "\n",
        "print(f\"R^2 cdrag original: {r2_cdrag}, R^2 cdrag GPLearn: {r2_cdrag_gp} \")\n",
        "print(f\"MSE cdrag original: {mse_cdrag}, MSE cdrag GPLearn: {mse_cdrag_gp} \")\n",
        "print(f\"MAE cdrag original: {mae_cdrag}, MAE cdrag GPLearn: {mae_cdrag_gp} \")\n",
        "print(f\"MAPE cdrag original: {mape_cdrag*100}*100, MAPE cdrag GPLearn: {mape_cdrag_gp*100}*100 \")"
      ]
    },
    {
      "cell_type": "markdown",
      "metadata": {
        "id": "Ifkvrmr8I3ZO"
      },
      "source": [
        "### Entrenar agregando  potencias V2"
      ]
    },
    {
      "cell_type": "code",
      "execution_count": null,
      "metadata": {
        "id": "11n9gt3uI3ZO"
      },
      "outputs": [],
      "source": [
        "### Entrenar agregando  potencias V2\n",
        "\n",
        "# 0.5 * S ^(-0.2) * Re ^0.64 * Pr\n",
        "def pot1(x1, x2, x3):\n",
        "    with np.errstate(divide='ignore', invalid='ignore'):\n",
        "        result = np.where((x1 > 0) & (x2>0) & (x3>0), 0.5*x1**(-0.2)* x2 **(0.64) * x3, 0)\n",
        "    return result\n",
        "\n",
        "pot1_fn = make_function(function=pot1,\n",
        "                        name='pot1',\n",
        "                        arity=3)\n"
      ]
    },
    {
      "cell_type": "code",
      "execution_count": null,
      "metadata": {
        "id": "eUOjBlikI3ZO",
        "outputId": "15806c79-998c-4f5c-c7eb-3c6b7bfa569c"
      },
      "outputs": [
        {
          "data": {
            "text/plain": [
              "count    15900.000000\n",
              "mean         0.708010\n",
              "std          0.001358\n",
              "min          0.695312\n",
              "25%          0.707104\n",
              "50%          0.707981\n",
              "75%          0.709256\n",
              "max          0.710697\n",
              "Name: prandtl, dtype: float64"
            ]
          },
          "execution_count": 26,
          "metadata": {},
          "output_type": "execute_result"
        }
      ],
      "source": [
        "X_train['prandtl'].describe()"
      ]
    },
    {
      "cell_type": "code",
      "execution_count": null,
      "metadata": {
        "id": "cCxSnitLI3ZO",
        "outputId": "848d32f0-f50d-4668-da7b-00a5ce946888"
      },
      "outputs": [
        {
          "name": "stderr",
          "output_type": "stream",
          "text": [
            "d:\\env\\lib\\site-packages\\sklearn\\utils\\validation.py:1339: DataConversionWarning: A column-vector y was passed when a 1d array was expected. Please change the shape of y to (n_samples, ), for example using ravel().\n",
            "  y = column_or_1d(y, warn=True)\n"
          ]
        },
        {
          "name": "stdout",
          "output_type": "stream",
          "text": [
            "    |   Population Average    |             Best Individual              |\n",
            "---- ------------------------- ------------------------------------------ ----------\n",
            " Gen   Length          Fitness   Length          Fitness      OOB Fitness  Time Left\n",
            "   0    51.11      2.23472e+16       37          4.69737          4.72079     33.76m\n",
            "   1    28.93      2.31285e+07       11          3.68762          3.68981     16.80m\n",
            "   2    36.28      2.41273e+06       16          2.76631          2.74759     22.18m\n",
            "   3    24.33       1.2282e+07        6           1.5527          1.64455     16.29m\n",
            "   4    13.73      4.08384e+07        4          1.54242           1.6014     10.69m\n",
            "   5    16.32           355479        4          1.53925          1.62987      9.97m\n",
            "   6    12.83           301063       10          1.52804          1.55206      7.30m\n",
            "   7     7.90      1.28664e+08        8          1.51811          1.56201      5.29m\n",
            "   8     4.75      3.37881e+06        8          1.52101          1.53591      4.38m\n",
            "   9     4.33           941079        4          1.52693          1.67874      4.07m\n",
            "  10     4.45      1.63458e+06        4          1.52511          1.69504      4.06m\n",
            "  11     4.34           365247        4          1.52846          1.66488      3.27m\n",
            "  12     4.41      2.76611e+09        4          1.52449           1.7007      2.89m\n",
            "  13     4.34            18542        4           1.5257          1.68974      2.43m\n",
            "  14     4.27           461053        4          1.52769          1.67183      2.13m\n",
            "  15     4.48      2.41509e+09        4          1.52659          1.68173      2.01m\n",
            "  16     4.32      7.00678e+10        4          1.52776          1.67123      1.44m\n",
            "  17     4.37           123717        4          1.52768          1.67191     49.43s\n",
            "  18     4.35      1.93605e+07        4          1.52814          1.66785     25.12s\n",
            "  19     4.36      1.37974e+07        4          1.52713          1.67693      0.00s\n",
            "Expresión: pot1(X0, X1, 0.660)\n"
          ]
        }
      ],
      "source": [
        "# Modelo\n",
        "model = SymbolicRegressor(population_size=5000,\n",
        "                           generations=20,\n",
        "                           stopping_criteria=0.01,\n",
        "                           p_crossover=0.7,\n",
        "                           p_subtree_mutation=0.1,\n",
        "                           p_hoist_mutation=0.05,\n",
        "                           p_point_mutation=0.1,\n",
        "                           max_samples=0.9,\n",
        "                           verbose=1,\n",
        "                           parsimony_coefficient=0.01,\n",
        "                           random_state=123,\n",
        "                           function_set=['add', 'sub', 'mul', 'div',pot1_fn])\n",
        "\n",
        "model.fit(X_train, y_train)\n",
        "\n",
        "# Obtener la expresión simbólica\n",
        "expression = model._program\n",
        "print(\"Expresión:\", expression)"
      ]
    },
    {
      "cell_type": "code",
      "execution_count": null,
      "metadata": {
        "id": "RnEhyG-bI3ZP"
      },
      "outputs": [],
      "source": [
        "# comparar con modelo de Rafael\n",
        "\n",
        "def nusselt(S, Re, Pr):\n",
        "    return 0.5 * S **(-0.2) * Re **(0.64) * Pr\n",
        "\n",
        "def nusselt_gp(S, Re, Pr):\n",
        "    return 0.5 * S **(-0.2)*Re **(0.64) * 0.660"
      ]
    },
    {
      "cell_type": "code",
      "execution_count": null,
      "metadata": {
        "id": "eNSlpBq7I3ZP",
        "outputId": "20ea95d4-5e9c-452f-99ac-00e4814e5df4"
      },
      "outputs": [
        {
          "name": "stdout",
          "output_type": "stream",
          "text": [
            "R^2 cdrag original: 0.9509992536047758, R^2 cdrag GPLearn: 0.9901974685565402 \n",
            "MSE cdrag original: 23.767192225174124, MSE cdrag GPLearn: 4.754593883752133 \n",
            "MAE cdrag original: 4.174721418276441, MAE cdrag GPLearn: 1.5605096310233906 \n",
            "MAPE cdrag original: 7.197154998836116*100, MAPE cdrag GPLearn: 2.720218831637322*100 \n"
          ]
        }
      ],
      "source": [
        "# Calcular cdrag_pred y cdrag_gp_pred en vectores separados\n",
        "cdrag_pred = X_test.apply(lambda row: nusselt(row['K'], row['Rem'], row['prandtl']), axis=1).values\n",
        "cdrag_gp_pred = X_test.apply(lambda row: nusselt_gp(row['K'], row['Rem'], row['prandtl']), axis=1).values\n",
        "\n",
        "# Calcular R^2 y MSE para cdrag\n",
        "r2_cdrag = r2_score(y_test['nusselt'], cdrag_pred)\n",
        "mse_cdrag = mean_squared_error(y_test['nusselt'], cdrag_pred)\n",
        "\n",
        "# Calcular MAE y MAPE para cdrag\n",
        "mae_cdrag = mean_absolute_error(y_test['nusselt'], cdrag_pred)\n",
        "mape_cdrag = mean_absolute_percentage_error(y_test['nusselt'], cdrag_pred)\n",
        "\n",
        "# Calcular R^2 y MSE para cdrag_gp\n",
        "r2_cdrag_gp = r2_score(y_test['nusselt'], cdrag_gp_pred)\n",
        "mse_cdrag_gp = mean_squared_error(y_test['nusselt'], cdrag_gp_pred)\n",
        "\n",
        "# Calcular MAE y MAPE para cdrag_gp\n",
        "mae_cdrag_gp = mean_absolute_error(y_test['nusselt'], cdrag_gp_pred)\n",
        "mape_cdrag_gp = mean_absolute_percentage_error(y_test['nusselt'], cdrag_gp_pred)\n",
        "\n",
        "#  Mostrar Metricas\n",
        "\n",
        "print(f\"R^2 cdrag original: {r2_cdrag}, R^2 cdrag GPLearn: {r2_cdrag_gp} \")\n",
        "print(f\"MSE cdrag original: {mse_cdrag}, MSE cdrag GPLearn: {mse_cdrag_gp} \")\n",
        "print(f\"MAE cdrag original: {mae_cdrag}, MAE cdrag GPLearn: {mae_cdrag_gp} \")\n",
        "print(f\"MAPE cdrag original: {mape_cdrag*100}*100, MAPE cdrag GPLearn: {mape_cdrag_gp*100}*100 \")"
      ]
    },
    {
      "cell_type": "markdown",
      "metadata": {
        "id": "bNcAFiMlI3ZP"
      },
      "source": [
        "Se consiguen mejores metricas sin incluir el prantdl, ¿pero tendra sentido físico?"
      ]
    },
    {
      "cell_type": "markdown",
      "metadata": {
        "id": "lqO11gUaI3ZQ"
      },
      "source": [
        "### Entrenar agregando  potencias V3"
      ]
    },
    {
      "cell_type": "code",
      "execution_count": null,
      "metadata": {
        "id": "WKxzK_ZSI3ZQ"
      },
      "outputs": [],
      "source": [
        "# * S ^(-0.2)\n",
        "def pot1(x1):\n",
        "    with np.errstate(divide='ignore', invalid='ignore'):\n",
        "        result = np.where(x1 > 0, x1**(-0.2), 0)\n",
        "    return result\n",
        "\n",
        "pot1_fn = make_function(function=pot1,\n",
        "                        name='pot1',\n",
        "                        arity=1)\n",
        "\n",
        "# 0.5*Re^(0.64) *Pr\n",
        "def pot2(x1,x2):\n",
        "    with np.errstate(divide='ignore', invalid='ignore'):\n",
        "        result = np.where((x1 > 0) & (x2>0), 0.5*x1**(0.64)*x2, 0)\n",
        "    return result\n",
        "\n",
        "pot2_fn = make_function(function=pot2,\n",
        "                        name='pot2',\n",
        "                        arity=2)\n"
      ]
    },
    {
      "cell_type": "code",
      "execution_count": null,
      "metadata": {
        "id": "QwQQ8VdgI3ZQ",
        "outputId": "6f7aa4eb-e51e-47f5-b2d8-e23f67592d8d"
      },
      "outputs": [
        {
          "name": "stderr",
          "output_type": "stream",
          "text": [
            "d:\\env\\lib\\site-packages\\sklearn\\utils\\validation.py:1339: DataConversionWarning: A column-vector y was passed when a 1d array was expected. Please change the shape of y to (n_samples, ), for example using ravel().\n",
            "  y = column_or_1d(y, warn=True)\n"
          ]
        },
        {
          "name": "stdout",
          "output_type": "stream",
          "text": [
            "    |   Population Average    |             Best Individual              |\n",
            "---- ------------------------- ------------------------------------------ ----------\n",
            " Gen   Length          Fitness   Length          Fitness      OOB Fitness  Time Left\n",
            "   0    24.91      1.35864e+18        6          4.81152           4.8322     17.77m\n",
            "   1    19.51      2.05391e+06       27          3.48503          3.42718     16.74m\n",
            "   2    19.99      2.67266e+10       13           2.4308          2.58527     11.96m\n",
            "   3    12.47      9.96721e+06       13          1.55962          1.58239      7.97m\n",
            "   4    18.36       3.2885e+07       13          1.55991          1.57979     12.35m\n",
            "   5    16.84      9.28862e+06       18          1.53076          1.53807     10.16m\n",
            "   6    18.48          18241.2       18          1.52855          1.55796     11.24m\n",
            "   7    14.55          16603.9       18          1.52596           1.5813      9.77m\n",
            "   8    11.01           596001       15          1.52178           1.5448      7.16m\n",
            "   9     8.75           715122       11          1.52072          1.65643      5.87m\n",
            "  10     7.40           313653       11          1.52781           1.5926      7.07m\n",
            "  11     7.18      2.60277e+09        7          1.53639          1.68222      7.36m\n",
            "  12     7.19           456218        7          1.53543          1.69085      5.81m\n",
            "  13     7.18           267522        7          1.53733          1.67374      5.55m\n",
            "  14     7.17          19468.7        7           1.5385          1.66319      4.36m\n",
            "  15     7.15           802552        7          1.53735          1.67357      2.78m\n",
            "  16     7.12          42203.3        7          1.53801           1.6676      1.87m\n",
            "  17     7.20      2.39822e+09        7          1.53836          1.66444      1.36m\n",
            "  18     7.17      1.33134e+07        7          1.53591          1.68649     37.02s\n",
            "  19     7.18           276932        7           1.5361          1.68487      0.00s\n",
            "Expresión: pot2(pot1(0.116), pot2(X1, pot1(X0)))\n"
          ]
        }
      ],
      "source": [
        "# Modelo\n",
        "model = SymbolicRegressor(population_size=5000,\n",
        "                           generations=20,\n",
        "                           stopping_criteria=0.01,\n",
        "                           p_crossover=0.7,\n",
        "                           p_subtree_mutation=0.1,\n",
        "                           p_hoist_mutation=0.05,\n",
        "                           p_point_mutation=0.1,\n",
        "                           max_samples=0.9,\n",
        "                           verbose=1,\n",
        "                           parsimony_coefficient=0.01,\n",
        "                           random_state=123,\n",
        "                           function_set=['add', 'sub', 'mul', 'div',pot1_fn,pot2_fn])\n",
        "\n",
        "model.fit(X_train, y_train)\n",
        "\n",
        "# Obtener la expresión simbólica\n",
        "expression = model._program\n",
        "print(\"Expresión:\", expression)"
      ]
    },
    {
      "cell_type": "code",
      "execution_count": null,
      "metadata": {
        "id": "EkEetYbgI3ZR",
        "outputId": "a41a265c-799a-4e3a-f49d-cda66365d19b"
      },
      "outputs": [
        {
          "name": "stdout",
          "output_type": "stream",
          "text": [
            "MSE: 4.849711232645084\n",
            "R^2: 0.9900013654137402\n"
          ]
        }
      ],
      "source": [
        "# Predecir en los datos de prueba\n",
        "y_pred = model.predict(X_test)\n",
        "\n",
        "# Calcular métricas\n",
        "mse = mean_squared_error(y_test, y_pred)\n",
        "r2 = r2_score(y_test, y_pred)\n",
        "\n",
        "print(\"MSE:\", mse)\n",
        "print(\"R^2:\", r2)"
      ]
    },
    {
      "cell_type": "code",
      "execution_count": null,
      "metadata": {
        "id": "l-TPBVU5I3ZS"
      },
      "outputs": [],
      "source": [
        "def nusselt(S, Re, Pr):\n",
        "    return 0.5 * S **(-0.2) * Re **(0.64) * Pr\n",
        "\n",
        "def nusselt_gp(S, Re, Pr):\n",
        "    return 0.4065 * S**(-0.2) *Re **(0.64)"
      ]
    },
    {
      "cell_type": "code",
      "execution_count": null,
      "metadata": {
        "id": "UBMzxjhCI3ZS",
        "outputId": "95e230c9-227f-41e8-e010-9361e0adcc89"
      },
      "outputs": [
        {
          "name": "stdout",
          "output_type": "stream",
          "text": [
            "R^2 cdrag original: 0.9509992536047758, R^2 cdrag GPLearn: 0.5671402704718504 \n",
            "MSE cdrag original: 23.767192225174124, MSE cdrag GPLearn: 209.95313653497948 \n",
            "MAE cdrag original: 4.174721418276441, MAE cdrag GPLearn: 13.461254276672511 \n",
            "MAPE cdrag original: 7.197154998836116*100, MAPE cdrag GPLearn: 22.902589897738164*100 \n"
          ]
        }
      ],
      "source": [
        "# Calcular cdrag_pred y cdrag_gp_pred en vectores separados\n",
        "cdrag_pred = X_test.apply(lambda row: nusselt(row['K'], row['Rem'], row['prandtl']), axis=1).values\n",
        "cdrag_gp_pred = X_test.apply(lambda row: nusselt_gp(row['K'], row['Rem'], row['prandtl']), axis=1).values\n",
        "\n",
        "# Calcular R^2 y MSE para cdrag\n",
        "r2_cdrag = r2_score(y_test['nusselt'], cdrag_pred)\n",
        "mse_cdrag = mean_squared_error(y_test['nusselt'], cdrag_pred)\n",
        "\n",
        "# Calcular MAE y MAPE para cdrag\n",
        "mae_cdrag = mean_absolute_error(y_test['nusselt'], cdrag_pred)\n",
        "mape_cdrag = mean_absolute_percentage_error(y_test['nusselt'], cdrag_pred)\n",
        "\n",
        "# Calcular R^2 y MSE para cdrag_gp\n",
        "r2_cdrag_gp = r2_score(y_test['nusselt'], cdrag_gp_pred)\n",
        "mse_cdrag_gp = mean_squared_error(y_test['nusselt'], cdrag_gp_pred)\n",
        "\n",
        "# Calcular MAE y MAPE para cdrag_gp\n",
        "mae_cdrag_gp = mean_absolute_error(y_test['nusselt'], cdrag_gp_pred)\n",
        "mape_cdrag_gp = mean_absolute_percentage_error(y_test['nusselt'], cdrag_gp_pred)\n",
        "\n",
        "#  Mostrar Metricas\n",
        "\n",
        "print(f\"R^2 cdrag original: {r2_cdrag}, R^2 cdrag GPLearn: {r2_cdrag_gp} \")\n",
        "print(f\"MSE cdrag original: {mse_cdrag}, MSE cdrag GPLearn: {mse_cdrag_gp} \")\n",
        "print(f\"MAE cdrag original: {mae_cdrag}, MAE cdrag GPLearn: {mae_cdrag_gp} \")\n",
        "print(f\"MAPE cdrag original: {mape_cdrag*100}*100, MAPE cdrag GPLearn: {mape_cdrag_gp*100}*100 \")"
      ]
    },
    {
      "cell_type": "markdown",
      "metadata": {
        "id": "MMwj1UmKI3ZS"
      },
      "source": [
        "### Entrenar agregando potencias V4"
      ]
    },
    {
      "cell_type": "code",
      "execution_count": null,
      "metadata": {
        "id": "HMM1agt3I3ZS"
      },
      "outputs": [],
      "source": [
        "# * S ^(-0.2) * Pr\n",
        "def pot1(x1,x2):\n",
        "    with np.errstate(divide='ignore', invalid='ignore'):\n",
        "        result = np.where((x1 > 0) & (x2>0), x1**(-0.2)*x2, 0)\n",
        "    return result\n",
        "\n",
        "pot1_fn = make_function(function=pot1,\n",
        "                        name='pot1',\n",
        "                        arity=2)\n",
        "\n",
        "# 0.5*Re^(0.64)\n",
        "def pot2(x1):\n",
        "    with np.errstate(divide='ignore', invalid='ignore'):\n",
        "        result = np.where((x1 > 0) , 0.5*x1**(0.64), 0)\n",
        "    return result\n",
        "\n",
        "pot2_fn = make_function(function=pot2,\n",
        "                        name='pot2',\n",
        "                        arity=1)\n"
      ]
    },
    {
      "cell_type": "code",
      "execution_count": null,
      "metadata": {
        "id": "p0ApBl20I3ZT",
        "outputId": "bdbc93b2-e468-4553-d41a-578a32cf38f9"
      },
      "outputs": [
        {
          "name": "stderr",
          "output_type": "stream",
          "text": [
            "d:\\env\\lib\\site-packages\\sklearn\\utils\\validation.py:1339: DataConversionWarning: A column-vector y was passed when a 1d array was expected. Please change the shape of y to (n_samples, ), for example using ravel().\n",
            "  y = column_or_1d(y, warn=True)\n"
          ]
        },
        {
          "name": "stdout",
          "output_type": "stream",
          "text": [
            "    |   Population Average    |             Best Individual              |\n",
            "---- ------------------------- ------------------------------------------ ----------\n",
            " Gen   Length          Fitness   Length          Fitness      OOB Fitness  Time Left\n",
            "   0    24.85      3.75924e+11        8          2.27472          2.31835     19.15m\n",
            "   1    18.24           144130       35          1.90703          1.93398     12.97m\n",
            "   2    25.53            28689       11          1.81943          1.84413     17.83m\n",
            "   3    45.30          15447.7       11          1.81137          1.91659     24.54m\n",
            "   4    27.54          6584.38       16          1.55501          1.52351     15.98m\n",
            "   5    21.27      1.83745e+07       16          1.55029          1.56591     12.34m\n",
            "   6    16.35          7812.12       16          1.54852          1.61831     10.56m\n",
            "   7    12.99           3417.8       16          1.54867          1.58055      8.25m\n",
            "   8    12.03          2422.51       16          1.54599          1.60465      7.38m\n",
            "   9    11.17          15319.3       16           1.5428          1.63335      6.81m\n",
            "  10    11.13          6429.65       16          1.54618          1.60295      6.42m\n",
            "  11    10.96          5925.26       11          1.54871          1.60717      5.68m\n",
            "  12    10.83          2790.11       11          1.54622          1.62952      4.49m\n",
            "  13    10.23          7136.53       11          1.54536          1.63732      3.65m\n",
            "  14     9.34          11673.5       11          1.54602          1.63134      3.06m\n",
            "  15     9.06          9051.11       11          1.54691          1.62334      2.28m\n",
            "  16     8.95          32710.6        9           1.5531          1.67992      1.74m\n",
            "  17     9.16          10631.4        9          1.54626          1.74143      1.25m\n",
            "  18     9.14          3363.54        9          1.55179          1.69168     33.10s\n",
            "  19     9.16          12724.3        9          1.55199          1.68989      0.00s\n",
            "Expresión: pot1(div(X0, pot2(0.631)), pot2(mul(X1, X2)))\n"
          ]
        }
      ],
      "source": [
        "# Modelo\n",
        "model = SymbolicRegressor(population_size=5000,\n",
        "                           generations=20,\n",
        "                           stopping_criteria=0.01,\n",
        "                           p_crossover=0.7,\n",
        "                           p_subtree_mutation=0.1,\n",
        "                           p_hoist_mutation=0.05,\n",
        "                           p_point_mutation=0.1,\n",
        "                           max_samples=0.9,\n",
        "                           verbose=1,\n",
        "                           parsimony_coefficient=0.01,\n",
        "                           random_state=123,\n",
        "                           function_set=['add', 'sub', 'mul', 'div',pot1_fn,pot2_fn])\n",
        "\n",
        "model.fit(X_train, y_train)\n",
        "\n",
        "# Obtener la expresión simbólica\n",
        "expression = model._program\n",
        "print(\"Expresión:\", expression)"
      ]
    },
    {
      "cell_type": "code",
      "execution_count": null,
      "metadata": {
        "id": "hukjke3rI3ZT",
        "outputId": "f3b6fd37-1d9e-4aed-f9af-9d0b978277fe"
      },
      "outputs": [
        {
          "name": "stdout",
          "output_type": "stream",
          "text": [
            "MSE: 4.920381752448901\n",
            "R^2: 0.989855664222547\n"
          ]
        }
      ],
      "source": [
        "# Predecir en los datos de prueba\n",
        "y_pred = model.predict(X_test)\n",
        "\n",
        "# Calcular métricas\n",
        "mse = mean_squared_error(y_test, y_pred)\n",
        "r2 = r2_score(y_test, y_pred)\n",
        "\n",
        "print(\"MSE:\", mse)\n",
        "print(\"R^2:\", r2)"
      ]
    },
    {
      "cell_type": "code",
      "execution_count": null,
      "metadata": {
        "id": "WYrHC74ZI3ZT",
        "outputId": "972715bd-cba2-4a2a-887a-f823f3c2ae4d"
      },
      "outputs": [
        {
          "data": {
            "text/html": [
              "<div>\n",
              "<style scoped>\n",
              "    .dataframe tbody tr th:only-of-type {\n",
              "        vertical-align: middle;\n",
              "    }\n",
              "\n",
              "    .dataframe tbody tr th {\n",
              "        vertical-align: top;\n",
              "    }\n",
              "\n",
              "    .dataframe thead th {\n",
              "        text-align: right;\n",
              "    }\n",
              "</style>\n",
              "<table border=\"1\" class=\"dataframe\">\n",
              "  <thead>\n",
              "    <tr style=\"text-align: right;\">\n",
              "      <th></th>\n",
              "      <th>K</th>\n",
              "      <th>Rem</th>\n",
              "      <th>prandtl</th>\n",
              "    </tr>\n",
              "  </thead>\n",
              "  <tbody>\n",
              "    <tr>\n",
              "      <th>0</th>\n",
              "      <td>0.6</td>\n",
              "      <td>2824.604561</td>\n",
              "      <td>0.709843</td>\n",
              "    </tr>\n",
              "    <tr>\n",
              "      <th>1</th>\n",
              "      <td>0.6</td>\n",
              "      <td>2824.604561</td>\n",
              "      <td>0.709843</td>\n",
              "    </tr>\n",
              "    <tr>\n",
              "      <th>2</th>\n",
              "      <td>0.6</td>\n",
              "      <td>2352.302465</td>\n",
              "      <td>0.709842</td>\n",
              "    </tr>\n",
              "    <tr>\n",
              "      <th>3</th>\n",
              "      <td>0.6</td>\n",
              "      <td>2000.632597</td>\n",
              "      <td>0.709842</td>\n",
              "    </tr>\n",
              "    <tr>\n",
              "      <th>4</th>\n",
              "      <td>0.6</td>\n",
              "      <td>1878.735604</td>\n",
              "      <td>0.709842</td>\n",
              "    </tr>\n",
              "    <tr>\n",
              "      <th>...</th>\n",
              "      <td>...</td>\n",
              "      <td>...</td>\n",
              "      <td>...</td>\n",
              "    </tr>\n",
              "    <tr>\n",
              "      <th>8605</th>\n",
              "      <td>1.2</td>\n",
              "      <td>9267.885175</td>\n",
              "      <td>0.707768</td>\n",
              "    </tr>\n",
              "    <tr>\n",
              "      <th>8606</th>\n",
              "      <td>1.2</td>\n",
              "      <td>8959.387980</td>\n",
              "      <td>0.707705</td>\n",
              "    </tr>\n",
              "    <tr>\n",
              "      <th>8607</th>\n",
              "      <td>1.2</td>\n",
              "      <td>8691.558442</td>\n",
              "      <td>0.707625</td>\n",
              "    </tr>\n",
              "    <tr>\n",
              "      <th>8608</th>\n",
              "      <td>1.2</td>\n",
              "      <td>8537.950633</td>\n",
              "      <td>0.707554</td>\n",
              "    </tr>\n",
              "    <tr>\n",
              "      <th>8609</th>\n",
              "      <td>1.2</td>\n",
              "      <td>8360.980275</td>\n",
              "      <td>0.707482</td>\n",
              "    </tr>\n",
              "  </tbody>\n",
              "</table>\n",
              "<p>8610 rows × 3 columns</p>\n",
              "</div>"
            ],
            "text/plain": [
              "        K          Rem   prandtl\n",
              "0     0.6  2824.604561  0.709843\n",
              "1     0.6  2824.604561  0.709843\n",
              "2     0.6  2352.302465  0.709842\n",
              "3     0.6  2000.632597  0.709842\n",
              "4     0.6  1878.735604  0.709842\n",
              "...   ...          ...       ...\n",
              "8605  1.2  9267.885175  0.707768\n",
              "8606  1.2  8959.387980  0.707705\n",
              "8607  1.2  8691.558442  0.707625\n",
              "8608  1.2  8537.950633  0.707554\n",
              "8609  1.2  8360.980275  0.707482\n",
              "\n",
              "[8610 rows x 3 columns]"
            ]
          },
          "execution_count": 43,
          "metadata": {},
          "output_type": "execute_result"
        }
      ],
      "source": [
        "X_test"
      ]
    },
    {
      "cell_type": "code",
      "execution_count": null,
      "metadata": {
        "id": "0sTFgiOkI3ZU"
      },
      "outputs": [],
      "source": [
        "def nusselt(S, Re, Pr):\n",
        "    return 0.5 * S **(-0.2) * Re **(0.64) * Pr\n",
        "\n",
        "def nusselt_gp(S, Re, Pr):\n",
        "    return 0.425 * S**(-0.2) *(Re*Pr) **(0.64)"
      ]
    },
    {
      "cell_type": "code",
      "execution_count": null,
      "metadata": {
        "id": "U29jxNFjI3ZU",
        "outputId": "e3c9d39d-faff-4f79-8dd9-bfbb8e11057b"
      },
      "outputs": [
        {
          "data": {
            "text/html": [
              "<div>\n",
              "<style scoped>\n",
              "    .dataframe tbody tr th:only-of-type {\n",
              "        vertical-align: middle;\n",
              "    }\n",
              "\n",
              "    .dataframe tbody tr th {\n",
              "        vertical-align: top;\n",
              "    }\n",
              "\n",
              "    .dataframe thead th {\n",
              "        text-align: right;\n",
              "    }\n",
              "</style>\n",
              "<table border=\"1\" class=\"dataframe\">\n",
              "  <thead>\n",
              "    <tr style=\"text-align: right;\">\n",
              "      <th></th>\n",
              "      <th>nusselt</th>\n",
              "    </tr>\n",
              "  </thead>\n",
              "  <tbody>\n",
              "    <tr>\n",
              "      <th>0</th>\n",
              "      <td>61.165728</td>\n",
              "    </tr>\n",
              "    <tr>\n",
              "      <th>1</th>\n",
              "      <td>52.824696</td>\n",
              "    </tr>\n",
              "    <tr>\n",
              "      <th>2</th>\n",
              "      <td>50.527730</td>\n",
              "    </tr>\n",
              "    <tr>\n",
              "      <th>3</th>\n",
              "      <td>48.422178</td>\n",
              "    </tr>\n",
              "    <tr>\n",
              "      <th>4</th>\n",
              "      <td>48.421871</td>\n",
              "    </tr>\n",
              "    <tr>\n",
              "      <th>...</th>\n",
              "      <td>...</td>\n",
              "    </tr>\n",
              "    <tr>\n",
              "      <th>8605</th>\n",
              "      <td>108.036259</td>\n",
              "    </tr>\n",
              "    <tr>\n",
              "      <th>8606</th>\n",
              "      <td>104.910067</td>\n",
              "    </tr>\n",
              "    <tr>\n",
              "      <th>8607</th>\n",
              "      <td>105.201331</td>\n",
              "    </tr>\n",
              "    <tr>\n",
              "      <th>8608</th>\n",
              "      <td>107.374645</td>\n",
              "    </tr>\n",
              "    <tr>\n",
              "      <th>8609</th>\n",
              "      <td>100.891507</td>\n",
              "    </tr>\n",
              "  </tbody>\n",
              "</table>\n",
              "<p>8610 rows × 1 columns</p>\n",
              "</div>"
            ],
            "text/plain": [
              "         nusselt\n",
              "0      61.165728\n",
              "1      52.824696\n",
              "2      50.527730\n",
              "3      48.422178\n",
              "4      48.421871\n",
              "...          ...\n",
              "8605  108.036259\n",
              "8606  104.910067\n",
              "8607  105.201331\n",
              "8608  107.374645\n",
              "8609  100.891507\n",
              "\n",
              "[8610 rows x 1 columns]"
            ]
          },
          "execution_count": 44,
          "metadata": {},
          "output_type": "execute_result"
        }
      ],
      "source": []
    },
    {
      "cell_type": "code",
      "execution_count": null,
      "metadata": {
        "id": "b0mfKXGRI3ZU",
        "outputId": "4f48f3a4-9d2c-4827-f249-e4e0c6d81838"
      },
      "outputs": [
        {
          "name": "stdout",
          "output_type": "stream",
          "text": [
            "R^2 cdrag original: 0.9509992536047758, R^2 cdrag GPLearn: 0.9834064526321625 \n",
            "MSE cdrag original: 23.767192225174124, MSE cdrag GPLearn: 8.048490257841516 \n",
            "MAE cdrag original: 4.174721418276441, MAE cdrag GPLearn: 2.204764220777838 \n",
            "MAPE cdrag original: 7.197154998836116*100, MAPE cdrag GPLearn: 3.8382421591454543*100 \n"
          ]
        }
      ],
      "source": [
        "# Calcular cdrag_pred y cdrag_gp_pred en vectores separados\n",
        "cdrag_pred = X_test.apply(lambda row: nusselt(row['K'], row['Rem'], row['prandtl']), axis=1).values\n",
        "cdrag_gp_pred = X_test.apply(lambda row: nusselt_gp(row['K'], row['Rem'], row['prandtl']), axis=1).values\n",
        "\n",
        "# Calcular R^2 y MSE para cdrag\n",
        "r2_cdrag = r2_score(y_test['nusselt'], cdrag_pred)\n",
        "mse_cdrag = mean_squared_error(y_test['nusselt'], cdrag_pred)\n",
        "\n",
        "# Calcular MAE y MAPE para cdrag\n",
        "mae_cdrag = mean_absolute_error(y_test['nusselt'], cdrag_pred)\n",
        "mape_cdrag = mean_absolute_percentage_error(y_test['nusselt'], cdrag_pred)\n",
        "\n",
        "# Calcular R^2 y MSE para cdrag_gp\n",
        "r2_cdrag_gp = r2_score(y_test['nusselt'], cdrag_gp_pred)\n",
        "mse_cdrag_gp = mean_squared_error(y_test['nusselt'], cdrag_gp_pred)\n",
        "\n",
        "# Calcular MAE y MAPE para cdrag_gp\n",
        "mae_cdrag_gp = mean_absolute_error(y_test['nusselt'], cdrag_gp_pred)\n",
        "mape_cdrag_gp = mean_absolute_percentage_error(y_test['nusselt'], cdrag_gp_pred)\n",
        "\n",
        "#  Mostrar Metricas\n",
        "\n",
        "print(f\"R^2 cdrag original: {r2_cdrag}, R^2 cdrag GPLearn: {r2_cdrag_gp} \")\n",
        "print(f\"MSE cdrag original: {mse_cdrag}, MSE cdrag GPLearn: {mse_cdrag_gp} \")\n",
        "print(f\"MAE cdrag original: {mae_cdrag}, MAE cdrag GPLearn: {mae_cdrag_gp} \")\n",
        "print(f\"MAPE cdrag original: {mape_cdrag*100}*100, MAPE cdrag GPLearn: {mape_cdrag_gp*100}*100 \")"
      ]
    },
    {
      "cell_type": "markdown",
      "metadata": {
        "id": "dmfk78yHI3ZV"
      },
      "source": [
        "### Entrenar agregando potencias V4"
      ]
    },
    {
      "cell_type": "code",
      "execution_count": null,
      "metadata": {
        "id": "KyVH2YziI3ZV"
      },
      "outputs": [],
      "source": [
        "# 0.5 * S ^(-0.2) * Pr\n",
        "def pot1(x1,x2):\n",
        "    with np.errstate(divide='ignore', invalid='ignore'):\n",
        "        result = np.where((x1 > 0) & (x2>0),0.5*x1**(-0.2)*x2, 0)\n",
        "    return result\n",
        "\n",
        "pot1_fn = make_function(function=pot1,\n",
        "                        name='pot1',\n",
        "                        arity=2)\n",
        "\n",
        "# Re^(0.64)\n",
        "def pot2(x1):\n",
        "    with np.errstate(divide='ignore', invalid='ignore'):\n",
        "        result = np.where((x1 > 0) , x1**(0.64), 0)\n",
        "    return result\n",
        "\n",
        "pot2_fn = make_function(function=pot2,\n",
        "                        name='pot2',\n",
        "                        arity=1)"
      ]
    },
    {
      "cell_type": "code",
      "execution_count": null,
      "metadata": {
        "id": "LU67KHvnI3ZV",
        "outputId": "1dddfaa9-dd1f-4577-f935-7945ff713b5e"
      },
      "outputs": [
        {
          "name": "stderr",
          "output_type": "stream",
          "text": [
            "d:\\env\\lib\\site-packages\\sklearn\\utils\\validation.py:1339: DataConversionWarning: A column-vector y was passed when a 1d array was expected. Please change the shape of y to (n_samples, ), for example using ravel().\n",
            "  y = column_or_1d(y, warn=True)\n"
          ]
        },
        {
          "name": "stdout",
          "output_type": "stream",
          "text": [
            "    |   Population Average    |             Best Individual              |\n",
            "---- ------------------------- ------------------------------------------ ----------\n",
            " Gen   Length          Fitness   Length          Fitness      OOB Fitness  Time Left\n",
            "   0    24.85      2.63625e+11       28          2.13181          2.13015     17.50m\n",
            "   1    22.52       1.0166e+07       24          1.71166          1.70853     14.45m\n",
            "   2    28.67           123170       24          1.70518          1.76685     19.13m\n",
            "   3    27.14          10805.9       11            1.544           1.5088     15.15m\n",
            "   4    26.88          8492.31       11          1.53039          1.63125     14.78m\n",
            "   5    22.10      1.83723e+07       11          1.53442          1.59497     11.13m\n",
            "   6    14.49      1.95097e+06       11          1.53082          1.62744      7.79m\n",
            "   7    10.37          6396.48       11          1.52825          1.65051      6.65m\n",
            "   8    10.03          2480.13       11          1.52442            1.685      6.71m\n",
            "   9     8.48          8626.56        7          1.52586          1.67279      6.10m\n",
            "  10     7.39          10231.5        7          1.52746          1.65839      5.37m\n",
            "  11     7.10          1775.49        7          1.52594          1.67204      4.93m\n",
            "  12     7.17          8423.47        7          1.52505          1.68006      4.25m\n",
            "  13     7.11          6456.02        7           1.5269          1.66343      3.87m\n",
            "  14     7.02          8430.94        7           1.5216          1.71116      2.97m\n",
            "  15     7.07          387.845        7          1.52702          1.66236      2.40m\n",
            "  16     7.00          26548.1        7          1.52812          1.65246      1.78m\n",
            "  17     7.09          11195.2        7          1.52778          1.65555      1.21m\n",
            "  18     7.12          9607.42        7          1.52571          1.67415     36.02s\n",
            "  19     7.10          6905.65        7          1.52555          1.67559      0.00s\n",
            "Expresión: pot1(X0, pot2(pot1(pot2(X2), X1)))\n"
          ]
        }
      ],
      "source": [
        "# Modelo\n",
        "model = SymbolicRegressor(population_size=5000,\n",
        "                           generations=20,\n",
        "                           stopping_criteria=0.01,\n",
        "                           p_crossover=0.7,\n",
        "                           p_subtree_mutation=0.1,\n",
        "                           p_hoist_mutation=0.05,\n",
        "                           p_point_mutation=0.1,\n",
        "                           max_samples=0.9,\n",
        "                           verbose=1,\n",
        "                           parsimony_coefficient=0.01,\n",
        "                           random_state=123,\n",
        "                           function_set=['add', 'sub', 'mul', 'div',pot1_fn,pot2_fn])\n",
        "\n",
        "model.fit(X_train, y_train)\n",
        "\n",
        "# Obtener la expresión simbólica\n",
        "expression = model._program\n",
        "print(\"Expresión:\", expression)"
      ]
    },
    {
      "cell_type": "code",
      "execution_count": null,
      "metadata": {
        "id": "oCRQQXfAI3ZW",
        "outputId": "cb3084b2-68e3-4cfc-ada7-00a34dfb8cba"
      },
      "outputs": [
        {
          "name": "stdout",
          "output_type": "stream",
          "text": [
            "MSE: 4.744489424390825\n",
            "R^2: 0.9902183008890233\n"
          ]
        }
      ],
      "source": [
        "# Predecir en los datos de prueba\n",
        "y_pred = model.predict(X_test)\n",
        "\n",
        "# Calcular métricas\n",
        "mse = mean_squared_error(y_test, y_pred)\n",
        "r2 = r2_score(y_test, y_pred)\n",
        "\n",
        "print(\"MSE:\", mse)\n",
        "print(\"R^2:\", r2)"
      ]
    },
    {
      "cell_type": "code",
      "execution_count": null,
      "metadata": {
        "id": "z1iEA9K7I3ZW"
      },
      "outputs": [],
      "source": [
        "def nusselt(S, Re, Pr):\n",
        "    return 0.5 * S **(-0.2) * Re **(0.64) * Pr\n",
        "\n",
        "def nusselt_gp(S, Re, Pr):\n",
        "    return 0.32086 * S**(-0.2) * Re**(0.64) * Pr**(-0.0806)"
      ]
    },
    {
      "cell_type": "code",
      "execution_count": null,
      "metadata": {
        "id": "XGBIBPfrI3ZX",
        "outputId": "d39a5d7d-d7bd-4018-9fd4-28e4af4ed5ce",
        "colab": {
          "base_uri": "https://localhost:8080/"
        }
      },
      "outputs": [
        {
          "output_type": "stream",
          "name": "stdout",
          "text": [
            "R^2 cdrag original: 0.9509992536047758, R^2 cdrag GPLearn: 0.9901893887939061 \n",
            "MSE cdrag original: 23.767192225174124, MSE cdrag GPLearn: 4.75851287041635 \n",
            "MAE cdrag original: 4.174721418276441, MAE cdrag GPLearn: 1.5608072500947368 \n",
            "MAPE cdrag original: 7.197154998836116*100, MAPE cdrag GPLearn: 2.719390533868199*100 \n"
          ]
        }
      ],
      "source": [
        "# Calcular cdrag_pred y cdrag_gp_pred en vectores separados\n",
        "cdrag_pred = X_test.apply(lambda row: nusselt(row['K'], row['Rem'], row['prandtl']), axis=1).values\n",
        "cdrag_gp_pred = X_test.apply(lambda row: nusselt_gp(row['K'], row['Rem'], row['prandtl']), axis=1).values\n",
        "\n",
        "# Calcular R^2 y MSE para cdrag\n",
        "r2_cdrag = r2_score(y_test['nusselt'], cdrag_pred)\n",
        "mse_cdrag = mean_squared_error(y_test['nusselt'], cdrag_pred)\n",
        "\n",
        "# Calcular MAE y MAPE para cdrag\n",
        "mae_cdrag = mean_absolute_error(y_test['nusselt'], cdrag_pred)\n",
        "mape_cdrag = mean_absolute_percentage_error(y_test['nusselt'], cdrag_pred)\n",
        "\n",
        "# Calcular R^2 y MSE para cdrag_gp\n",
        "r2_cdrag_gp = r2_score(y_test['nusselt'], cdrag_gp_pred)\n",
        "mse_cdrag_gp = mean_squared_error(y_test['nusselt'], cdrag_gp_pred)\n",
        "\n",
        "# Calcular MAE y MAPE para cdrag_gp\n",
        "mae_cdrag_gp = mean_absolute_error(y_test['nusselt'], cdrag_gp_pred)\n",
        "mape_cdrag_gp = mean_absolute_percentage_error(y_test['nusselt'], cdrag_gp_pred)\n",
        "\n",
        "#  Mostrar Metricas\n",
        "\n",
        "print(f\"R^2 cdrag original: {r2_cdrag}, R^2 cdrag GPLearn: {r2_cdrag_gp} \")\n",
        "print(f\"MSE cdrag original: {mse_cdrag}, MSE cdrag GPLearn: {mse_cdrag_gp} \")\n",
        "print(f\"MAE cdrag original: {mae_cdrag}, MAE cdrag GPLearn: {mae_cdrag_gp} \")\n",
        "print(f\"MAPE cdrag original: {mape_cdrag*100}*100, MAPE cdrag GPLearn: {mape_cdrag_gp*100}*100 \")"
      ]
    },
    {
      "cell_type": "markdown",
      "metadata": {
        "id": "hd6XBItKI3ZX"
      },
      "source": [
        "### Experimento: ajuste automatico de constante"
      ]
    },
    {
      "cell_type": "code",
      "execution_count": null,
      "metadata": {
        "id": "uHez9IpdI3ZX"
      },
      "outputs": [],
      "source": [
        "# X4 * S ^(-0.2) * Re ^0.64 * Pr\n",
        "def pot1(x1, x2, x3, A):\n",
        "    con = (A>0) & (A<1)\n",
        "    with np.errstate(divide='ignore', invalid='ignore'):\n",
        "        result = np.where((x1 > 0) & (x2>0) & (x3>0) & con, A*x1**(-0.2)* x2 **(0.64) * x3, 0)\n",
        "    return result\n",
        "\n",
        "pot1 = make_function(function=pot1,\n",
        "                        name='pot1',\n",
        "                        arity=4)"
      ]
    },
    {
      "cell_type": "code",
      "execution_count": null,
      "metadata": {
        "colab": {
          "base_uri": "https://localhost:8080/"
        },
        "id": "2MWbNdIgI3ZY",
        "outputId": "2a7266e4-3fa6-4e31-b401-c247802eb667"
      },
      "outputs": [
        {
          "output_type": "stream",
          "name": "stdout",
          "text": [
            "    |   Population Average    |             Best Individual              |\n",
            "---- ------------------------- ------------------------------------------ ----------\n",
            " Gen   Length          Fitness   Length          Fitness      OOB Fitness  Time Left\n",
            "   0   759.06          424.947        9          8.75726           8.7988    594.60m\n",
            "   1    11.69          4408.86        9          7.71734          7.90505     11.42m\n",
            "   2     7.97            27399        9          2.51058          2.61845      8.41m\n",
            "   3     8.36          2911.96        5          1.92589          1.87022      8.27m\n",
            "   4     9.80           148170        9          1.58864          1.57872      9.17m\n",
            "   5     9.82          41887.8        9          1.58689          1.59444      8.20m\n",
            "   6    10.09          33362.6        9          1.57781           1.6762      7.84m\n",
            "   7     9.00          6850.15        9          1.56749          1.63974      6.74m\n",
            "   8     9.26          12757.4        9          1.55632          1.56564      6.05m\n",
            "   9     9.40          12087.9        9          1.55611          1.56752      5.70m\n",
            "  10     9.26          1734.63        9          1.55071          1.61614      4.98m\n",
            "  11     9.59            23533        9          1.54602          1.65837      4.66m\n",
            "  12     9.92          1642.34        9          1.54325          1.66343      4.09m\n",
            "  13     9.55          835.536        9          1.54283          1.68707      3.33m\n",
            "  14     9.41          1482.42        9          1.54323          1.68344      2.79m\n",
            "  15    10.57          22492.2        9          1.53796          1.54782      2.54m\n",
            "  16     9.42          1941.13        9           1.5325          1.59698      1.65m\n",
            "  17     9.77          5161.72        9          1.53441          1.57977      1.17m\n",
            "  18     9.52          2338.65        9          1.52775          1.63976     33.58s\n",
            "  19    10.48          1006.44        9          1.52611          1.65446      0.00s\n",
            "Expresión: pot1(pot1(0.587, 0.472, X0, X2), X1, 0.404, 0.710)\n"
          ]
        }
      ],
      "source": [
        "# Modelo\n",
        "model = SymbolicRegressor(population_size=5000,\n",
        "                        generations=20,\n",
        "                        stopping_criteria=0.01,\n",
        "                        p_crossover=0.7,\n",
        "                        p_subtree_mutation=0.1,\n",
        "                        p_hoist_mutation=0.05,\n",
        "                        p_point_mutation=0.1,\n",
        "                        max_samples=0.9,\n",
        "                        verbose=1,\n",
        "                        parsimony_coefficient=0.01,\n",
        "                        random_state=0,\n",
        "                        function_set=[pot1])\n",
        "\n",
        "model.fit(X_train, y_train)\n",
        "\n",
        "# Obtener la expresión simbólica\n",
        "expression = model._program\n",
        "print(\"Expresión:\", expression)"
      ]
    },
    {
      "cell_type": "code",
      "source": [
        "y_pred = model.predict(X_test)\n",
        "\n",
        "# Calcular métricas\n",
        "mse = mean_squared_error(y_test, y_pred)\n",
        "r2 = r2_score(y_test, y_pred)\n",
        "\n",
        "print(\"MSE:\", mse)\n",
        "print(\"R^2:\", r2)"
      ],
      "metadata": {
        "colab": {
          "base_uri": "https://localhost:8080/"
        },
        "id": "C7DsgFl8nGla",
        "outputId": "1c672c9b-0bb3-4fd0-973a-557a7f34b9e2"
      },
      "execution_count": null,
      "outputs": [
        {
          "output_type": "stream",
          "name": "stdout",
          "text": [
            "MSE: 4.694393322970937\n",
            "R^2: 0.9903215838657338\n"
          ]
        }
      ]
    },
    {
      "cell_type": "code",
      "source": [
        "def nusselt(S, Re, Pr):\n",
        "    return 0.5 * S **(-0.2) * Re **(0.64) * Pr\n",
        "\n",
        "def nusselt_gp(S, Re, Pr):\n",
        "    return 0.30912*(S*Pr)**(-0.2)*Re**(0.64)"
      ],
      "metadata": {
        "id": "W3Npuv32Osco"
      },
      "execution_count": null,
      "outputs": []
    },
    {
      "cell_type": "code",
      "source": [
        "# Calcular nusselt_pred y nusselt_gp_pred en vectores separados\n",
        "nusselt_pred = X_test.apply(lambda row: nusselt(row['K'], row['Rem'], row['prandtl']), axis=1).values\n",
        "nusselt_gp_pred = X_test.apply(lambda row: nusselt_gp(row['K'], row['Rem'], row['prandtl']), axis=1).values\n",
        "\n",
        "# Calcular R^2 y MSE para nusselt\n",
        "r2_nusselt = r2_score(y_test['nusselt'], nusselt_pred)\n",
        "mse_nusselt = mean_squared_error(y_test['nusselt'], nusselt_pred)\n",
        "\n",
        "# Calcular MAE y MAPE para nusselt\n",
        "mae_nusselt = mean_absolute_error(y_test['nusselt'], nusselt_pred)\n",
        "mape_nusselt = mean_absolute_percentage_error(y_test['nusselt'], nusselt_pred)\n",
        "\n",
        "# Calcular R^2 y MSE para nusselt_gp\n",
        "r2_nusselt_gp = r2_score(y_test['nusselt'], nusselt_gp_pred)\n",
        "mse_nusselt_gp = mean_squared_error(y_test['nusselt'], nusselt_gp_pred)\n",
        "\n",
        "# Calcular MAE y MAPE para nusselt_gp\n",
        "mae_nusselt_gp = mean_absolute_error(y_test['nusselt'], nusselt_gp_pred)\n",
        "mape_nusselt_gp = mean_absolute_percentage_error(y_test['nusselt'], nusselt_gp_pred)\n",
        "\n",
        "#  Mostrar Métricas\n",
        "\n",
        "print(f\"R^2 nusselt original: {r2_nusselt}, R^2 nusselt GPLearn: {r2_nusselt_gp} \")\n",
        "print(f\"MSE nusselt original: {mse_nusselt}, MSE nusselt GPLearn: {mse_nusselt_gp} \")\n",
        "print(f\"MAE nusselt original: {mae_nusselt}, MAE nusselt GPLearn: {mae_nusselt_gp} \")\n",
        "print(f\"MAPE nusselt original: {mape_nusselt*100}%, MAPE nusselt GPLearn: {mape_nusselt_gp*100}% \")"
      ],
      "metadata": {
        "colab": {
          "base_uri": "https://localhost:8080/"
        },
        "id": "sIqCwraDPXfo",
        "outputId": "c2b5b032-71cb-4b31-8d27-acf89e1e0df6"
      },
      "execution_count": null,
      "outputs": [
        {
          "output_type": "stream",
          "name": "stdout",
          "text": [
            "R^2 nusselt original: 0.9509992536047758, R^2 nusselt GPLearn: 0.990348112149519 \n",
            "MSE nusselt original: 23.767192225174124, MSE nusselt GPLearn: 4.681526114478963 \n",
            "MAE nusselt original: 4.174721418276441, MAE nusselt GPLearn: 1.5603540746549476 \n",
            "MAPE nusselt original: 7.197154998836116%, MAPE nusselt GPLearn: 2.7361180199534223% \n"
          ]
        }
      ]
    },
    {
      "cell_type": "markdown",
      "metadata": {
        "id": "8J1DNJbNtXeW"
      },
      "source": [
        "### Experimento: Ajuste automatico de exponente"
      ]
    },
    {
      "cell_type": "code",
      "execution_count": null,
      "metadata": {
        "id": "lZJ0vGr_tb7M"
      },
      "outputs": [],
      "source": [
        "# x1* A\n",
        "def pot1(x1, A):\n",
        "    con = (x1>0)\n",
        "    con2 = (A<1) & (A>-1)\n",
        "    with np.errstate(divide='ignore', invalid='ignore'):\n",
        "        result = np.where(con & con2, np.power(x1,A), 0)\n",
        "    return result\n",
        "\n",
        "pot1_fn = make_function(function=pot1,\n",
        "                        name='pot1',\n",
        "                        arity=2)"
      ]
    },
    {
      "cell_type": "code",
      "execution_count": null,
      "metadata": {
        "colab": {
          "base_uri": "https://localhost:8080/"
        },
        "id": "Pgd3fzTUuI52",
        "outputId": "2a774206-36d2-4af6-9a16-87d2a2bfbca8"
      },
      "outputs": [
        {
          "output_type": "stream",
          "name": "stdout",
          "text": [
            "    |   Population Average    |             Best Individual              |\n",
            "---- ------------------------- ------------------------------------------ ----------\n",
            " Gen   Length          Fitness   Length          Fitness      OOB Fitness  Time Left\n"
          ]
        },
        {
          "output_type": "stream",
          "name": "stderr",
          "text": [
            "<ipython-input-54-80b9b0bf0bf0>:6: RuntimeWarning: overflow encountered in power\n",
            "  result = np.where(con & con2, np.power(x1,A), 0)\n"
          ]
        },
        {
          "output_type": "stream",
          "name": "stdout",
          "text": [
            "   0    29.86       9.0327e+12        5          5.09411          5.08621     14.03m\n",
            "   1    10.02      3.95072e+06        5          5.05824          5.40902      6.17m\n",
            "   2    10.87      2.59763e+07        7          4.10632          3.97934      5.33m\n",
            "   3     8.87      1.76421e+06        7           4.0847          4.17397      4.68m\n",
            "   4     5.84           539341        7          4.06301          4.36916      3.99m\n",
            "   5     5.57      9.43835e+06        7          4.06659          4.33688      3.58m\n",
            "   6     6.21      1.48285e+06        7          4.06663          4.33656      3.18m\n",
            "   7     6.88      1.79694e+06        7          3.93202           3.9537      2.62m\n",
            "   8     7.02      1.37634e+10        7          3.92105          4.05244      2.32m\n",
            "   9     7.10          86738.1        7          3.91721          4.08703      2.19m\n",
            "  10     7.12          18056.8        7          3.90792           4.1706      2.01m\n",
            "  11     7.04           180093        7          3.90118          4.23131      1.76m\n",
            "  12     7.09           374355        7          3.89872          4.25345      1.54m\n",
            "  13     7.16          43855.6        7          3.90153          4.22818      1.54m\n",
            "  14     7.11      3.19836e+07        7          3.90095          4.23338      1.12m\n",
            "  15     7.08          27330.6        7          3.90358          4.20967     52.77s\n",
            "  16     7.01      1.42675e+07        7          3.89934          4.24785     40.09s\n",
            "  17     7.06          18386.5        7          3.90171          4.22654     26.53s\n",
            "  18     7.02          20611.7        7          3.90226          4.22155     12.68s\n",
            "  19     7.20      9.68335e+06        7          3.89892          4.25164      0.00s\n",
            "Expresión: mul(pot1(X1, mul(0.771, 0.713)), X2)\n"
          ]
        }
      ],
      "source": [
        "# Modelo\n",
        "model = SymbolicRegressor(population_size=5000,\n",
        "                        generations=20,\n",
        "                        stopping_criteria=0.01,\n",
        "                        p_crossover=0.7,\n",
        "                        p_subtree_mutation=0.1,\n",
        "                        p_hoist_mutation=0.05,\n",
        "                        p_point_mutation=0.1,\n",
        "                        max_samples=0.9,\n",
        "                        verbose=1,\n",
        "                        parsimony_coefficient=0.01,\n",
        "                        random_state=42,\n",
        "                        function_set=['mul',pot1_fn])\n",
        "\n",
        "model.fit(X_train, y_train)\n",
        "\n",
        "# Obtener la expresión simbólica\n",
        "expression = model._program\n",
        "print(\"Expresión:\", expression)"
      ]
    },
    {
      "cell_type": "code",
      "source": [
        "y_pred = model.predict(X_test)\n",
        "\n",
        "# Calcular métricas\n",
        "mse = mean_squared_error(y_test, y_pred)\n",
        "r2 = r2_score(y_test, y_pred)\n",
        "\n",
        "print(\"MSE:\", mse)\n",
        "print(\"R^2:\", r2)"
      ],
      "metadata": {
        "colab": {
          "base_uri": "https://localhost:8080/"
        },
        "id": "WRfEQVU3XuDn",
        "outputId": "cb12c112-e4eb-4025-c3b2-e9b9f789b953"
      },
      "execution_count": null,
      "outputs": [
        {
          "output_type": "stream",
          "name": "stdout",
          "text": [
            "MSE: 31.9022198519111\n",
            "R^2: 0.9342272924122517\n"
          ]
        }
      ]
    },
    {
      "cell_type": "markdown",
      "source": [
        "### Experimento: Ajuste Automatico de constante V2"
      ],
      "metadata": {
        "id": "blMGSiwhauoY"
      }
    },
    {
      "cell_type": "code",
      "source": [
        "# x1** A *x2\n",
        "def pot1(x1,x2, A):\n",
        "    con = (x1>0)\n",
        "    con2 = (A<1) & (A>-1)\n",
        "    con3 = (x2>0)\n",
        "    with np.errstate(divide='ignore', invalid='ignore'):\n",
        "        result = np.where(con & con2, x2*np.power(x1,A), 0)\n",
        "    return result\n",
        "\n",
        "pot1_fn = make_function(function=pot1,\n",
        "                        name='pot1',\n",
        "                        arity=3)"
      ],
      "metadata": {
        "id": "EJ5JM4xka0S9"
      },
      "execution_count": null,
      "outputs": []
    },
    {
      "cell_type": "code",
      "source": [
        "# Modelo\n",
        "model = SymbolicRegressor(population_size=5000,\n",
        "                        generations=20,\n",
        "                        stopping_criteria=0.01,\n",
        "                        p_crossover=0.7,\n",
        "                        p_subtree_mutation=0.1,\n",
        "                        p_hoist_mutation=0.05,\n",
        "                        p_point_mutation=0.1,\n",
        "                        max_samples=0.9,\n",
        "                        verbose=1,\n",
        "                        parsimony_coefficient=0.01,\n",
        "                        random_state=0,\n",
        "                        function_set=['mul',pot1_fn])\n",
        "\n",
        "model.fit(X_train, y_train)\n",
        "\n",
        "# Obtener la expresión simbólica\n",
        "expression = model._program\n",
        "print(\"Expresión:\", expression)"
      ],
      "metadata": {
        "colab": {
          "base_uri": "https://localhost:8080/"
        },
        "id": "y6UhFTSCbFT7",
        "outputId": "f2dd1e39-4940-4838-e557-824a334f8cdb"
      },
      "execution_count": null,
      "outputs": [
        {
          "metadata": {
            "tags": null
          },
          "name": "stdout",
          "output_type": "stream",
          "text": [
            "    |   Population Average    |             Best Individual              |\n",
            "---- ------------------------- ------------------------------------------ ----------\n",
            " Gen   Length          Fitness   Length          Fitness      OOB Fitness  Time Left\n"
          ]
        },
        {
          "metadata": {
            "tags": null
          },
          "name": "stderr",
          "output_type": "stream",
          "text": [
            "<ipython-input-47-1b1940ad24f9>:7: RuntimeWarning: overflow encountered in power\n",
            "  result = np.where(con & con2, x2*np.power(x1,A), 0)\n",
            "<ipython-input-47-1b1940ad24f9>:7: RuntimeWarning: overflow encountered in multiply\n",
            "  result = np.where(con & con2, x2*np.power(x1,A), 0)\n"
          ]
        },
        {
          "output_type": "stream",
          "name": "stdout",
          "text": [
            "   0    78.74      1.56333e+27       35          11.3756          11.3252     28.76m\n",
            "   1    11.24      8.79388e+08       25          4.01821          4.19878      5.56m\n",
            "   2    12.61      3.95202e+12       15          2.97036          2.99578      5.60m\n",
            "   3    18.50      3.00022e+09       15          2.96261          3.06557      8.58m\n",
            "   4    21.36      9.23829e+07       15          2.95465          3.13724      7.44m\n",
            "   5    19.79      1.60217e+06       18          1.99733          2.05634      5.74m\n",
            "   6    16.60       1.0107e+07       34          1.84447          1.88272      5.02m\n",
            "   7    17.21      1.29466e+11       24          1.81553          1.87377      4.42m\n",
            "   8    19.10      4.74083e+09       24          1.81152          1.90984      4.48m\n",
            "   9    24.42       3.4281e+08       42          1.79785          1.86016      4.64m\n",
            "  10    22.14      4.06209e+06       24           1.8016          1.86552      4.13m\n",
            "  11    18.66       1.0723e+07       22          1.80012           1.9379      3.19m\n",
            "  12    15.78      1.11108e+06       24          1.80309          1.85211      2.38m\n",
            "  13    13.73      1.14146e+10       22          1.80548          1.88968      1.91m\n",
            "  14    11.82      7.86852e+09       15           1.8233          1.99316      1.71m\n",
            "  15    11.12      2.45712e+09       13          1.83247          1.92964      1.25m\n",
            "  16    11.05      6.77369e+15       11          1.83729          2.05014     56.70s\n",
            "  17    11.07      3.25918e+09       13            1.828          1.96979     40.29s\n",
            "  18    11.08      9.11871e+10       13          1.83758          1.88362     18.60s\n",
            "  19    11.04      4.34629e+08       13          1.83612          1.89674      0.00s\n",
            "Expresión: pot1(X1, mul(pot1(0.287, X2, mul(mul(0.311, X2), X0)), 0.484), 0.670)\n"
          ]
        }
      ]
    },
    {
      "cell_type": "code",
      "source": [
        "y_pred = model.predict(X_test)\n",
        "\n",
        "# Calcular métricas\n",
        "mse = mean_squared_error(y_test, y_pred)\n",
        "r2 = r2_score(y_test, y_pred)\n",
        "\n",
        "print(\"MSE:\", mse)\n",
        "print(\"R^2:\", r2)"
      ],
      "metadata": {
        "colab": {
          "base_uri": "https://localhost:8080/"
        },
        "id": "4t25QE8Qgf8u",
        "outputId": "e9f7eb58-f119-49c3-9218-d26183345cf3"
      },
      "execution_count": null,
      "outputs": [
        {
          "output_type": "stream",
          "name": "stdout",
          "text": [
            "MSE: 6.7616908401481925\n",
            "R^2: 0.9860594429951187\n"
          ]
        }
      ]
    },
    {
      "cell_type": "code",
      "source": [
        "def nusselt(S, Re, Pr):\n",
        "    return 0.5 * S **(-0.2) * Re **(0.64) * Pr\n",
        "\n",
        "def nusselt_gp(S, Re, Pr):\n",
        "    return 0.484 * Pr * 0.287**(0.311*S*Pr) * Re**0.670"
      ],
      "metadata": {
        "id": "sy0o3wNkh51E"
      },
      "execution_count": null,
      "outputs": []
    },
    {
      "cell_type": "code",
      "source": [
        "# Calcular nusselt_pred y nusselt_gp_pred en vectores separados\n",
        "nusselt_pred = X_test.apply(lambda row: nusselt(row['K'], row['Rem'], row['prandtl']), axis=1).values\n",
        "nusselt_gp_pred = X_test.apply(lambda row: nusselt_gp(row['K'], row['Rem'], row['prandtl']), axis=1).values\n",
        "\n",
        "# Calcular R^2 y MSE para nusselt\n",
        "r2_nusselt = r2_score(y_test['nusselt'], nusselt_pred)\n",
        "mse_nusselt = mean_squared_error(y_test['nusselt'], nusselt_pred)\n",
        "\n",
        "# Calcular MAE y MAPE para nusselt\n",
        "mae_nusselt = mean_absolute_error(y_test['nusselt'], nusselt_pred)\n",
        "mape_nusselt = mean_absolute_percentage_error(y_test['nusselt'], nusselt_pred)\n",
        "\n",
        "# Calcular R^2 y MSE para nusselt_gp\n",
        "r2_nusselt_gp = r2_score(y_test['nusselt'], nusselt_gp_pred)\n",
        "mse_nusselt_gp = mean_squared_error(y_test['nusselt'], nusselt_gp_pred)\n",
        "\n",
        "# Calcular MAE y MAPE para nusselt_gp\n",
        "mae_nusselt_gp = mean_absolute_error(y_test['nusselt'], nusselt_gp_pred)\n",
        "mape_nusselt_gp = mean_absolute_percentage_error(y_test['nusselt'], nusselt_gp_pred)\n",
        "\n",
        "#  Mostrar Métricas\n",
        "\n",
        "print(f\"R^2 nusselt original: {r2_nusselt}, R^2 nusselt GPLearn: {r2_nusselt_gp} \")\n",
        "print(f\"MSE nusselt original: {mse_nusselt}, MSE nusselt GPLearn: {mse_nusselt_gp} \")\n",
        "print(f\"MAE nusselt original: {mae_nusselt}, MAE nusselt GPLearn: {mae_nusselt_gp} \")\n",
        "print(f\"MAPE nusselt original: {mape_nusselt*100}%, MAPE nusselt GPLearn: {mape_nusselt_gp*100}% \")"
      ],
      "metadata": {
        "colab": {
          "base_uri": "https://localhost:8080/"
        },
        "id": "17F4E9JkiHyA",
        "outputId": "4261bc81-72d0-4227-ede1-bd577e715a28"
      },
      "execution_count": null,
      "outputs": [
        {
          "output_type": "stream",
          "name": "stdout",
          "text": [
            "R^2 nusselt original: 0.9509992536047758, R^2 nusselt GPLearn: 0.9862733804514594 \n",
            "MSE nusselt original: 23.767192225174124, MSE nusselt GPLearn: 6.657923183059813 \n",
            "MAE nusselt original: 4.174721418276441, MAE nusselt GPLearn: 1.7929337892268358 \n",
            "MAPE nusselt original: 7.197154998836116%, MAPE nusselt GPLearn: 3.1159537690684957% \n"
          ]
        }
      ]
    },
    {
      "cell_type": "markdown",
      "source": [
        "### Experimento: Ajuste automatico de constante V3"
      ],
      "metadata": {
        "id": "Et-Plqkb9zua"
      }
    },
    {
      "cell_type": "code",
      "source": [
        "def pot1(x1, x2, x3, x4):\n",
        "    with np.errstate(divide='ignore', invalid='ignore'):\n",
        "        result = np.where((x1 > 0) & (x2>0) & (x3>0), x4*x1**(-0.2)* x2 **(0.64) * x3, 0)\n",
        "    return result\n",
        "\n",
        "pot1_fn = make_function(function=pot1,\n",
        "                        name='pot1',\n",
        "                        arity=4)"
      ],
      "metadata": {
        "id": "LCKX1jOS95Uq"
      },
      "execution_count": null,
      "outputs": []
    },
    {
      "cell_type": "code",
      "source": [
        "model = SymbolicRegressor(population_size=5000,\n",
        "                           generations=20,\n",
        "                           stopping_criteria=0.01,\n",
        "                           p_crossover=0.7,\n",
        "                           p_subtree_mutation=0.1,\n",
        "                           p_hoist_mutation=0.05,\n",
        "                           p_point_mutation=0.1,\n",
        "                           max_samples=0.9,\n",
        "                           verbose=1,\n",
        "                           parsimony_coefficient=0.01,\n",
        "                           random_state=42,\n",
        "                           function_set=[pot1_fn])\n",
        "\n",
        "model.fit(X_train, y_train)\n",
        "\n",
        "# Obtener la expresión simbólica\n",
        "expression = model._program\n",
        "print(\"Expresión:\", expression)"
      ],
      "metadata": {
        "colab": {
          "base_uri": "https://localhost:8080/"
        },
        "id": "77RY2CSN99LF",
        "outputId": "89b4c57b-b406-4c11-bb00-8366a0dc9bf2"
      },
      "execution_count": null,
      "outputs": [
        {
          "output_type": "stream",
          "name": "stdout",
          "text": [
            "    |   Population Average    |             Best Individual              |\n",
            "---- ------------------------- ------------------------------------------ ----------\n",
            " Gen   Length          Fitness   Length          Fitness      OOB Fitness  Time Left\n",
            "   0   757.77      8.83101e+16        5          4.31785          4.39546    604.62m\n",
            "   1    13.14      2.30813e+12        5          2.81652          2.79483     12.71m\n",
            "   2    10.76      7.16365e+08       37          1.77045           1.6835     10.87m\n",
            "   3    11.23      4.63401e+19       37          1.76174          1.76185     10.10m\n",
            "   4     6.86      5.74908e+07       37          1.75492          1.82328      6.88m\n",
            "   5     7.27      1.97571e+08       37          1.75144           1.8546      6.60m\n",
            "   6    10.09      5.50028e+20       37           1.7493          1.87379      8.21m\n",
            "   7    11.90      8.84481e+08       37          1.75118          1.85693      8.10m\n",
            "   8    10.48      1.32567e+09        9          1.60515          1.61113      6.59m\n",
            "   9     9.33      1.92474e+09        9           1.6002          1.64459      5.80m\n",
            "  10     9.84      1.55674e+08        9          1.59583          1.69496      5.34m\n",
            "  11     9.64      1.19307e+08        9          1.56895          1.67148      4.88m\n",
            "  12     9.45      2.07586e+08        9           1.5675          1.68447      4.14m\n",
            "  13     9.37      1.96205e+08        9          1.56553           1.7022      3.37m\n",
            "  14     9.23      1.69934e+08        9          1.55551          1.62399      2.86m\n",
            "  15     9.60      1.81463e+13        9          1.55522          1.62661      2.29m\n",
            "  16     9.23      1.11189e+08        9          1.54866           1.6856      1.70m\n",
            "  17     9.58        3.441e+11        9            1.544          1.65039      1.13m\n",
            "  18     9.98      2.22902e+08        9          1.54209          1.66751     37.94s\n",
            "  19     9.60       1.5026e+07        9           1.5394          1.69177      0.00s\n",
            "Expresión: pot1(X0, 0.723, 0.709, pot1(0.511, X1, 0.709, 0.709))\n"
          ]
        }
      ]
    },
    {
      "cell_type": "code",
      "source": [
        "y_pred = model.predict(X_test)\n",
        "\n",
        "# Calcular métricas\n",
        "mse = mean_squared_error(y_test, y_pred)\n",
        "r2 = r2_score(y_test, y_pred)\n",
        "\n",
        "print(\"MSE:\", mse)\n",
        "print(\"R^2:\", r2)"
      ],
      "metadata": {
        "colab": {
          "base_uri": "https://localhost:8080/"
        },
        "id": "5dzYZHQJ_bbn",
        "outputId": "de643578-957e-4399-cefd-1afaec83b3b4"
      },
      "execution_count": null,
      "outputs": [
        {
          "output_type": "stream",
          "name": "stdout",
          "text": [
            "MSE: 4.702760642569644\n",
            "R^2: 0.9903043329889041\n"
          ]
        }
      ]
    },
    {
      "cell_type": "code",
      "source": [
        "def nusselt(S, Re, Pr):\n",
        "    return 0.5 * S **(-0.2) * Re **(0.64) * Pr\n",
        "\n",
        "def nusselt_gp(S, Re, Pr):\n",
        "    return 0.484 * Pr * 0.287**(0.311*S*Pr) * Re**0.670"
      ],
      "metadata": {
        "id": "EhlyrJyELJcI"
      },
      "execution_count": null,
      "outputs": []
    },
    {
      "cell_type": "markdown",
      "source": [
        "### Experimento: Ajuste automatico de constante V4"
      ],
      "metadata": {
        "id": "qjgUWtisMDxQ"
      }
    },
    {
      "cell_type": "code",
      "source": [
        "model = SymbolicRegressor(population_size=5000,\n",
        "                           generations=20,\n",
        "                           stopping_criteria=0.01,\n",
        "                           p_crossover=0.7,\n",
        "                           p_subtree_mutation=0.1,\n",
        "                           p_hoist_mutation=0.05,\n",
        "                           p_point_mutation=0.1,\n",
        "                           max_samples=0.9,\n",
        "                           verbose=1,\n",
        "                           parsimony_coefficient=0.01,\n",
        "                           random_state=42,\n",
        "                           function_set=['add', 'sub', 'mul', 'div',pot1_fn])\n",
        "\n",
        "model.fit(X_train, y_train)\n",
        "\n",
        "# Obtener la expresión simbólica\n",
        "expression = model._program\n",
        "print(\"Expresión:\", expression)"
      ],
      "metadata": {
        "colab": {
          "base_uri": "https://localhost:8080/"
        },
        "id": "n-cztd94MJSk",
        "outputId": "56e41bc8-7688-47b2-bd07-2280e7a2235a"
      },
      "execution_count": null,
      "outputs": [
        {
          "output_type": "stream",
          "name": "stdout",
          "text": [
            "    |   Population Average    |             Best Individual              |\n",
            "---- ------------------------- ------------------------------------------ ----------\n",
            " Gen   Length          Fitness   Length          Fitness      OOB Fitness  Time Left\n",
            "   0    75.65      4.88859e+23        7          4.50603          4.42802     26.36m\n",
            "   1    27.36      2.65266e+13        7          4.48752          4.59462     10.02m\n",
            "   2    41.64      5.27191e+09       19          1.72347          1.66648     13.85m\n",
            "   3    26.97      2.14706e+11       17          1.71212          1.76924     10.19m\n",
            "   4    17.17      2.62789e+11       19          1.70961          1.79233      7.34m\n",
            "   5    23.74      1.20825e+07       19          1.66083          1.69868      8.03m\n",
            "   6    25.07      1.28172e+09       15          1.62325          1.66641      7.64m\n",
            "   7    16.90      6.33915e+09       15          1.62054          1.69074      4.78m\n",
            "   8    13.66      9.49802e+10       15          1.59009          1.60537      3.95m\n",
            "   9    13.51      2.04925e+07       17           1.5666          1.61846      3.44m\n",
            "  10    13.80      5.49605e+09       15          1.56328          1.63898      3.28m\n",
            "  11    14.43      3.84985e+07       13          1.55746          1.68379      2.95m\n",
            "  12    14.06      1.72442e+07       17          1.55123          1.63448      2.61m\n",
            "  13    13.73      2.94361e+09       15          1.55092           1.6424      2.11m\n",
            "  14    13.24      2.86627e+07       15          1.55247          1.62401      1.87m\n",
            "  15    13.00      8.81235e+10       15          1.55403          1.60992      1.39m\n",
            "  16    12.89          21784.7       15          1.54957          1.65006      1.10m\n",
            "  17    11.84      3.39647e+08       15          1.54959          1.65816     40.92s\n",
            "  18    11.25      3.93805e+21       13          1.55731          1.68508     23.77s\n",
            "  19    11.17      4.35402e+08       17          1.55546          1.62294      0.00s\n",
            "Expresión: add(mul(mul(-0.876, 0.924), mul(X0, X2)), pot1(div(X0, 0.866), X1, add(-0.264, X2), 0.774))\n"
          ]
        }
      ]
    },
    {
      "cell_type": "code",
      "source": [
        "y_pred = model.predict(X_test)\n",
        "\n",
        "# Calcular métricas\n",
        "mse = mean_squared_error(y_test, y_pred)\n",
        "r2 = r2_score(y_test, y_pred)\n",
        "\n",
        "print(\"MSE:\", mse)\n",
        "print(\"R^2:\", r2)"
      ],
      "metadata": {
        "colab": {
          "base_uri": "https://localhost:8080/"
        },
        "id": "Qp_tZIq5Rf1_",
        "outputId": "0eaaabe9-8bf7-44f9-8798-bbafd911653d"
      },
      "execution_count": null,
      "outputs": [
        {
          "output_type": "stream",
          "name": "stdout",
          "text": [
            "MSE: 4.787532791681305\n",
            "R^2: 0.9901295585123633\n"
          ]
        }
      ]
    },
    {
      "cell_type": "code",
      "source": [
        "def nusselt(S, Re, Pr):\n",
        "    return 0.5 * S **(-0.2) * Re **(0.64) * Pr\n",
        "\n",
        "def nusselt_gp(S, Re, Pr):\n",
        "    return -0.809424*S*Pr + 0.75204*S**(-0.2)* Re**(0.64)*(-0.264+Pr)"
      ],
      "metadata": {
        "id": "jaecEDkMh704"
      },
      "execution_count": null,
      "outputs": []
    },
    {
      "cell_type": "code",
      "source": [
        "# Calcular nusselt_pred y nusselt_gp_pred en vectores separados\n",
        "nusselt_pred = X_test.apply(lambda row: nusselt(row['K'], row['Rem'], row['prandtl']), axis=1).values\n",
        "nusselt_gp_pred = X_test.apply(lambda row: nusselt_gp(row['K'], row['Rem'], row['prandtl']), axis=1).values\n",
        "\n",
        "# Calcular R^2 y MSE para nusselt\n",
        "r2_nusselt = r2_score(y_test['nusselt'], nusselt_pred)\n",
        "mse_nusselt = mean_squared_error(y_test['nusselt'], nusselt_pred)\n",
        "\n",
        "# Calcular MAE y MAPE para nusselt\n",
        "mae_nusselt = mean_absolute_error(y_test['nusselt'], nusselt_pred)\n",
        "mape_nusselt = mean_absolute_percentage_error(y_test['nusselt'], nusselt_pred)\n",
        "\n",
        "# Calcular R^2 y MSE para nusselt_gp\n",
        "r2_nusselt_gp = r2_score(y_test['nusselt'], nusselt_gp_pred)\n",
        "mse_nusselt_gp = mean_squared_error(y_test['nusselt'], nusselt_gp_pred)\n",
        "\n",
        "# Calcular MAE y MAPE para nusselt_gp\n",
        "mae_nusselt_gp = mean_absolute_error(y_test['nusselt'], nusselt_gp_pred)\n",
        "mape_nusselt_gp = mean_absolute_percentage_error(y_test['nusselt'], nusselt_gp_pred)\n",
        "\n",
        "#  Mostrar Métricas\n",
        "\n",
        "print(f\"R^2 nusselt original: {r2_nusselt}, R^2 nusselt GPLearn: {r2_nusselt_gp} \")\n",
        "print(f\"MSE nusselt original: {mse_nusselt}, MSE nusselt GPLearn: {mse_nusselt_gp} \")\n",
        "print(f\"MAE nusselt original: {mae_nusselt}, MAE nusselt GPLearn: {mae_nusselt_gp} \")\n",
        "print(f\"MAPE nusselt original: {mape_nusselt*100}%, MAPE nusselt GPLearn: {mape_nusselt_gp*100}% \")"
      ],
      "metadata": {
        "colab": {
          "base_uri": "https://localhost:8080/"
        },
        "id": "5nw3CeMEiM7L",
        "outputId": "49ede37f-27b3-45b5-bd2c-9925916a7fcd"
      },
      "execution_count": null,
      "outputs": [
        {
          "output_type": "stream",
          "name": "stdout",
          "text": [
            "R^2 nusselt original: 0.9509992536047758, R^2 nusselt GPLearn: 0.9901320723045455 \n",
            "MSE nusselt original: 23.767192225174124, MSE nusselt GPLearn: 4.7863135085804815 \n",
            "MAE nusselt original: 4.174721418276441, MAE nusselt GPLearn: 1.542455482654369 \n",
            "MAPE nusselt original: 7.197154998836116%, MAPE nusselt GPLearn: 2.6848392142824777% \n"
          ]
        }
      ]
    },
    {
      "cell_type": "markdown",
      "source": [
        "### Experimento: Ajuste automatico de constante V5"
      ],
      "metadata": {
        "id": "82RhI_dfjbPv"
      }
    },
    {
      "cell_type": "code",
      "source": [],
      "metadata": {
        "id": "TCWlJfEfjfmL"
      },
      "execution_count": null,
      "outputs": []
    }
  ],
  "metadata": {
    "colab": {
      "provenance": []
    },
    "kernelspec": {
      "display_name": "env",
      "language": "python",
      "name": "python3"
    },
    "language_info": {
      "codemirror_mode": {
        "name": "ipython",
        "version": 3
      },
      "file_extension": ".py",
      "mimetype": "text/x-python",
      "name": "python",
      "nbconvert_exporter": "python",
      "pygments_lexer": "ipython3",
      "version": "3.10.4"
    }
  },
  "nbformat": 4,
  "nbformat_minor": 0
}