{
 "cells": [
  {
   "cell_type": "markdown",
   "metadata": {},
   "source": [
    "Test of Nusselt with GPLearn"
   ]
  },
  {
   "cell_type": "code",
   "execution_count": 1,
   "metadata": {},
   "outputs": [],
   "source": [
    "import pandas as pd\n",
    "import os\n",
    "from sklearn.model_selection import train_test_split\n",
    "from sklearn.metrics import mean_squared_error, r2_score\n",
    "import matplotlib.pyplot as plt\n",
    "import numpy as np\n",
    "import seaborn as sns"
   ]
  },
  {
   "cell_type": "code",
   "execution_count": 2,
   "metadata": {},
   "outputs": [
    {
     "name": "stdout",
     "output_type": "stream",
     "text": [
      "First 100 characters of the file:\n",
      "Current,K,Flujo,t_viento,Diametro,col_fluido,col_celda,n_fluido,n_celda,Rem,prandtl,colIndex,nusselt\n",
      "\n",
      "Total characters in the file: 1650251\n"
     ]
    }
   ],
   "source": [
    "# Path to your TXT file in folder\n",
    "txt_path = '/home/pcornejo/Tesis/benchmark_project/data/raw/battery/df_n_102.txt'\n",
    "\n",
    "# Read the TXT file\n",
    "with open(txt_path, 'r') as file:\n",
    "    content = file.read()\n",
    "\n",
    "# Print the first 100 characters of the file\n",
    "print(\"First 100 characters of the file:\")\n",
    "print(content[:100])\n",
    "\n",
    "# Print the total number of characters in the file\n",
    "print(f\"\\nTotal characters in the file: {len(content)}\")"
   ]
  },
  {
   "cell_type": "markdown",
   "metadata": {},
   "source": [
    "### Data Processing (Train/Test/Val)"
   ]
  },
  {
   "cell_type": "code",
   "execution_count": 3,
   "metadata": {},
   "outputs": [
    {
     "name": "stdout",
     "output_type": "stream",
     "text": [
      "Training set:\n",
      "     K          Rem   prandtl    nusselt\n",
      "0  0.6  2795.874321  0.709843  61.165728\n",
      "1  0.6  2795.874321  0.709843  52.824696\n",
      "2  0.6  2310.732084  0.709842  50.527730\n",
      "3  0.6  2795.776244  0.709842  59.596338\n",
      "4  0.6  2795.776244  0.709841  54.687451\n",
      "\n",
      "Validation set:\n",
      "     K          Rem   prandtl    nusselt\n",
      "0  0.6  2796.592710  0.709843  61.165728\n",
      "1  0.6  2796.592710  0.709843  52.824696\n",
      "2  0.6  2446.261529  0.709842  50.527730\n",
      "3  0.6  2128.077694  0.709842  48.422178\n",
      "4  0.6  1909.194425  0.709842  46.485070\n",
      "\n",
      "Test set:\n",
      "     K          Rem   prandtl    nusselt\n",
      "0  0.6  2827.361047  0.709843  55.340421\n",
      "1  0.6  2827.361047  0.709843  52.824696\n",
      "2  0.6  2356.426510  0.709842  50.527730\n",
      "3  0.6  2038.344639  0.709842  48.422178\n",
      "4  0.6  1885.685153  0.709842  48.421871\n",
      "\n",
      "Training set shape: (12300, 4)\n",
      "Validation set shape: (17178, 4)\n",
      "Test set shape: (12210, 4)\n"
     ]
    }
   ],
   "source": [
    "txt_path_25 = '/home/pcornejo/Tesis/benchmark_project/data/raw/battery/df_n_25.txt'\n",
    "txt_path_53 = '/home/pcornejo/Tesis/benchmark_project/data/raw/battery/df_n_53.txt'\n",
    "txt_path_74 = '/home/pcornejo/Tesis/benchmark_project/data/raw/battery/df_n_74.txt'\n",
    "txt_path_102 = '/home/pcornejo/Tesis/benchmark_project/data/raw/battery/df_n_102.txt'\n",
    "\n",
    "# Load the datasets\n",
    "df_25 = pd.read_csv(txt_path_25)\n",
    "df_53 = pd.read_csv(txt_path_53)\n",
    "df_74 = pd.read_csv(txt_path_74)\n",
    "df_102 = pd.read_csv(txt_path_102)\n",
    "\n",
    "# Merge the training datasets (25 and 53)\n",
    "df_train = pd.concat([df_25, df_53])\n",
    "\n",
    "# Validation and test sets\n",
    "df_val = df_102\n",
    "df_test = df_74\n",
    "\n",
    "# Select only the columns we need\n",
    "selected_columns = ['K', 'Rem', 'prandtl', 'nusselt']\n",
    "\n",
    "df_train_selected = df_train[selected_columns]\n",
    "df_val_selected = df_val[selected_columns]\n",
    "df_test_selected = df_test[selected_columns]\n",
    "\n",
    "# Display the first few rows of each selected DataFrame\n",
    "print(\"Training set:\")\n",
    "print(df_train_selected.head())\n",
    "\n",
    "print(\"\\nValidation set:\")\n",
    "print(df_val_selected.head())\n",
    "\n",
    "print(\"\\nTest set:\")\n",
    "print(df_test_selected.head())\n",
    "\n",
    "# Print the shape of each selected DataFrame\n",
    "print(f\"\\nTraining set shape: {df_train_selected.shape}\")\n",
    "print(f\"Validation set shape: {df_val_selected.shape}\")\n",
    "print(f\"Test set shape: {df_test_selected.shape}\")"
   ]
  },
  {
   "cell_type": "code",
   "execution_count": 25,
   "metadata": {},
   "outputs": [],
   "source": [
    "X_train = df_train_selected[['K', 'Rem', 'prandtl']]\n",
    "y_train = df_train_selected['nusselt']\n",
    "\n",
    "X_test = df_test_selected[['K', 'Rem', 'prandtl']]\n",
    "y_test = df_test_selected['nusselt']"
   ]
  },
  {
   "cell_type": "markdown",
   "metadata": {},
   "source": [
    "### Nusselt Function\n",
    "\n",
    "Structure for Nusselt number: \n",
    "\n",
    "$Nu = C \\cdot Re^n \\cdot Pr^m$\n",
    "\n",
    "Result proposed by RdlS:\n",
    "\n",
    " $Nu = 0.5 \\cdot S^{-0.2} \\cdot Re^{0.64} \\cdot Pr$\n",
    "\n",
    "\n",
    "We can check how well the data fits this equation by measuring the MSE between the ground data and the data generated by the equation formula"
   ]
  },
  {
   "cell_type": "code",
   "execution_count": 5,
   "metadata": {},
   "outputs": [],
   "source": [
    "from gplearn.genetic import SymbolicRegressor\n",
    "from gplearn.functions import make_function\n",
    "from gplearn.fitness import make_fitness\n",
    "from sklearn.ensemble import RandomForestRegressor\n",
    "from sklearn.tree import DecisionTreeRegressor\n",
    "from sklearn.utils.random import check_random_state\n",
    "from sklearn.metrics import mean_absolute_error, mean_absolute_percentage_error, mean_squared_error, r2_score\n",
    "from mpl_toolkits.mplot3d import Axes3D"
   ]
  },
  {
   "cell_type": "code",
   "execution_count": 23,
   "metadata": {},
   "outputs": [],
   "source": [
    "# creando funciones auxiliares\n",
    "# considerando que es cierta la #Ec1\n",
    "# c1*S ^ (-0.2) * Re ^ (0.64) * Pr\n",
    "def pot1(S, Re, Pr, c1, exp1 , exp2):\n",
    "    con1 = (S > 0) & (Re > 0) & (Pr > 0)\n",
    "    con2 = (exp1 == -0.2) & (exp2 == 0.64) \n",
    "    con3 = (0 < c1) & (c1 < 1)\n",
    "    with np.errstate(divide='ignore', invalid='ignore', over = 'ignore'):\n",
    "        result = np.where(con1 & con2 & con3, c1*np.power(S, exp1) * np.power(Re, exp2) * Pr, 0)\n",
    "    return result\n",
    "\n",
    "pot1_fn = make_function(function=pot1, \n",
    "                        name='pot1', \n",
    "                        arity=6)\n"
   ]
  },
  {
   "cell_type": "code",
   "execution_count": 22,
   "metadata": {},
   "outputs": [],
   "source": [
    "def rewrite(expression):\n",
    "\n",
    "    # Reemplazar funciones específicas con sus representaciones matemáticas\n",
    "    expression = re.sub(r\"add\\(([^,]+), ([^\\)]+)\\)\", r\"(\\1 + \\2)\", expression)\n",
    "    expression = re.sub(r\"sub\\(([^,]+), ([^\\)]+)\\)\", r\"(\\1 - \\2)\", expression)\n",
    "    expression = re.sub(r\"mul\\(([^,]+), ([^\\)]+)\\)\", r\"(\\1 * \\2)\", expression)\n",
    "    expression = re.sub(r\"div\\(([^,]+), ([^\\)]+)\\)\", r\"(\\1 / \\2)\", expression)\n",
    "    expression = re.sub(r\"pow\\(([^,]+), ([^\\)]+)\\)\", r\"\\1 ** \\2\", expression)\n",
    "    \n",
    "    # Reemplazar la función pot1\n",
    "    expression = re.sub(r\"pot1\\((X\\d)\\)\", r\"\\1 ** (-0.6)\", expression)\n",
    "    # Reemplazar la función pot2\n",
    "    expression = re.sub(r\"pot2\\((X\\d)\\)\", r\"5 * \\1 ** (-0.23)\", expression)\n",
    "    \n",
    "    # Reemplazar variables (ajustar según el modelo)\n",
    "    expression = expression.replace(\"X0\", \"S\")\n",
    "    expression = expression.replace(\"X1\", \"Re\")\n",
    "    \n",
    "    return expression"
   ]
  },
  {
   "cell_type": "code",
   "execution_count": 31,
   "metadata": {},
   "outputs": [
    {
     "name": "stdout",
     "output_type": "stream",
     "text": [
      "    |   Population Average    |             Best Individual              |\n",
      "---- ------------------------- ------------------------------------------ ----------\n",
      " Gen   Length          Fitness   Length          Fitness      OOB Fitness  Time Left\n",
      "   0   318.95          1492.75       55          54.2685          53.8009     51.09m\n",
      "   1    25.59          449.767       51          52.2434          52.5928      4.42m\n",
      "   2    30.21          430.541       79          49.8187          49.2808      4.39m\n",
      "   3    37.25          675.698       45          43.0089          42.4004      4.56m\n",
      "   4    47.68          759.365      173          33.2133          31.6327      4.42m\n",
      "   5    66.08          807.583      121          20.7992          20.9181      4.43m\n",
      "   6    98.70            835.2      215          19.1253          18.4729      4.91m\n",
      "   7   141.42          826.949      151          18.5038          18.8174      5.05m\n",
      "   8   145.90          757.701      131          18.4961          18.2871      3.60m\n",
      "   9   143.18          731.873      145          17.9183          19.1012      2.95m\n",
      "  10   142.71          666.186      147          17.8033          17.8488      2.63m\n",
      "  11   140.00          650.958      167          17.6178           17.986      2.25m\n",
      "  12   140.40          656.162      145          17.3591           18.734      1.94m\n",
      "  13   137.32          654.138      143           17.332          18.6097      1.59m\n",
      "  14   135.34          601.459      143          16.9965          16.6696      1.27m\n",
      "  15   133.98          536.879      137          16.6471          16.9708     60.00s\n",
      "  16   133.32          577.415      155          16.5462          17.1216     46.39s\n",
      "  17   136.50          485.755      135          16.1517          16.8924     33.89s\n",
      "  18   136.24          434.298      135           16.128          17.1054     16.85s\n",
      "  19   135.11           405.16      145          15.9937          17.1445      0.00s\n",
      "Expresión: add(add(add(0.931, sub(add(Pr, Pr), -0.865)), add(add(Pr, Pr), add(Pr, add(add(add(add(0.983, 0.902), add(Pr, Pr)), add(Pr, Pr)), add(add(add(0.983, 0.902), add(Pr, Pr)), sub(add(0.712, 0.780), sub(-0.840, Pr))))))), add(add(add(sub(add(add(add(0.983, 0.902), add(Pr, Pr)), add(Pr, Pr)), -0.865), add(add(sub(0.869, 0.041), add(add(add(add(0.983, 0.902), add(Pr, Pr)), add(0.983, 0.902)), add(add(Pr, add(add(Pr, Pr), add(Pr, Pr))), add(Pr, sub(add(add(0.931, sub(add(add(add(0.983, 0.902), add(Pr, Pr)), add(Pr, Pr)), -0.865)), add(add(0.983, 0.902), add(Pr, add(sub(Pr, -0.886), add(add(Pr, add(add(add(0.983, 0.902), add(sub(Pr, add(S, Pr)), add(Pr, Pr))), add(Pr, Pr))), add(Pr, Pr)))))), add(S, S)))))), 0.998)), S), sub(Re, Re)))\n"
     ]
    }
   ],
   "source": [
    "# entrenando modelo \n",
    "\n",
    "# Modelo\n",
    "model = SymbolicRegressor(population_size=5000,\n",
    "                        generations=20, \n",
    "                        stopping_criteria=0.01,\n",
    "                        p_crossover=0.7, \n",
    "                        p_subtree_mutation=0.1,\n",
    "                        p_hoist_mutation=0.05, \n",
    "                        p_point_mutation=0.1,\n",
    "                        max_samples=0.9, \n",
    "                        verbose=1,\n",
    "                        parsimony_coefficient=0.01, \n",
    "                        random_state=123,\n",
    "                        function_set=['add', 'sub', pot1_fn], \n",
    "                        feature_names=['S', 'Re', 'Pr'])\n",
    "\n",
    "model.fit(X_train, y_train)\n",
    "\n",
    "# Obtener la expresión simbólica\n",
    "expression = model._program\n",
    "print(\"Expresión:\", expression)"
   ]
  },
  {
   "cell_type": "code",
   "execution_count": 28,
   "metadata": {},
   "outputs": [
    {
     "name": "stdout",
     "output_type": "stream",
     "text": [
      "Expresión: sub(log(log(X2)), mul(log(log(X2)), add(log(sqrt(X0)), sub(log(log(log(log(X2)))), mul(log(log(X2)), add(log(log(log(log(X2)))), sqrt(div(mul(mul(mul(mul(X1, sqrt(log(mul(mul(X1, log(X2)), sqrt(-0.170))))), sqrt(-0.170)), sqrt(log(mul(mul(X1, sqrt(sqrt(-0.170))), log(X0))))), sqrt(-0.170)), sqrt(sqrt(X0))))))))))\n"
     ]
    }
   ],
   "source": [
    "print(\"Expresión:\", expression)"
   ]
  }
 ],
 "metadata": {
  "kernelspec": {
   "display_name": "MetaSRBench9",
   "language": "python",
   "name": "python3"
  },
  "language_info": {
   "codemirror_mode": {
    "name": "ipython",
    "version": 3
   },
   "file_extension": ".py",
   "mimetype": "text/x-python",
   "name": "python",
   "nbconvert_exporter": "python",
   "pygments_lexer": "ipython3",
   "version": "3.8.19"
  }
 },
 "nbformat": 4,
 "nbformat_minor": 2
}
